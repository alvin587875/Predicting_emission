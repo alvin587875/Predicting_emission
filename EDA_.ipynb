{
  "cells": [
    {
      "cell_type": "code",
      "execution_count": null,
      "metadata": {
        "id": "ZezLBQqLFhSd"
      },
      "outputs": [],
      "source": [
        "import pandas as pd\n",
        "import numpy as np\n",
        "from scipy.stats import chi2\n"
      ]
    },
    {
      "cell_type": "code",
      "execution_count": null,
      "metadata": {
        "colab": {
          "base_uri": "https://localhost:8080/"
        },
        "id": "o4sgvZccFlSH",
        "outputId": "03205294-78f2-4481-e26b-7cda7de8d8ef"
      },
      "outputs": [
        {
          "output_type": "stream",
          "name": "stderr",
          "text": [
            "<ipython-input-356-86ca4702da84>:2: DtypeWarning:\n",
            "\n",
            "Columns (16) have mixed types. Specify dtype option on import or set low_memory=False.\n",
            "\n"
          ]
        }
      ],
      "source": [
        "df_unclean = pd.read_csv('NPRI_Data_2022_unclean (1).csv')\n",
        "df_review = pd.read_csv('NPRI Data for QC.xlsx - NPRI Data for review (3).csv')"
      ]
    },
    {
      "cell_type": "code",
      "execution_count": null,
      "metadata": {
        "id": "Ux4c1zQpmeTK"
      },
      "outputs": [],
      "source": [
        "pd.set_option('display.max_columns', None)\n",
        "pd.set_option('display.max_rows', None)"
      ]
    },
    {
      "cell_type": "markdown",
      "metadata": {
        "id": "I0OgDzk6GQ8f"
      },
      "source": [
        "Making Copy of orginal Data set"
      ]
    },
    {
      "cell_type": "code",
      "execution_count": null,
      "metadata": {
        "id": "afyQdf8bFzyL"
      },
      "outputs": [],
      "source": [
        "df_unc = df_unclean.copy()\n",
        "df_rev = df_review.copy()"
      ]
    },
    {
      "cell_type": "code",
      "execution_count": null,
      "metadata": {
        "id": "Clbp95IiPuJx"
      },
      "outputs": [],
      "source": [
        "df_unc.head()"
      ]
    },
    {
      "cell_type": "markdown",
      "metadata": {
        "id": "lBK-gFO5GVuW"
      },
      "source": [
        "# EDA on Unclean Dataset"
      ]
    },
    {
      "cell_type": "code",
      "execution_count": null,
      "metadata": {
        "id": "BOWTs_TUGUqr"
      },
      "outputs": [],
      "source": [
        "df_unc.describe()"
      ]
    },
    {
      "cell_type": "code",
      "execution_count": null,
      "metadata": {
        "colab": {
          "base_uri": "https://localhost:8080/"
        },
        "id": "bXJdCpSpGi_l",
        "outputId": "fddbb4a1-a2cd-4c8e-fd08-4446d9431e85"
      },
      "outputs": [
        {
          "output_type": "execute_result",
          "data": {
            "text/plain": [
              "(14818, 30)"
            ]
          },
          "metadata": {},
          "execution_count": 207
        }
      ],
      "source": [
        "df_unc.shape"
      ]
    },
    {
      "cell_type": "code",
      "execution_count": null,
      "metadata": {
        "id": "mydV3aHzGo9L"
      },
      "outputs": [],
      "source": [
        "df_unc.isnull().sum()"
      ]
    },
    {
      "cell_type": "code",
      "execution_count": null,
      "metadata": {
        "id": "YjLVvft-KuMT"
      },
      "outputs": [],
      "source": [
        "df_unc.dtypes"
      ]
    },
    {
      "cell_type": "markdown",
      "metadata": {
        "id": "ZcTWzhf5Xws5"
      },
      "source": [
        "# Aligning\n",
        "\n",
        "In this df_unc, the quantity of columens recorded in Tonnes,KG, grams, and g_teq_et. So we have to convert all these into a single unit. For this dataset, We convert all the units in KG."
      ]
    },
    {
      "cell_type": "code",
      "execution_count": null,
      "metadata": {
        "id": "6eM0mflZXvm1"
      },
      "outputs": [],
      "source": [
        "list_columns = [\"CurrentYear\",\"YearMinus1\",\"YearMinus2\",\"YearMinus3\",\"YearMinus4\"]\n",
        "for i in list_columns:\n",
        "    # Convert tonnes to grams\n",
        "    tonnes_conv = df_unc.loc[df_unc[\"Units\"] == \"tonnes\", i] * 1000\n",
        "    df_unc.loc[df_unc[\"Units\"] == \"tonnes\", i] = tonnes_conv\n",
        "\n",
        "    # Convert grams to kilograms\n",
        "    grams_conv = df_unc.loc[df_unc[\"Units\"] == \"grams\", i] / 1000\n",
        "    df_unc.loc[df_unc[\"Units\"] == \"grams\", i] = grams_conv\n",
        "\n",
        "    # Convert g_teq_et to kilograms\n",
        "    g_teq_et_conv = df_unc.loc[df_unc[\"Units\"] == \"g_teq_et\", i] / 1000\n",
        "    df_unc.loc[df_unc[\"Units\"] == \"g_teq_et\", i] = g_teq_et_conv"
      ]
    },
    {
      "cell_type": "markdown",
      "metadata": {
        "id": "lqRkt0txGtjU"
      },
      "source": [
        "# Handeling missing vlaues\n",
        "\n",
        "We have empty values in the columnes Sub-Category,YearMinus1,               \n",
        "YearMinus2,               \n",
        "YearMinus3,               \n",
        "YearMinus4,               \n",
        "PercentChange,\n",
        "FourYearAvg,\n",
        "NumStandardDeviation,\n",
        "SubstanceComments.\n",
        "\n",
        "Out of the Sub-Category and SubstanceComments are catogrical featurs. Rest of the data is numerical."
      ]
    },
    {
      "cell_type": "code",
      "execution_count": null,
      "metadata": {
        "colab": {
          "base_uri": "https://localhost:8080/",
          "height": 368
        },
        "id": "Q7YAsPBKGsII",
        "outputId": "e8a8520e-16be-4328-ab53-25df498c9acc"
      },
      "outputs": [
        {
          "output_type": "execute_result",
          "data": {
            "text/plain": [
              "   IssueID  ReportID  Priority IssueType  ReportYear  NpriID  \\\n",
              "0    57733    335210         6     Trend        2022   11017   \n",
              "1    57740    335213         6     Trend        2022   10979   \n",
              "2    57745    335213         6     Trend        2022   10979   \n",
              "3    57746    335213         6     Trend        2022   10979   \n",
              "\n",
              "              CompanyName     FacilityName   NAICS            Category  \\\n",
              "0  City of Kawartha Lakes     Lindsay WPCP  221320               Water   \n",
              "1      City of Owen Sound  Owen Sound WPCP  221320  DisposalsTransfers   \n",
              "2      City of Owen Sound  Owen Sound WPCP  221320               Water   \n",
              "3      City of Owen Sound  Owen Sound WPCP  221320               Water   \n",
              "\n",
              "                     Sub-Category      Cas  \\\n",
              "0               Direct Discharges  NA - 17   \n",
              "1  Sum of Disposals and Transfers  NA - 16   \n",
              "2                          Spills  NA - 16   \n",
              "3                          Spills  NA - 22   \n",
              "\n",
              "                          SubstanceName   Units  CurrentYear  YearMinus1  \\\n",
              "0  Nitrate ion in solution at pH >= 6.0  tonnes      39740.0     22640.0   \n",
              "1                       Ammonia (total)  tonnes      20964.9     10984.6   \n",
              "2                       Ammonia (total)  tonnes         57.0      8798.8   \n",
              "3                    Phosphorus (total)  tonnes         23.0      3941.7   \n",
              "\n",
              "   YearMinus2  YearMinus3  YearMinus4  PercentChange  DifferenceChange  \\\n",
              "0     18830.0     35600.0     19600.0       0.755300           17.1000   \n",
              "1     19852.2     19820.0     13039.2       0.908572            9.9803   \n",
              "2       875.0       333.0      1045.0      -0.993522           -8.7418   \n",
              "3       598.0       183.0       498.0      -0.994165           -3.9187   \n",
              "\n",
              "   FourYearAvg  NAICSSubstanceAvg  NumStandardDeviation  StandardDeviation  \\\n",
              "0    24.167500         726.020055             -0.355612        1929.857872   \n",
              "1    15.924000         106.904767             -0.226340         379.694303   \n",
              "2     2.762950         264.082095             -0.312018         846.184135   \n",
              "3     1.305175          28.126980             -0.377584          74.431036   \n",
              "\n",
              "   NAICSSubstanceCount  NAICSSubstanceTotal  OverallSubstanceTotal  \\\n",
              "0                  101         73328.025600           81561.568318   \n",
              "1                  105         11225.000530           33430.126126   \n",
              "2                  166         43837.627693           46252.286544   \n",
              "3                  149          4190.920093            5418.433552   \n",
              "\n",
              "   NumOfEmployees                                  SubstanceComments  \n",
              "0               5  Nature of activities results in annual variati...  \n",
              "1               6  Nature of treating wastewater changes daily. T...  \n",
              "2               6  Quantities change year to year due to the natu...  \n",
              "3               6  Nature of treating wastewater changes daily. t...  "
            ],
            "text/html": [
              "\n",
              "  <div id=\"df-e3f533eb-a474-4fc1-b977-c4e7bf461ba3\" class=\"colab-df-container\">\n",
              "    <div>\n",
              "<style scoped>\n",
              "    .dataframe tbody tr th:only-of-type {\n",
              "        vertical-align: middle;\n",
              "    }\n",
              "\n",
              "    .dataframe tbody tr th {\n",
              "        vertical-align: top;\n",
              "    }\n",
              "\n",
              "    .dataframe thead th {\n",
              "        text-align: right;\n",
              "    }\n",
              "</style>\n",
              "<table border=\"1\" class=\"dataframe\">\n",
              "  <thead>\n",
              "    <tr style=\"text-align: right;\">\n",
              "      <th></th>\n",
              "      <th>IssueID</th>\n",
              "      <th>ReportID</th>\n",
              "      <th>Priority</th>\n",
              "      <th>IssueType</th>\n",
              "      <th>ReportYear</th>\n",
              "      <th>NpriID</th>\n",
              "      <th>CompanyName</th>\n",
              "      <th>FacilityName</th>\n",
              "      <th>NAICS</th>\n",
              "      <th>Category</th>\n",
              "      <th>Sub-Category</th>\n",
              "      <th>Cas</th>\n",
              "      <th>SubstanceName</th>\n",
              "      <th>Units</th>\n",
              "      <th>CurrentYear</th>\n",
              "      <th>YearMinus1</th>\n",
              "      <th>YearMinus2</th>\n",
              "      <th>YearMinus3</th>\n",
              "      <th>YearMinus4</th>\n",
              "      <th>PercentChange</th>\n",
              "      <th>DifferenceChange</th>\n",
              "      <th>FourYearAvg</th>\n",
              "      <th>NAICSSubstanceAvg</th>\n",
              "      <th>NumStandardDeviation</th>\n",
              "      <th>StandardDeviation</th>\n",
              "      <th>NAICSSubstanceCount</th>\n",
              "      <th>NAICSSubstanceTotal</th>\n",
              "      <th>OverallSubstanceTotal</th>\n",
              "      <th>NumOfEmployees</th>\n",
              "      <th>SubstanceComments</th>\n",
              "    </tr>\n",
              "  </thead>\n",
              "  <tbody>\n",
              "    <tr>\n",
              "      <th>0</th>\n",
              "      <td>57733</td>\n",
              "      <td>335210</td>\n",
              "      <td>6</td>\n",
              "      <td>Trend</td>\n",
              "      <td>2022</td>\n",
              "      <td>11017</td>\n",
              "      <td>City of Kawartha Lakes</td>\n",
              "      <td>Lindsay WPCP</td>\n",
              "      <td>221320</td>\n",
              "      <td>Water</td>\n",
              "      <td>Direct Discharges</td>\n",
              "      <td>NA - 17</td>\n",
              "      <td>Nitrate ion in solution at pH &gt;= 6.0</td>\n",
              "      <td>tonnes</td>\n",
              "      <td>39740.0</td>\n",
              "      <td>22640.0</td>\n",
              "      <td>18830.0</td>\n",
              "      <td>35600.0</td>\n",
              "      <td>19600.0</td>\n",
              "      <td>0.755300</td>\n",
              "      <td>17.1000</td>\n",
              "      <td>24.167500</td>\n",
              "      <td>726.020055</td>\n",
              "      <td>-0.355612</td>\n",
              "      <td>1929.857872</td>\n",
              "      <td>101</td>\n",
              "      <td>73328.025600</td>\n",
              "      <td>81561.568318</td>\n",
              "      <td>5</td>\n",
              "      <td>Nature of activities results in annual variati...</td>\n",
              "    </tr>\n",
              "    <tr>\n",
              "      <th>1</th>\n",
              "      <td>57740</td>\n",
              "      <td>335213</td>\n",
              "      <td>6</td>\n",
              "      <td>Trend</td>\n",
              "      <td>2022</td>\n",
              "      <td>10979</td>\n",
              "      <td>City of Owen Sound</td>\n",
              "      <td>Owen Sound WPCP</td>\n",
              "      <td>221320</td>\n",
              "      <td>DisposalsTransfers</td>\n",
              "      <td>Sum of Disposals and Transfers</td>\n",
              "      <td>NA - 16</td>\n",
              "      <td>Ammonia (total)</td>\n",
              "      <td>tonnes</td>\n",
              "      <td>20964.9</td>\n",
              "      <td>10984.6</td>\n",
              "      <td>19852.2</td>\n",
              "      <td>19820.0</td>\n",
              "      <td>13039.2</td>\n",
              "      <td>0.908572</td>\n",
              "      <td>9.9803</td>\n",
              "      <td>15.924000</td>\n",
              "      <td>106.904767</td>\n",
              "      <td>-0.226340</td>\n",
              "      <td>379.694303</td>\n",
              "      <td>105</td>\n",
              "      <td>11225.000530</td>\n",
              "      <td>33430.126126</td>\n",
              "      <td>6</td>\n",
              "      <td>Nature of treating wastewater changes daily. T...</td>\n",
              "    </tr>\n",
              "    <tr>\n",
              "      <th>2</th>\n",
              "      <td>57745</td>\n",
              "      <td>335213</td>\n",
              "      <td>6</td>\n",
              "      <td>Trend</td>\n",
              "      <td>2022</td>\n",
              "      <td>10979</td>\n",
              "      <td>City of Owen Sound</td>\n",
              "      <td>Owen Sound WPCP</td>\n",
              "      <td>221320</td>\n",
              "      <td>Water</td>\n",
              "      <td>Spills</td>\n",
              "      <td>NA - 16</td>\n",
              "      <td>Ammonia (total)</td>\n",
              "      <td>tonnes</td>\n",
              "      <td>57.0</td>\n",
              "      <td>8798.8</td>\n",
              "      <td>875.0</td>\n",
              "      <td>333.0</td>\n",
              "      <td>1045.0</td>\n",
              "      <td>-0.993522</td>\n",
              "      <td>-8.7418</td>\n",
              "      <td>2.762950</td>\n",
              "      <td>264.082095</td>\n",
              "      <td>-0.312018</td>\n",
              "      <td>846.184135</td>\n",
              "      <td>166</td>\n",
              "      <td>43837.627693</td>\n",
              "      <td>46252.286544</td>\n",
              "      <td>6</td>\n",
              "      <td>Quantities change year to year due to the natu...</td>\n",
              "    </tr>\n",
              "    <tr>\n",
              "      <th>3</th>\n",
              "      <td>57746</td>\n",
              "      <td>335213</td>\n",
              "      <td>6</td>\n",
              "      <td>Trend</td>\n",
              "      <td>2022</td>\n",
              "      <td>10979</td>\n",
              "      <td>City of Owen Sound</td>\n",
              "      <td>Owen Sound WPCP</td>\n",
              "      <td>221320</td>\n",
              "      <td>Water</td>\n",
              "      <td>Spills</td>\n",
              "      <td>NA - 22</td>\n",
              "      <td>Phosphorus (total)</td>\n",
              "      <td>tonnes</td>\n",
              "      <td>23.0</td>\n",
              "      <td>3941.7</td>\n",
              "      <td>598.0</td>\n",
              "      <td>183.0</td>\n",
              "      <td>498.0</td>\n",
              "      <td>-0.994165</td>\n",
              "      <td>-3.9187</td>\n",
              "      <td>1.305175</td>\n",
              "      <td>28.126980</td>\n",
              "      <td>-0.377584</td>\n",
              "      <td>74.431036</td>\n",
              "      <td>149</td>\n",
              "      <td>4190.920093</td>\n",
              "      <td>5418.433552</td>\n",
              "      <td>6</td>\n",
              "      <td>Nature of treating wastewater changes daily. t...</td>\n",
              "    </tr>\n",
              "  </tbody>\n",
              "</table>\n",
              "</div>\n",
              "    <div class=\"colab-df-buttons\">\n",
              "\n",
              "  <div class=\"colab-df-container\">\n",
              "    <button class=\"colab-df-convert\" onclick=\"convertToInteractive('df-e3f533eb-a474-4fc1-b977-c4e7bf461ba3')\"\n",
              "            title=\"Convert this dataframe to an interactive table.\"\n",
              "            style=\"display:none;\">\n",
              "\n",
              "  <svg xmlns=\"http://www.w3.org/2000/svg\" height=\"24px\" viewBox=\"0 -960 960 960\">\n",
              "    <path d=\"M120-120v-720h720v720H120Zm60-500h600v-160H180v160Zm220 220h160v-160H400v160Zm0 220h160v-160H400v160ZM180-400h160v-160H180v160Zm440 0h160v-160H620v160ZM180-180h160v-160H180v160Zm440 0h160v-160H620v160Z\"/>\n",
              "  </svg>\n",
              "    </button>\n",
              "\n",
              "  <style>\n",
              "    .colab-df-container {\n",
              "      display:flex;\n",
              "      gap: 12px;\n",
              "    }\n",
              "\n",
              "    .colab-df-convert {\n",
              "      background-color: #E8F0FE;\n",
              "      border: none;\n",
              "      border-radius: 50%;\n",
              "      cursor: pointer;\n",
              "      display: none;\n",
              "      fill: #1967D2;\n",
              "      height: 32px;\n",
              "      padding: 0 0 0 0;\n",
              "      width: 32px;\n",
              "    }\n",
              "\n",
              "    .colab-df-convert:hover {\n",
              "      background-color: #E2EBFA;\n",
              "      box-shadow: 0px 1px 2px rgba(60, 64, 67, 0.3), 0px 1px 3px 1px rgba(60, 64, 67, 0.15);\n",
              "      fill: #174EA6;\n",
              "    }\n",
              "\n",
              "    .colab-df-buttons div {\n",
              "      margin-bottom: 4px;\n",
              "    }\n",
              "\n",
              "    [theme=dark] .colab-df-convert {\n",
              "      background-color: #3B4455;\n",
              "      fill: #D2E3FC;\n",
              "    }\n",
              "\n",
              "    [theme=dark] .colab-df-convert:hover {\n",
              "      background-color: #434B5C;\n",
              "      box-shadow: 0px 1px 3px 1px rgba(0, 0, 0, 0.15);\n",
              "      filter: drop-shadow(0px 1px 2px rgba(0, 0, 0, 0.3));\n",
              "      fill: #FFFFFF;\n",
              "    }\n",
              "  </style>\n",
              "\n",
              "    <script>\n",
              "      const buttonEl =\n",
              "        document.querySelector('#df-e3f533eb-a474-4fc1-b977-c4e7bf461ba3 button.colab-df-convert');\n",
              "      buttonEl.style.display =\n",
              "        google.colab.kernel.accessAllowed ? 'block' : 'none';\n",
              "\n",
              "      async function convertToInteractive(key) {\n",
              "        const element = document.querySelector('#df-e3f533eb-a474-4fc1-b977-c4e7bf461ba3');\n",
              "        const dataTable =\n",
              "          await google.colab.kernel.invokeFunction('convertToInteractive',\n",
              "                                                    [key], {});\n",
              "        if (!dataTable) return;\n",
              "\n",
              "        const docLinkHtml = 'Like what you see? Visit the ' +\n",
              "          '<a target=\"_blank\" href=https://colab.research.google.com/notebooks/data_table.ipynb>data table notebook</a>'\n",
              "          + ' to learn more about interactive tables.';\n",
              "        element.innerHTML = '';\n",
              "        dataTable['output_type'] = 'display_data';\n",
              "        await google.colab.output.renderOutput(dataTable, element);\n",
              "        const docLink = document.createElement('div');\n",
              "        docLink.innerHTML = docLinkHtml;\n",
              "        element.appendChild(docLink);\n",
              "      }\n",
              "    </script>\n",
              "  </div>\n",
              "\n",
              "\n",
              "<div id=\"df-9ec68859-d459-43cb-a602-17b8a517aa73\">\n",
              "  <button class=\"colab-df-quickchart\" onclick=\"quickchart('df-9ec68859-d459-43cb-a602-17b8a517aa73')\"\n",
              "            title=\"Suggest charts\"\n",
              "            style=\"display:none;\">\n",
              "\n",
              "<svg xmlns=\"http://www.w3.org/2000/svg\" height=\"24px\"viewBox=\"0 0 24 24\"\n",
              "     width=\"24px\">\n",
              "    <g>\n",
              "        <path d=\"M19 3H5c-1.1 0-2 .9-2 2v14c0 1.1.9 2 2 2h14c1.1 0 2-.9 2-2V5c0-1.1-.9-2-2-2zM9 17H7v-7h2v7zm4 0h-2V7h2v10zm4 0h-2v-4h2v4z\"/>\n",
              "    </g>\n",
              "</svg>\n",
              "  </button>\n",
              "\n",
              "<style>\n",
              "  .colab-df-quickchart {\n",
              "      --bg-color: #E8F0FE;\n",
              "      --fill-color: #1967D2;\n",
              "      --hover-bg-color: #E2EBFA;\n",
              "      --hover-fill-color: #174EA6;\n",
              "      --disabled-fill-color: #AAA;\n",
              "      --disabled-bg-color: #DDD;\n",
              "  }\n",
              "\n",
              "  [theme=dark] .colab-df-quickchart {\n",
              "      --bg-color: #3B4455;\n",
              "      --fill-color: #D2E3FC;\n",
              "      --hover-bg-color: #434B5C;\n",
              "      --hover-fill-color: #FFFFFF;\n",
              "      --disabled-bg-color: #3B4455;\n",
              "      --disabled-fill-color: #666;\n",
              "  }\n",
              "\n",
              "  .colab-df-quickchart {\n",
              "    background-color: var(--bg-color);\n",
              "    border: none;\n",
              "    border-radius: 50%;\n",
              "    cursor: pointer;\n",
              "    display: none;\n",
              "    fill: var(--fill-color);\n",
              "    height: 32px;\n",
              "    padding: 0;\n",
              "    width: 32px;\n",
              "  }\n",
              "\n",
              "  .colab-df-quickchart:hover {\n",
              "    background-color: var(--hover-bg-color);\n",
              "    box-shadow: 0 1px 2px rgba(60, 64, 67, 0.3), 0 1px 3px 1px rgba(60, 64, 67, 0.15);\n",
              "    fill: var(--button-hover-fill-color);\n",
              "  }\n",
              "\n",
              "  .colab-df-quickchart-complete:disabled,\n",
              "  .colab-df-quickchart-complete:disabled:hover {\n",
              "    background-color: var(--disabled-bg-color);\n",
              "    fill: var(--disabled-fill-color);\n",
              "    box-shadow: none;\n",
              "  }\n",
              "\n",
              "  .colab-df-spinner {\n",
              "    border: 2px solid var(--fill-color);\n",
              "    border-color: transparent;\n",
              "    border-bottom-color: var(--fill-color);\n",
              "    animation:\n",
              "      spin 1s steps(1) infinite;\n",
              "  }\n",
              "\n",
              "  @keyframes spin {\n",
              "    0% {\n",
              "      border-color: transparent;\n",
              "      border-bottom-color: var(--fill-color);\n",
              "      border-left-color: var(--fill-color);\n",
              "    }\n",
              "    20% {\n",
              "      border-color: transparent;\n",
              "      border-left-color: var(--fill-color);\n",
              "      border-top-color: var(--fill-color);\n",
              "    }\n",
              "    30% {\n",
              "      border-color: transparent;\n",
              "      border-left-color: var(--fill-color);\n",
              "      border-top-color: var(--fill-color);\n",
              "      border-right-color: var(--fill-color);\n",
              "    }\n",
              "    40% {\n",
              "      border-color: transparent;\n",
              "      border-right-color: var(--fill-color);\n",
              "      border-top-color: var(--fill-color);\n",
              "    }\n",
              "    60% {\n",
              "      border-color: transparent;\n",
              "      border-right-color: var(--fill-color);\n",
              "    }\n",
              "    80% {\n",
              "      border-color: transparent;\n",
              "      border-right-color: var(--fill-color);\n",
              "      border-bottom-color: var(--fill-color);\n",
              "    }\n",
              "    90% {\n",
              "      border-color: transparent;\n",
              "      border-bottom-color: var(--fill-color);\n",
              "    }\n",
              "  }\n",
              "</style>\n",
              "\n",
              "  <script>\n",
              "    async function quickchart(key) {\n",
              "      const quickchartButtonEl =\n",
              "        document.querySelector('#' + key + ' button');\n",
              "      quickchartButtonEl.disabled = true;  // To prevent multiple clicks.\n",
              "      quickchartButtonEl.classList.add('colab-df-spinner');\n",
              "      try {\n",
              "        const charts = await google.colab.kernel.invokeFunction(\n",
              "            'suggestCharts', [key], {});\n",
              "      } catch (error) {\n",
              "        console.error('Error during call to suggestCharts:', error);\n",
              "      }\n",
              "      quickchartButtonEl.classList.remove('colab-df-spinner');\n",
              "      quickchartButtonEl.classList.add('colab-df-quickchart-complete');\n",
              "    }\n",
              "    (() => {\n",
              "      let quickchartButtonEl =\n",
              "        document.querySelector('#df-9ec68859-d459-43cb-a602-17b8a517aa73 button');\n",
              "      quickchartButtonEl.style.display =\n",
              "        google.colab.kernel.accessAllowed ? 'block' : 'none';\n",
              "    })();\n",
              "  </script>\n",
              "</div>\n",
              "\n",
              "    </div>\n",
              "  </div>\n"
            ],
            "application/vnd.google.colaboratory.intrinsic+json": {
              "type": "dataframe",
              "variable_name": "df_unc"
            }
          },
          "metadata": {},
          "execution_count": 211
        }
      ],
      "source": [
        "df_unc.head(4)"
      ]
    },
    {
      "cell_type": "code",
      "execution_count": null,
      "metadata": {
        "colab": {
          "base_uri": "https://localhost:8080/",
          "height": 542
        },
        "id": "1_CDAuw5H_pP",
        "outputId": "909fabea-f929-418b-c76d-ac7a30b61ae5"
      },
      "outputs": [
        {
          "output_type": "display_data",
          "data": {
            "text/html": [
              "<html>\n",
              "<head><meta charset=\"utf-8\" /></head>\n",
              "<body>\n",
              "    <div>            <script src=\"https://cdnjs.cloudflare.com/ajax/libs/mathjax/2.7.5/MathJax.js?config=TeX-AMS-MML_SVG\"></script><script type=\"text/javascript\">if (window.MathJax && window.MathJax.Hub && window.MathJax.Hub.Config) {window.MathJax.Hub.Config({SVG: {font: \"STIX-Web\"}});}</script>                <script type=\"text/javascript\">window.PlotlyConfig = {MathJaxConfig: 'local'};</script>\n",
              "        <script charset=\"utf-8\" src=\"https://cdn.plot.ly/plotly-2.24.1.min.js\"></script>                <div id=\"e0ed5674-1330-406d-9757-a092d9cd8b6d\" class=\"plotly-graph-div\" style=\"height:525px; width:100%;\"></div>            <script type=\"text/javascript\">                                    window.PLOTLYENV=window.PLOTLYENV || {};                                    if (document.getElementById(\"e0ed5674-1330-406d-9757-a092d9cd8b6d\")) {                    Plotly.newPlot(                        \"e0ed5674-1330-406d-9757-a092d9cd8b6d\",                        [{\"hovertemplate\":\"YearMinus1=%{x}\\u003cbr\\u003eYearMinus2=%{y}\\u003cextra\\u003e\\u003c\\u002fextra\\u003e\",\"legendgroup\":\"\",\"marker\":{\"color\":\"#636efa\",\"symbol\":\"circle\"},\"mode\":\"markers\",\"name\":\"\",\"showlegend\":false,\"x\":[22640.0,10984.6,8798.8,3941.7,4136.0,1221.0,122.0,0.02,59.77,18356.0,18356.0,18356.0,800.0,32.0,55.0,17.0,22410.0,1280.0,29810.0,48.7,2900.0,4500.0,252.32,42590.0,290.0,1157.0,1860.0,13.0,4903.0,6169.0,6610.0,3542.0,374.0,1000.0,3230.0,12280.0,39660.0,827.0,31750.0,0.05,1000.0,346.5,598.5,126.0,4146.7,26840.2,210000.0,126000.0,40100.0,10880.0,0.263,0.263,0.263,1507.1000000000001,26791.1,10368.0,21250.0,12750.0,320.0,14613.0,3099.0,1210.0,35.0,16965.0,15800.0,1869.0,939.0,1214.0,77.225,1364.0,531.0,167.0,10.535,216.0,134640.0,122.0,1609235.0,219535.0,0.065,24.226,793.4,0.0252,124.2,1.3757,0.2152,230.0,92713.7,69.691,0.202,381.29999999999995,34295.1,9481.3,2871.2,27356.0,1527.0,1527.0,2890.0,1000.0,0.6,200.0,96.0,14.0,176.0,83.0,13.0,299.0,141.0,22.0,24.0,11.0,2.0,4164.5,1346.6,19138.0,20100.0,19138.0,493400.0,296000.0,126000.0,215700.0,75100.0,68200.0,40600.0,10900.0,2.925,176.596,54206.0,1.0,123.201,1.5,12.036,0.021,1.3,21.382,4.0,14.0,16.0,3.505,4.0,35.0,0.071,1774.4,139.5782,4200.0,4200.0,38276.0,40200.0,38276.0,1364.0,522912.00000000006,400.48,15.16,9.98,3.4299999999999997,21764.0,16541.0,16106.000000000002,1.0,61.0,2.7,10.5,11933.0,1.12,10082.7,56.0,2639.0,2220.0,1205.0,1781.0,3.3,17.5,6105.0,1422.0,11763.0,1422.0,15570.0,0.1,9085.02,3414.0,2276.0,76836.0,63757.0,106067.3,35605.75,23105.96,1.313,0.699,2.42,2.33,1333.0,1196.0,973.0,3736.5,0.9,20.0,20.0,0.0571,0.2039,165200.0,8980.2,534785.1000000001,3024.4,3024.4,3024.4,61600.0,563.0,127.0,859.6,2522.3,324.1,48.2,776.6999999999999,776.6999999999999,776.6999999999999,71255.9,837.4,0.92,143490.0,45825.829,465.676,931.352,91651.658,331.492,null,1.35,15.6,59.8,3600.0,2.0,53.6,3.1,53.6,120.0,97.0,36618.93,13.0,6.4,3.671,1.923,0.892,1.0839999999999999,0.594,17469.0,23200.0,990.0,310.0,50.0,15.0,9.0,1238.0,3920.0,3920.0,7497.0,2612.0,20027.0,40.0,4.0,497.16,10.0,13980.0,0.82,59.8,2000.0,0.238,6.8999999999999995,34.2,55.300000000000004,477210.69999999995,22.0,898.0,1979.0,70.58,2945.0,139620.459,4916.68,204390.0,2001.0,250.0,2.71e-07,17987.0,514.0,2666.0,158.2,23.8,112.0,355.0,355.0,1078.0,9049.099999999999,30385.100000000002,9473.3,9473.3,9473.3,26061.6,7346.0,330.75,390.0,2.0,260.0,20762.0,5533.0,553.0,3.5,92.0,4821.0,112208.0,2654.0,6.0,7000.0,2.72,0.7,13.0,13.0,17.3,17.3,2.3,18.3,2019.87,13285.0,3.0,1145.77949,4720.0,6573.0,6573.0,4527.0,35.4,3919.7999999999997,3640.8999999999996,2191.7,3805.4,826.8,826.8,826.8,16423.100000000002,5327.6,133000.0,104000.0,80851.0,3957.0,3957.0,47.124506,1460.504217,2707.676067,786.0,1868470.0,93000.0,263180.0,2000.0,5400.0,1020.0,11400.0,50000.0,57980.0,24360.0,1940.0,17400.0,300000.0,6297.0,11.88,17.8,6.2,624.0,3933.0,5850.0,5850.0,141694.1,87.111,167.6905,0.0207,0.6761,2.0735,0.661,0.0276,4.9367,345.0779,1564.3513,0.0668,0.0265,3.499,2240.962,825.2246,10264.0,0.0681,0.0637,0.0527,715.0999999999999,7.6,62720.0,64221.0,25036.0,510.0,238.0,0.561,18.5,297885.0,2.0334999999999998e-05,5.619,4.0,69.0,3.0,0.116,111.0,18995.0,8.0,8.0,6.5,4727.0,2778.0,9891.0,269521.0,489851.0,120384.0,19.01,1029.0,20.9,1285.0,4481.0,22540.0,1768.44,1437.8999999999999,0.956,3301.81,0.6,143980.0,100.0,595.1999999999999,200530.0,234950.0,590.0,74630.0,55280.0,48370.0,74.551202,2310.524905,4283.556948,13570.0,1542378.0,2939052.0,195963.0,14320.0,14320.0,182000.0,475509.1,592.16,8296.300000000001,96.69999999999999,182.7,1565.1999999999998,5270.400000000001,1398.5,1398.5,1398.5,927.9,4.3,1790.0,324.35999999999996,15.23,30.83,43.66,57431.583000000006,34589.721,10376.928,10376.928,10376.928,8385.9,1424.0,210.0,5.0,144380.0,41150.0,4120.0,1012.5999999999999,1012.5999999999999,1012.5999999999999,682.5,38.0,38.0,2902.0,1209.5,47574.399999999994,191.89999999999998,191.89999999999998,191.89999999999998,198.35,8.200000000000001,8.200000000000001,8.200000000000001,326.01000000000005,9170501.0,2143.0,3296.0,26112.0,1221.0,14730.0,430.0,222682.0,21385.0,0.000382261,1.398,4.625,30.995,229.967,523.548,259220.00000000003,5.128,26676.0,146.923,0.010992635999999998,2242.0,3580.0,2208.0,230666.0,636.0,2582.0,5860.0,14482.0,8994.0,381.386,6520.0,150.0,21231.216,49529.7809,21717.41,2117.4269,7295.8203,2.0,42.3,2.0,3705.0,370.0,0.95,9.900000000000001e-05,5e-06,17.0,16.0,1e-05,1040.0,1915.0,243010.0,836.0,2081.0,3.8,203.1,250.0,83390.0,14004937.0,39695624.0,6588562.0,1750992.0,503189.0,17.76,194.0,21400.0,2075.8,2075.8,462.0,412.5,1879.0,127180.0,19.0,42142.0,514.0,486.0,707.7,4.0,308.0,20.0,21.0,12.0,94.0,70330.0,73410.0,0.053,0.036,0.079,12067.0,48571.2,22243.7,14.67,1.467,248.18,73.5317,58.86,14.6711,524.9,0.058685,194.01,127.05,5.868,109.60000000000001,2062659.9999999998,1031040.0,161790.0,3805790.0,919320.0,106690.0,12785.78,1567480.0,43316.58,116980.0,5654.76,6536160.0,4235.13,50510.0,58440.0,1044.97,0.2484,3.3527,47.33,173400.0,128300.00000000001,112700.0,9740.0,2500.0,450.0,11.0,1.0,350.0,60.0,239404.69999999998,2.6,71.8,2.5,73.3,119.2,28.400000000000002,5271.3,428.09999999999997,157.79999999999998,3063.7,1.0,7.6,25.2,0.2,13396.599999999999,15.6,55.5,149.10000000000002,23.0,33.0,1069.7,1023.7,1891.8,25.4,429.8,67.3,258.5,5964.599999999999,0.3,3.9,0.3,3246.7000000000003,6876.7,18764.199999999997,6943.7,729.1999999999999,15.2,54.800000000000004,64.19999999999999,297.4,304.20000000000005,4174.0,44.6,1.7,1.7,133102.9,111199.1,1204.2,1204.2,1077.6,14.8,36707.700000000004,1936.3999999999999,5922.6,4770.7,0.4,2.0,45.0,2.8,36.0,64450.59999999999,22500.1,30.700000000000003,335.2,279296.4,1397513.3,158522.5,21116.399999999998,null,51.8,49.2,186.4,0.6,0.6,18243.5,26073.0,25423.0,11499.0,18177.0,597.5,263.79999999999995,111342.7,0.9,3.6,1.8,3.6,8.6,4.8,3.0,236.8,13.0,3.4,2.0,189.79999999999998,6.0,6.0,6.8,6.4,15.2,385.90000000000003,1354.4,1.9,1.4,0.1,9.4,133.39999999999998,60.199999999999996,5.2,244.79999999999998,37.400000000000006,3.1,198.7,477.8,3.0,205.5,0.3,10.200000000000001,44.699999999999996,4.2,0.9,1083.0,29.0,12412700.0,10877188.0,7.05776,855.0,0.01239,4.601e-05,329657.0,167109.0,13800.0,3.0,206.0,0.00842,0.0025,13.0,0.00044,4.0,16430.0,3652.0,19900.0,199.0,105530.0,716.5,110.10000000000001,2.0,5.0,2.8,21240.0,30.0,30.0,64.0,64.0,59.0,59.0,9.0,9.0,20284.0,23859.0,6013.3,65.60000000000001,2078.0,8682.5,2679.7,2679.7,2679.7,59.36000000000001,2190.0,0.011,1.057,0.331,6.736,34.0,1.112,208.6,0.086,107.2,0.000140547,11026.0,9042.0,6285.0,41216.0,4476.0,29178.0,8964.0,67.307,12.6,24.773,0.143,7.408,21.46,null,1210.0,57700.0,1520.0,75.0,326.22,1114680.0,1219190.0,9560.0,13199.0,7896.0,173.0,147.0,4113.7,4113.7,4113.7,3876.1,407.2,6000.0,262.0,1846.7,8070.0,30710.0,189010.0,4690.0,1384.0,138.0,657.0,268.0,461.0,2452.0,129.0,3.0,4541.0,770.0,57390.0,15190.0,1520.0,2380.35,114100.0,9128.0,97900.0,110.76,8264.0,10198.0,51.0,43800.0,0.04,0.14,0.18302,14.200000000000001,8620.0,9620.0,1788.0,1788.0,1020.0,8.0,12102.0,365.0,171749.0,171749.0,66189.0,40.0,13.0,86370.0,7073.400000000001,7057.8,7026.6,1410.0,12360.0,11080.0,0.557,308.0,1.2,1626.2,748.5,11.700000000000001,53905.9,78398.066,3638174.0,581.43,103754.09000000001,59652.72,40115.1,74984.57999999999,306.53,79568.435,1470.471377,1011.370317,105861.758,210.245967,4912.68314,56300.0,52120.0,1320.0,58650.0,16670.0,1650.0,0.0122583,5059.5,0.0008893,233000.0,189000.0,186000.0,360.0,38500.0,92700.0,14050.0,40951.0,3.0,13.0,2.0,43890.0,12.716,22373.0,0.6040000000000001,1402.816,0.001,0.083,9716.0,2549.0,26316.0,8598.0,11815.0,273.0,4217.0,4821.0,290.0,41.0,0.32766,6.2255,10643.4,19158.100000000002,0.04,79.09006,9109.0,68988.0,3902.0,9109.0,68988.0,35635.0,0.14200000000000002,2355.7999999999997,51727.3,39.300000000000004,3462.0,148735.3,0.143682,4478.211,0.348777,16395.6,69200.0,9940.0,94280.0,35120.0,30280.0,256.46999999999997,1066.54,1.45,0.02,4747.04,8163.080000000001,19607.8,51.01,6177.7699999999995,1170.99,9115.439999999999,621.5,5721.334,15.65,7919.55,18204.612999999998,4259.490000000001,20674.34,2325.5499999999997,1365.25,9754.38,4220.27,1027.61,7921.54,6.0,592.0,47870.0,4034.0,600.0,0.736,1.205,1.302,0.22,2.78,825.0,3.0,1835.0,3.487,103.606,373.079,46922.0,1.902,36973.0,0.0005839020000000001,3836.0,1128.0,39556.0,3784.0,1350.0,99660.0,970.0,1457.0,1359.0,3162.0,8455.0,510.0,48446.0,692.0,2332.0,413.0,1059.0,124.0,5.0,128.0,3133.0,600.0,2121.0,4517.0,0.5,0.030000000000000002,13.0,160.0,160.0,420.0,1580.0,0.4,978.4000000000001,924.8,23385.3,2110.7,9917.3,13928.800000000001,0.012,0.02,72182.3,6220.900000000001,28477.699999999997,17000.0,2.4,649491.2000000001,702.0,1269.0,228532.0,1701.0,528.0,270168.0,200.88,4138.0,0.05,3.29,12.7,30.4,0.47,0.857,11.0,10.0,74398.0,0.005,0.009000000000000001,6967.0,11611.0,2.0,0.01221,null,null,3869.0,8487.0,1042.5,11.299999999999999,1472.3,16.0,1944.5,21.2,3872.0,54380.0,5959.0,256.0,210.0,1400.0,676.0,304.24,83370.0,2604.0,4.0,2.0,57.0,79703.0,764.0,4620.0,0.34,304.3,8.0,2.0,961.0,173.2,3041.0,1829.0,16361.0,8430.0,39850.0,13950.0,13950.0,13950.0,68.0,3572.643,2077.12,148031.0,303.745,61.766,653.64,18.474999999999998,19.612000000000002,11.018,840.0,1971.0,2000.0,5900.0,1e-06,3658.839,21998.7,772.6070000000001,111.94500000000001,505.26400000000007,590.014,1679.92,112.192,20807.4,104.92999999999999,46.57,11702.75,167.889,15959.8,830.0,334.49,10.0,15030.0,322080.0,10.0,610.0,100350.0,15950.0,7140.0,2360.0,54880.0,9609.640000000001,12600.0,2888.0,1040.0,7180.0,758.4084,31499.9,373.0,280.0,100.0,100.0,3.0,7554.0,27.0,27375.0,106.0,407.0,0.001,2102.0,18143.0,6958.0,9234.0,13234.0,12108.0,13314.0,4978.0,847417.4,0.7584,0.0002,1.2935,0.0005,0.0005,14.7646,0.0088,38.5,31548.3384,473.1615,170987.1012,48.0187,17943.7002,1179.2316,130.0273,115.0786,57.5124,0.1321,0.003424,62528.0,113.0,3716.0,2191.0,2191.0,15897.0,174169.0,25.0,216.0,449.0,1113.03,12.0,1530.0,338.0,16.6,44.8,609.0,8.3,396.8,1228.8,2640.0,5494.04,269166.33,3541.0,5494.04,452.618,11480.0,6660.0,27400.0,0.25,3226.0,44160.0,1889.0,85647.0,10150.0,6516.0,91829.0,2158.0,2158.0,2158.0,1344.0,8213.0,31537.0,2844.0,2844.0,2844.0,1273.0,5172.0,78590.0,1749.0,1749.0,1749.0,2153.0,22961.0,650.0,100.0,500.0,5900.0,2027.0000000000002,231500.0,88240.0,87950.0,0.015,11332.0,46625.0,3092.0,2286.0,1662.369,473.10600000000005,686.1890000000001,1.0,12225.125,14.0,7972.451999999999,3951.051,1454.7859999999998,731.6700000000001,2374.661,171.0,975.954,4.0,161.278,5200.0,3884.0,2493.965,4540.317,1612.173,431.375,651.0,2292.477,192.137,837.0,837.0,837.0,796.333,32938.088,788699.0,26.0,217170.233,608.417,11723.0,3447.0,26.988000000000003,3.0,1186.532,2168.0,2168.0,2168.0,8761.0,2.0,1661.171,32040.999999999996,88725.0,880.0,880.0,880.0,24640.810999999998,2811.0719999999997,4993.724,61.0,2917.162,1365.55,1989.626,25571.0,58351.0,570.0,570.0,570.0,14975.806999999999,1973.44,4371.105,23.0,1172.39,1850421.03,11.379999999999999,2026.98,2026.98,2026.98,172627.31,289.69,289.69,289.69,15.0,2.0,37878538.0,300.0,22000.0,300.0,9311.0,2654.0,265.0,0.40299999999999997,104.0,229770.0,26140.0,39510.0,76780.0,19102.0,12430.0,86170.0,251.0,5338.0,70124.0,5219.0,268.48,14730.0,925.0,274.0,49.5,391.0,391.0,1130.0,1130.0,1130.0,42400.0,282777.0,0.022,0.687,2886.0,193.366,386.732,14950.0,990.0,7188.0,170522.0,7292.0,11190.0,3021.0,302.0,13758.0,8.0,4.0,1.0,46700.0,8967.9,40000.0,250000.0,49000.0,7000.0,46014.0,11760.0,4150.0,4990.0,1880.0,394.1,394.1,1.1278,12.4601,121.0,1192.0,1073.0,635.6,5.375,0.64,0.33,0.02,0.261,4.788,5.25,5.589,0.067,68347.0,3569.0,23.098,1.87,3.9,5.73,16.6,3.4,9.0,6.056e-06,13087.0,4.18,2.03,4.25,6.54,6.9,1.75,14.18,22.52,137.17,47.9,236.63,158.21,1.31,2.3,267.0,1445.0,1670.0,6171.0,13224.0,1235.0,2712.46,2919.4,263.06,8699.1,1304.14,17528.16,25917.940000000002,1830.6,2167.0,1919.4199999999998,8.59,7.22,12.03,3.78,31.27,43.0,5.84,19.6,2.06,6.9,15.0,14100.0,4260.0,634.0,53200.0,475300.0,94982.0,163.8,264000.0,53200.0,167000.0,997.5,138030.8,6770.094,62.437253,3630.2,200.0,4857.9,13002.0,22249.0,4901.0,3231.0,9825.0,2.5,1.0,28439.09,16946.572,20199.536,261.990711,3532.0,166914.80000000002,98389.9,133.2427,11617.4,5489.200000000001,1123.0,7196.799999999999,1821.7,19917.0,135335.0,38577.0,3858.0,190.27,1027.1,7227.0,320.6,15053.5,37126.3,4610.9,151.0,303.99,48367.0,2.0,2.0,2.0,45.1,21500.0,176000.0,253.0,35990.0,8560.0,856.0,0.1,7758.0,3870.0,1543.0,71.03,26830.0,35550.0,0.00296,0.04,0.067,11.700000000000001,25170.0,7700.0,6200.0,23168.0,6588.0,659.0,5451.0,1554.0,155.0,6600.0,0.00041,320.0,2560.0,26120.0,70.0,9870.0,26.0,135.0,69.0,7.0,6493.0,1846.0,185.0,39592.0,3104.0,12.0,3.0,15.0,15.0,15.0,1.0,67.27,1110.0,14410.0,4570.0,36771.0,482347.0,703503.0,56128.0,1322.0,null,1228.0,5870000.0,5870000.0,35.6,5378.0,109.0,109.0,2093.835,241158.0,1.295,12.869,3711.2,20303.8,2744.6000000000004,1210.3,1.2,1.2,4407.0,1469.0,6923.0,310.0,250.0,10370.0,8540.0,90.0,80.0,151060.0,3140.0,43570.0,0.057,0.137,0.137,0.068,0.383,0.065,0.076,0.537,2.222,11.17,5.886,9.669,45.741,103.92800000000001,1.0,1.0,1190.0,545.0,90.0,4002.0,681.0,6098.8,1300.0,655.0,45000.0,0.000633,0.97,726.0,57.0,19080.0,3540.0,21758.16,5874.6900000000005,5874.6900000000005,5874.6900000000005,594.88,12677.03,977.22,50236.8,3164.8999999999996,8490.0,14528.0,3200.0,2110.0,6415.0,50539.0,35535.0,null,769.0,15493.0,25200.0,100.0,100.0,14.006,11019.27,21.0,900.0,97038.0,48454.0,0.9,98.5,0.28800000000000003,0.8,23.5,23.8,0.183,195923.0,12.368,4829.6,482.96,932.0,1791.0,6744.0,5292.0,3890.0,7000.0,7620.0,8119.999999999999,4.0,8600.0,8617.0,2346.0,1222.0,7949.0,18436.0,3223.0,59923.0,5612.0,100.0,10895.0,0.12000000000000001,11009.0,71799.0,2072.0,1222.0,1460.0,1079.0,1151.0,2808.0,4249.0,10895.0,4544.0,5400.0,60290.0,2060.0,5900.0,24332.75,59377.920000000006,7300.0,5300.0,6448.0,644.0,46810.0,20060.0,18320.0,15221.24,4830.0,130.0,135373.5,536.0,1540.0,3.4,2.4,35.0,35.0,2.6,2.6,30046.0,80.0,48.58,15450.0,48.58,16.0,148.0,1.3,0.1,34.6,965.6,1533.0,10154.0,1047.0,0.6,0.107,0.2,0.058,2867.0,56900.0,6290.0,69.0,6290.0,1720.0,1120.0,1.8,7.8,1672.0,1376.0,3910.0,190.0,430.0,40.0,150.0,20.0,1670.0,1490.0,660.0,60.0,1458.0,2.0,45.5,40421.0,2654.0,385780.0,251.10894,15245.0,198.473,117933.22,556.6,34.5,254023.605,301.328,385091.658,387.658,1.130029,0.226005,11960.9,1.0,1.0,1912.0,1584.0,3130.0,250.0,20.0,873.1,2742.0,2634.0,157.0,5700.0,2.0,3.1751,23.27,11750.0,22128.0,22109.100000000002,1459.3,23443.0,11000.0,1450.2,143573.3,0.1,27935.7,0.3,48993.0,3675.0,18004.0,34594.0,31032.0,51.3,10.0,348.0,0.0019,22.3,31259.0,29786.0,3497.0,200.0,100.0,510.0,210.0,0.000761,0.0746,0.110309,12775.33,318.213,200.796,200.796,150.597,34319.28096,185083.23852,85578.424,67101.279117,76018.958821,243227.87586,1005.15805,187568.99300000002,20110.093758,17735480.993,44279.877393,4250.0,52266.0,6912.0,2.844,51973.0,14815.0,1481.0,67020.0,0.016,40.0,96.0,104.0,13.0,47.0,2839.0,124.10000000000001,522.7,1041.3,343.3,37694.431000000004,8664.131,2345.3089999999997,11167996.757000001,85.8,65459.8,1494.6,517.0,19.599999999999998,8.0,3.9,4125.3,11061.0,18927.0,4169.0,2749.0,8358.0,386.742865,444.50600000000003,271485.37,777.816508,50238.700000000004,13567.5,1400.9,1141.307,456.37699999999995,796544.0,380.0,1830.0,722.92,401.95,14035.199999999999,1062.496,2210.0,0.251,0.05,23653.0,7570.0,8700.0,530.0,0.0014,10880.0,4832.0,690.0,1404.1,16306.000000000002,4.49,1350.0,3072.176,256.0,0.203,0.089,579.0,385.54,5007.0,71735.46,6.53,6.53,6.53,18.46,null,null,null,150193.89,99053.31,1084.22,1084.22,1084.22,261601.40999999997,28571.44,207130.06,18174.25,45995.28,4.19,4.19,4.19,3140.33,155676.99,384388.0,113456.0,11346.0,182.54000000000002,35872.549999999996,293.54,13441.17,11166.550000000001,1572.02,1202.11,1315.78,8109.94,6784.27,1035.8,1347.63,2908.82,75589.43,116265.09,578.13,578.13,578.13,1621.8799999999999,486.04999999999995,520.89,520.89,520.89,244.7,13.58,2594.8,2432.7000000000003,805.68,27371.870000000003,41919.2,123.03999999999999,123.03999999999999,123.03999999999999,78252.39,120788.65000000001,73.95,13358.99,249.48000000000002,803.8100000000001,38079.189999999995,2749.12,2749.12,2749.12,3475.98,2370.55,2949.0,1790.26,17563.289999999997,14035.75,2333.8,2913.77,6317.47,172311.0,1450.9399999999998,1450.9399999999998,1450.9399999999998,9353.68,163.61999999999998,177653.67,479805.86,803223.92,7147.700000000001,87098.55,2792.3399999999997,167.4,1770000.0,1770000.0,0.02,1.0,7784.0,7692.0,57.0,231000.0,214000.0,90400.0,11460.0,3677.9,1760.2,9.1,5419.1,10843.3,38244.100000000006,16242.999999999998,11006.9,10963.300000000001,14611.1,2737.6,0.05613,0.06135,1.453e-05,467.456,390.272,0.147328,17577.8,1071.1,6052.0,537.9000000000001,325.387,4105.63,3150.84,63.905,1530.5,9082.16,3846.86,2378.06,1962.9099999999999,1770.52,1435.8,1451.73,316.335,303.682,284.702,2.0,90.1,795.6999999999999,1219.0,113.69999999999999,141.1,674.2,121.5,1279.3000000000002,1329.5,1180.0,90620.0,149.29999999999998,22468.2,4704.4,93.389,222.498,1845.52,1656.91,1411.9299999999998,3103.0,7.0,85.0,481.5,39.1,3209.4,265264.0,132632.0,53053.0,132457.66,3443.899,62255.1,1589.492,331144.2,146904.5,1.3,70998.90000000001,70998.90000000001,70998.90000000001,484.0,643.5,643.5,86.6,1380.1000000000001,2078.0,740.0,1406.4,79.8,103440.5,60635.0,21110.06,348.0,321.66,321.66,321.66,1027.777,10.0,170.738,918.8380000000001,6.211,29790.0,146.0,1840.0,209.15200000000002,506171.4,75409.09999999999,15.73,29140.0,180.0,755.5,6255.6,6255.6,6255.6,6156.2,59900.0,859200.0,27900.0,251400.0,8400.0,4800.0,1300.0,null,816.1,39963.9,63043.100000000006,1756.5,1206.3,317.09999999999997,497.5,1.5,1.5,1.5,12220.0,4.7,1049.9,85394.0,15000.0,1125.0,1125.0,151439.0,3219.0,3300.0,15000.0,17000.0,10400.0,9200.0,1600.0,5000.0,85000.0,5826.0,543.8,351.8,464.8,2.9,216.9,0.9,1623.8,2516.0,3657.7000000000003,25345.9,3863.6,8031.499999999999,6542.5,5233.5,2627.9,5020.0,860.0,16112.798999999999,400837.0,102996.0,10300.0,59330.0,14970.0,3302.0,3721.0,3673.0,3628.0,4338.0,55.6541,10664.5,0.2174,565.6,0.0381,152.79999999999998,389.0,1301.1,423949.6,112980.5,11298.0,6571.3,6571.3,6571.3,10875.6,6879.1,6879.2,33529.200000000004,6955.9,6881.1,456.5,4672.7,4320.5,40779.0,11624.0,1163.0,150.0,30885.0,27.102,3565.0,11303.0,9777.0,45049.0,1337.91,40.0,0.24,6810.0,2301.28,1820.0,470.0,0.6,0.6,6887.0,6140.0,5933.0,1394.9,1394.9,5.3,1206.876,47679.299999999996,2.2,2311.0,2370.2000000000003,59.089999999999996,128.37699999999998,26.252000000000002,768.491,110.778,2028.7459999999999,1007.9610000000001,32.939,175.854,98.572,40.839,157.719,684.918,40704.0,40332.61,14027.0,269301.0,5.1000000000000005,108.069,5.022,231.135,0.001657052,4662.0,2.4,2.12,1.83,69.4,1.3,0.4,1111.9,0.2,2.8,0.1,153.10000000000002,153.10000000000002,153.10000000000002,2503.6,16763.42,3892.2,3222.6,3631.4,12093.196,2767.202,4025.4269999999997,2750.352,1016.9999999999999,98.0,51627.29,163799.5,143855.93,36627.77,8103.099999999999,1654.1,1654.1,1654.1,23.14,207.8,431.4,121.2,4.15,38.3,230.0,38.4,212.29999999999998,44.1,207.0,119.0,650.0,268.0,14.0,638.0,4.0,66.0,7.0,46.0,292.0,638.0,8.0,44383.299999999996,28816.3,37910.1,799748.5,194.8,78.5,12121.0,19205.0,2317.8,8777.0,1481.9,1042.8,1651.3,44578.0,31397.0,37989.0,26141.0,232907.0,181194.0,30140.0,40276.0,10538.0,83074.0,18.0,70.0,381.0,129.0,3272.52,2124.0,2795.0,555570.0,681732.0,2969.0,138256.0,181.0,4338.0,3412.0,3063.0,54043.0,2776.2799999999997,23355.0,10232.0,156.51999999999998,1531.3000000000002,123.89999999999999,810.0,0.084,2.4499999999999997,7.777e-06,8710.0,8360.0,164.3,115.0,323700.0,145300.0,14400.0,479000.0,136300.0,13600.0,230300.0,10.0,1343.6,470926.10000000003,151472.80000000002,62.1,93.2,29169.2,139.7,94.60000000000001,38762.4,2940.5,66816.5,78.39999999999999,160865.0,40999.0,4100.0,121919.9,9824.0,11050.0,1256.116,1.0,3709.1,0.0001,396.9,160393.6,47054.4,4705.4,0.0015,34.431999999999995,34.43,37.0,31.0,13.0,6.0,7.0,16.0,17.4,342.5,4584.7,2676169.5,682057.2,68205.7,32216.8,616.9,885.9,118.2,1601.6,180.9,48.5,199522.69999999998,56020.0,284.0,117338.7,117875.9,44981.6,65283.100000000006,18.9,22807.9,77.0,264562.50999999995,50.9,12206.0,48992.0,3791.0,1895.0,1433.0,3167.0,4497.0,1516.1,984.3,1295.0,47.800000000000004,17.2,128.1,59779.0,649.5,649.5,2.0,0.2,1.0,7.9,11707.3,365.9,46.800000000000004,67.4,194.5,7056.0,3593.0,1999.0,0.07,790.44,3840.0,362000.0,260.0,0.26,0.03,1.1,0.1,0.6,0.4,11150.82,11635.0,7127.0,5.0,2400.0,1236.0,1164.0,1745.0,41560.0,621.0,621.0,1600.0,11700.0,1400.0,305.92,7.56,3.02,51.95,51.95,11758.3033,35.0,1.389,25.0,0.351,16.56,200.0,620.0,24.0,1200.0,33.099999999999994,556.5,14785.9,2376.3999999999996,4354.7,3475.4,1317.9,228.4,544.3,490.0,66170.0,19689.0,11085.0,19936.6,238.2,44940.8,44940.8,44940.8,243.79999999999998,69.0,148039.0,494.7,225.8,30727.9,26241.2,8845.0,192264.0,177345.0,21104.0,27111.0,12331.0,91679.0,12.0,19.0,530.0,6045.0,5280.0,33400.0,48900.0,8560.7,3384.0,1670.1,10100.0,12300.0,3020.0,10100.0,1508.0,820.0,123.0,142.0,14.0,292060.0,391556.0,44.8781,35421.799999999996,26566.4,3719.3,16834.514,16834.482,1042.606,1552.14,5742.886,1379.68,2241.9790000000003,232.61,1008.5,20.7,41.6,148.29999999999998,62.0,41.9,41.8,55.300000000000004,20574.100000000002,0.096013,0.202,5.2,0.6769999999999999,0.884,8.4,9320.0,3511.6,2279.9,82.69999999999999,1463990.0,30435.199999999997,30435.199999999997,3.7,7944.4,7944.4,1881.0,2872.6,2027.1,3598.0,3423.4,3022.0,2536.0,20876.0,15337.0,7561.0,71444.5,75882.40000000001,78963.8,1451.7,3310.7000000000003,3161.7000000000003,3130.9,70048.5,1601.0,164.0,2942.0,14700.0,37.0,0.46,3.8,44939.700000000004,22451.1,13890.0,4979.0,33.0,198.0,6.0,2.8,1.2,2e-06,1e-06,80.03,225.73,66.48,54.08,90.59,295.19,49.37,121.24,250.75,37.89,1682.03,4806.14,56630.0,42.615,16.956,3.868,461.26099999999997,1770.0,470.0,100.0,0.19,1.2,1.6,11.700000000000001,9967.0,6.79,1225.0,980.0,112158.1,0.02,0.13,10.0,0.06,4.0,440.0,4450.0,400.0,2880.0,1.0,169.0,41.0,4521.0,1286.0,128.0,501.0,152.0,142.0,96.0,45.0,6.88,839.0,2011.0000000000002,268.0,2217.0,3375.0,2345.0,2837.0,21014.3,424.70000000000005,17979.0,6430.0,1091.0,9700.0,2700.0,300.0,43148.299999999996,20061.699999999997,7071.5,4605.0,1096187.4000000001,14827.400000000001,5916.599999999999,37.41,89.39800000000001,23919.0,69230.40000000001,103.5,25.7,22.2,8695.0,115.665,4840.0,231.33,231.33,1881.33,7691.33,3.0,33.0,0.08,0.01,0.02,0.002,0.1,10088.800000000001,2933104.6999999997,6264.1,5765.2,5765.2,123.1,48.599999999999994,160.3,2232.7,10088.800000000001,6674.599999999999,2835.3,1711.4,127490.0,18940.0,16800.0,187.0,790.0,790.0,790.0,40878.0,11625.0,1165.0,8.0,31470.0,183334.0,40519.0,8005.000000000001,3478.0,36403.0,44409.0,24630.0,23040.0,1.8,1.8,1.8,98158.1,430.20000000000005,63626.399999999994,2.7,0.9,19.900000000000002,5706.0,181.371,9020.0,1940.0,590.0,6110.0,13520.0,324.90000000000003,576671.7999999999,397569.7,4486.799999999999,4486.799999999999,34306.0,27846.0,3992.0,142.0,3548.076,1037.607,182.301,52.1,14.200000000000001,768.0,768.0,358.0,279.0,74.0,2819.0,801.0,80.19999999999999,873.0,225.0,123.0,967.0,375.0,90.2,520.372,8700.0,22796.7,60.2911,26.8762,52010.5,60191.200000000004,2079.7,29095.7,801.2,3478.4,3478.4,3478.4,594301.2,73684.4,418453.5,3588.1,2326.0,3065.6,2168.2000000000003,65446.700000000004,1.2,4972.0,983.1,2170.0,4370.4,1377.3,20534.0,15745.0,7338.0,0.504,0.57,3931.0,2263.6,2641.0,97.19999999999999,2012.0,3269.6,55495.600000000006,145600.2,296569.2,21798.9,8809.2,8509.7,33974.200000000004,70255.3,2047.0000000000002,7145.900000000001,262.529,345.7,31.7,7311.8,7155.599999999999,null,149.4,503695.7,60.0,14012.800000000001,286.0,13707.0,3894.0,2.007,7.0,7.0,7048.0,4657.0,207120.0,96020.0,15930.0,54190.0,5688.0,1839.176,28650.0,26887.8,363.0,133812.0,1404.4,0.112,9.0,67.0,0.9,0.06999999999999999,6.6,15.0,19.0,1.0,1.0,1.0,10925.0,3114.0,311.0,70022.5,439844.4,43240.7,2888.3,13334.6,48450.0,35890.0,31410.0,0.000642,18.2,4733.0,11181.0,4994.0,15.0,1207.0,338.0,251.0,123.0,690.0,339.0,153.0,777.0,21.0,250.0,80.0,11.0,14.0,20.0,271.0,34.0,610.0,112.0,18.0,69.0,3.0,10.0,7.0,5.0,250.0,20.0,271.0,34.0,610.0,1803.6000000000001,183075.12600000002,0.04,0.42,0.08,4.46,200.0,1.14,140.0,0.26,10940.0,16570.0,7960.0,1580.0,120.0,2459.0,13.6,2653.0,712.0,82.0,1.87,0.1,18940.0,390.0,9020.0,28171.018,4829.6720000000005,117940.284,384195.182,740952.093,82.980767,702051.425,81.84675,81.811946,81.830798,81.907656,81.809046,81.814846,82.487716,1193.531,81.811946,81.742339,81.927958,27068.59,70344.006,82.171583,85.796958,83.874059,148577.19499999998,41065.775,127173.18000000001,16482044.643000001,31442982.876,7736963.026000001,1.074,5.461583,7.6488,2.910055,2.4693,130251.87199999999,3788.085,23.704779,23.280837,83.765,61143.822,10729.08,24681.415999999997,167.603,93399.834,9714.987000000001,12595.523,5449.773,3514.118,0.192,98902.93699999999,10774.059,2700.545,18.279,109.67,7.7e-05,10.053462,50.836,145083.056,174650.96,1170403.459,6886.901,6763.355,1360715.331,1376.971,97211.815,11690.894999999999,24193.151,37638.199,41666.841,8.52547,1.114476,4.726282,2.868663,26.483825,0.18100000000000002,0.486913,78.352,0.060000000000000005,4.0,160.0,124.0,10.0,548.0,1040.0,3240.0,7330.0,4090.0,159.0,19.116999999999997,1090.0,1210.0,11010.0,12.0,12.0,32820.0,11170.0,47845.0,11547.440999999999,2954.1780000000003,21626.4,82140.6,10.0,10.0,10.0,7043.280000000001,299.35,102626.0,44889.0,17481.0,2674.665,1121.2,1121.2,1121.2,20.0,46.0,10.0,2180.0,5050.0,110.0,59620.0,28670.0,7320.0,5616.0,1983.0,434.2,138.0,632.1,13286.199999999999,14006.8,193.6,90.0,375.59999999999997,13720.4,1521500.0,4400.0,2200.0,2380.0,3720.0,4400.0,45.400000000000006,760.0,263.29999999999995,36.0,51.3,58.5,32.0,90700.7,158832.8,0.1716,0.8649,0.4238,30592.4,302.0,222.0,122.0,3187.0,907.0,91.0,30.0,14.0,2.19,3548.0,182324.0,294.0,29954.0,47.0,299000.0,552000.0,9800.0,9800.0,300.8,15937.0,8791.2,10453.2,206.7,4094.9999999999995,511.0,511.0,11804.0,537.0,537.0,702.05,38063.59,8.57,8.57,29.794,5341.820000000001,66.76,44.8,44.8,12675.789999999999,264.2,132.1,19.8,50425.5,13612.7,1361.3,4215000.0,1650.0,3243.2,34875.2,680.0,130.0,130.0,130.0,70.0,328.0,1.0,1.0,1.0,5275.5,1825.3999999999999,2113.0,15.0,1270.0,3447.0,66.8,17.1,10.8,103.3,0.1,2.7,24.400000000000002,5.8999999999999995,2521.0,10892.0,8289.0,0.001,92.0,64.0,267.0,70.0,126434.1,15343.0,2599.0,2050.0,1025.0,410.0,2.0,680000.0,251000.0,17251.0,21150.2,0.606,352.0,2037.9999999999998,4570.0,10650.0,4850.0,620.0,338.17,1815.0,739.0,729.0,80.0,15966.0,0.122,102902.0,538.0,356.0,4094.767,1151.158,318.15900000000005,75849.0,17542.0,13957.0,38745.0,271326.0,17457.0,75849.0,17542.0,38745.0,2985.0,2720.0,1063.1999999999998,898.0,604.0,18347.3,711.0,0.022,0.022,45365.5,11714.4,13829.0,119612.6,280.0,100.0,0.133,0.213,0.046,0.074,0.041,10.0,3.0,0.211,1.032,0.399,3.0,25.0,22.0,56.0,40.0,3942.0,4.0,10.0,284.0,4820.0,797.0,797.0,500.0,16.0,7300.0,9.777,5.046,20646000.0,3.246,26.762,12.423,105.9,20.66,4258.7,1.36,608.0,3100.0,3240.0,1100.0,1800.0,1600.0,700.0,1500.0,500.0,8000.0,200.0,42500.0,1900.0,2900.0,1000.0,13000.0,2200.0,800.0,5200.0,3600.0,6000.0,26000.0,12000.0,3400.0,0.3,2.0,2.0,1.0,200.0,50.4,50.4,50.4,272.81100000000004,5674.349999999999,3907.14,5542.6900000000005,4726.15,4140.900000000001,2385.89,177.0,0.1606,18060.0,6362.0,26770.0,22.9,2.07,4.82,116690.0,0.001,34840.0,2828.36,4407.09,64.0,64.0,0.032,0.032,188.73999999999998,2.4099999999999997,51759.2,1467618.8,51759.2,184282.6,211449.90000000002,49128.5,100497.7,40916.600000000006,538005.7000000001,339.40500000000003,325.881,305.595,3.0,177.0,1.067,13.799999999999999,2.805,4200.0,240.0,30.0,742.0,365.0,166.0,220.0,10607.6,7.2672,1628.0,14.0,12.0,11.0,0.005,122.0,58.0,18.0,58.339,8.772,37.294956,22.749923,1268.02851,1342.618423,63.401426,16.409781,2.82,254.0,1376.0,1102.0,4.0,114.0,8.0,3.9999999999999994e-09,264000.0,104730.0,3360.0,2630.0,7827000.0,42110.0,3851.1000000000004,68484.6,3.074,5.246,5.886,0.567,0.482,18.021,60.995,76.244,81733.0,215.796,92865.0,38.155,374644.0,7752.0,1028.0,720.0,626.0,5090.0,14410.0,1520.0,1058.0,38280.0,16668.0,7964.0,5086.0,2610.0,3171.0,48.199,0.211,88.2,1.272,0.0217,2180.0,1490.0,13850.0,22.0,143.52,600.0,3192.0,0.000896,8067139.0,2024048.0,405153.0,0.0449,0.12000000000000001,7.0,2.6,1.49,7.0,35474.0,305.0,10701.9,10813.0,16332.999999999998,1841.0,23769.0,1252.5,115363.4,255.0,127.5,51.0,9946.400000000001,994.6,3e-06,3e-06,2e-06,6e-06,70.74,263.52,14.77,68.41,115.44,329.99,65.69,149.25,141.87,21.38,139.92,24.88,237.09,34.2,167.17009,47574.18,30063.0,239550.0,199512.0,114720.0,46880.0,0.3051,0.0034,0.0044,9.9,0.0286,0.0075,0.005,0.0038,0.4534,0.0095,0.0677,0.2865,8.200000000000001,4.5,699.9,121.7,6725551.8,576357.3,175.6,13.1774,0.1933,0.5464,0.2535,26939.2,6336.1,33696.0,16734.2,2795.6,19.0,18300.0,51700.0,106.2,15.8,79.0,79.0,79.0,89.80000000000001,2145.0,14296.6,13061.6,0.05,0.05,97821.0,8054.0,92.0889,1326.0,184100.0,419.0,419.0,463327.0,1735500.0,1749727.0,0.54,10.0,2618.0,3.0,1757126.0,7.6,3427160.0,2942.0,8594.6,859.5,0.8,238.7,214.79999999999998,173.2,199.3,265.40000000000003,1584.8999999999999,3580.0,579900.0,2550.0,3160.31,1.4,5660.0,7430.0,6370.0,9200.0,37658.0,0.04,0.1,30.0,30.0,30.0,56800.0,190.0,164.0,12700.0,6340.0,3170.0,188657.527,11652.888,11652.888,11652.888,145.823,2407.2740000000003,23562.051,5349.610000000001,2932.197,1603.15,8954.682999999999,12741.88,17897.123,0.004,2691.0,796.0,116.0,225000.0,3.2,5.4,1.2036e-05,4.95,4.89,134.0,64319.99999999999,294.0,21623.8,182010.0,91320.0,9570.0,13180.0,6010.0,16527.6,34.3,41.6,148.29999999999998,62.0,41.9,41.8,55.300000000000004,288981.38,24804.4,7858.5,7858.5,39624.409999999996,40005.39,1599.2,4001.9,3.0,3.0,2.0,8300.0,3090.0,1090.0,300.0,200.0,0.6,0.6,4083.9999999999995,1307.0,653.0,20614.3,85.0,6.603,2.377,33.19,0.136,24330.0,2.0,13.299999999999999,1.6,302.59999999999997,50.5,2636.1150000000002,17651.3,7541.5,1145.7,40996.0,9778.0,5837.0,538399.4,190981.59999999998,270.6544,1714.3118,11370.0,4800.0,3530.0,11370.0,21770.0,128.07,4984.03,6075.0,4299.0,1223.0,122.0,302.0,75.7,39.699999999999996,313.0,116.0,30.0,33080.1,27231.100000000002,80.0,0.002,66.76400000000001,25.046,512.1759999999999,80.371,720.0,79744.0,24270.0,2196.0,2196.0,9139.0,12142.099999999999,7883.4,1725.2,54.6,41.0,18.4,12156.800000000001,9466.1,10375.400000000001,62374.4,50899.299999999996,12104.699999999999,23320.3,674.0,1505726.0,83657.0,805.9,1060.2,280.4,24.0,206996.1,11.6,4318.5,4318.5,180.60000000000002,5.8,1288.0,1078.0,7907.0,3712.0,1465958.35,515493.05000000005,51549.31,3389.0,14110.0,3150.0,870.0,30.0,20770.0,2650.0,530.0,3200.0,306640.0,13251.0,2275.9,132.20000000000002,1819.0,0.301,65.0,5.7,1.5,6230.0,3825.0,2612.0,2425.0,5521.0,12.7,1405.0,8177.300000000001,2254.7999999999997,1408.7,1135.3,3880.0,3880.0,2009.9999999999998,11040.0,49630.0,20570.0,7320.0,null,0.0551,198.6499,3011.81,0.04,280.0,1.6900000000000002,65.0,180.0,109.0,130.0,510.0,109.0,6.0,11.0,1963180.0,1480.8799999999999,1465.6599999999999,1465.1799999999998,28.44,27.900000000000002,725.0,0.001,1493.0,0.12999999999999998,149.0,188.0,4.0,336.0,24.0,287.0,9.0,1.0,2438.8999999999996,39346.4,19036.6,12584.099999999999,4571.1,3665.4,0.18000000000000002,0.6,23000.0,12180.0,7.868,14476.0,10293.2,3846.0,897.5889999999999,45315.0,12886.0,1288.6,537.0,540.2,9200.0,9150.0,219900.0,37.84,94.22,275.84,176.7,82500.0,4.96,23400.0,18000.0,9480.0,4600.0,21960.0,20960.0,15459.0,15900.0,5475330.0,1137172.6,142146.6,11.279,22.126,74.864,null,3296.0,0.62,0.62,74.66499999999999,3860.0,90540.0,1960.0,0.35,0.35,0.35,205794.90000000002,10.0,260.0,1761.6,5495.0,4890.0,6420.0,5500.0,7950.0,0.6,17.0,3.4,1.0,9.844,12.0,12.0,2623.0,2623.0,2029.0,4813.799999999999,2423.2999999999997,1512.0,24.299999999999997,1670.0,13750.0,78110.0,4760.0,13750.0,1369.3,0.0002,0.0002,1738.6999999999998,2128.2000000000003,2846.7,579.0,350.0,350.0,350.0,0.8400000000000001,0.8400000000000001,35.2,21456.3,10.0,2710.28,43402.408,693.37,3383.93,1206630.598,2710.28,43402.408,3383.93,154529.329,177310.336,38715.348,41196.491,84271.844,34310.413,426810.13899999997,12840.0,28923.93,8311.231,142.3,4520.2,33.099999999999994,191.70000000000002,40.7,10.3,22890.0,5980.0,600.0,30918.3,120.856,1633.0,1.3,486.3,202.25,202.25,202.25,24167.68,220.0,0.02,1211.0,4035.9999999999995,84.0,161.0,80.0,38.0,91.0,2.0,1.0,0.1,1e-08,1.0900000000000001e-07,2388.937,482.0,15399.0,8326.0,436.0,16385.0,4961.0,14773.0,22154.0,49.0,0.0167,104900.0,15860.0,443700.0,351300.0,445.0,4322.0,29030.0,35.1,12.418,2539.025,28864.0,73.118,0.4,11264.0,1.421,17835.0,1384650.0,6740.0,6100.0,8010.0,6870.0,9920.0,682700.0,7735.0,1.9999999999999997e-09,89761.0,56550.0,36803.0,3336.0,28018.0,9338.0,211.0,132.3,29760.0,5.0,298790.0,916.0,18782.0,41811.1,160.0,0.001,0.004,8756.0,7844.0,24.0,0.133,6190.0,9070.0,37220.0,190840.0,19670.0,1590.0,10860.0,71110.0,6500.0,820.0,3980.0,33.5,33.5,9.51,23580.0,10760.0,42110.0,11390.0,6584.25,50710.0,6180.0,18050.0,1211000.0,14.200000000000001,2645.51,593.84,75.65,1431.25,428.44,1336.61,2833.54,580.0,135.35,5.0201,0.4,66840.0,246.07,5700.0,202850.0,76940.0,89870.0,843770.0,43980.0,206840.0,49780.0,96.8,155678.5,34.6,404649.80000000005,2878.7,117.7,51.2,71.9,116.1,null,2397.0,11138.5,1417.6,320160.0,22222.7,69068.21,2299380.0,535.0,614.09,178.0,256000.0,169000.0,7000.0,3800.0,20590.0,1138.46,18010.0,21940.0,6300.0,2426.919,754041.198,89.80000000000001,3.0,0.052,159873.3,2707.835,24.963906,1.0,1.0,1.0,1.0,1.0,0.4,0.4,1.0,1.0,0.6,0.5,0.5,2.0,2.0,2.0,1.0,1.0,1.0,2.0,2.0,2.0,0.3,0.3,null,null,null,13.0,13.0,13.0,0.5,0.5,5.0,5.0,5.0,2.0,2.0,null,null,0.18000000000000002,0.18000000000000002,0.18000000000000002,10298.0,30109.870000000003,8838.920999999998,889.356,25000.0,110.0,58.0,58.0,58.0,1300.0,12805.0,10.962,14.0,14.0,320.0,4804.0,1489.0,2627.0,0.0083,0.4083,197.8266,565.24,727.2387,708.3199999999999,310.7721,164.5478,137367.00999999998,1.0,238.4,238.4,238.4,241640.0,5923.7,1309.0,1309.0,1309.0,1178.8000000000002,668.0,222.845,222.845,95.2,21481.929999999997,3051.0,61405.9,5682.8,52742.2,226.3,226.3,226.3,1870.1000000000001,42110.0,2710.887,21450.0,28375.0,18000.0,422.70000000000005,139680.0,26077.198,62.4,355.993,185.742,19696.371,1538.0,1511.0,10.0,15692.0,18.0,276840.0,3129.5,3026.3,5750.3,7343.5,150741.6,13.5,3139.5,2116.0,76.0,475010.0,null,7500.0,7970.0,5689.0,1064840.0,16.400000000000002,10.7,14.0,297.8,34976.4,8914.199999999999,891.4,0.1,2058.7,268870.0,50573.0,0.233,3.4299999999999997,0.3582,385.13,50719.0,10270171.399999999,5130068.8,771149.5,144708.334,10.0,7.62,800.0,12450.0,3540.0,350.0,260.0,797.0,24.299999999999997,21.2,3.4,0.3,767.9,734.4000000000001,706.6,687.4,16950.199999999997,222.0,9597.0,204264.15,75345.0,25.0,55695.0,3654.5,3654.5,117658.6,11289.0,7574.0,9622.0,7948.0,45409.0,9752.0,20752.0,21303.899999999998,6072.6,607.3,158567.0,9332.599999999999,47400.0,17340.0,25410.0,27420.0,15060.0,29420.0,10410.0,10760.0,15770.0,17020.0,13630.0,47400.0,17340.0,27420.0,101390.0,5310.0,50896.1,19284.9,31419.335,87265.351,0.002,183.0,91.0,43.0,3.0,41.0,13.0,2.0,2.0,3.0,44.0,5.0,99.0,18.0,3.0,11.0,1.0,66095.1,1710.6,6086.05,1866.9,15718.7,4302.0,1419.7,663.1,56800.2,118241.4,19854.8,19854.8,19854.8,41.4,146.1,113.9,396.9,5.15,5.15,51440.0,15580.0,14870.0,41450.0,52960.0,44900.0,71.5,27.900000000000002,61607.0,null,4.9050000000000006e-05,24920.0,18100.0,20001682.0,346579.8,60.5012,24.3215,54.7536,369.0573,1.331,68.3664,5.62e-07,3369.5,0.002426,0.001273,0.001243,0.002577,313.9,486.9,60.4,639.8,64.4,213.3,48.3,177.1,523.1,1122.7,370.2,382300.0,104430.0,46456.0,22859.0,975161.0,277301.0,27730.0,58480.0,0.089819,15641.0,0.000154,5703.0,615.0,463.0,271.0,2477.0,12801.445,3919.2,2646.0,204.5,94516.59999999999,171.0,2197.0,1099.0,165.0,13.0,7.0,0.4,3591.0,3561.0,3538.0,11797.0,5246.0,2259.0,1160.0,133328.4,30476.0,22879.8,42.89,13162.11,8604.2,7382.2,16038.199999999999,19508.199999999997,1385.6,466.9,272892.7,169.8,13.4,985.4000000000001,985.4000000000001,330.7,3235.1,2204.6,3999.6,863.1,1136.4,89.0,86.0,2860.0,20.400000000000002,190.0,0.053,191.33,10.0,341.6,457797.7,396.7,396.7,396.7,452.6,839.4000000000001,173.7,173.7,173.7,881.8000000000001,882.0,175.3,211948.90000000002,82.9,89.1,3.0,17.0,1845.0,113970.0,28000.0,26000.0,0.001,0.002,0.0075,0.0011,4200.0,3300.0,2900.0,28140.0,2.3,1.3,8.5965e-05,6860.0,399.19,1770.0,776.0,628.0,0.00123684,7.61,0.478,4.575,9.473,0.028,522.44,963.79,37580.0,17821.11,155620.0,30072.9,16.0,5.0,3197.0,746.0,2842.0,560.0,311.0,1.86,21760.0,1220.0,2.22e-07,1160.0,14272.0,14272.0,14272.0,2265.0,24.5,13.799999999999999,130064.79999999999,88.7,241.5887,92.0256,2115.7262,2738.3,14026.5,0.8408,2.5218,2100.0,523.0,523.0,523.0,2717.0,2717.0,2304.0,15000.0,26350.0,2219.0,49200.0,82010.0,118410.0,129330.00000000001,85450.0,14873.0,1672.0,1672.0,1672.0,6441.0,1668.0,283.0,3865.0,3865.0,3865.0,77595.0,28807.0,6602.0,429.0,414.0,996.0,228.0,15.0,14.0,32631.0,222.0,98.0,0.206,0.011,0.94,0.0088,3702.3,3702.3,3283.4,18.0,947.0,44.2,223.89999999999998,42.5,215.0,3502.0,1444.0,75.0,170.0,1257.0,42.0,38339.0,358.0,37.0,4764.0,8342.0,246.0,3438.0,43.0,16.0,14.0,7.0,3.0,194231.0,52434.0,5243.0,8e-06,0.002,352.5,1931.5,704.9,521.7,902.3,2298.1,493.5,1085.6,1127.9,1071.5,1325.3,116208.0,144260.0,29839.19,1094613.4,21382.7,12773.9,12773.9,17.0,1552025.5,38.832298,1433.914,7395.49,10550.599999999999,1895.822,32.0,573.0,599.0,10140.0,2374.0,97.0,380.0,128.0,29.94,0.195,0.009,0.2,4.4,0.0428,1.0,0.9,200800.0,58000.0,54000.0,null,840.0,50.0,109.0,1515.0,42358.0,542.1,4837.0,19901.0,158.9,0.004,459.1,2.2,1147.5,1.7,0.2,2122.3,56.0,56.0,41.0,200.0,4369.0,0.00384,0.04,0.0192,4369.0,321469.10000000003,2054.0699999999997,2054.0699999999997,14247.0,7300.0,4435.0,8015.000000000001,358.0,1235566.0,327047.0,32705.0,13664.0,12886.0,12780.0,72988.0,18787.0,5907.0,65880.30399999999,16790.467,1679.047,110706.0,2437.0,3560.0,1303.0,21.0,16.356,15268.0,996.0,10719.0,2437.0,3350.0,3350.0,1750.0,1750.0,1750.0,3350.0,3.0,13000.0,151.0,4465.088,4465.088,10858.0,148962.6,42586.5,4228.4,729.783,8862.5,12357.900000000001,13037.800000000001,30519.8,1134.0,5949.0,4154.0,5893.0,5026.0,4474.0,23535.1,888.0,3267.0,4432.0,3779.0,3311.0,410045.0,6053540.0,103109.2,220003.0,122.0,5718.0,242.0,8096.0,546.0,60.0,910.0,61723.0,414.0,427.566,67.0,362847.2,null,null,25782.6,7363.2,736.3,9840.8,656.1,18805.0,0.2,56834.0,15046.0,1505.0,null,462.0,28936.0,15047.0,868.0,36879.0,7944.0,2592.0,2592.0,2592.0,9.67,1667.81,2587.4199999999996,5114.6,2588.94,1688.19,8288.43,4677.8,5102.0,4089.0000000000005,5965.4,45451.0,12319.0,115055.0,3.0,0.204,0.009,0.3,2.905,2.0,1.0,0.09,38.0,0.135,63.0,5.0,73.0,10718.0,8677.0,6104.0,25379.0,5196.989,80386.924,115921.0,1534.008,32.599,490.0,18.0,15.0,39.0,8.200000000000001,2.5,0.1,0.066,0.25,160.0,25000.0,0.67,0.16,0.097,0.22,0.038,0.02,0.62,0.015000000000000001,0.36000000000000004,25023.2,9.1,120.0,39.0,81.0,6.8,24650.0,201550.0,104420.0,14030.0,6620.0,17330.0,5125.0,521.0,3029.0,1257.0,2310.0,930.0,300.0,10003.0,5330.0,0.28,188851.68,175.82999999999998,175.82999999999998,175.82999999999998,321.16,null,null,null,null,null,395.0,236.0,662530.0,869.0,61145.0,426.0,125772.0,1039.0,4370.0,770.0,757.0,110.0,122.0,5287.0,5488.0,9280.0,227.0,41.0,455.0,15816.0,110.0,6230.0,6044.0,111.0,1091.0,14827.0,982297.0,5870.0,5870.0,5870.0,24259.0,11661.0,696.0,1059.0,2745600.0,11628.0,303.0,69.0,1210.0,324874.0,8252.0,8252.0,8252.0,642.0,21168.0,337.0,789.0,16017.0,16017.0,620.0,93820.0,585.0,836.0,30559.0,845062.0,27880.0,6887.0,14178.0,9200.0,4600.0,127300.0,2300.0,1922.0,4442.0,841.0,1e-05,0.5,236.9,0.5,990.0,2475.0,4950.0,7496.3,816.8,41422.7,42089.9,15249.3,603.5,164.6,244.0,7.6,60.0,6.0,16770.5,25745.2,74.0,535.0,357.922,23.099999999999998,45772.193,1.5,0.97,20025.854,59.0,126.0,500.0,292.0,7530.236000000001,2462.6769999999997,783.3290000000001,2152.814,11.1,4490.5,11842.95,317000.0,4088000.0,179.0,55.0,31482.0,52676.0,32540.0,104950.0,17164.0,109790.0,6884.400000000001,2228.9,2228.9,293137.694,105817.791,17770.54,529.1439999999999,2248.862,115142.597,31953.998,3172.844,2735.098,2934.043,4956.522,1948.024,500.892,2609.8720000000003,1274.4,38387.9,376.09999999999997,671.0,36811.0,375.0,185.0,86.0,35.0,31850.0,9.9156,21.3554,2073.6,2.6792,523.0,2.0,112.0,38.0,894.0,1434.0,26.0,128.0,918.0,20.0,0.0012,49467.0,24.0,1.94e-06,27649.0,1.0,2.0,2.1,4650.0,558.0,617.0,310.0,52.0,14.0,5272.0,173.0,2098.0,281.0,208.0,179.0,9.0,458.0,435.0,217.0,35683.0,47021.0,150793.0,242269.0,22104.0,140.0,915.0,18190.0,22340.0,5582.099999999999,558.2,680.6999999999999,680.6999999999999,768.5,1245.4,2862.2000000000003,432840.0,2348000.0,184856.542,142581.092,86236.06599999999,74.55199999999999,13.574,21.503999999999998,59.728,128.59,344.916,46.056,6384.31,222.42000000000002,4061.64,24202.496,1818.996,531.5699999999999,1810.842,55129.992,99053.969,4.3,9.0,3.8,49000.0,420.1,0.6,128.0,1.9,2722.0,1437664.0,1035117.9999999999,761962.0,247140.0,2654.2799999999997,2277.6,4570.968,15943.199999999999,2277.6,0.1584,0.3253,0.2177,0.1806,3.4,206.558,0.03,0.957,437.17,0.725,16.044,0.461,4.514,993.949,33660.0,30410.0,29000.0,500.0,0.131,614.0,4305.0,7.0,245909.0,16.0,236235.0,585.0,585.0,2533550.19,23106.0,23099.0,23099.0,214037.998,6093.0,2297.0,1181.0,18932.0,5680.0,0.24000000000000002,0.053,1.1,0.3,0.8,11.037,228.0,13.899,61.0,102.0,94.0,10.0,2828.5589999999997,720.896,72.09,2698370.0,12109.681999999999,18879.007999999998,48.258,672000.0,29.0,6400.0,2374.0,596.0,738.0,6389.662,6389.662,2314.414,43030.0,1880.0,11790.0,34400.0,103300.0,12200.0,27700.0,45000.0,31.0,7759.0,839962.0,21222.0,14614.0,14614.0,335481.0,429.0,1933.0,7802.0,3862.0,3862.0,710.0,15.053,1.507,149.5,1020.0,902.0,1603.0,0.006,3.3,1689.0,1689.0,21.0,21.0,1027.0,1512.0,0.001896399,21.935,1123.95,1157.0,6384.335,6336.803,29.618291,29.618291,4045.9199999999996,29.618291,29.618291,29.618291,29.618291,29.618291,29.618291,29.618291,29.618291,29.618291,29.618291,228.08999999999997,29.610361,29.618291,29.618291,1783.029,3816.002,659082.002,325254.00200000004,48895.002,0.009000000000000001,172.289,0.908906,4.677325,4.362541,429.301,234.36399999999998,20.377087,0.48500000000000004,0.437,0.625,158.134,0.937,14.16,0.7969999999999999,8207.281,3751.558,347.32,31.838556,1493.156,0.001346,9e-06,20029.462,178.492774,5243.425969,965.7750000000001,1115.596748,798.018879,1744.859192,2265.56148,1852.152619,291.68968,225.600058,1616.067149,1151.517398,376.724624,1179.294281,333.717,1896.642955,7253.958499,600.290628,1649.3329999999999,100489.397405,139.729497,6747.064,7286.542926,6251.1089999999995,7496.466722,489752.07,17.234722,10841.401,384.109668,36635.596999999994,127179.684,33.841681,554774.349,1961549.403,6171.333,10327.688,2768.185,3452.912,11670.493,3667.5930000000003,4742.033,19681.636000000002,11638.147,54708.846,1074.451,2719.768,49109.35400000001,16710.892,143.946,0.437774,0.007236,0.289496,0.133418,0.001147,0.077148,0.041831,1220.027,53321.676,0.001126,1e-06,0.000568,0.001,0.001,2164.134,0.029912,1080.0,21360.0,1.0,1.448,1740.0,1740.0,1712.0,285725.0,73418.0,7342.0,375524.0,71.343,4649.803,78.006,0.05169,605.74,60.0,2.0,2.385,13968.0,6984.0,2794.0,23817.03,28.87,2752.67,476.24,59440.0,1716.85,49470.0,14096.7,156810.0,4.76,2100.0,1726.37,158000.0,6350.0,1.039,3151.0,0.036,202.68,207.0,7107.0,10.0,131510.0,163840.0,30.73,0.02,62.31,0.4,810.0,457.53,53.0,0.34,0.34,0.34,253.46,0.22,0.34,0.19,0.1,22080.0,71300.0,71300.0,227400.0,2.3,300.0,2312.0,2055.0,2697.0,3339.0,250.5,239491.80000000002,101233.7,856.6,254025.0,108432.2,147029.40000000002,24.0,5600.0,0.05,36.716,36.716,27.537,2225464.3000000003,543362.84,97.135,154626.494,76831.00600000001,28637.002,86878.0,0.45,0.4,6.51,8.0,283.8,6.81,81.0,14680.0,493.0,4929.0,5004.0,26035.0,16449.0,6571.0,32815.91,39362.801,466.70099999999996,466.70099999999996,466.70099999999996,5975.561,7888.7970000000005,28370.52,6976.182,230.0,32436.666,272.443,8638.152,220.0,8196.33,27504.868,6869.077,67422.18,7480.96,876.486,876.486,876.486,729.0060000000001,2216.8199999999997,32400.0,2300.0,2300.0,100.0,5850.0,4450.0,475.0,7555.0,12067.0,22672.0,8478.84,2967.0,10238.0,0.004,3406.2999999999997,1234.2,13.100000000000001,25391.2,10434.699999999999,10061.199999999999,405.7,1522.1,2120.0,212.0,14.0,2.0,4573.0,457.0,223.29,13.3,391.71,8376.2,534.0,14400.0,500.0,19800.0,236.29,6790.0,327.23999999999995,138.511,4.6,2.2,0.3,25090.9,22400.0,543.0,3598.0,5211.0,280.0,24120.0,83.87899999999999,2e-06,442.008,283.04,0.09,0.030000000000000002,0.002,0.002,6.0,12.0,450.0,31628.0,210.34,5106.0,920300.0,79740.0,233.95,17320.0,10591.0,6700.0,8800.0,400.0,79290.0,404.0,93920.0,78.7,24473.600000000002,9.5,330.6,330.6,330.6,null,83.0,13.0,618.0,670.448,3756.1,2438.7,68009.5,266.7,416.1,1849.8000000000002,2968.7999999999997,2277.6,16517.2,10917.6,14011.2,11253.8,90602.5,66783.7,13612.7,30150.1,1089.8000000000002,706.6,22.0,1972.6999999999998,1972.6999999999998,91.30000000000001,172.8,190.15,109.7,166.8,6437.2,4179.400000000001,5498.400000000001,3180.5,344.3,381.1,921.3,180.0,17428.899999999998,17428.899999999998,35.4,177.1,1006.5,1006.5,195740.5,1324.6,598.1999999999999,944212.7000000001,5159.0,4885.0,115102.0,5735.0,36592.0,5148.0,35.239,156.0,674.0,337.0,51.0,217127.0,58615.0,2.06,10.505,714.0,39.1346,20.22,167.67000000000002,6.7e-06,53.95,27.23,60.69,19807.0,91.25,280.0,540.0,880.0,21643.0,8675.789999999999,9.55,4.13,1.71,8453.65,7058.19,5996.25,8807.0,150.128931,22910.399999999998,1384.0,747.0,977.007,450.0,10475.099999999999,674.9718,23700.0,5900.0,1300.0,4600.0,15910.0,8200.0,1488.162,8.63,1.03,22.2,596.0,0.00742,17.4,168.3,3696.8999999999996,35711.0,21810.0,44.97,40.0,1850.0,72486.7,109334.1,189.4,149631.40000000002,38135.5,34781.3,34781.3,null,11910.9,3941.0,1631.3999999999999,280.0,270.0,270.0,9002.0,0.27,849.0,143.3,22.4,0.692,32.915,8.0,8.0,8.0,0.000129,1500.0,2.5e-05,2.7e-05,0.00023,2.9e-05,1506.0,3800.0,1000.0,219.0,0.128,108400.0,103980.0,3055000.0,16280.000000000002,16280.000000000002,61490.0,127190.0,9610.0,4946.0,1733.0,2338.0,3922.0,1000.0,9.0,3580.0,12780.0,110.0,2900.0,12440.0,1430.0,8740.0,1.4,0.9,1.2,288963.39999999997,1741.0,1741.0,6.4,0.5,7.4,1122.9,6.8,4.4,5.8,55.4,40.0,23786.6,130.0,48747.2,12423.9,1242.3999999999999,75183.3,417.6,6585.7,6585.7,6585.7,417.6,1122.9,1797.3,56.599999999999994,1200.6,1368.0,2235.0,2511.0,1.7,1.1,1.4,30.0,1126810.6,6336.599999999999,6336.599999999999,6.3,0.4,40.5,188.6,2477.7999999999997,1183.7,2535.7,7e-05,1e-05,9.043000000000001,690.254,0.69,0.001,0.2,0.03,0.02,0.1,56800.0,0.03,0.8,0.2,40.0,40.0,0.2,2.0,800.0,4090.0,100.0,3900.0,6413.389999999999,396967.18,1890.4399999999998,1320.95,1569.6699999999998,1516.88,9097.51,7307.58,1217.75,1508.8200000000002,3274.12,1.6,1.1,1.4,29.4,5521.8,552.2,94353.4,531.2,531.2,1122.9,60277.450000000004,46389.95,43.5,27.599999999999998,37.5,774.1,51133.4,0.0049,0.0048,2066.7,1268.0,2287.0,3481.0,0.322,0.000363321,140.0,8.6,8.6,470.0,0.11,1.7,0.039,0.076,126.01299999999999,0.022,0.041999999999999996,0.29,0.32,6.8999999999999995,645.1,2733.0,1229.9,2904.0,1105.0,924130.0,263350.0,2712.0,1164.0,81100.0,12.0,19.0,56.0,11.0,7.0,68.0,6.0,1.0,15.0,1.0,6.0,114.0,115.0,53.0,28.0,31.0,2.0,1.0,1.0,19.0,171.0,126.0,95.0,37.0,24.0,4353.0,73.0,86.0,43.0,44.0,2927.0,null,460.0,1900.0,800.0,2000.0,800.0,987.0,181.7,15.8,0.84,0.0095,0.025,1072.0,54.4,54.4,54.4,157.5,0.01,17.39,79.39999999999999,9.799999999999999,8828.300000000001,7676.154,104694.2,8108.402999999999,16575.5,4224.5,422.4,0.7,1.3,0.2,16026.3,215353.90000000002,0.001188,17232.0,0.0003,94.853,127.0,110.3,1573.37,540295.0,203.077,115400.0,0.198,2181000.0,22.08,253146.0,96594.0,530.0,38.237,1913.792,1913.792,1761.7430000000002,2602.725,9.043000000000001,86.0,2.0,60696.6,83648.9,919.0,16.0,3730.0,3730.0,919.0,66.9,3959.6,5674.8,4839.2,4239.7,29.0,1734.0,34.0,2389.0,6512.6900000000005,6295.69,42685.0,512869.0,17100.0,5050.0,52.699999999999996,3.1,22.3,33.4,7164.69,2640.0,2.74,0.96664,0.194671,3.0,7.0,3.0,2.0,1.7858,0.1912,158.70000000000002,26.1263,21.5,10.9341,502.2,223.70000000000002,0.956,21.5,1299.8,0.2996,44289.1,22439.5,3229.4,324602.0,90017.0,8938.0,204080.09999999998,43988.6,1.581e-06,14558.7,14482.5,14482.5,16262.699999999999,1684194.27,7.7,5.0,6.6,139.6,4229.599999999999,423.0,2504.6,1212.0,3309.0,0.04,16920.0,1690.0,620.0,4306.37,47404.0,13.12,73300.0,2e-08,1771.5,273.8,239.0,2292.0,22556.0,6524.0,652.0,284.0,267495.0,77313.0,1259.1000000000001,4095.6970000000006,254.01800000000003,1556.8,208.3,208.3,208.3,2722.5,66.8,112093.0,18732.0,132370.0,128089.1,1194016.0,23340.0,14266.38,14266.38,98432.0,139475.0,2086.5,1700.0,3749.2000000000003,137.3,375.40000000000003,296683.5,436.3991,4398.5,107072.1,72612.79999999999,41608.4,2582.0424,1897896.0999999999,0.0011,0.2059,1370.1000000000001,2724.1,1280.7,204598.533,24480.0,75.921,72.884,68.32900000000001,1208.0,29245.8,2055.8,1927.3,725.9,725.9,725.9,500.0,7.0,135.8,47030.299999999996,80501.2,123184.0,281.6,281.6,281.6,749.1,548.0,691.1,691.1,691.1,3662.1,2169.5,139.0,240.1,1306.2,5614.099999999999,457.6,457.6,457.6,975.5,934.6,44.2,6214.2,1862.5,864.5,1049.85,39.0,5110.0,71270.0,107.0,107.0,107.0,136.1,1021.9,29.4,108576.9,286.7,286.7,286.7,86.1,4607.0,4607.0,4607.0,8350.4,4576.0,200640.0,191880.0,807.036,6910.0,2490.0,370.0,8002.000000000001,97.151,673.8,461.3,790.46,126.98300000000002,61.134,1648.4,164.8,4524.0,74452.29999999999,58403.7,1800.0,360.0,381.67,3525.616,3525.616,3525.616,2616.93,5143.049999999999,718875.7100000001,46.989999999999995,57.459999999999994,1.7,1.6,3.7,0.4,16.2,9.03,936.0,375.0,4490.0,618.0,13400000.0,41809.600000000006,287148.3,10848.800000000001,2392.9,2392.9,2392.9,13279.8,90722.4,65938.2,96833.7,11190.0,236616.80000000002,8713.6,871.4,0.1,1146.0,9570.1,67199.9,2997.0,9340.0,1374.0,788.0,1649.6,41808.0,12381.0,11000.0,0.2,0.030000000000000002,712.0,1460.0,14806000.0,1.0,2.0,5.0,712.0,0.2,6140.0,1010.0,1170.0,1010.0,0.015000000000000001,224.654,40.754,27.862000000000002,300.228,207.251,1.074,2615.6000000000004,0.08677,831.6,3034.48,0.0167,3846.1,0.3,0.2,0.7,79075.0,340525.0,9878.0,55278.0,27639.0,11056.0,95.181,37.277,19.948,5.8,47.300000000000004,6.8,0.2,0.1,0.6,0.1,0.006,117660.0,10.35,1.454,43.628,435.2,15.8,789.5,1621.1,491524.0,263162.0,591.6700000000001,389.87,405.403,1241.9,7.51702,1566.99,1173.0700000000002,2.97,557942.7,148689.0,14868.9,95300.0,51800.0,9700.0,6.2090000000000005,251.0,126.0,50.0,369112.0,0.005872,0.000763,2.49,148410.0,90922.4,24230.399999999998,2423.0,3.8,3.8,3.8,6.444,448800.0,3.065,62.0,67.5974,20263.2,117200.0,36142.0,3848.0,88.682,23237.0,75000.0,1290285.0,24502.0,786784.0,539926.0,3325382.0,6.9,651.5,3416.2,6150.2,77327.0,21432.0,2143.0,74892.0,2606.0,2387.0,1893.0,1678.0,1963.0,0.0002,0.0011,256.0,87.0,1231.0,25404.0,25325.0,663.0,null,663.0,1625.0,1636.1490000000001,308.044,709.9830000000001,1483.219,278687.9,423.093,12236.0,354446.04,2394269.61,90639.77,90356.0,90280.41,1236.9399999999998,4746.01,150.01,24790.0,7642.0,814.0,11.0,1.4,721.0,21820.0,8.083,2393.35,18.709,21.022,13054.636999999999,44796.75,225250.301,35274.849,34820.46,322119.49299999996,454120.0,139990.0,14904.0,5710.0,6.4,2902209.0,1045000.0,54126.0,28.5,57.6,17.4,24.0,13590.0,134.4,844.4000000000001,36.2,1696.1999999999998,41.2,88.2,38989.8,447.79999999999995,1771.6000000000001,74455.0,161672.0,123.60000000000001,184.6,19578.600000000002,5.731e-06,15292.8,5994.2,1098.8,1375.8,4051.8,62030.2,10480.6,1149.6,2.5962e-05,32.64,54.8,0.48000000000000004,1643.8,7240.400000000001,2434.5,2434.5,2434.5,4186.8,267.40000000000003,12.0,44.0,393.67600000000004,30728.515000000003,83434.9,66.4,66.4,66.4,1896.49,1467.99,41.2,4087.69,1722.74,295470.0,88230.0,12178.0,17808.0,27.099999999999998,0.6,131.70000000000002,2021.3999999999999,48.800000000000004,0.0001,560.1,2154.0,26.4,0.8,5.2,90.6,33.6,14839.1,18775.5,11436.1,0.0119,10880.0,43.0,75890.0,39.17,35.14,14.11,7.29,34.0,194.0,190.0,110.0,50.0,82.0,50.0,1.0,1492.0,7384.128,220.964,6277.165,9064.06,10798.24,10798.24,6585.09,847776.129,254551.669,20793.306999999997,1022.224,16619.298,1034.4789999999998,2146.0,2146.0,2146.0,42.7,22.3,19.8,104.4,172.6,2404.3,2404.3,2404.3,5825.400000000001,38.008,12.919,116.1,1470.408,412.0,548.6999999999999,1397.8,295.0,15616.6,10647.4,113393.0,230.6,230.6,230.6,346.9,38.0,867468.1000000001,762.0,1587295.8,2112.0,5387.0,1173191.5,541.0,14.0,144.7,69.0,61.5,348.3,14102.0,14102.0,14102.0,3.6,4.993,45.0,7.762,0.039,2878.0,4564.0,3405.7,732192.344,219846.699,17822.406000000003,533.322,1322.189,1322.189,1359.319,1440.6680000000001,6719151.399999999,24034.5,24034.5,7227.0,7676.0,11514.0,1473137.8,256.0,85072.1,4697.7,4697.7,4697.7,1338.0,1468.0,702051.5,29265.899999999998,29265.899999999998,3019.0,1121.0,3015.0,8528.0,8836.0,13254.0,26.0,27489.0,27489.0,27489.0,13735.89,32870.35,34713.87,9343.0,835136.621,250756.554,10948.776,20328.188000000002,828.306,80085.605,1169.36,1169.36,1211.71,1304.496,5592.789,null,null,47.069,636.2139999999999,2.869,12028.130000000001,7765.389,9106.332999999999,8014.801,8699040.845999999,559755.098,5408.532,11764.435000000001,8151.0,46.166,41648.165,12505.2,9.74,372.02000000000004,372.02000000000004,372.02000000000004,1011.987,30.283,2545.915,66.10000000000001,21274.7,1226.8,19.2,377.90000000000003,88.6,6.0,238.0,1140.0,389.0,389.0,389.0,158.0,5.0,20687.0,10.0,9607.0,9699.0,2092.0,4937.0,2.0,2.0,422.0,16322.0,32.0,32.0,1629.44,3440.0,2530.0,2331.9,103.2,101.1,234753.19999999998,113.5,5568.7,5568.7,0.012738,0.085813,0.025379,0.156702,0.087802,0.10500000000000001,0.5760000000000001,0.091,8028.000000000001,3639.0,936.0,12214.0,8028.000000000001,15.224,0.9,949.0,937.0,99605.40000000001,154546.5,300654.0,1639.8999999999999,24.0,15840.0,5780.0,905.0,170.0,170.0,5890.0,2790.0,422.0,1131.6,1131.6,null,null,null,89.0,789.0,599.0,22.0,13.0,0.03233,21.0,124.0,60.0,24290.0,303.8,41700.0,57610.0,22.4,171.9,171.9,171.9,2725.0,56233.0,16466.0,41581.0,321.40000000000003,16.299999999999997,4220.0,3079.0,4050.0,82687.0,283.0,1039470.0,433.39,3924.87,3210.02,2599.12,3617.9,2537.12,2436.0,917.32,5025.0,4135.0,19522.0,4041.0000000000005,70.0,1812.0,1907.0,1297.0,1613.0,1.93,2097.58,148761.30000000002,166758.0,134.0,1.0,16.6,190231.23,2610.23,1331.0,7240.0,2536.0,1016.9999999999999,3195.0,616.99,0.535,15.8,2738.0,21742.0,12313.0,3459.92,68.81,8873.939999999999,0.027,0.05,0.063,97.10000000000001,76.1,74.89999999999999,35.7,53283.4,39017.299999999996,53231.1,53338.6,48614.5,391.944,22132.641,522.61,68.0,271.0,417.0,1593.0,66.0,2455.2999999999997,1594.4,2096.6,1650.8,60491.700000000004,null,0.1,0.1,41.4,2.0,30.900000000000002,906.4,906.4,1531.3000000000002,3382.0,18015.0,2854.0,29361.0,130.0,0.094,370.0,22850.0,16620.0,174.0,526.4,172.0,172.0,172.0,71.2,63.2,359.8,261.7,4875.7,98.10000000000001,5162.200000000001,2025.0,2517.3,470.0,470.0,470.0,433.0,376.0,2047.0000000000002,717.0,717.0,717.0,288.0,1.0,1.0,1.0,1.0,1.0,0.2,0.2,0.5,0.5,0.5,0.6,0.5,0.5,1.0,1.0,1.0,51215.0,126718.0,126.0,94.0,82.0,663.0,123.0,2333.98,55.7,0.65,56.730000000000004,3000.0,37.15,15948.3,15948.3,9879.300000000001,2422.4,0.0084,0.16,28667.0,20934.0,450.01,615.99,4.19,244.61,52.682,0.214,1.5,0.00073,1.6,238617.0,0.1005,0.257,0.01,0.003,0.409,0.004,0.136,0.005,0.016,0.09,51747.0,15589.0,0.038,1.58,1.57,0.017,17340.0,16977.0,16747.0,19352.0,19.0,9.0,1.0,2.0,22.0,139.0,15.0,63.0,50.0,41.0,5.0,2056.5,170273.622,6420.29,1848.0,818691.052,108.27,268638.92,10129.228,6297.271000000001,3021.64,329.03,8.0615,8.0615,5.596645,458.446,90.9858,12.745,31.269,2765.114,3203.71,0.2369,10.559000000000001,1193824.78,620877.068,35814.743,55.54234,86.38,2676797.759,1392088.604,80303.932,561.216,561.216,561.216,256283.00000000003,55208.0,18015.0,18015.0,18015.0,20921.0,601130.0,28911.0,1181.3,1.137,2400.0,143.3,523900.0,508700.0,910.0,47.550000000000004,94.7,1910.0,0.0382,47.199999999999996,16.9,1860.0,1620.0,737.2,1464.6,2146.9,798.4,277370.0,185060.0,714765.8,29549.9,18062.0,1398.3000000000002,182.0,8.0,239292.0,156221.0,266.0,628.0,34.0,100.374,10.281,74.0,178.895,1.03,4.473,29536.0,23.196,41233.0,15.136,2558.558,60.605,6835.099999999999,5144.768,24028.0,5.947,20145.0,8.0,16.0,4019.9999999999995,1062.0,1192.0,11060.0,32.0,20.0,567.584,1016.772,0.26699999999999996,1056.099,0.29100000000000004,2437.006,1420.0,3e-05,0.00264,0.7,121.2,9.299999999999999,341.594,10.194999999999999,59.268,3778.517,42397.11,42397.11,42397.11,10.966999999999999,2.9250000000000003,0.065756,52759.683000000005,27454.088,24770.396,12493.220000000001,66145.24900000001,114230.975,121250.799,39755.558,3712.914,26124.934,435543.387,null,null,310.0,915025.56,7.661e-06,1.6,20.85,46.78,56.45,90.32,60403.0,4.83,9379.849999999999,29.71,17286.059999999998,9.5577e-05,193.20000000000002,80811.7,956.2,2019.8,3658.7999999999997,210.60000000000002,4754.6,105.58,1654.76,424.4,60038.0,7332.0,707.12,1644.58,1329.58,30.5,0.00010127600000000001,238.459,923.662,4167.0,1388.0,250.1,5e-06,0.0013,2.0,0.5,7.2,9.299999999999999,47.9,7.999999999999999e-09,1157.79,5.7035000000000005e-05,2843.42,437.29,5744570.0,286000.0,19.0,0.0089,0.3,231.88,195.91,1360.0,31.06,0.003,87590.0,101750.0,10378.0,11450.0,2222.0,1980.0,2598.0,3216.0,6.5,59.0,0.0006,60.6,36.7,1.3,1.2,0.8,21250.0,3086.0,39850.0,0.003,67.0,193073.0,2.0,0.083,2.758,9.0,15035.199999999999,12842.3,263239.6,104.7,50.0,86492.0,27472.0,571.6,167260.1,116030.4,63810998.9,15139.900000000001,9910.8,12892.300000000001,76670.0,60755.0,10210.0,12846.0,27647.0,1772.0,1170.0,1517.0,40.0,null,null,7225.0,187.0,2000310.0,20844.2,163776.80000000002,241609.3,209039.0,175688.0,77421.0,8997.0,1758.0,30822.0,39855.0,12483.9,8109.8,252.6,86.2,4389.1,30608.399999999998,317111.5,37144.0,37254.5,9099.6,12220.0,12737.0,34689.0,50153.0,78698.302,68554.693,4881.989672,56176.181,40577.405432,20120.9833,40404.161,546098.327501,266.90000000000003,266.90000000000003,1137.8999999999999,10768.1,1076.8,62500.100000000006,4395.6,4395.6,4262.6,495.44100000000003,8.068999999999999,60.07,85.037,0.989,12.36,0.989,6.18,142.387,7.416,2.472,42.024,4.202,0.247,22.001,137.69,352.507,155.736,235.58200000000002,38.809999999999995,1.079e-05,0.004594,32430.0,34420.0,218.98,1167.99,18160.0,226349.3,17788.75,1352.6,0.361635,8.424,25301.870000000003,12639.479,5049.043000000001,24347.691000000003,12800.434,12188.319,1381698.5999999999,1022.8,0.02888,2.02,0.002707,2.4018,0.261,0.054,0.005716,5.1000000000000005,12628716.937,84588.0,2395.483,0.023,1.352,18.0,5.54,0.174,6.2,0.8952,5.8,25.0,873351.0,5274.3,5274.3,11621.0,477.10999999999996,46.126,15.861,126.26,94.0,94.0,1707.677,1458.614,1148.436,6107.0,4450.0,11510.0,18590.0,0.876,null,0.0,null,0.0,45972.8,56.18,2.6,24.299999999999997,3.8,16068.999999999998,30364.0,47013.0,407000.0,116145.0,11615.0,15.0,4.0,4.0,21.0,3.0,2.0,4.0,2.0,13.0,2.0,41.0,32.0,701.0,80.0,2261.0,5095.0,43625.0,20.0,3821.0,15922.0,15202.6,15202.6,44.5746,4654.6,1176.0,1413.7,4127.7,5494.6,6621.2,20204.2,3327.0,35574.0,27737.0,512.3,4010.0,178237.48,43.12,280086.5,14132.53,363.41,0.0549,66.19,90.1,16.9,412.3,0.0467,229.3,2.5185,16.2,9608.5,13880.0,4441.0,2221.0,3257.0,4422.0,1415.0,707.0,1038.0,1238.0,2711.0,3885.0,4311.0,5742.0,5742.0,7353.799999999999,1519182.833,null,189694.0,54071.0,5407.0,0.001,990.0,200.0,380.0,1.7e-05,381.87,765.37,242.79999999999998,242.79999999999998,7.76,25391.57,129.95999999999998,0.9,1.7358e-05,1450.0,5990.0,3210.0,2200.0,250.0,52840.0,553243.0,203231.0,26962.1,8.9,44390.0,0.02,1.0,584460.0,80.0,4.79,9.947e-06,21776.0,6207.0,621.0,0.131,301.0,98.0,1616.0,25.0,10.0,10.0,19378.0,7850.0,909.0,106.2,2.992,3457388.0,950892.0,118703.0,0.19,0.11,1.0,0.466,0.269,1.0,16573.0,13543.0,8116.0,79670.0,97220.0,4.0,10.0,1.763,0.056,18.0,230.0,5377.0,5875.0,3395.2,25561.699999999997,24901.0,6321.0,13.2,851.0,9890.0,6109.0,4140.0,189370.0,54010.0,5363.0,870.0,811.0,952.0,2.517,15.0,77897.0,59.0,67843.0,851.0,1842.0,6626.0,1904.0,17680.0,32.0,1141.8999999999999,16390.0,0.00195,31126.0,3.3310000000000004e-06,239.6,1882.0,163175.0,209.46699999999998,127.15299999999999,43.42,0.025514,0.01959,0.01311,0.01311,0.015401,0.02857,0.002908,0.052178,27.77,10.539525,9.312000000000001,853.433,1629.316,733.4509999999999,85.99,73.87,220046.0,97.176504,19.15174,14.475463,10.834591,175.308666,38.250424,36.376979,690.64,201.405,2118.7839999999997,2196.0,508600.0,6862.0,30300.0,29682.0,40053.0,6.0,4392.0,13724.0,1926.0,4238.0,673.0,3916.0,6934401.399999999,1976622.5999999999,197662.3,0.0357,0.1846,0.0396,478.9,395.3,9.1,19.5,26.0,12.1323,4.0394,2.0499,1.4364,600086.5,250.0,2110.0,2110.0,1.7e-05,0.000633,0.008,3061.0,87066.0,543475.9,87066.0,195.176,1188.253,162.927,1020.2,0.430508,1298.36,1.163981,158.559,658.673,124.851,38.411,10.945,9.132,4.35,0.001004,35.892,4.87,0.003,0.742,0.004882,1.924,0.348,0.742,0.019,11279.868,0.015965,545.446,56.792,56.792,0.45899999999999996,0.28600000000000003,556.5740000000001,44.887,201.66899999999998,45620.0,4.449,39.922464,252.662,1825.987616,0.32057,146.034,751.809,1020.2,1066.989,249.327,30933.979,1606.644,1924.661,14516.130000000001,3192.1719999999996,7615.748,3724.202,12838.369999999999,1.754,6003.893,4830.0,480.0,480.0,480.0,8319.0,1.66,5594.0,4043.9999999999995,578.0,1.0,948.0,596.0,194.0,33.0,34.0,7.0,91.0,3.0,null,null,7456.0,648.5,648.5,648.5,3919.406,3735.947,120.0,2085.0,2085.0,27.900000000000002,43632.0,17.0,371.0,4617.0,10488.300000000001,1587.0,263.0,69319.0,6751.9,54240.0,2810.0,61216.0,42661.0,60216.0,24042.0,1322000.0,7480.0,12302.0,1.0,324.0,615.0,551.0,1214.0,45400.0,62.0,94.0,18.0,1151.0,11.5,465.0,717.8,2402.4,2402.4,2402.4,0.04,0.421264,0.001546,8.614,6.524,0.19235,0.003,175.228,66.234,0.001624,47744216.5,25393374.599999998,0.5565,107181.70000000001,1938.6000000000001,1738.8999999999999,760.3,230.6,1387.1716,1511.9693,4078.7849,37144.2,16075.3766,83.2202,3778.2005,2357902.3000000003,136065.0,0.1421,177577.5,23030.0,3.5100000000000002,3.5100000000000002,3.5100000000000002,3130.0,20.0,398.0,398.0,5585113.3,2785959.3,419725.7,46947.899999999994,38247885.4,18511285.2,2143440.8,45056.0,1.1762,3.4528,2.051,1.6385,5866.2,1471.8,38.6,28.7,3239.101,419.5275,191.593,8.7578,24.8419,5.6727,0.5549,14844.75,157653.4,1519.905,null,17.701999999999998,8.373000000000001,1.268,53130.553,5387.342000000001,538.734,22426.133,22225.925,10260.0,34.9,22.700000000000003,29.8,12.8,119.2,81.0,57.7,1.0,1.8,1.02,0.71,2.54,0.31,9.321,17064.189,287.64,2.57,135.59,10135.0,1138.0,72736.0,227900.0,136700.0,7202.9,0.8,67629.90000000001,17236.4,1723.6,15.100000000000001,4.4,58.2,32.4,0.9,13.899999999999999,8.9,23691.5,2369.2000000000003,2.4,1.2,0.9,0.861,0.386,5222.758,6592.042,0.185019,0.186,0.106,1814.787,1793.8970000000002,1793.882,39435.299999999996,3938.313391,12.435022,0.016355,2.2520000000000002,14.321,0.372038,217.587,0.012046,7.637,17479.082,14.0,3.0,1.0,1.0,1.0,1.0,null,76363.0,79906.0,77497.0,0.6315,0.4402,78542.90000000001,1614.6000000000001,1471.7,77.7,11.6,3.8923,0.8507,13.7519,0.8953,19.758,24.0,13.0,23450.0,0.03,62.29,5.257000000000001e-06,346.113,11.1559,57704.4,2.8918,664.0,480.7,607.5,359.3,45.5,842.5,12534.0,6558.0,7570.2,17567.2,172658.80000000002,36772.799999999996,915.8,3249.6,5479.4,4.5321,7.7377e-05,28297.0,18372.1,24169.899999999998,495466.3,1234158.3,65182.2,0.7,41.9,28771.0,19132.0,24402.0,6808.0,143060.0,114091.0,6578.0,51936.0,20540.0,5.8,73.22,134.91,1.9679999999999998e-05,320.0,64.69,1503.66,3905.0699999999997,444067.20999999996,1213.57,200.76,3172.34,196.98,3774.9799999999996,2545.3,1320.3400000000001,34.68,2251.54,3241.7,71300.0,0.01031,2.79,37.089999999999996,6.58,67160.24799999999,33580.123999999996,13432.050000000001,58451.95,30548.300000000003,12643.99,2059961.006,4.33,3.03092,0.75,0.01157,1.83,0.45,0.01,4830.0,42020.08,22701805.458,11589570.0,653263.8149,523299.99999999994,48441630.0,8184140.0,7605.72,894400.0,1052180.0,3517.0,15.87,15.95892,0.8400000000000001,43.97,500.0,1.2,0.2,300.0,300.0,0.2,23051400.0,40100.0,1900.0,532.9000000000001,29704.6,7.28169,3.3108,10.94164,472.0768,7600.0,13.3,16300.0,2.0,400.0,4200.0,1000.0,800.0,22400.0,39400.0,5400.0,5800.0,0.5,50.0,800.0,3788.6000000000004,965.6,96.60000000000001,19.0,9.5,4.0,163413.0,189.79999999999998,1441.4,7.6,248.9,3594.0,9613.0,2584.2000000000003,2473.0,4728.0,7862.0,1474.0,4317.0,486.70000000000005,314.59999999999997,416.1,325.90000000000003,0.2,52448.5,149721.4,42153.7,76513.09999999999,8604186.644,44498.9,3245.0,757.3299999999999,11124.7,3171.05,317.11,746.29,6455.21,6436.77,396.89000000000004,17191.43,516.16,2278.48,1835.1599999999999,7681.3,91005.0,4981.82,347.56,1976.46,1540.14,297560.09,53013.0,228509.0,236685.0,321075.0,15142.0,14653.0,2000814.0,1000407.0,150061.0,10.0,3.0,29.0,32726.0,132.0,8428.0,9726247.0,5565.0,0.432,0.18,57.0,53.0,268.0,501.0,672.0,831.0,1204.0,1139121.0,838121.0,544121.0,3.0,45.0,626.548,3470.0,673.0,231730.0,239261.0,37145.0,26554.0,147279.0,191160.0,670.0,392.0,2017.9999999999998,20451.0,15564.0,409.6,40.099999999999994,22589.4,16985.399999999998,119.8,10884.800000000001,4605.0,1316.8999999999999,3315.3,882.0,882.0,882.0,1711.0,640.0,286.0,669.0,67.0,14.0,5518.0,1.25e-05,59991.3,4722.8,2583.8,13284.0,0.2,12260.0,10796.0,16433.0,11670.0,6738.0,1732.0,1800.0,2041.0,747.999,3412.74,0.154075,4078.2619999999997,1610.978,1159.74,12.136821,575.508,195.19,1159.74,384181.19200000004,605.801,605.8,86.195,194.22,221.06,20260.0,3758.58,274.508,194.166,3564.399,11109.492,15005.864000000001,1697.203,147.65800000000002,11878.368,2364.9300000000003,22218.984,47468.184,10602.972,4542.468000000001,1.761,171265.19999999998,35967.9,0.065,3.1678,0.0121,0.6,9.1382,0.0935,0.0603,0.3997,1.4,4322.099999999999,7987.0,1458.0,5376.0,2914.0,13285.0,10633.0,0.522,127.0,270.0,125.7,0.0054,16742.899999999998,14929.5,10931.800000000001,139.4,77.89999999999999,0.1,6790.0,28171.0,3658.7000000000003,4162.6,3700.0,4856.4,6012.6,423.0,4.0,1229.0,0.001,938.0,1.7047,4.5175,29.7563,1843.0,5.9862,8.0515,694099.0,5323.8,58067.9,4.018e-05,1396.0,3528.0,4794.0,5267.0,1946.0,6555.0,3930.0,8818.0,3355.0,1725.4,489.0,139.3,38750.0,8360.0,6920.0,4.7,0.9,3080.0,179.7,3765.415,6113.1,5677120.0,177.67,2.0,43.8,916.3,51.0,11097.0,12222.2,11952.0,22819.199999999997,9577.0,36910.8,300.0,2600.0,0.2,1300.0,0.03,0.8,30000.0,500.0,30.0,0.1,100.0,100.0,0.004,0.0001,0.01,1400.0,1400.0,1400.0,400.0,2800.0,1100.0,4454.1,5965.8,81.6,291.8,139.0,68.1,383.9,383.9,2712.1,102.7,20439.7,551.1,607.3,1005.0,900.0,4754.2,18203.2,10540.7,4100.0,40.0,36800.0,4400.0,2400.0,120.0,600.0,4200.0,96.19999999999999,2200.0,1400.0,9400.0,15200.0,240.0,11140.0,100.0,1000.0,2300.0,900.0,4900.0,0.3,0.5,0.3,0.3,0.2,2.4,0.2,0.8,600.0,94.2,55.0,88.2,1300.0,200.0,0.2,0.1,0.1,0.06999999999999999,12494300.0,300.0,804800.0,607900.0,316500.0,0.003,0.01,0.2,0.2,3.0,1100.6,61.9,22.4,29.6,1.0,2200.0,1900.0,1780.0,344.0,948.0,184.79999999999998,620.0,15540.0,0.8,23800.0,13200.0,2200.0,600.0,3000.0,1800.0,400.0,28900.0,1.6,2900.0,0.3,3.9,0.2,0.2,1300.0,3600.0,1400.0,900.0,0.002,0.03,0.005,0.0008,20.0,1800.0,1462000.0,2400.0,1.0,100.0,100.0,84.4,39.100008,81.4,546.7,136.6,230.05,1.15097,7100.0,31900.0,4300.0,15200.0,2200.0,6100.0,61200.0,1400.0,99100.0,3300.0,1500.0,1300.0,17100.0,2000.0,5700.0,1400.0,8800.0,1400.0,1600.0,12000.0,23000.0,8600.0,17.083000000000002,1.42,942.477,5123.649,6313.452,959.173,4237.0,4.5,5479.0,2580.0,2.64,0.25999999999999995,504.2,867.42,19488.18,8999.0,0.006082796,2.4,2.4,2.4,107.0,46.0,3.8,3464.5,476.0,739.1999999999999,157213.69999999998,4048.8999999999996,5348.7,6067.3,29.9,683.9,33.099999999999994,79.8,1056.6,1044.6,8095.4,1410.1999999999998,0.014,3190.0,3190.0,14530.0,6690.0,4440.0,203.0848,26.6549,420.7663,5800.0,5534.5,5.293,3285.0,175.0,224068.09999999998,108191.40000000001,152.0,190.1,1197.0,0.5,1.2,2.4,4585.200000000001,4075.8,5349.400000000001,6623.0,4238.400000000001,944.0,483.0,53223.0,49357.0,162.0,0.02,20.0,0.43,7393.5,20357.0,16016.100000000002,3e-06,700347.0,32100.0,7.98,2640.0,5332.0,1265.0,214.0,23752.0,6754.0,675.0,0.001,0.002,0.0002,743053.8,3140988.0,1405033.6,4101.01,3286088.0,1136.8323,515693.13,18020.339,34030.880000000005,1262333.5,1900.0,25400.0,0.383676,0.000472,1.914,0.124037,0.25999999999999995,0.045425,4.677,1.6800000000000002,0.127,3376.732,1901.054,1156.6879999999999,175958.66,26697.176,290028.412,158666.171,13045.211,null,25.518753,13.4,395.6,29.8,113.10000000000001,1512.7,174.8,7864.3,108.5,8.9,13.899999999999999,3183.2,10.9,4447.099999999999,33.300000000000004,48696.3,25.9,288.2,13570.0,3289.0,9046.300000000001,622.0,57.1,29194.5,23779.0,4202.0,3.457,0.089,10.09,6.1000000000000005,27.400000000000002,395.6,40.599999999999994,1512.7,7.5,208.1,6.1000000000000005,2000.9,15.2,3183.2,74.64,4447.099999999999,11095.0,29253.2,55.0,435670.0,null,1774.0,0.54,0.0021,0.0014,0.0014,0.0037,0.0015,0.0013,0.0012,0.0012,307.818,4.938,0.0012,0.0308,0.1727,0.2081,2.258,15.4484,1.2389000000000001e-05,12625.131,19.042,4.804,9.876,109180.0,27300.0,0.002,0.004,214.2,1581.6,929.2,1523.63,389.6862,4080.7000000000003,4080.7000000000003,8290.0,4.7,0.01,140.0,77.0,35.7,1.16,4910.0,629.0,8460.0,384.0,384.0,37237.0,10058.0,999.0,0.2,2.7,19.1,200.0,3e-06,15.0,4.0,5.7e-05,0.000115,6.6e-05,0.03,4342.0,0.000124,0.000166,0.000102,0.0001,0.000179,0.000184,0.000269,0.000108,0.000242,160.27,566606.0,4346.0,1900.0,3600.0,26300.0,null,4000.0,7100.0,null,3600.0,4e-05,3e-06,1300.0,4e-06,0.0009,1400.0,318.5,0.002,0.0003,0.004,1197700.0,4003.9999999999995,7102.0,3600.009,1307.0,38100.0,8300.0,11400.0,1400.6000000000001,40.0,6700.0,100.0,323400.0,4000.0,700.0,200.0,30.0,39500.0,130900.0,49200.0,1201.0,5306.0,2403.0,5606.0,2102.0,19041.399999999998,80506.0,36006.700000000004,0.020002,105.107,84206.0,15.2011,29.1016,461.729,32302.7,0.0001,0.0001,0.0001,0.07,1900.0,3500.0,0.0002,0.0001,0.0001,138.6,65726.0,278020.0,12777.0,64.525,362.93,290720.0,52.594,11.466,27.952,15.288,100.548,30.853,33.053,45684.0,1594.8,24232.0,111659.0,1920.0,3510.0,1600.0,4600.0,3100.0,4054.0000000000005,167480.7,1221.5,201.5,3920.33,1326.0,24.4,2377.0,1172.0,1480.0,402.0,1172.0,0.13,12236.5,8122.2,6111.49,23600.0,11900.0,164.854,204.34,51.214999999999996,33.638,6122.639999999999,533.076,992.0,1420.8,9.299999999999999,19471.2,4627.900000000001,4792.5,0.05,0.002,18367.2,1449.0,33.2,960.4,33.2,324994.0,1769317.0,3897.3,87.5,0.4,87.5,55.199999999999996,233.1,34.5,1.9152,4238.6,5891.3,14133.1,31004.899999999998,3547.7,8001.599999999999,6990.3,6478.3,7484.0,13980.3,34444.299999999996,4924.400000000001,4352.8,2.6,5.0,1070.8,3597.2,11627.0,467.6,14.8,324.2,10.200000000000001,44.0,29.6,42.6,1064.8,972.3000000000001,365008.0,179289.0,69848.0,58653.0,36704.0,22474.0,6633.0,663.0,200495.0,95207.0,44630.0,53.0,27.0,4.0,697093.0,46748.0,44264.0,16375.0,53.0,27.0,4.0,18450.0,28633.199999999997,0.069,25.0,285.148,0.08,0.16,1122.0,1313.0,1275.0,2242.0,2624.0,2548.0,49.546,29.656,0.019,3039.6,29630.0,14.536,1.0,4.96,4.725,13.621,0.0498,9.4,293.138,0.24899999999999997,0.438,29430.0,7945.0,8795.0,790.0,10917.0,5310.0,3108.0,9848.0,5500.0,2548.0,1878.0,5047.0,2555.0,1.0,1.0,37230.0,162678.9,8848.3,8848.3,27650.9,19170.8,27700.0,47743.281,138916.85799999998,12334.756000000001,90.792,22.699,9830.0,0.02,79859.0,70985.0,2.809,14.703,7.708,16.181,6.146000000000001,0.224,3200.0,57.0,36.31,208.76,0.13999999999999999,7.92,0.531,0.363,1.5050000000000001,13.606,2.509,4424.1,880384.824,7.747000000000001,7.747000000000001,12988.0,8267.0,7545.0,9939.7,12581.699999999999,3090.0,191.0,4374.0,5441.0,7054.0,7e-06,0.00023,7895.0,2.02,476.55,108.31,1443.1,4359.0,2561.4,0.014,13930.0,2031070.0,1014.0,1.426,12.9,2.2,13.0,143.0,3.37,9.860000000000001,3151.0,0.099,19.5,129720.0,64860.0,9729.0,253.0,5939.0,4696.0,6.21,0.485,3.98,65.85,35.0,32.0,0.51,150.0,0.15,16.0,8.0,24.0,12536.0,47.0,39.0,18710.8,48.0,72700.0,121200.0,69870.0,34500.0,20020.0,186880.0,178931.7,95.3,3166.9,3125.1000000000004,3125.1000000000004,95.3,4642.599999999999,900.0,2390600.0,176100.0,59412.0,18204.0,14827.0,4.056,729.0029999999999,3970.585,4889.499,736.0980000000001,2544.0,1245.0,180.0,0.00886,4583.0,708.2,2035.3,58577.8,109481.3,1429.6,74533.4,113870.59999999999,158750.0,198755.59999999998,167580.0,8783.0,26242.0,753.1,187.75,6600.0,885.0,84932.1,56136.299999999996,107.1,107.1,107.1,185014.0,5123.0,35615.0,1530.0,1.017,287.6,52.699999999999996,0.0292,36781.4,1830.0,117.0,126.0,117.0,777.0,25100.0,20500.0,3620.0,256600.00000000003,172900.0,1025800.0,1247.0,155820.0,807300.0,12.3,6860.0,30059.0,58.0,5.50452,3.0,9867.0,64072.99999999999,52580.0,46723.0,0.2341,9874.0,123274.90000000001,10613.300000000001,75021.20999999999,1166.0,5454.0,1178.0,4820.0,57052.0,2702.0,84133.4,279.1,279.1,279.1,56470.09,4112.0,1252.0,3968.0,42715.0,0.4865,297.0,41.0,41.0,41.0,6.0,6.0,3.42,3.42,3.0799999999999996,1297.1,0.8805,0.0012,128411.0,396.2626,86.0443,77.422,0.03,274.88,4.33,4.33,400.4,189.4,59.53,316.0,316.0,316.0,2500.0,2052.0,0.1,8.4,495.0,7.0,13955.0,13955.0,27330.0,12.06,2.7,17.0,120.0,35.15,15.45,10.0,2472890.0,2000.0,4.38,500.0,172.72,1750.0,607.0,16650.0,1.32,26.45,17440.0,1.0,299101.0,3836.0,10416.0,204235.0,203387.9,133996.80000000002,458596.8,390876.8,705944.7999999999,1774.0,1774.0,5732.0,448.0,448.0,5732.0,7.0,0.8,8.0,0.5,12050.0,18.634999999999998,7.420000000000001,20.2,53.400000000000006,44.5,34.3,29.4,1323.6000000000001,2.17,3914.977,1.833,2.17,1.3619999999999999,29.619,0.524,10078.794,3668.2000000000003,1.0,0.008,87834.71,1180.0,990.0,5018.0,60.0,1440.1999999999998,1382.6000000000001,1296.2,9641.169,3365.0,122989.3,32250.0,2320.0,7000.0,563.0,563.0,10258.0,6.0,10546.0,9.0,18.0,11.0,10605.0,20802.0,19.0,2501.0,19.0,6390.0,10614.0,20808.0,8902.0,15136.0,3e-05,0.0018,1.3,1.3,1.3,40959.0,11019.916000000001,1903.375,100.766325,11607.2,79.69999999999999,6010.0,257040.00000000003,732.0,35364.0,4410.0,4410.0,4410.0,376.0,376.0,3189.0,26.0,66293.0,5454.0,16040.0,25.0,25.0,3056.0,22381.0,3220.0,3.0,11934.0,23796.0,9395.0,4850.0,14235.0,354262.0,91697.0,144777.0,29687.0,20366.0,67735.0,314.0,138.0,138.0,1034.0,1122.0,1122.0,1122.0,261449.0,77.0,446438.0,1111.0,159767.0,228130.0,190059.0,44309.0,115784.0,482.0,3117.0,20.0,20.0,838.0,838.0,838.0,18.0,18.0,2.0,312.0,1.0,1.0,214.0,2.0,2.0,636.0,635.0,209.0,110.0,250.0,18.0,6953.0,11574.0,4.0,8927.0,9812.0,1922.0,5355.0,476.0,2.0,48.0,7523.0,1.0,4577.0,1.0,1333.0,1768.0,266.0,832.0,105.0,549.0,549.0,549.0,105.0,2728.0,1883.0,571.0,263.0,930.0,2000.0,2000.0,2000.0,5790.0,5790.0,5790.0,6500.0,26.256999999999998,142.844,175.986,36.0,26.668,7.132000000000001,38.672,32.120999999999995,0.23900000000000002,7.4910000000000005,125.941,683.296,842.543,155.79999999999998,129.239,1157620.0,1040.0,51078.0,8840.0,296.861,284.986,267.175,2500.0,1291.1,408.523,392.286,367.92900000000003,168391.2,5541.299999999999,112299.9,13986.4,9914.8,33976.3,9661.6,966.164,24055.2,6840.4,684.043,39.6,39.6,23.0,1730.0,8930.0,7.0,5920.0,8.0,1.0,8.0,7.0,738.0,4.0,2527.0,4726.0,5172.0,2866.0,5283.0,2524.0,13288.0,1886.0,1576.0,4835.0,21900.0,12214.0,58.0,345988.80000000005,576648.0,40695.6,81728.6,41789.700000000004,72478.8,139.6,2.0,245.29999999999998,2.4,1264.3,2009.1999999999998,1123.8,1475.0,1826.2,9570.0,0.8,16550.0,11770.0,239.0,23591.0,989.0,800.0,800.0,200.0,72200.0,198900.0,10600.0,33100.0,45.0,18278.0,4045.2000000000003,13701.4,3588.5,290.0,443.0,443.0,443.0,3.0,5288.0,681.0,681.0,681.0,665.0,8.0,6.0,52829.0,4369.0,180.0,180.0,180.0,10.0,1010.5710000000001,100.34,175.0,120.0,300.0,80.0,60.0,730.0,23400.0,4900.0,1070.0,318.0,6.000000000000001e-08,216.0,191.0,1.0,4.5000000000000006e-08,2688.0,2688.0,54790.0,8.644,13501.0,13501.0,221081.5,9400.9,8986.2,14041.0,0.24000000000000002,0.71,36008.899999999994,3327.2,5925.6,9971.4,2971.8,75235.0,1426.0,61.3,66738.0,54963.0,2826.0,552049.22,4942.517,26777.422000000002,33034.18,6311.392,5101.808,534.685,8001.061999999999,413.0,412.6,267.0,720.0,107.2,390.0,2834.5,12357.0,15.0,21.0,3709.0,1783.0,760556.7999999999,1172536.8,0.9,32876.5,3.9,169.4,539.6999999999999,5.6,107.5,1456.6,164.5,44.1,17.0,928.0,4481.0,1570.0,1570.0,1570.0,630.0,1.0,230.0,1182.0,414.0,414.0,414.0,166.0,1257.0,1323.0,202.0,543.0,1840.0,10140.0,3552.0,3552.0,3552.0,1425.0,1303.0,1045.0,5499.0,1926.0,1926.0,1926.0,773.0,2331.0,1.1,2780.0,12700.0,33930.0,13080.0,89000.0,12700.0,13.2,11.299999999999999,1.0,90.2,48.9,123.1,60.4,113.01,183.9,96.8,47111.4,2376.2,6231.6,33649.1,2072.0,2009.9999999999998,718823.0,4820.0,4.7e-05,0.001,0.0208,0.023,0.2,131.0,13.0,2291.0,2786.0,1389.0,147.064,818.339,1000.467,76.753,134.959,15.26,2978.8,297.882,124.0,12.0,1006.0,743.0,430.0,62.0,585.0,213.0,2869.0,5527.0,62.0,50.0,27320.0,930.0,1980.0,99840.0,27320.0,9151.199999999999,3744.6000000000004,137046.8,172126.5,3220.0,38129.2,44.2633,44.309,232.1,9151.199999999999,3744.6000000000004,137046.8,439.0,927.0,946.0,86.0,44.0,14530.0,90.670867,0.039146,0.240406,3411.752,17.4,0.252,0.524,176.0,2.4,87.572,184.17600000000002,39.573,80.861,114.86,636.574,75.506,63.327999999999996,779.301,74.34100000000001,73.192,107.417,216.933,4498.333,4.8,48863.5,501.70000000000005,3498.5,8433.6,1522.2,1522.2,1522.2,3020.2,90.0,547.6999999999999,901.0,7.0,459.0,540.0,4719.0,4757436.0,1340.0,1941.6,20904.5,32309.5,100.1,100.1,100.1,18.1,115653.40000000001,31008.5,28.274,27.144000000000002,25.447,6840.0,2189.0,1094.0,76900.0,20300.0,35500.0,5600.0,30.0,0.006,429.11,135.243,0.05196,81.29599999999999,60.98,4.002999999999999,15.855909,3015.893,66377.369,41282.759,1083530.889,192846.154,826621.572,2807239.67,137853.54200000002,9.842478,5.357995,11.812,19.291658,4.0,0.0064,37.199999999999996,0.0393,0.3825,6971.49,72420.0,8.44,51.29,54.75,182070.0,1740.0,24700.0,13300.0,86.6,149.79999999999998,526.0,97.19999999999999,142.0,6200.0,30780.0,13500.16,2140.0,2828.0,8.5,12920.0,28280.0,931211.0,0.156,0.051,6401.0,8434.0,138.7,821.0,26000.0,12.26,27.0,153.0,11390.0,180.0,1287.0,4053.0,220.0,333.0,5030.0,35.0,35.0,35.0,4391.0,6.0,8.97,18.1,2975.2000000000003,2975.2000000000003,2975.2000000000003,3017.9,693850.0,2480.0,560.0,560.0,33000.0,79.0,2087.0,3053.0,2001.9999999999998,35361.7,33325.8,4465.900000000001,4465.900000000001,4465.900000000001,4465.900000000001,139.9,3295.2,30.5,17003.8,24566.9,5561.7,5561.7,5561.7,2487.0,6.2,66866.7,53840.899999999994,15727.9,15727.9,15727.9,15727.9,36163.9,10300.599999999999,10300.599999999999,10300.599999999999,4502.900000000001,2476.7999999999997,2476.7999999999997,2476.7999999999997,1758.1,41.0,406.61,0.7,4350.942,45.581,0.1633,0.9647,0.00721,0.33382,0.39057,0.41588,0.0794,0.2349,0.5915,1.3645,0.3006,0.7366,0.3131,0.0866,0.4988,0.9347,0.5559999999999999,93.788,27.1197,2625.3579999999997,0.315082,93.78,122.73100000000001,209234.6,53568.3,6046.2,1966.1,1524.23,1012310.02,866.5329,23.3964,34.6613,58.0577,1820.5856,546.7822,2781.5705,1383.853,867.32207,967.0507,902.0607,2839.6282,10713.808,49274.943,806272.9,1.65969,112.528,888.207,621.3,1301.27,392190.58,14839.650000000001,777.0,39.97,62646.259999999995,61679.71,762.7,762.7,762.7,4834.4800000000005,214571.26,147736.79,113.27,162855.96000000002,207689.44999999998,907.98,907.98,907.98,10536.69,176.6,11609.69,369101.16,3835.2599999999998,3185.5099999999998,2067.6730000000002,772.44,12020.64,4767.17,561.23,20.92,11.4,386272.0,0.011676,0.029736,0.892467,0.002432,6.5e-08,1799.766,1573.8000000000002,1483.414,22.319,265.0,9.043000000000001,49.4,49.4,49.4,10292.859999999999,3752.19,3202.77,28686.59,0.013456,329130.0,131690.0,6770.0,8.24,162923.319,22.609,8823.12,3198.381,55.145,551.445,12.132,0.5,0.3,312.004,10.12,0.023,3.2399999999999998,31.0,0.515,6.2,22.0,992164.888,509690.64200000005,56288.054000000004,255.09,784.75,146.42,753.56,790.16,139.34,307.91,146.42,466.12,566.59,620.07,345.27,99420.0,18.0,1.35,16502.0,79640.0,null,null,23600.0,1.2,0.7,14802.0,3018.0,0.005,190.404,5720.0,478.6,2876.1,134.8,833872.0,592996.0,291.4,578.0,375.0,494.0,389.0,10465.0,18377.0,4684.0,468.0,1287.0,23.0,733.0,8.0,9963.0,9963.0,9963.0,1852.0,1119.0,3389.0,2633.0,1224.0,237.337,266.40000000000003,1449.1000000000001,507.6,507.6,507.6,0.155,1.0,2.0,7845.0,2.0,2100.0,2510.0,1496.0,1270.0,4.237,32.927,0.043000000000000003,11.534,11.534,11.534,15686.244,0.027,294.565,9.043000000000001,994.154,389.283,537.065,457.55,401.206,232.41899999999998,2553.0,2108460.0,6556610.0,81580.0,71468.0,109177.0,1.0,1312.0,6689.0,184.0,722.0,722.0,722.0,3555.0,3555.0,3555.0,9.0,1689.0,207.0,1135.0,395.0,395.0,395.0,4.0,11143.0,9971.0,2277.0,4898.0,5.0,22178.0,5.0,6870.0,8090.0,1633.0,4070.0000000000005,56.0,244.0,3.0,11243.0,3.0,3330.0,4170.0,852.0,2110.0,795.0,2.0,10542.0,772.0,3.0,13711.0,3.0,4090.0,5060.0,2560.0,1404.0,12191.0,3750.0,4460.0,888.0,2260.0,1180.0,1.0,3883.0,1150.0,1400.0,750.0,30.087,476.0,476.0,476.0,1483.0,24170.0,5599.0,5599.0,4640.0,1813.0,2217.0,23.7,4417.0,35.7,16.7,42280.0,3552.0,0.00881,4464.0,207.0,412.0,210.0,313.0,4.0,306.7,8920.0,1374.9,201.6,260.29999999999995,71.7,97.9,53.0,628.1,628.1,628.1,6248.5,334.8,91.7,124.39999999999999,5943.1,1.3,69.3,3552.0,8127.000000000001,0.3606,40.0,2720.0,1995.42,16.0,24.145,38.433,2.449,354.467,64819.99999999999,286.7,145.1,67.10000000000001,274.0,9244.0,72924.8,4905.0,2909.0,62137.0,10282.0,2089.5,423.3,103.3,230.0,19530.0,11510.0,5290.0,620.0,461970.0,169360.0,16940.0,517.0,7.927,3.068,18927.0,489.750708,3141.2,88.0,14886.8,2224.0,1661.0,33147.0,30253.0,0.3,12.0,59920.0,147.0573,0.3,7.2,0.4,0.9600000000000001,37408.8,177902.80000000002,0.001,157.056,0.001,16782.74,1.0070000000000001,789.7760000000001,789.7760000000001,789.7760000000001,2277.8109999999997,0.001,41.358,6589.719,0.025,0.001,11.5,568.0,106.1,4218.3,46.9,166.3,232.6,9248.6,240.2,1306.8,457.8,457.8,457.8,1637.6,65.9,6765.1,30994.800000000003,39332.4,10510.1,10510.1,10510.1,4275.0,21984.8,302.9,12059.4,20919.399999999998,96034.09999999999,361709.8,32578.1,32578.1,32578.1,13248.900000000001,31940.5,440.09999999999997,28.8,363.70000000000005,1978.8,693.2,693.2,693.2,6353.5,87.5,15402.4,75424.40000000001,719684.8,25921.1,25921.1,25921.1,10482.1,238.6,9514.900000000001,2906.8999999999996,40.0,0.47,0.47,2390.6,12450.5,4328.299999999999,4328.299999999999,4328.299999999999,269.1,14109.400000000001,214618.69999999998,130328.1,33215.8,3321.6,4.0,989106.0,0.02,1071659.7,1201905.8,3687.7,9524.4,0.0583,0.0224,17434.100000000002,17434.100000000002,9524.4,345474.5,35370.161,7754.937,16203.443,194736.0,68157.6,630463.1399999999,9733.4,56706.460999999996,19066.943,124249.857,240371.175,89014.896,4.886138,49.804,14803.0,6170.0,865.504,5394.0,32626.4,230634.0,43530.0,0.920004,3.841,0.1,79612.0,79299.0,22482.0,4424.0,443.0,42.37,42.37,24.89,24.89,54850.0,54850.0,9237.5,1166.9,1061.3999999999999,306.50899999999996,305.742,3.8506,3.5832,330.6,4.5798,0.1652,null,149288.19999999998,32531.7,0.409,1.0415,20.4477,0.5351,12865.4,12865.3,12865.3,113.5,14679.0,426898.5,0.1581,114.0336,4177.5187,103.2468,15825.0,21900.7,23449.899999999998,2929639.2,444447.0,0.2,3.4,188.29999999999998,1103.2,9.1,242.60000000000002,18104.16,90520.79999999999,18104.16,18104.16,2956.0,5647.0,2166.0,122.1,1814.2,163.20000000000002,11561.400000000001,441.5,165.0,1822.7,164048.69999999998,408.6,435748.4,2.1,749.9,295.70000000000005,10.5,489.4,0.7,47.7,2132.5,5524.5,11588.800000000001,889.5999999999999,11705.6,1627.1084,1138.1805,901.0,614.6,12842.5,847.1999999999999,2539.0,2898.6,3341.8,177701.0,52315.0,3744.4,549.4,10100.0,265178.0,877.1999999999999,379960.0,174110.0,76360.0,1780.0,13470.0,2722.0,1058.0,3188.777,6226.232999999999,8302.118,12945.0,1913715.0,956857.0,143529.0,741726.0,1378.0,20.0,12965.0,773.0,656.0,199.0,160.0,1128.0,400.0,249.0,52003.0,22147.0,399.0,544448.0,0.0319,1.7,3.6068,0.7361,1046.7,0.0071,6.0,164.6,456.4,304.09999999999997,4.0,1380.1000000000001,174.0,2300.1,33.933,28.0,6.254,6.2,49.874,10.126,7.041,0.322,11.518,1.501,15.182,205137.0,11718.9,895.0,1.385,25.43,0.0185,0.4198,558.8,111.15,852.8,4059.0,1522.28,1789.0,28.33,8.8,4927.0,3173850.0,129551.99999999999,1380.1000000000001,2300.1,28.400000000000002,5.4,0.2,11718.9,40.0,940.2,2900.0,142680.0,448551.0,1694.9,449.2,60574.7,21.1,944.5,34513.8,7.14e-05,811636.8,162.5,162.5,0.2660413,287.8,34377.4436,5948.7,132.3917,36787.100000000006,38236.5061,117.5835,9019.1,5916.4841,4880.7,1.41e-05,261281.99999999997,228751.2,211267.59999999998,7.9,1212.3,0.3248,2622.5,1782000.0,5334.0,356.866,406.7,678689.0,3.065,853.9,4.687,9071.199999999999,204488.5,191383.7,190919.7,1150.9,747.1999999999999,983.0,774.0,7417.0,8260.836,1528.892,184658.0,12375.0,106968.0,15818.0,19576.0,27.91,52116.0,13291.800000000001,11040.5,24553.029,69093.40000000001,124620.0,146612.718,1147.8999999999999,24553.029,50935.4,177149.192,0.116,0.005,0.189,684188.892,194708.064,19470.806,37216.846,24966.16,0.149437,0.015318,0.155,0.13699999999999998,0.311351,0.762,0.002,35350.717000000004,918.625,0.024291,0.006091,33.159585,11033.785,111.462,0.012606,280863.0,114540.0,1042628.9999999999,275978.0,27598.0,910.0,553430.0,30705.0,1867004.0,100450.0,978423.0,58252.0,759823.0,7553903.0,5858.0,180916.0,7728944.0,405210.0,4235610.0,1158.0,0.4282,18388.0,54.699999999999996,0.21000000000000002,240.4,1.5832,13895.6,106000.0,7110.0,3.01,4.14,21.0,20.9,3.92,1730.0,288000.0,5320000.0,3e-05,0.01,17.0,6e-05,0.0001,0.0001,0.0001,0.2,0.04,402.1,0.504,1810.5,70.42,805.2,80.52,0.4021,2.3106,10.084,1910.5,0.30209,0.07042,0.20105,0.10063,0.06031,0.06031,0.6042,0.06031,0.07402,0.20105,302.08000000000004,10.363,200.94,20.105,704.2,0.3,2655.3,721964.0,15608.0,7109.0,0.001,0.011,0.132,1.0,0.003,1.0,3979.0,1592.0,4996.144,83.969,12637.304,6.298,293.891,181.0,5.0,13.0,42.0,0.469,58256.0,0.469,20873.0,17035.0,1750.0,173.0,14200.0,61585.0,null,null,2705.2000000000003,11320.7,5110.299999999999,11820.7,64.804,4509.299999999999,2531.0,11068.0,61299.0,31765.0,1964.0,63.0,0.01,0.3846,14.245000000000001,26164.0,618.0,0.422,7.6,7.0,280.0,103.0,476.0,0.15,172.5,115.0,14.6,483.0,5544.0,2.387,5450.0,1.025,983.0,1649.0,4.476,24.664,12.116,206.0,1340.0,258.0,1719.0,2.325,6.033,0.054,1226.0,0.741,150.0,711.0,15.84,8.633,9.848,3.889,71.0,11.0,296.853,62.203,187.709,3702.659,12176.0,4048.0,40.0,9604.0,6884.0,5103.0,51272.0,43396.0,17264.0,32390.0,92.0,0.777,34.0,19068.0,313.0,47.2073,30976.9,72967.9,18596.800000000003,1859.6999999999998,null,18.1,1.2,13436.400000000001,58747.3,52.2,31.3,2560.0,374.0,3200.0,2300.0,89995.0,12987.0,3575.0,1.8,0.0009,0.0144,0.0032,0.5751118000000001,4885103.600000001,2623.2000000000003,8149.800000000001,10907.199999999999,14572.4,8.8,145.0,83554.4,4714.0,1678.7,17.8,558.8,56490.4,2605.4,167428.0,0.203,39.34,67099.94,39396.5,31734.18,20399.65,254.6795,26678.899999999998,3815.0,3815.0,3815.0,1896.4,0.2,184.10000000000002,776.8000000000001,259.6,259.6,259.6,105.89999999999999,295.20000000000005,4.1000000000000005,184.10000000000002,1001.4000000000001,140.7,5.0,270.0,75.89999999999999,44412.5,64.35000000000001,376.2,41.25,231.0,2137.82,1156.504,156.01999999999998,9.090000000000001e-06,142.245,31.402,5053.0,150.60000000000002,0.00032,2.0,0.000324,398.6,0.0169,1.1396,0.1402,0.0011,0.0142,2.4063,0.0096,0.4018,2.9236,0.6,0.5222,555.276,1020160.0,5649.4,0.3524,0.0092,0.0954,5649.4,510.14099999999996,39.800000000000004,169.6,73.6,49.3,50.36,4439.0,5621.202,496.928,1109.878,28.0,17550.0,1775.0,33067.0,1229348.0,585440.0,299098.0,3341.0,75.103,361.846,3.895,514.0,582.0,154.0,750.0,1366.0,36682.0,5504.0,680.0,246.0,2920.0,6689.171,6.329000000000001,14.35,15300.139,1363.2359999999999,1493.193,10170.0,2110.097,24.436,24.436,3544.0,310056.0,30120.0,23033.0,21261.0,6201.0,379734.897,96780.461,9678.0,16500.0,500.0,6943382.99,0.224154,2900.0,3600.0,0.075777,0.973187,0.475258,8.9,48.7,3.7,11.6,96259.041,3600.0,338404.53500000003,4300.0,51708.307,5.704792,16108.0,1319629.55,51107.0,6.000539,27.776323,18.795462,384.0,2.77,102.8,23700.0,17900.0,65200.0,108900.0,2800.0,4200.0,2300.0,1900.0,400.0,7400.0,11300.0,6300.0,36.75,7800.0,8400.0,5800.0,3200.0,5900.0,3300.0,16400.0,1400.0,143600.0,800.0,7500.0,11100.0,2200.0,35200.0,8500.0,80.10000000000001,19213.6,29257.5,32889.200000000004,3407.0,10247.400000000001,189.29999999999998,2934.6,1893.2,17226.3,25649.6,94.10000000000001,4543.0,81020.0,19497.399999999998,569.0,17892.0,13826.0,687.0,36422.0,467.0,987.0,987.0,28.0,191.0,14293.0,189.0,15723.0,35900.0,8192.0,2829.123,10.0,6.0,10.0,252000.0,0.4,1.4,3.6,96.0,70.0,13270.0,10700.0,101.0,8.1333e-05,9140.0,8740.0,26310.0,21831.869000000002,364.416,29.784000000000002,5340.0,30.0,3.7,500.0,450.0,420.0,null,1477.9,1.5881,9075036.299999999,99279.6,21847.3,6908.9,6908.9,6908.9,2656814.0,2987.0,38972.0,1679.0,31845.0,473.0,361.0,11652.0,14423.0,22632.0,12358.0,6886.0,null,null,null,null,null,null,0.0001,2e-05,5e-06,0.0002,0.0003,30.0,0.7,0.2,3.0,70.0,160.0,40.0,700.0,170.0,30.0,0.7,3.0,5860.0,90.0,4.0,1.0,70.0,780.0,5.0,40.0,2580.0,960.0,0.4,1.2,13.6,2.1,1547034.4,85785.2,123106.5,1333212.2999999998,446037.3,62315.399999999994,1796314.0,143296.0,83793.5,7991.7,4987.8,59491.36,5694.47,2257.39,16717.73,13273.84,6018.61,null,null,393.90999999999997,1864.26,1864.26,1864.26,126.85,393.61,2389.69,2389.69,2389.69,14417.18,204.60999999999999,1587.37,1347.76,132932.25,356.18,356.18,356.18,17613.56,23894.61,888.85,55.83,0.46,125.62,1.03,41.87,0.34,75095.06,613.4699999999999,233377.68,18254.899999999998,7.46,7.46,7.46,11708.49,16091.6,22041.72,14073.61,691.1,970.5,520.9,19.5,11.799999999999999,15.8,9.799999999999999,0.4,5.1000000000000005,691.1,970.5,520.9,19.5,1394.0,1051.6000000000001,null,206804.452,202131.126,1176703.0,2383.0,2383.0,54974.0,12830.0,435.0507,223.31500000000003,202.97299999999998,30000.0,null,null,4265.0,2769.0,3646.0,59078.0,14984.0,1506.0,2688.0,48.0,1731615.0,354917.0,4418.0,2869.0,3774.0,11372.0,5685.0,48209.0,28847.0,2416.42,51322.740000000005,233625.91,334374.47,1151.18,1151.18,1151.18,789154.36,4.859999999999999,70907.6,3741.4,579.26,15777.8,22783.41,4302.23,2714.79,14868.48,1089.97,3369.2799999999997,4659.12,16.639999999999997,1876.2700000000002,81783.45,125521.14,512.61,512.61,512.61,2743.6699999999996,339.18,7520.85,1136.86,32327.18,45796.66,2386.79,8626.810000000001,5553.83,4299.389999999999,29671.12,13284.599999999999,9669.25,367.21,367.21,367.21,8642.09,257.59,531.18,531.18,531.18,1976.66,186.18,271.9,1384.62,192.95999999999998,199.594,1716.463,254.38300000000004,80546.928,799.785,3049.319,107.069,3.266,160237.291,73840.281,44272.27,153.625,7.16,26.384999999999998,209.033,2361217.4420000003,56.527,0.100295,7500396.318,2159.472,4292320.853999999,68.346,10.259983,51.269369,471429.90400000004,1.841,0.669433,0.033472,0.251037,0.887,3.01019,176.52399999999997,0.335,0.502074,3.85,28.431,62675.058999999994,29193.834,6116.744,109.372,18.801,23.372147,12.320247,5.48,4.261908,44.187236,19.018,14786.867,117.677,202.511,58.1,151.74,248.26000000000002,87.283,281.62399999999997,274.113,1523.656,191.11700000000002,487.14000000000004,1755.854,427.935,661.925,35.006,653.926,5392.217,49.855,434.66900000000004,6414.6669999999995,109.372,7548.07,144.43800000000002,25.125999999999998,47.766000000000005,323.124,991.8059999999999,313.016,66.99199999999999,6818.868,8949.768,20.864,135.867,6.590000000000001,216.171,334.81100000000004,6888.589,78.341,20.43,3316.1,142.4,6481.8,150.4,150.4,1038.6,80.8,2820.0,470.0,80.0,4051720.0,1974370.0,1e-06,4.8,2.7,25.0,4453.0,2.084,0.00087,1.0395,1e-06,0.00146,0.031839,0.036856,53526.299999999996,82765.3,3.0,3.0,53.5,98181.0,11.0,56731.0,0.1,6063.900000000001,6063.900000000001,20505.1,4594.0,3639.0,1654.0,1827.93,36629.02,56475.560000000005,6610.599999999999,54.0,187.06,2.283,616.933,5.04,877.1750000000001,352.52,11319.11,15239.28,9666.050000000001,2.77,3801.08,132.49,16763.61,18214.61,26637.98,17468.32,4057.6499999999996,33.15,3.8600000000000003,17.19,2402.48,2402.48,2402.48,664.24,56095.170000000006,86737.45999999999,731.46,54.489999999999995,935580.39,2.77,598.8599999999999,3240.26,1134.0300000000002,1134.0300000000002,1134.0300000000002,12770.35,459.2,87.67999999999999,0.716,7.89,23845.7,2290.54,18.71,2578.08,21.06,1650.24,11.08,2.866,12383.87,17349.260000000002,11189.07,11.481,721.638,174.728,1.427,2564.12,20.95,23.3,13.631,5178.49,42.3,1366.51,11.16,695.0,11.9,756.1600000000001,4369787.65,35698.009999999995,944983.2300000001,1382201.8599999999,906453.1799999999,10208.99,14615.619999999999,9509.63,2099.31,17.15,664.24,74178.26,48780.75,6.75,6.75,6.75,10334.15,4624.1,53.98,237.56,6031.33,130.35,102.34,154.79999999999998,114.45,49876.8,407.46,574.005,919.782,7.514,3.2729999999999997,430.683,548.726,375.47,424.073,16667.47,136.16,1987.6499999999999,16.240000000000002,444.967,11.603,6.577999999999999,475.55199999999996,8.666,402.263,4911.889999999999,40.129999999999995,6081.534000000001,49.681000000000004,1248.1100000000001,2842.4100000000003,494.34,494.34,494.34,2031.3300000000002,67475.51,101442.61,566.9100000000001,47.04,2242.7000000000003,12133.87,2.49,4247.21,4247.21,4247.21,4679.509999999999,1309.9,7126.03,2496.3,2496.3,2496.3,163284.8,755.49,48924.38,38754.81,47.04,8.0,2439.76,12124.37,1.14,4189.51,4189.51,4189.51,1203.1000000000001,6545.06,2292.78,2292.78,2292.78,919.55,216056.0,1709.5,1709.5,1709.5,1614.9,10073.68,37062.89,187.39000000000001,12798.65,12798.65,12798.65,10279.91,449.48,1219.6499999999999,424.34,424.34,424.34,182.2,0.51,47.04,294.02,1599.5,560.32,560.32,560.32,224.72,381.34000000000003,59124.98,285.71999999999997,17811.64,14103.35,587.53,15818.82,38.28,1887.71,3655.79,501.36,501.36,501.36,27485.15,34769.85,1123.6200000000001,1123.6200000000001,1123.6200000000001,1.14,2030.5200000000002,23.09,31211.079999999998,1011.55,786.91,786.91,786.91,257495.97,10540.68,933.53,342.05,342.05,342.05,1725.19,161.42000000000002,25231.17,1018.02,1018.02,1018.02,1740.65,1407.17,496.91999999999996,12592.67,13183.640000000001,7276.2,257.90000000000003,1514.38,7730.900000000001,2677.82,2677.82,2677.82,158.29999999999998,47.04,2645.13,1585.0500000000002,111.72999999999999,3776.0,31.0,379.66,3.1,394.44,4.37,2393.44,12923.15,4523.33,4523.33,4523.33,1814.01,118.5,196.02,1299.4099999999999,6982.62,2442.75,2442.75,2442.75,979.58,10.05,288342.89999999997,203145.90000000002,5416.5,5416.5,5416.5,6391.0,125.0,5913.89,1947.6299999999999,1947.6299999999999,1947.6299999999999,2771.1,618.7,618.7,618.7,309.2,60250.590000000004,163.07,163.07,163.07,199.24,2391.87,12347.98,4285.85,4285.85,4285.85,3335.6400000000003,8088.85,10595.11,2461.0,2461.0,2461.0,1043.6499999999999,7262.450000000001,59.33,1955.51,1955.51,1955.51,18368.35,6394.38,6394.38,6394.38,4333.46,6789.0,56.0,349.1,349.1,349.1,4346.2,852.8,2255.43,11728.619999999999,4076.4300000000003,4076.4300000000003,4076.4300000000003,1310.51,3695.57,1089.4299999999998,1089.4299999999998,1089.4299999999998,7275.88,188.0,591.1899999999999,1146.05,253.61,253.61,253.61,1566.9599999999998,1025.49,7861.17,6243.74,1056.9299999999998,1303.53,2830.09,1.14,105.14,79584.65,4909.92,36841.31,37627.33,2238.0,6197.759999999999,20882.93,4033.4700000000003,710.5200000000001,761.51,761.51,761.51,415.7,281.05,1307.32,375.56,446.57000000000005,446.57000000000005,446.57000000000005,470.83000000000004,549.43,2988.99,1047.07,1047.07,1047.07,47.04,2199.38,39.309999999999995,1295.26,1295.26,1295.26,547.62,2901.4700000000003,1011.76,1011.76,1011.76,2382.73,89.63,47.04,1442.65,7848.21,2749.29,2749.29,2749.29,218.97,1191.21,417.29,417.29,417.29,167.36,4035.9999999999995,33.0,10102.68,51621.77,1811.9,18038.66,18038.66,18038.66,7268.799999999999,306.24,0.57,5714.38,29814.14,10368.26,10368.26,10368.26,47.419999999999995,1179.6100000000001,187232.37,11784.789999999999,891.7199999999999,891.7199999999999,891.7199999999999,20967.05,929.52,929.52,929.52,464.28999999999996,2525.83,884.82,884.82,884.82,55.559999999999995,928.45,5050.93,1769.3799999999999,1769.3799999999999,1769.3799999999999,709.63,4.069999999999999,3182.84,738.0,738.0,738.0,88814.09999999999,813400.0,1675.4,1675.4,1360.0,8558.0,89640.7,87319.59999999999,2522.3,2522.3,4354.0,44794.1,75413.1,38262.0,1026.7,1026.7,4972.1,1640.0,759.8000000000001,493.3,649.0,13800.0,7749.1,0.4,58573.4,8246.3,14965.199999999999,1018.424,62.123,28558.27,3526.14,2641.21,12016.66,3921.02,3921.02,3921.02,1939.91,6.34,5012.63,8534.22,64.66,65601.94,11.0,11.0,11.0,2252.69,105.95,44.41,49091.36,848.33,247.16,1593.21,3739.6699999999996,1243.47,16953.440000000002,445.99,1117.96,2960.0499999999997,452683.73000000004,652.62,652.62,652.62,734.94,40.33,6.0,703.92,490460.56,235751.47,8839.539999999999,29412.45,5048.69,103035.51000000001,3975.2900000000004,125.54,2713.54,156921.01,158.67000000000002,6210.02,228123.7,1465.59,1465.59,1465.59,433.25,3274.5899999999997,2643.0600000000004,1178.08,31.91,169.0,206.0,776.0,5599000.0,1300.0,700.0,4000.0,2000.0,6762.0,2.0,2.0,2.0,186.0,6741.0,16050.0,3320.0,33538.049999999996,0.915847,0.000886,0.21,2.971023,8.8e-05,0.067716,0.001768,23292.799,12444.925,4807.972000000001,87.649,4.54,6.842,73.629,13.542,4.025,25.42,1.314,4.616,73.85799999999999,0.661921,2317.1499999999996,0.015335,49.0,32907.0,41100.0,2150.0,611.0,61.0,1446.0,364.0,193.0,2041.0,822.0,186.0,3475.91,17.25,18353.52,18400.0,7300.0,2251195.5,25.8,303.2639,693.4118,1687.9473,0.5828,51.4802,2104.8,10.4639,50900.799999999996,1247733.0,24233512.900000002,94510.5,29.4964,54.699999999999996,294.0344,1120.6037,111.69999999999999,991.1999999999999,323.0,57.313,0.1684,0.0011,11.6744,2.6,1.7619,226.6,21.4,1699.0,21530.0,21530.0,1.0,0.5,0.1,26284.9,238968.0,2.4995e-05,32763.5,5.0,1587.0,3870.0,3648.4100000000003,20650.521999999997,25103.418999999998,3075.814,368.029,112316.0,12724.0,61284.0,2800.0,872.0,116.52,478239.12,6134.35,230.78,4481.57,48427.0,583.0809999999999,24552.0,229.19500000000002,57488.0,697.8050000000001,228253.0,5216.495,131589.0,2317.677,2039.237,695.0,695.0,695.0,15203.0,270.913,851.913,225022.0,143465.0,16997.238,6566.12,10501.723,396574.0,27317.0,26458.0,27941.0,335.672,240937.0,2343.5190000000002,46079.0,3203.8030000000003,884.107,16.0,16.0,16.0,5672.676,40200.0,460.61600000000004,7.49,7.49,7.49,183.39,1109.5900000000001,null,68.12,415.93,7.3,33.14,185.75,230.33,230.33,230.33,4141.67,7353.85,1406.99,22313.85,87.14,87.14,87.14,9460.089999999998,413.25,221097.73,94948.31999999999,199.02,199.02,199.02,24.34,24.34,24.34,65.66,45.629999999999995,45.629999999999995,45.629999999999995,1997.73,5.28,5.28,5.28,null,5647.15,null,186481.42,9723.46,1523.42,40649.630000000005,59241.02,11202.26,6999.54,38799.079999999994,91.94,31824.739999999998,53.339999999999996,53.339999999999996,53.339999999999996,67689.37,22001.670000000002,959.9,6697.84,5525.87,6.32,12534.449999999999,86.52,102.72,1176.3,3456.0,47.1,415.8,85871.0,6858.6,77.60000000000001,44852.7,61473.700000000004,4005.3,13859.3,84.5,5733.7,25001.899999999998,8431.1,8431.1,8431.1,3529.9,27651.5,8629.099999999999,8629.099999999999,8629.099999999999,4001.2999999999997,44.1,5960.6,12920.9,3477.1,3477.1,3477.1,1840.9,42.3,3036.2,12567.7,4193.5,4193.5,4193.5,1776.3,5956.2,21141.100000000002,6922.6,6922.6,6922.6,2980.9,70.9,10462.5,10462.5,10462.5,4885.5,41.8,17.7,8594.0,7623.0,2361.3,2361.3,2361.3,1170.0,4591.5,5067.3,8.6,588.1999999999999,2453.6,23.0,2030.6000000000001,4318.0,655.5999999999999,655.5999999999999,655.5999999999999,291.0,1.0,773.0,4133.0,5398.5,46.300000000000004,2537.4,1829.6,958.0999999999999,15.7,4341.9,15449.400000000001,4437.400000000001,4437.400000000001,4437.400000000001,4415.6,45.6,4826.7,41.5,7724.2,1777.9,1777.9,1777.9,745.4,7238.900000000001,60.699999999999996,316.59999999999997,4119.5,4119.5,4119.5,24.0,67530.1,243.4,243.4,243.4,30489.3,null,116.54,266.03,9631.15,78.68,111943.79000000001,361.0,2.0,149.0,1.0,2.0,321.0,1279.0,428.0,428.0,428.0,579.0,377.0,77.0,255.0,2.0,139721.0,104.0,224.0,141.0,1044.0,1044.0,1044.0,7.0,1004.0,20.0,146.0,4091.9999999999995,11816.0,628.0,628.0,628.0,3746.0,57.0,85.0,269.0,235.0,235.0,9969.0,39257.0,7773.0,203.0,2.0,277.0,1148.0,1148.0,201.0,28766.92,175529.81,45276.63,134960.56,89517.24,null,100346.23999999999,26015.08,114939.39,29489.190000000002,157544.38999999998,35283.32000000001,171316.82,35738.22,47314.0,26889.510000000002,86113.99,22186.43,45651.62,199180.05,357219.5,81052.06,null,null,null,null,null,3059.23,3059.23,4203.1900000000005,3048.6499999999996,3568.39,2848.58,21158.27,17264.690000000002,3509.41,7613.4800000000005,8622.6,12149.94,140.99,2561.1600000000003,2561.1600000000003,2561.1600000000003,2004.85,280.96999999999997,1528.5200000000002,535.4499999999999,535.4499999999999,535.4499999999999,1395.94,287.16,2578.81,2.96,1626.48,2450.2999999999997,2450.2999999999997,2450.2999999999997,1197.91,1016.82,4792.2,17037.15,1421.14,1421.14,1421.14,7421.2300000000005,2127.98,2127.98,2127.98,527.51,2869.73,1005.29,1005.29,1005.29,403.18,1.14,12652.31,535.8000000000001,3.21,4642.25,173.28,600.34,2192.1499999999996,6094.79,703.68,703.68,703.68,293.28,831.36,321.7,380.64,2070.71,725.39,725.39,725.39,5092.93,467.90999999999997,467.90999999999997,467.90999999999997,10762.140000000001,48.76,3022.69,2489.69,1087.15,3723.75,736.41,736.41,736.41,232155.24,41927.05,1363.0500000000002,2434.05,117359.37,6921.84,254.2,1050.24,2027.11,226.61,1681.08,14753.81,3855.1600000000003,5180.62,3297.06,10.41,541.72,1395.94,525.8199999999999,525.8199999999999,525.8199999999999,2660.54,114.44,27874.510000000002,227.71,408.6,1395.94,8886.17,530.87,2888.02,1011.7,1011.7,1011.7,405.75,331.55,760.22,685.2700000000001,348.53000000000003,9515.26,4849.56,238.12,1395.94,483.48,15613.68,3442.5099999999998,3442.5099999999998,3442.5099999999998,701.02,1395.94,1.05,7606.27,5247.17,5247.17,5247.17,5579.09,2469.97,1395.94,113.68,693.3399999999999,1507.48,39.190000000000005,51486.98,2483.02,2483.02,2483.02,3.15,280.96999999999997,1528.5200000000002,535.4499999999999,535.4499999999999,535.4499999999999,1395.94,0.41,6133.48,9016.7,4054.2999999999997,21939.69,994.1999999999999,994.1999999999999,994.1999999999999,57.230000000000004,280.96999999999997,1395.94,21.64,280.96999999999997,1528.5200000000002,535.4499999999999,535.4499999999999,535.4499999999999,1395.94,521.99,2839.73,994.78,994.78,994.78,398.96999999999997,1.13,8968.84,769281.52,3111.44,2620.07,1106.23,746.5,33963.520000000004,22674.06,7.18,7.18,7.18,4675.27,33.33,2839.73,994.78,994.78,994.78,398.96999999999997,143.87,4677.0,156.45000000000002,115039.91,708797.68,158.0,158.0,158.0,1322.372,1971.297,597.409,4032.21,1005.789,2889.333,2076.347,48437.0,8842.0,8842.0,8842.0,352.636,1627.884,127476.0,297.0,14299.697999999999,63.365,7776.262,5161.771,1046.3210000000001,30111.0,60121.0,1292.0,111.76,26145.01,975.02,6445.47,5348.5199999999995,2319.13,109.44,109.44,109.44,13005.0,9161.0,352228.0,1053726.0,1549032.0,151788.0,151735.0,151703.0,294.465,123.253,69.299,291.036,39.725,60.9,60.876,60.876,474.0,57098.0,33044.0,13562.0,13.056,28.697,3.6879999999999997,3664.0,10045.0,11370.0,2307.0,1201.0,18424.0,672.0,3159.0,12432.0,5312.0,0.002,0.003,41.736,3535.0,7708.0,3774.0,22858.0,1390.0,5050.0,44400.0,1580.0,1390.0,1460.0,1390.0,1370.0,5050.0,7420.0,2220.0,0.02425,0.06026,1.6900000000000002,0.03527,0.57,2.54267,1.1900000000000002,0.75,3.95,0.16,2939.5099999999998,2939.5099999999998,2939.5099999999998,31717.68,3.76339,0.14837,0.00554,0.06999999999999999,0.13521,0.12000000000000001,539.6300000000001,0.04,3.0,3.0,53.5,98181.0,11.0,56731.0,0.1,6063.900000000001,6063.900000000001,20505.1,4594.0,3639.0,1654.0,null,null,6433.0,1834.0,183.0,56881.9,1311.74,396.43,9401.48,1138.07,353.46,715261.3,1556.1000000000001,1556.1000000000001,1556.1000000000001,153416.0,null,27572.0,null,null,3522.0,10278.0,5221.0,102418.0,57080.0,42604.0,909.44,909.44,909.44,3360.41,27.66,5.68,7273.503,517.223,517.223,517.223,252.882,2.6,339.0,0.639,102423.0,51872.0,24031.0,735.0,9.0,184.0,1844.0,1520.6100000000001,152.98000000000002,152.98000000000002,152.98000000000002,33.38,588.0,588.0,588.0,3351.56,601.924,1573.0,3249.0,207.251,1209.5,7.505999999999999,2332.16,14.472999999999999,4142.0,4142.0,4142.0,427.089,2.65,220.429,2506.36,2575.264,2052.0,8558.0,2897.0,2897.0,2897.0,4582.441,7528.644,990.0,3242.0,1022.9999999999999,1022.9999999999999,1022.9999999999999,8.818,20729.0,289.57,128.94,156.23999999999998,279.76,24506.46,64877.83,846.8599999999999,846.8599999999999,846.8599999999999,22398.27,90.89999999999999,47.559999999999995,61695.56,19612.559999999998,8489.41,72.02,145678.84,7699.620000000001,1190.0900000000001,32415.750000000004,46811.79,8840.03,30547.5,12.8,14112.76,4325.89,4325.89,4325.89,15256.34,488.59000000000003,4086.57,3186.34,1458.55,13870.710000000001,1258.1299999999999,1258.1299999999999,1258.1299999999999,10013.25,100593.88,5617.320000000001,1164.3,24437.43,33996.11,6362.75,21829.49,275.84,4236.0199999999995,28164.306,25679.22,3.508,133.988,133.988,133.988,911.07,10.907,66.05,1997.5700000000002,2834.53,76.8,820.32,626.98,1.77,34165.46000000001,279.11,7517.92,10909.42,7133.79,830.82,2620.87,804.49,804.49,804.49,0.91,5153.08,9642.18,5531.139999999999,408.54,2104.67,7882.12,2547.6899999999996,2547.6899999999996,2547.6899999999996,1058.52,1556.7,243.5,6649.58,9519.640000000001,1762.54,1145.51,97737.17000000001,89113.30200000001,12.173,2833.804,37.849000000000004,2915.7099999999996,50186.67,409.99,11508.699999999999,16396.23,10646.599999999999,2576.75,2528.83,308.97,308.97,308.97,3800.4500000000003,34298.549999999996,19104.31,15650.51,506.46000000000004,13958.19,114.03,168123.61000000002,1373.45,39430.5,55614.88,35981.380000000005,150019.83000000002,8314.76,1225.55,36482.280000000006,50659.170000000006,9520.17,32573.98,673.12,15476.720000000001,8084.580000000001,451.07000000000005,133083.49000000002,121340.829,16.575,633.125,633.125,633.125,4016.3770000000004,51.537,278.5,0.62,90432.32,5136.9400000000005,738.77,22979.420000000002,31317.81,5872.0,3936.03,19991.37,19.400000000000002,3642.43,301.52,63359.020000000004,517.5999999999999,13869.15,20174.24,13203.279999999999,17587.19,29034.859999999997,72.6,72.6,72.6,2159.8,848.27,2419.6,716.25,716.25,716.25,9799.27,12474.43,455.55,9125.19,1404.48,1404.48,1404.48,4442.85,138.1,60448.729999999996,493.82,13206.02,19226.559999999998,12587.43,105.66000000000001,713.48,2078.06,620.05,620.05,620.05,18394.05,6064.83,724.24,3972.15,4051.5699999999997,39943.0,750050.0,657660.0,2020.0,6990.9,6917.099999999999,6910.700000000001,1640.0,372.563,372.563,372.563,77372.726,1850.0,1810.0,34280.0,7110.0,70505.142,10374.966,10374.966,10374.966,2050.0,673095.8339999999,508086.534,609470.0,1680.0,68114.587,4522.400000000001,4356.0,4341.599999999999,3870.0,2840.0,121076.72,1810.0,3912.549,3912.549,3912.549,9313.625,24011.037,4360.141,80.0,1410.0,2440.0,2872.8729999999996,2872.8729999999996,2872.8729999999996,1180.0,3470.0,2900.0,2580.0,null,29199.442000000003,4570.057000000001,94.15700000000001,10095.425000000001,20649.808,89.732,89.732,89.732,31325.449,97.256,2391.951,10.238999999999999,554.3000000000001,554.3000000000001,4101.41,5082.68,8842.21,11372.15,7121.18,636.8399999999999,2476.7999999999997,815.84,815.84,815.84,6816.63,241.47,3240.05,578.05,5240.79,20225.739999999998,26271.95,3453.96,16456.11,13.17,5095.807,370.78299999999996,1500.539,507.049,507.049,507.049,208.399,2432.2,809.233,809.233,809.233,350.64099999999996,0.08,2646.666,681.64,681.64,681.64,0.54,3294.84,974.96,64632.38,87013.47,207298.84000000003,320751.46,161.48000000000002,208771.72999999998,107967.29000000001,15.360000000000001,15.360000000000001,15.360000000000001,10516.56,220.15,42581.82,52574.420000000006,117.08,117.08,117.08,5246.65,218.76999999999998,1044.8,1779.6000000000001,8073.0599999999995,10852.28,2031.13,1381.36,6889.26,279.96999999999997,6348.06,2203.84,598.03,1494.58,1219.6,36.26,26.55,2864.572,2500.035,196061.47,9219.77,102915.67000000001,40225.82,8504.16,2448.8599999999997,5226.4400000000005,598.232,0.29,297.44,4213.05,25003.620000000003,1348.8400000000001,1073.26,162919.99000000002,1226.0,68738.48,315.25,16.830000000000002,52280.340000000004,130886.05000000002,1275.813,1275.813,1275.813,38425.30699999999,360.26000000000005,227141.16999999998,276476.4,17726.62,7225.780000000001,null,null,808.1,2624.4700000000003,2274.7999999999997,67444.05,37704.16,102.05,102.05,102.05,20429.79,70.37,70.37,70.37,279.96999999999997,14.11,8.56,3637.28,41.279999999999994,36327.05,24886.05,370.42,370.42,370.42,7616.96,115.23,6073.75,372.3,94746.57,137064.12,1774.8500000000001,9248.390000000001,12961.192000000001,1741.539,1741.539,1741.539,1091.664,163.17999999999998,354.48,14370.46,47.370000000000005,47.370000000000005,47.370000000000005,3767.47,57739.10999999999,40866.439999999995,20.85,20.85,20.85,19544.83,2053.14,1088.4799999999998,1088.4799999999998,1088.4799999999998,8125.93,1727.88,1136.47,1451.41,8500.36,6783.070000000001,1140.5,1409.65,3059.7400000000002,17687.43,30602.18,1878.74,1878.74,1878.74,982.64,326.59,20.330000000000002,75.73,102.38,4699.4800000000005,9504.849999999999,551.1899999999999,4.029999999999999,2016.14,7313.88,297856.55000000005,155495.27000000002,10211.23,44193.39,26.99,7.63,7.63,7.63,1153.92,63064.16,77456.18000000001,1426.5,1426.5,1426.5,13503.8,1066.8899999999999,4172.96,3305.72,1502.3999999999999,155791.13,6.8100000000000005,15296.45,9224.76,5259.03,151525.52,234297.16,634.14,634.14,634.14,2707.71,135.18,37205.18,57598.89,3398.71,2634.89,3280.48,5605.24,312.78000000000003,312.78000000000003,312.78000000000003,38.879999999999995,15784.727,34042.558,11218.258,11218.258,11218.258,5316.78,6.37,5480.2699999999995,3198.56,4.9399999999999995,3631.2000000000003,409.64,3460.3700000000003,3.28,3.28,3.28,5014.87,67.16,33541.86,9.92,9.92,9.92,20.7,20.7,20.7,1449.47,216.54000000000002,905.08,0.64,0.64,0.64,188.62,0.7,1527.211,4.590000000000001,10229.26,1609.28,42605.11,62315.2,11788.48,7338.4,5941.03,40865.049999999996,955.688,1611.378,399.942,399.942,399.942,260.669,0.38,2969.95,5764.6269999999995,896.007,9.67,478.3,2602.5499999999997,931.8,931.8,931.8,373.71999999999997,900.0,10.0,300.0,30.0,7800.0,201700.0,360.0,280.7,1300.0,3140.0,70900.0,2070.0,82900.0,30.0,20.0,219963.0,934844.0,27495.0,0.126,521894.0,246053.0,39362.0,114632.811,8749.954,6368957.0,1259278.239,42.067,2641813.0,527133.0,25364.0,29437137.0,2529064.711,10079499.0,38230.048,31025154.0,1600.3039999999999,1600.3039999999999,845.331,923.904,162.0,96.0,140.0,2751.0,610.0,61.0,185.0,48.0,89.0,7305.0,268402.0,166930.0,153117.0,270364.0,325569.0,null,1241.0,30.0,30.0,30.0,43279.876000000004,3453.095,19548.715,9184.431,40920.0,null,135.3,116.2,17.6,2472.0,158.4,20144.8,20144.8,26.0,22.0,17.0,2843.0,1431.0,49970.572,578.0,3147.0,3412.0,86293.0,2073.368,3123.694,13704.0,1928.1999999999998,220.29999999999998,255.0,3.7973,3.4737,13.3269,1.8856,1310.8,29188.5,2372.9990000000003,null,null,null,75148.61,31.39,5340.89,3703.83,5475.53,3215.08,85.7,14630.0,21947.0,1332273.3,1.4783,528221.6,251130.2,77104.29999999999,9121.5,196627.0,5296.536,5296.536,5296.536,36021.090000000004,1677.019,317.13,36395.8,2314.7000000000003,1662.1,1349.6,1349.6,1349.6,8637.1,21363.5,1443.4,496.09999999999997,14804.3,1842.7,681466.8,435821.9,17104.3,1418.0,557.0,10500.199999999999,235.5,1344.7,6166.8,177.1,3973.8,11929.5,19863.399999999998,6730.400000000001,459.8,33628.100000000006,325.1,929201.6,546776.5,21.4,4968.099999999999,4968.099999999999,4968.099999999999,4.8999999999999995,3590.2,889142.86,1700.8000000000002,257253.0,5585.0,9376.0,99.0,10241.0,730.0,112962.59999999999,3023.2999999999997,7215.200000000001,7215.200000000001,7215.200000000001,28978.0,3417.2,32966.700000000004,245.5,788.0,0.1,7533.2,19804.7,187.20000000000002,16219.699999999999,1547.5,1860458.5,1470929.3,27948.1,17774.4,46507.5,101.0,101.0,101.0,9683.9,83.1,549949.7999999999,11852.1,7235.9,1043.5,892181.7999999999,564099.0,7963.599999999999,10328.900000000001,36427.3,2163.6000000000004,631.1999999999999,27751.8,2750.7000000000003,6274.3,1663892.7000000002,1145195.8,4951.2,107.30000000000001,64894.00000000001,75574.0,326731.4,86043.09999999999,38182.200000000004,1762.1,20657.5,9040.900000000001,835849.7,30.900000000000002,221.20000000000002,11566.4,5154.6,43.1,4234.6,33.9,82.4,82.4,82.4,41.9,4094.1,6214.299999999999,42850.5,14687.8,14918.0,206.5,3412.6,3412.6,3412.6,17718.3,8388.6,192.39999999999998,192.39999999999998,192.39999999999998,109.10000000000001,109.10000000000001,109.10000000000001,118338.7,2590.9,2590.1,2590.0,5643.6,1516.3999999999999,99623.5,1452.9,1452.9,1452.9,15679.7,143.9,13254.300000000001,1023.9,214695.1,65646.90000000001,789.8,789.8,789.8,2555.8999999999996,1745.7,1744.0,1743.8,20792.3,27439.9,0.2,64.0,64.0,64.0,167.6,1894.3000000000002,11645.4,93.89999999999999,10765.5,138686.4,23517.9,1079.6,200.1,27664.7,3358.4,165763.0,396954.9,124392.0,86896.4,38557.1,1727.1000000000001,305.09999999999997,34765.2,2174.7999999999997,2699.1,41522.399999999994,595.3000000000001,143.9,143.9,143.9,2067.8,66.69999999999999,66.69999999999999,66.69999999999999,96656.3,46038.4,64185.50000000001,160.6,160.6,160.6,1601.3,33.6,2868.7,28057.4,1795.8,556.6,20228.8,1563.7,39712.0,153.5,332.61899999999997,32919.974,1068.7839999999999,1557.512,27661.0,45685.0,99.21000000000001,2567.685,189.0,779.4720000000001,28005.396,710.0,3867.0,2320.121,167727.0,24455.475,4527.187,2018.2340000000002,8.93,25.35,2673.982,3037.8379999999997,26318.577999999998,19849.426,247.786,507.649,1117.3999999999999,26.200000000000003,584.5,236.8,4.3,12985.6,14352.3,89172.9,1245.3000000000002,0.4,44300.4,312.8,312.8,312.8,15.0,17961.5,62.4,2228.1,4.6,44553.8,45171.9,138.6,138.6,138.6,1474.6,77.10000000000001,56.2,2107.1,6572.9,126.6,126.6,126.6,6374.82,6374.82,6374.82,2838.67,265.12,265.12,265.12,498.24,456036.35000000003,936.4200000000001,5639.56,4485.41,2477.2400000000002,56.31,6234.860000000001,6234.860000000001,6234.860000000001,17281.75,566.8,4890.13,342595.69,264205.97,2207.8799999999997,14600.27,96109.29000000001,10373.1,10373.1,10373.1,10542.820000000002,4025.1,346.04,3010.1200000000003,2404.3199999999997,1083.3200000000002,9659.07,78.91,null,null,9790.01,16260.86,537.1899999999999,537.1899999999999,537.1899999999999,1856.44,167.05999999999997,4058.84,3490.11,1700.5,321.21,225.59,225.59,225.59,2484.56,176.12,2656.37,2485.05,1277.66,null,null,null,16.04,642015.03,1054501.93,170734.74,135178.38,12340.71,1814.68,8262.5,6593.63,8551.064,786.0,786.0,786.0,21044.538,3177.061,7117.365000000001,10895.822,15444.875,5622.841,9908.277,5780.687,211280.56399999998,22778.109,487.4,2651.3,928.8,928.8,928.8,372.5,20675.012,7816.0,222.0,222.0,222.0,4847.852,null,1614.0,1614.0,1614.0,13118.798,1043.3049999999998,284.15200000000004,37240.0,43875.0,677.0,772.0,772.0,772.0,1288.448,48588.672000000006,3755.2219999999998,653.6560000000001,13175.0,20861.0,1059.0,1059.0,1059.0,1865.517,39338.0,27823.0,3607.0,9066.0,9066.0,9066.0,14344.207,8884.0,9705.0,10292.362000000001,14998.048,18140.701,8416.534,53016.751,6480.0,2317.0,2317.0,2317.0,31307.0,11166.0,10971.0,3499.0,3499.0,3499.0,4983.388,292.548,2839.6400000000003,589000.0,1123800.0,722200.0,3.0,59700.0,59500.0,40.0,10391.0,20268.0,5786.0,6.0,1316.0,648.0,36.0,178.0,4035.9999999999995,3510.0,1790.0,29500.0,24600.0,58624.4,3050.3399999999997,478.92,12708.65,18570.46,3510.14,12171.56,112363.43,510590.59,26527.43,4171.160000000001,110417.15999999999,161525.13,105915.09000000001,440.65,30803.460000000003,32696.52,60.11,60.11,60.11,2523.71,19.849999999999998,25962.230000000003,1353.85,212.09,5649.28,8241.35,1558.25,5398.06,300.073,2546.0,2825.0,2825.0,2825.0,3014.15,74553.0,1592.3719999999998,1.02,895.0,2037.9999999999998,413383.444,3889.0,3889.0,3889.0,26727.578,4379.912,132499.025,165787.582,10005.863,77595.65999999999,8331.38,1946.15,39345.41,70.54,70.54,70.54,19.34,19.34,19.34,131040.79,48061.68,1677.09,1677.09,1677.09,71.31,44.56,719.34,15308.289999999999,23670.52,64.07000000000001,64.07000000000001,64.07000000000001,199.61,10.66,57149.35,10097.74,1608.0,395.67999999999995,395.67999999999995,395.67999999999995,3610.2,29144.15,4316.0,913.2,913.2,913.2,58.63,1996.77,71.59,71.59,71.59,223.07,930.7299999999999,332.64,1742.66,2040.3899999999999,2040.3899999999999,2040.3899999999999,557537.29,200.83,56354.67,49705.23,196.45000000000002,196.45000000000002,196.45000000000002,612.09,671.4599999999999,671.4599999999999,671.4599999999999,61834.78,3224.08,530.67,13518.86,19667.05,1010.34,3711.15,2328.04,1869.44,12877.92,438112.74,21743.84,18497.15,14738.65,109154.15,86666.81,18101.71,35696.46,368333.69,31.41,31.41,31.41,28413.96,16526.039999999997,44.73,44.73,44.73,139.37,20964.0,2160.3500000000004,2160.3500000000004,2160.3500000000004,509.31000000000006,13393.13,1826.79,null,null,394.8,2955.46,3038.79,null,1064.06,32984.0,19177.07,51.9,51.9,51.9,161.72,8.63,587.09,3148.7,1100.31,1100.31,1100.31,1313.1299999999999,35.76,50377.119999999995,271.71,271.71,271.71,33220.49,1849.6,271.39000000000004,7930.11,11132.32,2087.17,1361.17,1035.94,7159.5199999999995,179104.72999999998,203068.43,28864.39,4869.19,3868.64,1743.13,197787.55000000002,11026.970000000001,90.08,2398.1400000000003,3502.2000000000003,2291.9,14516.52,118.59,3139.25,4592.55,3011.25,5456.509999999999,12981.12,106.05000000000001,2807.2200000000003,4169.360000000001,2692.7599999999998,0.34,8933.24,72.98,179781.49,1471.7,56946.41,30149.69,1622.88,246.29999999999998,6526.27,9607.58,1804.13,1124.11,6256.24,4745.78,38.769999999999996,3349.97,27.369999999999997,30630.44,919.57,919.57,919.57,1.03,617.9599999999999,745.79,135709.38,58474.38,4240.92,91.53999999999999,91.53999999999999,91.53999999999999,888.8399999999999,14.19,269.15,3.3400000000000003,1503.11,1382.9199999999998,349.74,17625.789999999997,797.18,89254.31,7657.0,34644.689999999995,9104.900000000001,63.22,63.22,63.22,498.59,2712.4100000000003,950.1800000000001,950.1800000000001,950.1800000000001,381.08,1.08,153.69,577.5799999999999,32484.239999999998,120.99,120.99,120.99,94.8,63.70000000000001,63.70000000000001,63.70000000000001,409.53000000000003,4589.74,18.74,4.2700000000000005,8631.349999999999,383.58,1084.36,57.47,671.43,123946.83,8450.92,181.81,181.81,181.81,566.47,52.13,4126.65,555059.94,218.59,26437.550000000003,455.05,455.05,455.05,1417.83,75.69,14.48,199183.37,0.29,74080.7,23406.210000000003,749.41,749.41,749.41,2179.23,92.31,166719.0,11380.929999999998,40.68,44.57,58.01,722.6700000000001,722.6700000000001,722.6700000000001,199852.94999999998,13626.33,293.15000000000003,293.15000000000003,293.15000000000003,48.76,829.59,379.44,379.44,379.44,1451.53,52370.130000000005,82657.04,1039.24,1039.24,1039.24,12.540000000000001,234.48,766.5300000000001,766.5300000000001,766.5300000000001,941.62,23616.0,1.1900000000000002,156186.41999999998,10649.07,229.1,229.1,229.1,713.81,38.11,8134.38,131.95000000000002,1977.1000000000001,105.55000000000001,445.34000000000003,70382.97,326.25,341.48,92585.73,20571.47,1506.71,9037.0,86040.0,16.0,256.0,256.0,256.0,244.0,765.28,232265.32,15836.27,275.14,627.83,84498.81999999999,5809.97,19.490000000000002,6376.69,221.26999999999998,2793.92,10.13,40.550000000000004,77594.51,6723.77,36570.46,2094.21,1387.6599999999999,1785.43,322.40999999999997,10537.839999999998,8385.06,1417.67,1747.3300000000002,3793.8900000000003,66172.07999999999,14544.0,151.76999999999998,151.76999999999998,151.76999999999998,472.89,25.25,913.0200000000001,43.42,43.42,43.42,35759.16,1400.3600000000001,6006.97,237.09,1268021.34,499575.84,759555.12,921.37,87081.13,3221.77,3221.77,3221.77,3532.58,1344.1000000000001,4865.15,441.03999999999996,15536.69,58.94,58.94,58.94,1585.65,181548.21999999997,4087.86,2896.51,12.8,22424.78,34674.45,93.85000000000001,93.85000000000001,93.85000000000001,790.47,43.22,2850.0,2850.0,176.89,6323.22,517569.67999999993,2865.4,26894.45,2967.82,112006.26,163789.38999999998,8423.220000000001,30981.66,19291.78,15612.34,107391.56,67.91,68674.29,3576.72,593.4000000000001,14938.06,21791.18,4121.11,2572.42,2075.06,14276.87,8710.800000000001,1293.8,16417.739999999998,27639.739999999998,62.330000000000005,62.330000000000005,62.330000000000005,194.20000000000002,10.370000000000001,376.84000000000003,313.25,313.25,313.25,817177.38,805714.6,184.81,9.709999999999999,3387.58,46899.520000000004,9737.869999999999,65441.130000000005,99456.64,264.46,264.46,264.46,45.68,179249.54,269706.45,5318.85,66107.24,169173.26,9022.8,1499.43,37270.479999999996,54095.63,2768.8799999999997,10164.76,6417.82,5121.21,35329.659999999996,5713.56,161627.69,63890.69,223.47,223.47,223.47,2452.66,43.55,535.7800000000001,535.7800000000001,535.7800000000001,151269.08000000002,10313.800000000001,221.88,221.88,221.88,691.33,36.91,657.27,657.27,657.27,12.83,319.45,319.45,319.45,299.48999999999995,20239.38,4208.54,3443.52,46.11,46.11,46.11,143.66,7.67,14926.94,23080.870000000003,62.47,62.47,62.47,197.58,10.5,585.53,585.53,585.53,41.279999999999994,231426.79,41.9,54755.81,2527.19,90.61,90.61,90.61,282.33000000000004,15.07,164.29,164.29,164.29,58.81,58.81,58.81,39.76,3.17,33.31,295.10999999999996,1484.72,512.88,512.88,512.88,632.9399999999999,17.66,43464.56,69885.66,133.17000000000002,133.17000000000002,133.17000000000002,3655.36,33.910000000000004,143669.25,198.33999999999997,198.33999999999997,198.33999999999997,2512.28,34429.42,22641.31,3.13,3.13,3.13,4796.54,17.89,23642.15,7191.18,38.61,297728.19,94226.6,61780.11,170488.96,348.91,348.91,348.91,4831.87,107488.06999999999,15.100000000000001,15.100000000000001,15.100000000000001,61819.82,23422.09,109.49000000000001,109.49000000000001,109.49000000000001,23610.050000000003,41711.11,4.12,4.12,4.12,6308.93,23.529999999999998,15661.22,337.02,337.02,337.02,1049.6399999999999,55.75,30475.11,47122.31,127.53999999999999,127.53999999999999,127.53999999999999,397.39000000000004,21.22,44945.369999999995,367.17,9748.0,14244.87,9333.529999999999,105105.17,5464.16,858.63,22757.68,33272.2,6293.21,3919.67,21812.83,65805.55,39111.82,3.52,3.52,3.52,5382.900000000001,20.07,80.91,55282.71,1077.75,42148.98,4315.52,3727.1800000000003,1.08,1.08,1.08,1659.9299999999998,6.19,48369.68,5964.66,47.410000000000004,47.410000000000004,47.410000000000004,1360.55,12.290000000000001,3059.32,98.72,98.72,98.72,307.59999999999997,16.42,44312.579999999994,76963.81999999999,53511.310000000005,597.0999999999999,597.0999999999999,597.0999999999999,191925.11,185.22,38.339999999999996,43903.99,52970.61,115.02,115.02,115.02,27.599999999999998,481.62,5123.57,60111.54,51788.09,810.78,314.85,234497.59,1027.66,54.86,132.07,132.07,132.07,3063.0299999999997,519995.47,3065.4300000000003,3065.4300000000003,3065.4300000000003,49185.44,7349.54,7349.54,7349.54,637.24,45968.18,6066.99,163.38,163.38,163.38,17.74,3543.73,2007.84,1501.1200000000001,4003.5999999999995,16659.84,24357.32,4605.95,2869.36,2320.69,15963.88,26766.190000000002,41387.369999999995,112.02,112.02,112.02,349.02,18.63,563352.5399999999,29306.59,4602.179999999999,122022.48,178386.05000000002,9174.32,33736.81,21016.26,16998.36,116930.17,3.73,3.73,3.73,9667.74,427058.65,91439.75,6234.530000000001,4940.55,191.95000000000002,99606.18,4330.7,155.28,155.28,155.28,483.81,25.83,0.98,27495.98,21773.24,2.9499999999999997,2.9499999999999997,2.9499999999999997,159.62,15851.27,2.19,2.19,2.19,766.2900000000001,766.2900000000001,766.2900000000001,8156.06,28.330000000000002,28.330000000000002,28.330000000000002,3440.4,1.0,1.0,1.0,1532.2,5.71,205.99,1024.36,66.11,66.11,66.11,205.99,11.0,8506.18,600.39,600.39,600.39,572.9300000000001,113046.34,7707.7,165.82,165.82,165.82,516.6500000000001,16125.96,25255.89,602.42,15.33,15.33,15.33,19692.219999999998,19.439999999999998,90.69000000000001,90.69000000000001,90.69000000000001,19.380000000000003,1178.1999999999998,15.08,198960.58,37817.659999999996,404.2,404.2,404.2,66.33999999999999,204766.65,386641.86,20202.21,84059.83,122734.59,80364.56,208395.78,1702.44,45094.29,65947.32,43238.93,1.0,1.0,1.0,960323.46,49937.420000000006,7845.150000000001,208027.61000000002,304077.00999999995,15640.24,57512.56,35829.02,28977.36,199333.53,86.41,86.41,86.41,598.9,36074.060000000005,46573.909999999996,83.77999999999999,83.77999999999999,83.77999999999999,27.36,1674.98,13.68,10960.0,553.98,2119.1800000000003,688.84,688.84,688.84,47.15,2363.83,78.39999999999999,29151.69,41054.53,4.55,4.55,4.55,6965.46,25.98,544995.18,292.21999999999997,5167.099999999999,186.19,1063.63,34.27,63244.99,4378.47,94.27000000000001,94.27000000000001,94.27000000000001,293.38,15.41,1747271.6199999999,792244.81,6485.05,73.26,73.26,73.26,1036.73,1357.03,225788.63,22979.859999999997,88104.06,6007.09,1766.6599999999999,21.5,629.6500000000001,629.6500000000001,629.6500000000001,12257.81,3796.36,3796.36,3796.36,680827.47,3640.0899999999997,3640.0899999999997,3640.0899999999997,31.52,190.16,1779.0900000000001,483.09999999999997,483.09999999999997,483.09999999999997,7944.009999999999,150608.87,2993.6699999999996,12194.55,4027.0299999999997,4027.0299999999997,4027.0299999999997,5917.25,8.149999999999999,8.149999999999999,8.149999999999999,229.26,119230.0,11393.37,259.62,259.62,259.62,2588.01,101.72,68.66,76.97,237.71,155671.72,10613.98,228.33999999999997,228.33999999999997,228.33999999999997,711.46,37.98,972.3100000000001,972.3100000000001,972.3100000000001,565.8,93.7,22.3,53630.5,128.20000000000002,43.0,726.636,1099.0,16.711,16306.699999999999,161845.5,2627.0,1281.0,13365.9,113780.6,10925.9,544.6,53.699999999999996,281.566,2.318,1854.47,15.266,9950.699999999999,9950.699999999999,9950.699999999999,257776.3,2462.6,12354.6,1311.8000000000002,78.39999999999999,17100.48,24813.7,1906.5,1906.5,1906.5,80828.90000000001,6.3,4846.7,39.9,3262.2,49335.299999999996,854.0,854.0,854.0,1931.687,1931.687,1931.687,2668.8,9044.2,2466.0,2466.0,2466.0,1011.2399999999999,483.56,602.5,9950.699999999999,9950.699999999999,9950.699999999999,318398.19999999995,4.255,7073.082,3906.304,6029.322999999999,7223.746,368901.0,812751.0,1204.0,1204.0,1204.0,98118.59,55.876000000000005,13072.929,2544.3349999999996,8077.0,6756.0,35.0,35.0,35.0,478.495,1400.747,65236.99999999999,17017.254999999997,3480.781,536.098,19579.0,24997.0,49.0,49.0,49.0,374.027,1939.906,22430.0,62.0,62.0,62.0,2329.093,2445.818,25664.0,220.893,1.029,42927.0,73911.0,9868.0,286.0,286.0,286.0,16696.522,606.934,172994.9,239028.1,1805613.8,5554.7880000000005,691.24,1732.674,28893.0,45.0,45.0,45.0,21943.0,278.822,85.2,185562.0,51829.4,598.8,248388.0,47159.0,10588.579,2411.705,79900.0,70578.0,207013.0,2389.388,316.0,3333.059,638.0,638.0,4049.74,7527.793,1840.4089999999999,5.615,213677.0,10332.0,94.0,174.0,174.0,174.0,3417.199,3380.551,2870.75,310.595,29107.9,25378.8,2129.0,2129.0,2129.0,0.252,532781.0,262425.0,480.0,8328.042,298677.0,21944.0,3530.933,10384.267,72.0,72.0,72.0,2454.745,1079.588,429.504,117.0,117.0,117.0,71.03099999999999,1744.5900000000001,4901.256,4932.0,5271.0,472.0,472.0,472.0,5535.45,56875.0,447.0,447.0,447.0,77120.857,3494.326,635.0550000000001,36636.0,28975.0,223.0,223.0,223.0,9442.797,1529.209,102561.5,503.29999999999995,5957.099999999999,488845.3,1024.4,13616.6,3430.0,125.5,46319.899999999994,524.5999999999999,215.5,215.5,215.5,6557.5,300734.0,1967.0,16.0,3194.7000000000003,135.6,1354.3,1354.3,1354.3,9.4,54.0,47.0,1742.1,8899.0,73.0,19.599999999999998,35831.899999999994,118.3,40.800000000000004,65.19999999999999,9.700000000000001,51335.9,58.4,2422.2999999999997,416339.2,4841.0,3.2,41005.899999999994,196.6,193.39999999999998,87145.3,572.6999999999999,572.6999999999999,572.6999999999999,100.5,7729.8,265.79999999999995,2357.7,2357.7,2357.7,1010.5,3781.2000000000003,19.5,1269.2,1269.2,1269.2,519.3,519.5,36601.799999999996,15031.599999999999,21.4,88376.09999999999,122324.1,535.9000000000001,535.9000000000001,535.9000000000001,null,null,80.0,8388.0,69.0,23.0,6819.0,56.0,6974.0,57.0,5805.0,48.0,25813.0,212.0,24493.0,202.0,12914.0,106.0,5817.0,48.0,816.0,816.0,9800.0,18164.0,150.0,8293.0,68.0,11500.0,2.0],\"xaxis\":\"x\",\"y\":[18830.0,19852.2,875.0,598.0,9430.0,2783.0,278.0,0.31,711.73,14269.0,14269.0,14269.0,1410.0,7.8,null,10.0,39360.0,2870.0,22959.0,84.8,400.0,400.0,192.05,15910.0,221.0,2745.0,2224.0,null,5336.0,6460.0,4675.0,3573.0,35.3,0.0,3680.0,10810.0,41700.0,430.0,32229.999999999996,0.1,0.0,264.0,456.0,96.0,8067.0,40794.4,227580.0,136550.0,36900.0,10670.0,0.229,0.229,0.229,843.9,27708.8,11350.0,21430.0,12860.0,457.6,null,null,1222.0,3262.0,19846.0,null,1237.0,621.0,299.0,44.456,749.0,142.0,136.0,3.254,143.0,210600.0,116.0,863493.0,63202.0,1.0981,120.5724,3817.1,0.0678,600.5,4.988,0.9397,160.0,46298.6,55.379999999999995,0.1,343.5,35054.4,10359.1,2987.1,24027.0,1120.0,1120.0,2360.0,10.0,0.4,200.0,96.0,14.0,260.0,123.0,18.0,444.0,210.0,32.0,16.0,8.0,1.0,2186.4,2592.9,28861.0,31000.0,28861.0,471880.0,283130.0,169900.0,47900.0,99300.0,90600.0,53800.0,9940.0,2.895,29.432,54069.0,null,135.751,0.9,24.247,0.026,1.9,46.069,9.0,23.0,17.0,6.508,4.0,null,0.128,3150.3,190.986,3600.0,3600.0,null,null,null,null,337824.0,137.01,9.57,6.34,2.46,7394.54,5620.0,5472.0,25.0,54.0,2.2,11.26,7729.2,173.08,4176.0,23.0,3474.0,3080.0,null,null,3.8,null,null,2800.0,6100.0,2800.0,3440.0,0.1,5172.0,2374.0,1626.0,11630.0,8209.0,null,null,null,null,0.8450000000000001,2.9299999999999997,2.8,1050.0,887.0,867.0,3799.0,2.44,0.0,0.0,0.0571,0.3215,286000.0,9211.7,559864.2999999999,3113.9,3113.9,3113.9,29200.0,230.0,50.0,948.4,3146.6,413.8,null,2921.5,2921.5,2921.5,55519.9,2178.88,6.4,240580.0,38582.4,392.90999999999997,785.752,77164.59999999999,328.49,null,6.068,23.0,100.0,2800.0,230.0,24.6,3.44,51.1,120.0,97.0,48800.0,null,6.0,2.0,1.1,0.5,0.6,0.3,6417.0,null,990.0,156.79999999999998,null,0.18000000000000002,0.1,14.11,0.0,0.0,1496.8999999999999,2060.0,8273.0,null,null,143.3,10.0,12460.0,1.2,51.5,null,0.237,null,8.0,46.0,333817.2,41.0,814.0,1139.0,null,2350.0,70080.0,10953.0,144533.0,1180.0,1000.0,1.18e-07,17945.0,45.449999999999996,2060.0,null,0.0,0.0,325.0,325.0,null,2325.1,4354.599999999999,1008.1999999999999,1008.1999999999999,1008.1999999999999,497.2,4775.709,110.58,876.0,3.0,260.0,20764.0,5534.0,553.0,23.400000000000002,22.0,8482.0,34738.0,385.0,3.0,870.0,null,4.0,3.0,3.0,5.0,5.0,1.5,18.3,134.0,null,1.0,1273.2044,2580.0,4699.0,4699.0,null,75.235,3917.4,3651.7,null,null,null,null,null,null,0.0,138000.0,109000.0,85145.0,3595.0,3595.0,null,879.659102,1630.828497,888.0,2299810.0,92000.0,248710.0,2000.0,5200.0,null,11000.0,48200.0,56000.0,35000.0,null,16800.0,280200.0,6035.0,19.44,29.1,10.200000000000001,40.800000000000004,2318.0,5780.0,5780.0,137374.2,29.565,6.5393,0.0196,0.0714,0.3884,0.1506,0.0261,0.2409,13.896,8.9136,0.0053,0.0251,0.1812,272.0393,265.3951,null,0.0302,0.0151,0.0151,null,13.0,28413.0,56240.0,21442.0,661.0,441.0,0.339,106.0,345614.0,1.8558e-05,4.752,4.0,5.0,3.0,0.116,18.01,10669.0,3.0,3.0,34.4,3893.0,15010.0,1196.0,205794.0,3800.0,2111500.0,38.37,3499.0,37.900000000000006,10920.0,9044.0,30680.0,1702.24,2432.2,0.0575,3008.5,null,135100.0,null,673.9000000000001,135790.0,155190.0,540.0,49290.0,36510.0,31950.0,28.383006,879.659102,1630.828497,5988.0,3558205.0,4691269.0,94178.0,28640.0,28640.0,250000.0,511860.0,88.644,8143.000000000001,95.0,21.6,1040.0,3040.0,700.0,700.0,700.0,499.0,2.4,1488.0,5.4,2.1,3.0,3.608,13121.0,33273.0,11197.0,11197.0,11197.0,13368.0,2301.0,210.0,null,187715.0,53941.0,5351.0,1850.1000000000001,1850.1000000000001,1850.1000000000001,984.1999999999999,288.0,117.0,471.0,522.0,86860.0,250.0,250.0,250.0,49.841,4.0,4.0,4.0,98.059,8151049.0,null,null,18714.0,null,15090.0,630.0,192878.0,14982.0,0.00046384199999999995,1.561,5.654,33.012,245.826,588.722,281517.0,5.566,28708.0,162.175,0.011406472,2304.0,3660.0,2208.0,234702.0,644.0,2616.0,5932.0,9459.0,8238.0,49.696,5204.0,300.0,3865.294959,23355.038396,4438.05743,1452.22488,8044.1205,6.0,92.3,2.0,2747.0,275.0,null,null,null,4.0,4.0,null,5668.0,2400.0,260300.0,1185.0,2258.0,5.4,178.79999999999998,null,210399.0,9941916.0,31459534.0,4310165.0,1333724.0,383675.0,13.56,148.0,null,null,null,null,null,null,131200.0,null,40408.0,490.0,466.0,417.6,null,null,null,null,null,null,64500.0,58960.0,0.081,0.054,0.12000000000000001,5529.7,36895.4,11360.0,5.67,0.567,95.83999999999999,28.4,22.73,5.67,202.7,0.0227,74.92,49.07,2.27,42.3,327660.0,163920.0,30440.0,2132790.0,481790.0,62040.0,8565.49,53807.0,33933.75,128789.99999999999,6080.86,3674460.0,4047.01,63560.0,40330.0,null,null,null,30.0,159480.0,118010.0,103657.0,10935.0,2797.0,499.0,null,null,125.0,22.0,117405.2,1.2,35.2,1.2,36.5,142.5,13.899999999999999,2553.1000000000004,227.6,77.8,2036.5000000000002,0.5,3.9,14.3,0.2,3746.1000000000004,5.5,20.7,94.60000000000001,33.9,10.9,476.3,240.6,1097.0,8.7,508.70000000000005,18.3,60.8,1515.0,0.1,1.8,0.1,1459.8,11005.0,55966.0,14125.0,287.8,11.0,15.0,22.599999999999998,88.4,20.7,3100.2999999999997,4.0,67.2,null,12896.4,86356.5,935.3000000000001,null,272.8,2.5,5430.3,603.9,1373.2,3153.4,0.4,1.4,25.8,1.8,19.8,131061.90000000001,15217.1,null,127.40000000000002,106159.0,603055.3999999999,145271.09999999998,8444.4,21295.8,44.2,43.4,158.6,0.2,null,1175.0,null,null,null,null,238.8,311.90000000000003,101986.8,null,0.2,0.0,0.2,0.4,0.2,0.2,13.799999999999999,0.8,0.2,0.0,11.0,0.2,0.4,0.2,0.2,1.0,1149.4,725.5,2.1,1.7,0.1,25.6,257.29999999999995,72.4,16.9,298.9,45.6,11.4,203.3,595.6,5.8999999999999995,322.7,null,55.800000000000004,159.89999999999998,6.1000000000000005,1.4,2185.0,32.0,13759430.0,3945367.0,8.58,995.0,0.01426,5.4386e-05,717960.0,373410.0,8800.0,1.0,88.0,0.01226,1.295,6.0,0.0002,2.0,16430.0,3652.0,10830.0,100.0,84750.0,2906.6200000000003,67.9,265.5,653.3,377.09999999999997,37510.0,10.0,10.0,22.0,22.0,6.0,6.0,3.0,3.0,10481.0,12445.0,null,44.3,2361.3,10549.2,3378.5,3378.5,3378.5,47.9,2190.0,0.0119,1.158,0.241,10.192,15.0,0.971,42.7,0.047,10.87,6.2804e-05,8658.0,7100.0,4935.0,10096.0,2274.0,3360.0,8148.0,16.978,5.1,16.847,0.128,5.142,27.5,null,542.0,50400.0,null,350.63,307.017,869410.0,950930.0,15300.0,12825.0,6901.2,283.0,240.0,1900.0,1900.0,1900.0,2619.0,20.2,4000.0,262.0,1740.0,7780.0,31980.0,148560.0,4690.0,1384.0,138.0,556.0,93.0,417.0,2346.0,123.0,1.0,null,589.0,60474.5,16007.300000000001,1600.7,818.94,82300.0,10250.0,57900.0,24.33,6841.0,1892.0,null,24600.0,0.0297,0.44,0.0185,16.2,12340.0,11090.0,1742.5,1742.5,5889.0,20.91,3120.0,null,150822.7,169842.9,70451.0,40.0,11.0,176050.90000000002,7896.4,7883.0,7856.099999999999,110.0,9300.0,8300.0,0.571,null,10.97,1126.4,287.6,15.7,null,14312.182,4952972.795,null,56262.799999999996,15457.189,null,35872.407,null,28268.460000000003,1149.211161,null,159834.864,1775.492,7581.71,null,1700.0,1290.0,50559.2,14375.199999999999,1427.7,0.031001,40472.29,0.0007532,233440.0,40580.0,40580.0,1292.0,47400.0,111500.0,13550.0,24100.0,null,null,null,69980.0,5.45,23736.0,0.545,1016.5,null,0.036,32644.0,2711.0,28531.0,9285.0,10138.0,344.0,7831.0,8949.0,460.0,230.8,0.5788,10.9971,15076.0,14841.0,null,67.73615,8025.0,54211.0,null,4656.0,32974.0,null,0.391,null,null,39.300000000000004,1779.0,160882.3,0.234074,2883.697,0.398632,10874.5,null,9500.0,90220.0,15370.0,13250.0,27.5,150.0,2.1,0.028,417.0,8613.0,2380.0,74.1,450.0,5.3,3400.9900000000002,1264.041,6175.49,22.225,1947.0,10353.0,1555.0,2530.0,2274.0,2154.0,676.0,1483.0,null,0.0,4.0,186.0,36220.0,1898.0,750.0,0.528,0.865,0.935,0.158,1.25,266.0,1.0,591.0,2.504,42.623,246.353,21667.0,0.86,20632.0,0.0001881,2438.0,628.0,21819.0,1358.0,740.0,45520.0,700.0,2537.0,2537.0,null,null,131.0,25153.0,4880.0,8976.0,692.0,null,null,null,126.0,5926.0,620.0,2600.0,4930.0,0.7,0.002,14.0,190.0,190.0,190.0,1300.0,null,null,null,14729.2,null,5813.799999999999,9459.0,0.0,0.0,48974.8,4223.7,19342.9,35000.0,null,849463.8,112.0,1324.0,238924.0,1725.0,273.0,135901.0,104.5,2126.0,0.57,6.86,33.8,90.6,0.51,0.921,25.6,9.9,47526.0,null,null,null,null,null,0.000402,null,null,4038.0000000000005,9756.0,null,null,null,null,null,null,51510.0,29696.0,6974.0,null,null,null,null,null,52714.0,1565.0,4.0,2.0,94.0,75829.0,670.0,5010.0,5.61,439.59999999999997,3.0,null,534.0,183.0,9012.0,416.0,10096.0,null,null,null,null,null,null,3186.643,null,null,410.98400000000004,48.65,88.437,21.83,21.849,13.02,152.0,8141.999999999999,2000.0,5800.0,4e-06,null,null,null,2.556,101.45,0.054,1.416,0.763,19.108,null,0.048,1666.28,0.048,1.547,9290.0,842.16,null,15028.0,1905120.0,null,780.0,147820.0,26140.0,0.0,0.0,81940.0,3760.0,9040.0,6140.0,400.0,2820.0,1891.4342,41009.5,227.0,292.0,null,null,77.0,73.89999999999999,30.0,6391.0,null,429.0,null,null,2586.0,5066.0,null,null,null,null,null,454553.4,0.6,0.0002,2.1523,0.0006,0.0005,11.9657,0.0091,39.699999999999996,8514.1383,265.2504,217836.1529,76.7895,18176.454,1850.1514,144.1654,183.2941,66.2458,0.1411,0.002,58637.9,14.0,2612.0,3515.0,2608.0,63756.0,177973.0,20.0,null,null,null,20.0,2716.0,920.0,9.2,23.5,218.9,null,25.56,1335.6,null,5596.0,525584.0,4983.3,5596.0,374.89,null,5330.0,26100.0,null,421.0,36200.0,656.0,100889.0,3351.0,4086.0000000000005,75407.0,1341.0,1341.0,1341.0,678.0,8164.0,30668.0,2822.0,2822.0,2822.0,1309.0,4335.0,63090.0,1463.0,1463.0,1463.0,673.0,17371.0,50.0,100.0,600.0,32340.000000000004,10580.0,210110.0,87800.0,87650.0,0.047,11040.0,34130.0,1530.0,1260.0,173.717,937.209,26.895,0.0,9072.27,2.0,7179.443,4153.991,1593.722,593.745,1108.008,343.0,1315.4170000000001,0.0,23.671999999999997,4768.0,4122.0,936.249,4219.945,1146.059,1149.9740000000002,578.0,1253.677,422.01,604.0,604.0,604.0,638.478,10368.753,547611.0,1.0,156745.19,285.322,12836.0,0.0,2.247,0.0,1101.041,1465.0,1465.0,1465.0,7118.0070000000005,0.0,159.42100000000002,28935.0,67057.0,1060.0,1060.0,1060.0,20130.656,2885.867,null,null,null,null,null,null,null,null,null,null,null,null,null,0.0,23472.0,296277.0,0.0,1296.0,1296.0,1296.0,172194.0,321.0,321.0,321.0,12.0,3.0,46839993.0,290.0,0.0,null,null,2586.3109999999997,258.631,400.0,132.0,212669.0,16350.000000000002,20420.0,23460.0,30790.0,null,53890.0,230.0,4773.3,64519.0,2155.05,290.0,10020.0,1411.0,null,34.0,388.0,388.0,1380.0,1380.0,1380.0,32299.999999999996,86083.0,null,null,3880.0,102.032,204.064,15780.0,1020.0,null,191690.0,6884.0,11190.0,3021.0,302.0,13468.0,9.0,4.0,0.635,54250.0,7292.3,20000.0,210000.0,41000.0,6000.0,null,null,1767.0,null,2354.0,4501.2,4501.2,1.5874,15.8664,446.0,1020.0,920.0,540.0,5.249,0.663,0.321,0.018,0.266,4.811,5.251,5.783,0.067,90979.0,3309.0,23.075,1.791,3.888,5.409,16.524,3.324,8.837,9.133e-06,13095.0,4.69,2.27,4.76,7.34,7.73,1.97,15.9,25.24,159.22,58.07,269.99,219.22,2.77,8.65,342.6,96.0,229.0,null,364.0,350.0,2510.0,2738.0,270.0,8736.0,1350.0,17836.0,23956.0,1738.0,2238.0,1982.0,8.55,7.18,11.97,3.76,31.11,42.74,5.8,19.49,2.05,6.84,15.2,1674.0,724.0,262.0,39600.0,360000.0,100000.0,220.0,205860.0,248.0,1366.0,null,167.6,1930.303,17.825683,null,48.800000000000004,6285.700000000001,16816.1,28776.3,6338.4,4179.1,12706.6,1.328,0.059,17461.625,10405.212000000001,12402.535,160.862378,2284.0,90140.90000000001,53202.8,54.1032,4717.3,null,null,12043.6,null,14260.0,77238.0,22016.0,2202.0,189.47,1381.6,7203.599999999999,937.5,15902.699999999999,33661.0,5992.200000000001,null,537.6,44587.8,2.0,2.0,2.0,53.0,30200.0,201000.0,243.0,29330.0,6980.0,698.0,null,null,null,null,22.33,16650.0,35090.0,0.00491,1.05,0.131,16.282,26000.0,7800.0,6200.0,19352.0,5503.0,550.0,3499.0,997.0,100.0,16990.0,0.00046,370.0,2540.0,23040.0,70.0,9480.0,25.0,150.0,78.0,7.0,7079.0,2013.0,201.0,21946.0,1273.0,5.0,1.11,6.22,6.22,6.22,0.593,27.0,null,15280.0,5010.0,46900.0,1258121.0,954049.0,29182.0,596.0,2568000.0,834.0,1000.0,3645.0,12.5,3756.0,94.0,94.0,1915.238,220588.0,0.903,8.692,null,7720.0,3506.6000000000004,1554.2,0.7200000000000001,0.7200000000000001,3080.0,1040.0,7379.0,null,60.0,null,2860.0,null,90.0,null,1100.0,33600.0,0.015,0.032,0.032,0.018,0.192,0.02,0.028,0.5519999999999999,2.296,11.17,5.8999999999999995,9.876,null,105.479,1.0,1850.0,977.0,448.0,54.0,2161.0,368.0,13024.699999999999,1340.0,677.0,150000.0,0.000348,0.113091,6378.0,52.0,29500.0,6995.0,null,6262.0,6262.0,6262.0,19510.0,null,1042.0,null,2980.7999999999997,7950.599999999999,13605.4,2996.7999999999997,1975.9,6007.7,5289.0,1240.0,null,1204.9,3028.0,24892.0,4.8999999999999995,null,9.0,null,21.0,1183.0,48510.0,24250.0,0.8,91.89999999999999,1.0,0.8,17.0,17.61,0.214,259497.0,10.9,5656.4,565.64,821.0,1536.0,1762.0,1016.9999999999999,730.0,4059.9999999999995,5280.0,6250.0,null,8500.0,4555.0,1364.0,1802.0,12814.0,24385.0,4702.0,69704.0,8943.0,null,800.0,0.001,9191.0,46990.0,970.0,357.0,null,null,null,3900.0,6000.0,null,8400.0,4100.0,594900.0,4500.0,4450.0,null,null,44000.0,3200.0,4988.0,1103.0,575.0,71.0,46120.0,14100.46,16900.0,140.0,96527.6,687.0,1090.0,1.1,0.5,18.0,16.0,0.9,2.3,33989.0,80.0,48.099999999999994,null,48.11,null,null,0.2,0.0,4.7,1101.3999999999999,1528.0,10513.0,null,0.4,0.098,0.17200000000000001,0.052,3180.0,49100.0,null,40.0,3770.0,null,null,11.0,4.8,null,null,2666.0,null,null,null,null,null,null,null,null,null,null,null,58.7,46803.0,3073.0,446695.0,290.553,12186.0,159.0,94268.0,null,null,143235.0,null,258274.0,null,null,238.6401,null,null,1.4,2050.0,null,3429.0,null,null,null,null,null,184.88,3540.0,null,0.4738,24.64,10474.0,24624.600000000002,24611.6,3202.8,null,10200.0,698.9,69195.09999999999,0.1,35548.7,0.2,23347.7,3969.0,49982.0,37441.0,33524.0,30.8,8.8,202.3,0.0013,11.45,29822.0,24593.0,null,200.0,100.0,500.0,200.0,null,null,0.1209,7689.9,46.0,61.400000000000006,61.400000000000006,46.1,31182.004,286177.0065,124426.8,48545.9536,9577.7379,188577.7468,572.5917,158210.1,28399.4777,4353381.9,34365.3019,1622.0,69208.0,3527.0,1.974,50437.0,14377.0,1438.0,7653.0,0.0,23.0,59.0,47.0,13.6,39.0,4453.0,9.700000000000001,126.4,1.5,null,40323.0,9268.072999999999,2508.161,11946875.700000001,87.2,null,null,null,null,null,null,null,null,null,null,null,null,349.48,253.0,312839.0,900.390198,52231.621,14100.0,1410.0,1148.048,459.1,801276.0,374.0,4287.0,377.45,482.88,10090.9,1432.89,2380.0,2.9229999999999996,0.09000000000000001,25514.0,8164.999999999999,45200.0,1290.0,0.0035,42030.0,17900.0,1100.0,null,16260.000000000002,4.77,null,56.681,410.0,null,0.059,null,28.0,1210.0,71790.0,7.0,7.0,7.0,124.0,null,null,null,179421.0,109032.0,1089.0,1089.0,1089.0,272504.0,129062.99999999999,156525.0,10203.0,46223.0,4.0,4.0,4.0,3880.0,153932.0,1971149.0,879410.0,87941.0,null,null,null,1555.0,null,null,1123.0,null,2078.0,2850.0,null,null,null,69729.0,107637.0,753.0,753.0,753.0,1162.0,549.0,666.0,666.0,666.0,245.0,16.0,null,null,363.0,27447.0,42034.0,123.0,123.0,123.0,30733.0,47330.0,762.0,13015.0,146.0,157.0,3795.0,1130.0,1130.0,1130.0,3153.0,2121.0,2959.0,528.0,15364.0,12338.0,2061.0,2548.0,5530.0,161808.0,1731.0,1731.0,1731.0,8883.0,150.0,175321.0,462169.0,713057.0,6883.0,197772.0,9412.0,383.0,1596000.0,596000.0,0.0,6.0,13171.0,13667.0,88.0,108000.0,74000.0,101000.0,6860.0,16406.0,1347.0,13.899999999999999,24.9,49.9,175.6,74.6,50.6,50.4,67.10000000000001,1893.8,null,null,4e-06,392.59,327.0,null,275.7,760.4,null,257.46599999999995,0.0,4229.8,3376.0,47.980000000000004,1576.8,9290.4,3781.6,2189.8,1800.4,1629.6999999999998,1368.0,569.399,null,null,null,null,90.89999999999999,801.9,1228.5,114.6,142.2,679.5,122.5,94.0,143.2,1155.0,125764.0,null,21874.1,4110.299999999999,0.118,168.83,1685.52,1497.16,1275.7,3299.0,0.0,77.0,602.0,27.0,2326.0,305229.0,152614.0,61046.0,127764.37,2555.287,49686.144,425.8812,255530.0,109603.3,65.69999999999999,71146.90000000001,71146.90000000001,71146.90000000001,332.4,53.699999999999996,53.699999999999996,42.6,660.99,1020.4,355.0,665.3,39.5,60099.4,35771.5,24641.9,581.7600000000001,571.71,571.71,571.71,608.64,10.0,46.753,61.606,12.45,18690.0,5.0,636.0,102.8,94307.0,57714.0,12.3,22480.0,173.1,31325.0,5175.0,5175.0,5175.0,36531.0,65600.0,665500.0,28500.0,203700.0,null,null,null,null,607.4000000000001,28254.8,59911.1,1455.3,897.8000000000001,236.0,370.3,3.3,3.3,3.3,10060.0,4.0,301.26399999999995,91697.0,17000.0,970.0,970.0,null,null,null,null,null,null,null,null,null,null,null,1767.0,1146.0,1509.6000000000001,5.8999999999999995,348.8,1.5,3536.0,null,3486.1,24188.9,3682.1000000000004,7666.7,6245.7,2455.7000000000003,1186.9,4510.0,770.0,5415.5,128007.0,32892.0,3289.0,24458.0,7272.0,1050.0,1483.0,1456.0,1378.3000000000002,1540.0,32.1146,5333.400000000001,0.0609,174.4,0.0111,46.4,373.0,2071.5,300309.1,80030.90000000001,8003.099999999999,7574.8,7574.8,7574.8,10455.9,2252.8,2252.9,10397.7,2518.7,2254.7999999999997,1591.2,1968.6999999999998,1941.0,40171.0,11450.0,1145.0,156.0,31710.0,29.35,3570.0,12120.0,9991.0,45416.0,1598.21,null,null,19480.0,7638.21,2990.0,810.0,2.09,2.6,14693.0,2435.0,2353.0,2436.0,2436.0,null,883.55,40973.6,null,1942.0,2370.2000000000003,62.006,128.60399999999998,26.455,869.1659999999999,133.875,3627.6079999999997,2034.545,33.22,1623.511,1334.181,41.050999999999995,1239.265,1323.907,22777.0,20968.29,null,166050.0,6.2,20.592,4.9112,225.669,0.004230388,1743.0,24527.0,9721.0,9001.2,67.0,null,null,null,null,null,null,109.0,109.0,109.0,825.0,5522.0,1283.0,10587.0,1040.0,18440.0,null,6898.0,1691.0,null,76.50007,37597.939,101131.73000000001,108070.84000000001,19841.894,7436.200000000001,2192.7,2192.7,2192.7,34.89,249.79999999999998,460.0,190.70000000000002,4.0,32.099999999999994,198.0,27.400000000000002,192.6,37.900000000000006,248.0,188.0,557.0,229.0,12.0,200.0,4.0,57.0,6.0,39.0,250.0,546.0,7.0,6500.8,4220.7,5552.6,117716.0,208.2,83.5,12593.1,20574.0,883.0,1039.1,1273.3000000000002,431.59999999999997,null,6709.0,6951.0,5636.0,4984.0,98294.0,30139.0,4415.0,8793.0,1703.0,14384.0,22.0,85.0,899.0,295.0,857.0,524.0,739.0,303572.0,631801.0,2769.0,128382.0,148.0,2044.0,null,1175.0,null,2623.0,12454.0,5061.0,230.628,2073.4,null,1090.0,0.0,3.7,1.9090000000000003e-06,1273.0,2168.0,162.619,113.833,97500.0,49300.0,3020.0,612000.0,174000.0,17400.0,146000.0,10.0,0.0,420327.0,138896.0,22.1,33.2,4305.3,49.6,33.7,5662.4,1576.8999999999999,59310.899999999994,153.469,84578.7,21556.0,2155.6000000000004,60172.9,10603.6,11929.199999999999,2975.784,0.0,15614.599999999999,0.0,1762.2,39176.7,11493.2,1149.3,0.0006,26.439,26.439,31.0,32.0,57.0,null,null,null,15.4,79.0,33.9,2438040.1,621726.7000000001,61731.7,23362.300000000003,440.3,null,43.0,582.2,65.8,17.6,140160.59999999998,39879.0,73.67,56918.799999999996,82287.0,40032.0,8185.000000000001,18.0,42429.0,194.0,237117.32,161.416,null,44506.0,3444.0,1722.0,1302.0,2877.0,4085.0,702.2,455.90000000000003,599.8,46.5,16.8,568.6,null,170.6,170.6,24.5,15.9,21.0,7.0,null,614.3,125.8,213.7,304.09999999999997,3643.0,1949.0,2284.0,0.03,336.6,8360.0,175000.0,6.6,0.397,0.067,3.3,0.191,0.006,0.58,18640.0,null,null,null,null,null,null,1500.0,20980.0,567.0,567.0,1300.0,null,1100.0,115.1222,12.14,4.8999999999999995,28.26,28.26,487.0,19.0,1.647,50.0,0.828,19.725,null,null,17.0,862.0,3.0,104.3,18536.2,2592.0,6991.7,5014.9,247.1,42.8,102.0,240.0,81180.0,null,6102.0,69735.5,99.3,null,18732.0,18732.0,136.8,91.0,16583.0,40.2,43.0,107418.0,91744.0,24452.0,546365.0,433052.0,73104.0,90672.0,25305.0,203396.0,6.3,23.779999999999998,610.0,6003.599999999999,10110.0,null,29230.0,10519.3,4256.0,1907.3,10550.0,null,3540.0,10550.0,2424.0,312.0,47.0,null,null,247917.0,219940.0,37.5017,14716.5,11037.4,1545.1999999999998,13892.153,13892.153,null,null,null,null,null,295.0,297.0,117.0,234.0,824.7,350.4,237.6,236.4,315.09999999999997,14724.199999999999,0.023508,0.049,0.106,0.092,0.128,9.0,9460.0,367.4,235.2,69.3,694678.0,22737.0,22737.0,3.7,5449.3,5449.3,4038.0000000000005,11083.4,6719.9,null,null,null,null,4093.0,2310.0,1322.0,28563.0,62755.0,12299.0,651.0,1557.0,1557.0,1543.0,34768.0,null,96.0,1415.0,null,24.400000000000002,0.2,0.2,41364.4,18929.7,10089.9,3600.0,36.0,128.0,9.0,5.0,1.9,2e-06,2e-06,20.14,119.5,39.11,24.13,41.94,141.3,23.3,62.91,89.54,8.99,null,6324.46,62670.0,null,null,null,null,0.0,0.0,90.0,0.17,0.41,1.95,4.23,7450.0,2.06,788.0,630.0,115345.0,0.03,0.25,10.0,0.08,10.0,610.0,9360.0,880.0,2690.0,1.0,264.0,78.0,4730.0,1345.0,134.0,585.0,177.0,166.0,112.0,53.0,8.0,195.0,551.0,62.0,2177.0,3393.0,2293.0,2766.0,22048.9,141.8,23464.05,8534.535,1448.931,5600.0,1600.0,200.0,7590.900000000001,34165.3,18965.800000000003,2997.9,832434.5,14716.699999999999,5640.4,37.513,90.897,24985.5,49957.0,36.0,6.6,6.6,7858.0,70.0,1531.75,140.45,140.45,140.45,140.45,17.9,107.0,0.1,0.033,0.04,0.002,0.174,null,2905303.9,7331.5,6858.4,6858.4,68.7,23.8,100.2,2686.7999999999997,3364.2,2406.6,3375.5,1697.8999999999999,106010.0,15600.0,14000.0,62.0,null,null,null,null,2159.0,null,null,null,null,null,0.34,null,null,null,2408.0,10960.0,1.8,1.8,1.8,21487.9,182.0,60723.9,35.0,1.3,11.6,8501.0,null,1060.0,230.0,70.0,1510.0,null,213.7,602034.4,411282.8,4515.2,4515.2,34535.0,24402.0,2415.0,null,3904.1800000000003,1137.494,196.682,308.0,93.8,562.0,562.0,394.0,230.6,94.0,2439.0,694.0,69.2,415.0,116.0,63.1,510.0,197.0,47.800000000000004,650.8000000000001,null,12003.1,61.7201,32.836,21241.800000000003,31692.3,1095.0,15319.699999999999,null,3379.0,3379.0,3379.0,1138591.0,46280.0,32566.000000000004,1072.4,692.6,916.8,676.0,20199.0,1.0,4531.4,989.0,1995.0,3188.7,1479.5,7815.0,5499.0,2710.0,0.173,0.361,1366.0,2345.6,2588.6,98.0,2085.0,3388.2,53983.2,137834.0,252119.8,19817.0,7310.5,8329.1,28840.06,55014.0,3521.7000000000003,9394.0,410.0,30.3,705.3000000000001,10133.0,3293.0,3296.7,119.7,394698.0,46.800000000000004,16097.999999999998,241.10000000000002,12404.0,3743.0,2.04,6.0,6.0,1209.0,533.0,216600.0,100600.0,16600.0,61400.0,5468.0,2200.0,22200.0,48949.53,351.0,205189.0,1469.3,0.02,0.87,null,0.12999999999999998,0.01,5.3,160.0,null,null,null,0.1,14567.0,4151.7,377.0,93497.29999999999,800118.6,33359.7,2229.6,12000.199999999999,76000.0,41000.0,36000.0,0.000359,null,4753.0,11228.0,5014.0,null,1212.0,339.0,252.0,65.0,191.0,90.0,28.0,190.0,null,null,null,null,null,null,null,null,null,null,null,null,null,null,null,null,251.0,20.0,272.0,34.0,612.0,2432.4,183075.324,null,0.66,0.12,7.17,310.0,1.78,220.0,0.4,17050.0,4019.9999999999995,1910.0,380.0,90.0,4712.0,26.0,5084.0,1364.0,157.0,0.5,0.1,7500.0,850.0,3500.0,30214.242,5186.2300000000005,96850.435,234401.59600000002,332015.865,83.232359,288886.13700000005,82.043602,82.007118,82.02688,82.107448,82.004078,82.010158,82.715508,2045.046,82.007118,81.934151,82.12873,17196.629999999997,69773.41900000001,82.384115,86.18449,84.168771,85431.139,45154.195999999996,30620.968999999997,10410869.913,39992961.044999994,9853377.197,null,5.78785,8.140622,3.002374,2.520712,139852.259,3700.7720000000004,25.832475,25.147806,90.363,40633.361,3965.828,7478.901,52.035,12136.526,6303.468,64.678,1774.067,3175.92,0.236,75033.923,12347.613000000001,3187.1040000000003,4.872999999999999,29.247,null,0.002681,14.811,253369.338,70525.069,1464609.719,6426.545,8322.35,9846.256000000001,null,189280.902,18166.012,28302.772,44553.672,69383.696,15.8142,1.119761,8.669337,4.066858,47.271291,0.203,0.849801,133.96099999999998,0.1,3.44,141.0,123.0,7.0,1490.0,1920.0,7750.0,10650.0,3780.0,42.0,34.272,null,null,8600.0,10.0,10.0,160.0,11040.0,27049.5,8667.028999999999,2217.283,16231.877999999999,38738.6,1.3,1.3,1.3,10778.26,305.39,117219.0,51634.0,18963.0,2219.563,638.3,638.3,638.3,10.0,30.0,6.0,3160.0,7170.0,150.0,80530.0,38310.0,8330.0,4800.0,1800.0,603.6,196.1,858.1999999999999,49854.799999999996,50075.8,301.8,28.2,298.59999999999997,50458.399999999994,1400100.0,4800.0,2400.0,2580.0,4160.0,2900.0,40.800000000000004,680.0,462.6,44.699999999999996,54.800000000000004,67.0,36.0,82640.0,145397.0,null,0.7926,0.3884,34739.8,161.0,118.0,43.0,2660.0,755.0,75.6,18.0,8.6,1.3,null,121098.0,377.0,19544.0,27.0,148000.0,235000.0,5200.0,5200.0,256.90000000000003,13533.0,1896.0,null,365.0,4210.0,532.0,532.0,1420.0,523.0,523.0,1269.9530000000002,39045.990000000005,8.668000000000001,8.668000000000001,153.65200000000002,3859.6659999999997,48.239999999999995,32.370000000000005,32.370000000000005,17282.986999999997,235.2,117.6,17.64,50814.700000000004,13717.800000000001,1371.8,3756390.0,3694.0,486.313,null,650.0,130.0,130.0,130.0,70.0,520.0,1.8,1.8,1.8,4465.6,791.4,1597.0,null,null,1570.0,null,null,null,null,null,19.0,169.0,40.300000000000004,null,10019.0,7624.0,0.0014,8.200000000000001,103.3,238.76,55.15,null,14340.0,4112.0,498.0,249.0,100.0,2.0,741000.0,422000.0,15504.0,22244.0,null,260.0,1482.0,4862.0,10465.0,4758.0,603.0,117.4002,1002.9999999999999,2793.0,2754.0,302.0,13903.0,0.136,75546.0,552.0,365.0,3452.5130000000004,938.64,275.912,67611.0,16315.999999999998,13644.0,77114.0,282794.0,null,null,null,null,null,null,null,null,null,null,553.0,0.018000000000000002,0.018000000000000002,null,null,2031.0000000000002,67623.8,190.0,100.0,0.21,0.31,0.07,0.08,0.05,10.0,4.0,0.33,1.55,0.56,4.0,23.0,20.0,50.0,40.0,3118.0,4.0,10.0,110.0,3899.0,545.0,545.0,3100.0,16.0,36300.0,8.29,4.0,8993000.0,2.67,23.25,11.07,39.8,3.24,2436.6,1.1,564.0,2800.0,2093.0,1000.0,1900.0,1700.0,700.0,1700.0,500.0,8200.0,200.0,44600.0,2100.0,3200.0,1300.0,13500.0,null,null,3200.0,2600.0,3600.0,21600.0,10400.0,2600.0,1.0,10.0,10.0,2.0,200.0,74.5,74.5,74.5,238.678,3315.3,2238.7999999999997,3110.5,2651.5,2323.7000000000003,1353.6,177.0,0.1905,16550.0,7083.0,25660.0,30.5,2.88,6.7,161150.0,null,16309.999999999998,2454.9500000000003,3880.88,22.0,22.0,0.034,0.034,160.20999999999998,null,null,1647291.7,58111.600000000006,206899.8,237401.3,55158.1,112831.8,45938.299999999996,603581.0,1.1900000000000002,1.1900000000000002,1.1900000000000002,null,null,1.0,10.0,1.0,2845.0,193.0,null,191.0,90.0,28.0,null,7377.0,7.0324,null,13.0,11.0,10.0,0.00361,95.0,45.0,14.0,12.083,1.83,48.775,29.75275,1658.35,1755.9,82.9175,21.461,3.23,3080.0,1606.0,1880.0,null,1130.0,2670.0,2.86e-07,280000.0,119450.0,7630.0,5870.0,7907000.0,22210.0,2835.2,67979.7,0.765,1.305,1.465,0.141,0.12,4.485,15.18,18.975,20341.0,54.442,23112.0,9.496,null,null,1218.0,668.0,586.0,4744.0,13434.0,1418.0,986.0,36096.0,17992.0,7958.0,4746.0,2434.0,null,35.122,null,75.0,1.34,0.047,2060.0,1400.0,25510.0,20.0,145.68,1200.0,29.0,0.0006079,8532000.0,2225000.0,431000.0,0.08,1.0,10.0,null,null,null,39295.0,null,9364.0,8007.6,14383.4,null,20978.4,435.0,53887.0,null,153.5,61.400000000000006,2518.8,251.9,3e-06,4e-06,3e-06,8e-06,75.35,287.06,null,null,null,376.76,null,157.88,null,null,179.41,null,130.97,null,null,null,21530.0,222560.0,74933.2,74933.2,74933.2,0.3446,0.0018,0.0011,7.0,0.0402,0.0031,0.0026,0.0002,0.2204,0.0084,0.0385,0.1248,8.3,3.6,1486.6,227.3,6673403.4,610148.2999999999,85.9,0.3534,0.1467,0.4631,0.2269,15741.6,4553.3,22954.0,21643.4,2795.6,18.0,43600.0,56300.0,115.9,null,1.0,1.0,1.0,4.0,68.0,5766.0,12401.0,0.01,0.01,94122.0,2521.0,32.0473,799.0,184100.0,138.0,138.0,872442.0,34484.0,43331.0,0.42000000000000004,8.0,1699.0,3.0,49261.0,8.200000000000001,21958.0,1415.0,11420.6,1142.1,1.0,null,54.9,44.290000000000006,50.96,67.86,15752.2,1610.0,439000.0,44.0,6.42,1.63,5900.0,7750.0,6640.0,9590.0,31426.0,null,null,40.0,40.0,40.0,36200.0,120.0,104.0,8080.0,4040.0,2020.0,337016.391,23189.69,23189.69,23189.69,51.623000000000005,13517.272,null,2972.827,1776.694,null,9113.201000000001,7264.132,9543.988000000001,0.45,331.0,1163.0,170.0,152000.0,5.211,2.1,8.654e-06,10.25,10.2,280.0,134190.0,158.9,378.8,175577.0,90884.0,10555.0,13026.0,5941.0,5715.0,117.0,234.0,824.7,350.4,237.6,236.4,315.09999999999997,579837.0,21660.0,5064.0,5064.0,6515.2,6577.92,5307.0,3020.0,null,null,null,10200.0,4310.0,3320.0,500.0,400.0,0.9,0.9,14619.0,220.0,4282.0,18382.3,84.0,19.131,8.443,103.223,0.209,1260.0,null,12.0,null,null,null,null,2070.0,null,null,9426.0,4582.0,492.0,479272.10000000003,132785.8,135.3233,2445.8416,null,4100.0,3000.0,5720.0,20900.0,125.84,4115.31,4005.0,2233.0,635.0,64.3,432.0,107.0,55.1,450.0,167.0,43.0,31097.6,24527.3,19.0,0.095,42.171,19.942,655.183,33.315999999999995,688.0,77013.7,23104.1,2090.3999999999996,2090.3999999999996,8507.0,4888.6,3174.0,67.0,18.0,1.5,38.4,4898.7,4707.6,4178.5,25295.8,21558.6,5923.2,9963.5,411.0,1355947.0,97289.0,1211.5,1593.8000000000002,143.6,null,109391.0,6.2,1418.0,1418.0,180.60000000000002,5.8,1888.0,1606.0,9998.0,4605.0,null,null,null,6474.0,14390.0,3240.0,880.0,30.0,21180.0,1710.0,340.0,null,327397.0,13775.0,6395.369,276.976,null,0.4,60.0,5.2,null,9300.0,null,null,2700.0,4500.0,null,3254.0,2453.0,1122.0,1671.0,null,4490.0,4490.0,10.0,100.0,730.0,2850.0,null,null,0.0551,90.0944,756.8,0.057,120.0,null,null,175.2,null,501.602,1728.0,null,null,0.0,2318688.5,383.22,382.03,381.12,12.3717,1.45,887.85,0.00061,517.9,0.1,94.39,151.0,4.38,399.64,17.81,200.5,6.13,0.41,1058.4,13052.8,null,7554.599999999999,2268.6000000000004,1866.4,0.29,1.0,22800.0,11330.0,14.317,10297.0,8124.8,2955.9,739.389,42968.5,12218.7,1221.9,531.3,534.5999999999999,6879.0,6879.0,189700.0,27.0,67.3,197.0,126.0,58890.0,3.54,16720.0,12830.0,7020.0,3400.0,16260.000000000002,15520.0,26975.0,23040.0,9245160.0,1925561.0,240695.0,11.598,25.23,126.766,null,2600.0,1.1,1.1,60.199999999999996,2830.0,85740.0,1640.0,0.91,0.91,0.91,176040.69999999998,null,null,374.7,4083.9999999999995,4940.0,6480.0,5550.0,8020.0,null,null,null,null,3.584,220.0,22.0,3287.0,3287.0,null,4611.7,2320.8,null,1.0,1967.0,14120.0,82480.0,5050.0,null,null,0.0001,0.0001,2289.4,2613.4,3174.3,null,null,null,null,0.63,null,45.3,29501.0,2.0,2025.6,31946.3,518.2,2529.1,881935.5,2025.6,31946.3,2529.1,113741.29999999999,130509.3,28496.4,30322.7,62028.3,25254.2,307871.69999999995,6040.0,30588.438,8599.342,40.7,14.1,32.7,189.70000000000002,40.2,10.13,18540.0,4741.0,474.0,33400.0,309.152,1899.0,1.3,128.0,50.61,50.61,50.61,17674.55,390.0,0.52,1078.0,3593.0,75.0,19.0,9.0,3.0,20.0,null,null,0.1,0.0,null,3015.292,null,null,null,null,null,null,null,null,null,0.013,125200.0,2110.0,245400.0,171400.0,null,3022.0,49630.0,2.632,0.12,4430.2,253.0,0.466,null,6267.0,0.201,41286.0,1708960.0,2473.0,6980.0,9160.0,null,11340.0,291000.0,4147.0,9.999999999999999e-10,62987.0,39682.0,25825.0,3098.0,26028.0,8676.0,66.0,25.5,57120.0,null,112627.0,1369.0,19748.0,41402.83,100.0,null,null,6478.0,2920.0,0.001,0.255,1380.0,9070.0,12810.0,83970.0,11710.0,630.0,4470.0,47200.0,5720.0,670.0,1070.0,2.8,2.8,8.18,16820.0,11210.0,43220.0,11810.0,6564.81,52610.0,6400.0,18760.0,1269390.0,3.9,2703.66,606.89,77.32,1462.71,437.86,1365.98,2895.82,590.0,136.38,4.85,0.4,75710.0,153.29,5800.0,null,null,null,920400.0,47970.0,225620.0,54300.0,109.5,201552.0,35.0,316319.0,2269.2999999999997,1100.9,835.6,931.6999999999999,1645.6,null,1589.8000000000002,10667.7,1379.3999999999999,345700.0,30796.51,106977.5,2767220.0,870.0,1158.61,1014.0,106640.0,175290.0,2800.0,3880.0,20440.0,580.77,null,338.0,900.0,2119.7,734997.8999999999,67.3,2.0,0.01,169.5,1190.8890000000001,10.984677,1.0,1.0,1.0,11.0,11.0,null,null,1.0,1.0,null,null,null,9.0,9.0,9.0,3.0,3.0,3.0,7.0,7.0,7.0,null,null,null,null,null,11.0,11.0,11.0,null,null,5.0,5.0,5.0,7.0,7.0,null,null,null,null,null,6610.0,31803.864,9248.818,925.922,18000.0,80.0,43.0,110.0,43.0,990.0,15011.0,10.295,14.0,14.0,330.0,5080.0,969.1999999999999,1770.0,0.0053,0.26,107.44,3750.0,459.81,1554.3,193.3009,65.82,128462.40000000001,0.0,223.89999999999998,223.89999999999998,223.89999999999998,249130.0,7805.7,707.7,707.7,707.7,1405.5,67.2,null,null,0.0,null,312.99,53693.0,5359.7,0.0,337.0,337.0,337.0,null,40420.0,2559.4,39270.0,17397.0,20000.0,420.3,121787.0,17651.5,116.9,81.346,37.632,13985.32,1535.0,1877.0,12.0,18049.0,20.0,255708.0,2992.5,604.8,681.8,791.8,1514143.0,135.8,null,null,96.0,461267.0,null,7591.0,8527.0,613.3,436308.60000000003,0.6,0.36000000000000004,0.48000000000000004,11.1,21452.100000000002,5467.4,546.6999999999999,null,2157.54,276536.09,27235.0,0.1204,2.07,0.3732,353.34,56564.0,7698360.0,3359362.76,493264.0,175857.0,10.0,7.21,430.0,null,1740.0,170.0,null,7.38,28.8,24.6,0.0,0.1,282.7,250.6,258.1,209.3,7358.4,null,5260.4,111809.82,30198.0,5.0,28493.0,2945.0,2945.0,126490.79999999999,6172.0,4225.0,5266.0,4163.0,25199.0,5215.0,11565.0,14863.0,4237.0,424.0,139315.0,10277.35,55940.0,18250.0,23990.0,30740.0,13470.0,29210.0,8730.0,9530.0,12520.0,16050.0,7120.0,55940.0,18250.0,30740.0,51680.0,2870.0,30342.9,12765.4,31950.0,52498.0,null,57.0,27.0,9.0,null,null,null,null,null,null,null,null,null,null,null,null,null,79711.0,3538.94,11147.91,2150.0,15145.0,4153.400000000001,1366.9,2580.0,73733.0,9977.3,25765.899999999998,25665.9,25665.9,31.26,317.368,85.976,222.38,4.61,4.61,87361.01,27368.46,13842.0,null,60121.899999999994,null,118.7,46.1,90956.0,4.4999999999999996e-05,2e-06,11124.4,3870.0,1986301.0999999999,191098.80000000002,null,null,null,null,0.7155,null,null,2851.3,0.000905,0.00048,0.000475,0.000962,124.5,193.2,24.0,253.9,25.5,84.6,19.2,70.3,207.6,445.5,146.9,151700.0,33893.0,32518.0,31566.0,349627.0,99421.0,9942.0,null,null,null,null,5038.0,553.0,418.0,245.0,2180.0,12837.256,4338.2,null,41.0,116369.9,109.7,2197.0,1099.0,165.0,null,null,null,2471.0,2433.0,2404.0,11326.0,5038.0,2167.0,1103.5,181285.0,45127.8,33119.799999999996,22.205,10962.04,8874.2,8047.4,17663.8,19773.6,1544.4,28.2,207557.9,275.4,null,120.0,120.0,14.9,146.4,90.1,183.7,39.5,51.9,80.0,75.0,1800.0,13.0,120.0,0.51,329.5,240.0,null,436855.5,371.5,371.5,371.5,null,null,219.4,219.4,219.4,null,null,null,62520.8,36.2,108.10000000000001,null,null,null,87400.0,82000.0,81000.0,0.001,0.005,0.002,0.00184,5200.0,4200.0,3700.0,22230.0,1.7,0.7,1.4556e-05,5520.0,129.6,1700.0,742.0,608.0,0.003022,0.643191,0.76884,6.492,7.15,1.415021,513.82,907.85,35423.520000000004,17480.19,150199.95,29603.2,33.0,10.0,null,null,1060.0,13.0,7.0,1.52,null,1378.8,5.5e-07,null,4021.0,4021.0,4021.0,2228.0,6.8999999999999995,2.7,276694.7,55.5,143.7583,54.4323,2108.2479,5550.3,8341.2,0.9251,1.0258,3241.0,841.0,841.0,841.0,4451.0,4451.0,1556.0,11380.0,19160.0,1775.0,64849.99999999999,108080.0,122230.0,138460.0,91570.0,19065.0,2005.0,2005.0,2005.0,4080.0,1034.0,175.0,2867.0,2867.0,2867.0,15117.0,7153.0,1639.0,107.0,103.0,718.0,165.0,11.0,10.0,25901.0,224.0,98.0,0.066,0.008,0.242,0.004,10315.099999999999,10315.099999999999,3734.7000000000003,20.0,912.0,44.8,229.9,46.5,220.0,3444.0,1420.0,74.0,167.0,1236.0,46.0,37699.0,352.0,37.0,4685.0,8203.0,242.0,3381.0,42.0,18.0,16.0,8.0,3.0,185267.0,50014.0,5001.0,7.3e-05,0.002,269.1,973.46,297.77,234.78,418.02,1202.51,229.05,null,503.91,561.17,973.46,108798.85,68720.0,null,625083.414,13619.292,8371.548,8371.548,19.0,1514102.0,40.18,1563.0,7479.0,11641.400000000001,2034.6000000000001,24.0,419.0,524.0,12100.0,2840.0,95.0,329.0,84.0,29.16,0.717,0.03,0.8,14.5,0.1395,3.5,3.3,202000.0,32299.999999999996,32700.000000000004,null,859.0,53.0,68.0,130.0,26732.0,212.60000000000002,4876.0,11797.0,65.9,null,378.59999999999997,25.48,926.9,0.6,0.3,2139.2000000000003,13.0,13.0,9.0,300.0,2330.0,0.004,0.05,0.02,2330.0,312423.9,1706.6699999999998,1706.6699999999998,9702.0,2851.0,1433.0,1972.0,59.0,46624.0,12341.0,1234.0,357.0,357.0,357.0,58.0,23.0,7.0,56201.206999999995,14323.621,1432.3619999999999,104654.0,17819.0,578.0,1071.0,15.0,13593.0,12876.0,562.0,7095.0,1484.0,1410.0,1410.0,null,null,null,54.739999999999995,6.7,10000.0,251.0,59.656,null,19493.8,19933.0,5698.599999999999,565.8,906.962,null,15137.1,13851.800000000001,34783.5,1292.0,6813.0,4744.0,6766.0,5770.0,5114.0,25937.5,969.9,3628.0,4994.0,4259.0,3811.0,455626.0,5859150.0,178725.9,347135.0,114.0,5074.0,230.0,7152.0,null,null,860.0,39325.0,409.0,120.5,null,267286.7,null,null,27873.4,7930.900000000001,793.1,26372.9,1758.2,19405.0,0.1,14834.0,3927.0,393.0,null,494.0,9024.0,4693.0,271.0,48347.0,10415.0,3399.0,3399.0,3399.0,2.0100000000000002,957.84,1429.86,2756.4500000000003,1598.8700000000001,957.84,4720.16,4174.0,5196.74,4397.3,6363.7699999999995,50425.0,6081.0,138761.0,3.0,0.242,0.011,0.3,3.392,2.0,1.0,0.111,45.0,null,71.0,6.0,87.0,13899.0,11368.0,7766.0,31021.0,4360.23,47962.527,77861.0,1744.092,37.321,59.0,19.0,14.0,8.0,0.9,0.3,0.1,0.1,0.2,147.0,2913.0,0.095,0.243,0.25,1.6700000000000002,0.35,0.2,1.63,0.12000000000000001,0.31,2928.0,null,null,null,null,11.2,35900.0,145080.0,75088.0,16744.0,7904.0,9469.0,3737.0,527.0,4367.0,2056.0,2710.0,1080.0,337.0,7402.0,5023.0,0.232,344856.3,595.74,595.74,595.74,220.0,1132622.0,null,231335.0,32522.0,73370.0,1.0,null,747036.0,936.0,159611.0,170.0,247563.0,null,100.0,295.0,688.0,16.0,124.0,7182.0,5372.0,13290.0,214.0,38.0,435.0,15787.0,0.0,5463.2,688.0,112.0,1102.0,10523.0,863854.0,1819.0,1819.0,1819.0,28365.0,10502.0,157.0,1044.0,4005400.0,23530.0,1451.0,361.0,null,147782.0,2652.0,2652.0,2652.0,617.0,19114.0,5.0,827.0,7355.0,7355.0,74.0,96227.0,null,null,14650.0,595121.0,25899.0,2179.0,2791.0,2100.0,1100.0,99840.0,4535.9,null,3379.0,791.0,null,0.3,228.8,0.7,702.0,1755.0,3510.0,null,579.2,23697.3,35659.9,15486.5,369.2,178.9,13.2,5.1000000000000005,38.199999999999996,5.3,10846.0,10063.2,72.0,null,null,11.0,null,1.5,2.35,19840.0,57.0,131.0,99.2,103.78,5111.978,1682.438,529.412,2200.0,11.0,12556.0,15690.0,339000.0,4730000.0,null,37.0,29474.0,49502.0,30462.0,98592.0,16128.0,77962.0,6504.0,767.8000000000001,767.8000000000001,1442566.9989999998,615500.816,57076.165,19864.111999999997,84422.47600000001,1802309.035,511902.06,50823.899,13171.508,24055.424,94604.899,35326.206,6812.433,49173.238,605.1999999999999,3292.4,630.3,6.7,null,24.0,11.0,4.0,20.0,36970.0,3.6272,6.3888,34.5,2.6792,518.0,null,120.0,40.0,970.0,1510.0,26.0,138.0,984.0,22.0,0.0013,30848.3,2.0,1.94e-06,48648.0,null,1.0,1.9,2507.0,467.0,499.0,54.0,5.0,7.0,5016.0,317.0,4434.0,300.0,471.0,null,null,null,205.0,null,12366.0,34251.0,177219.0,280497.0,14518.0,null,456.0,14558.0,17870.0,6373.9,637.4,448.7,448.7,506.6,1260.1,2686.2,276540.0,3938400.0,131756.0,98541.0,63153.0,78.0,12.0,22.0,64.0,132.0,314.0,48.0,6478.0,204.0,4120.0,24654.0,1868.0,540.0,1652.0,30245.0,72746.0,4.4,9.0,3.8,null,216.6,0.0,63.0,1.9,1853.0,1361065.0,979967.0,721364.0,255170.0,null,null,null,null,null,null,0.3253,0.2177,0.1806,3.4,15.041,0.08,0.25,72.764,0.14,8.542,0.118,1.246,131.095,93160.0,77370.0,69770.0,1310.0,0.191,526.0,7376.0,25.0,328421.0,4.0,323028.0,79.0,79.0,2043528.0,22793.0,22790.0,22790.0,33450.0,5668.0,2203.0,909.0,19018.0,5704.0,0.3,0.108,2.4,0.5,1.3,19.847,128.0,0.072,5.0,93.0,28.0,5.0,17920.7,4567.3,456.7,2447765.0,2210.2,8690.8,24.299999999999997,755860.0,null,4648.0,1846.0,590.0,730.0,6497.117,6497.117,2424.831,null,null,575.0,32640.0,null,8060.000000000001,16120.000000000002,45264.0,30.0,7507.0,832133.0,32835.0,14150.0,14150.0,343893.0,429.0,1870.0,7549.0,3737.0,3737.0,1064.4,8.978,0.1054,86.8,1000.0,869.0,6410.0,0.004,2.0,1000.9999999999999,1000.9999999999999,10.0,10.0,56.599999999999994,652.0,0.000820758,16.516,527.12,1212.857,4425.965999999999,1064.145,28.204958,28.204958,4890.857,28.204958,28.204958,28.204958,28.204958,28.204958,28.204958,28.204958,28.204958,28.204958,28.204958,341.862,28.197406,28.204958,28.204958,null,2900.8579999999997,174512.84699999998,84441.50899999999,12736.599999999999,null,null,0.955422,4.85807,4.532366,728.509,380.834,null,0.382,0.38,0.743,87.338,1.171,4.615,0.85,1622.864,745.024,35.095,3.217672,8283.925,0.001104,7e-06,4016.223,0.273743,67.249443,354.939,12.090208,7.522743,21.803325,21.395665,11.802271,1.153967,0.273743,14.783959,6.71946,4.855762,10.832098,324.855,54.59698,226.600958,22.142159,72.392,21980.11702,789.851599,188320.441,224480.874699,63594.435,50105.541197,3624900.094,33.13951,98835.542,3236.173882,221345.608,2833483.389,281.34238,140861.786,396690.576,6823.43,7628.876,2018.1529999999998,3598.9610000000002,8160.372,2028.2680000000003,2892.976,11483.511999999999,11853.683,53555.41,988.564,2170.54,50215.348,17023.352,null,0.482717,0.005289,0.246948,0.136707,0.001357,0.086047,0.009829,1008.75,67020.352,0.001064,1e-06,0.000494,0.001,0.001,2296.069,0.027969,740.0,14690.0,null,null,2882.0,2848.0,2821.0,190160.0,48862.0,4886.0,357273.5,27.279,904.759,5.37972,0.03019,343.264884,null,0.3,null,16846.0,8423.0,3369.0,5967.0,74.88,2656.09,997.3,56390.0,1857.35,39050.0,46579.83,122140.0,17.15,2620.0,479.63,408030.0,8440.0,4.61,6191.0,0.02,303.77,260.0,13905.0,2980.0,164430.0,283020.0,31.42,0.07,49.42,0.78,37480.0,324.36,62.0,0.253,0.253,0.253,null,0.15,0.253,0.202,0.087,22130.0,72000.0,null,null,36.0,1883.1,1628.9,1452.3999999999999,1900.4,2352.9,281.4,277313.89999999997,101233.7,857.1,284536.1,108432.2,181916.5,3.1,2900.0,0.05,35.173,35.173,26.379,2056138.3,544243.28,82.69999999999999,88770.381,43851.799999999996,15223.108,46408.0,0.53253,0.0,2.82118,4.1000000000000005,64.0,0.0,14.0,11463.0,53.835,null,3521.328,19502.0,null,718.0,33389.34,40041.39,477.118,477.118,477.118,7835.92,8663.39,27884.84,6718.18,218.192,22816.34,210.35999999999999,22925.86,300.0,11773.89,39067.659999999996,8879.17,60337.86,7378.389999999999,911.31,911.31,911.31,588.11,1888.8700000000001,null,2300.0,1800.0,60.0,3240.0,2650.0,23.0,null,null,24608.0,7152.0,null,10312.0,null,3376.6,1198.0,18.3,30837.3,7528.6,7431.9,122.30000000000001,1455.5,2260.5,226.05,9.297,1.408,5029.5,502.95,null,null,null,null,519.1,4059.9999999999995,500.0,null,294.22,3160.0,92.821,34.885,6.04,3.0,0.5,29805.6,30000.0,544.0,null,10109.0,null,null,82.855,2e-06,1559.224,1429.208,0.13,null,null,null,6.0,12.0,508.0,31022.0,185.0,4590.0,930000.0,78300.0,102.0,15080.0,8368.0,3140.0,9300.0,445.0,43100.0,null,57900.0,null,11132.6,0.0,21.3,21.3,21.3,null,530.0,0.028,3255.0,1.4071,203.0,131.20000000000002,9314.0,259.5,444.90000000000003,702.4,1031.5,840.5,null,null,null,null,10695.0,2810.0,null,1039.0,350.7,225.1,null,1771.0,1771.0,61.800000000000004,null,264.1,144.4,192.0,3365.6000000000004,2185.1,2874.7,6066.0,null,366.20000000000005,324.6,172.7,20884.0,20884.0,null,2369.8,1360.5,2076.1,350659.0,1944.3999999999999,1208.5,947064.7000000001,1380.0,4131.0,35086.0,3671.0,5280.0,1476.0,36.6,22.2,1478.0,739.0,111.0,105505.0,28482.0,3.015,15.032,460.0,1275.13,null,null,6.799999999999999e-06,43.89,25.88,50.37,14677.0,80.76,null,null,null,49425.0,8649.800000000001,11.922223,4.815281,1.685,9485.01,8106.89,7078.96,15911.0,null,null,null,884.4,579.328,418.0,9630.0,522.2782,20750.0,6258.0,1361.0,4966.0,13290.0,620.0,1113.12,0.011,0.002,0.012,null,0.01062,11.799999999999999,null,8165.611999999999,25238.0,18946.0,91.43,50.0,1380.0,52143.700000000004,78101.8,145.01,116871.84000000001,29786.35,28887.62,28887.62,null,14863.24,6986.22,6040.2699999999995,370.0,350.0,350.0,8785.44,0.26,828.26,139.87,22.914,1.243,90.407,4.388000000000001,4.388000000000001,4.388000000000001,0.000129,1322.8999999999999,2.7e-05,2.9e-05,0.000166,3.1e-05,1331.2,2650.9,1053.9,null,0.128,null,117111.2,3819546.08,15333.878999999999,15333.878999999999,null,213128.4,4077.11,null,null,null,null,866.0,9.0,8890.0,7500.0,10.0,1880.0,4470.0,200.0,3690.0,0.298,0.194,0.255,371272.08,2124.59,2124.59,6.24,0.47,null,3132.4429999999998,0.12000000000000001,0.12000000000000001,0.12000000000000001,100.4,15.299999999999999,16036.11,7.7,29758.5,7584.3,758.4,81409.57,448.32,4604.45,4604.45,4604.45,448.32,4235.01,3638.82,0.71,14.64,1134.04,1706.1599999999999,1687.86,0.12000000000000001,0.12000000000000001,0.12000000000000001,3.2,908585.2200000001,5222.95,5222.95,0.0,0.12000000000000001,41.8,108.8,2389.0,4745.759999999999,3719.7599999999998,6.6e-05,1.3e-05,46.068,23.092000000000002,null,null,0.2,0.03,0.02,0.1,45800.0,0.03,0.8,0.2,null,null,null,null,800.0,3900.0,100.0,3800.0,5174.0,130550.99999999999,null,null,null,519.0,2329.0,1932.0,null,null,null,0.12000000000000001,null,0.12000000000000001,3.42,3989.7599999999998,398.94,43121.6,237.21,237.21,2716.4,44728.0,11568.0,null,null,null,null,9417.24,0.002782,0.002764,865.74,3422.7400000000002,1777.74,1371.87,0.25,0.000450702,130.0,10.0,10.0,240.0,4.0,2.0,0.047,0.091,159.892,0.027,0.051,0.22,0.044,5.4,167.18,706.66,316.189,739.39,283.96,596900.0,175010.0,3228.0,2641.0,52525.0,12.0,21.0,58.0,12.0,7.0,70.0,7.0,1.0,16.0,1.0,5.0,85.0,99.0,49.0,23.0,24.0,1.0,378.0,460.0,null,null,null,null,null,null,20671.0,null,null,null,null,15000.0,null,211.52499999999998,894.0989999999999,399.993,935.4440000000001,359.319,1240.0,260.0,34.28,0.53,0.011,0.0,4.33,76.81,76.81,76.81,222.42999999999998,0.04,17.41,79.47999999999999,3.3,3157.31,5888.4,80311.0,null,2135.4500000000003,544.26,54.42,12.61,22.8,3.54,16708.5,224520.0,0.000902,4187.0,322.0,21885.0,34407.0,44380.0,18.0,257207.0,162.0,108.0,30.07,8590.0,0.15,451.0,799.0,378.0,132.644,29.333000000000002,29.333000000000002,29.333000000000002,null,85.19699999999999,86.0,2.0,80822.0,900380.0,919.0,16.0,3291.0,3291.0,919.0,430.67,2114.14,4761.129999999999,3106.49,2539.08,28.0,1663.0,28.0,2361.0,658.0,512.0,43497.0,465008.0,5560.0,1720.0,620.0,4.2,23.2,40.0,null,null,0.379,1.42,0.126,89.0,7090.0,3509.0,null,0.3105,0.0332,29.64,4.5424,3.7399999999999998,1.9009,91.6,39.1,0.1662,3.7,226.0,0.0521,26979.9,13541.1,1581.2,315848.0,87590.0,8697.0,100491.0,null,2e-06,5182.0,5182.0,5182.0,10723.0,719418.6,9.19,6.01,7.8,166.36999999999998,2376.06,237.59,2203.19,null,5557.44,null,13490.0,1330.0,520.0,912.29,null,16.986,87995.0,2.9e-08,null,214.9,0.0,3615.0,20173.0,5835.0,583.0,240.0,134589.0,38902.0,1583.6,130.92999999999998,30.0,null,133.20000000000002,133.20000000000002,133.20000000000002,4387.900000000001,20.0,66490.0,26278.0,45860.0,125960.0,1333510.0,98970.0,7650.0,7650.0,124980.0,54026.0,599.3000000000001,null,575.6,51.7,257.5,210328.5,210.7962,3495.8999999999996,108439.6,73761.0,37679.8,1904.0975,1382707.7999999998,0.0061,0.5942,null,1943.6,1248.2,187849.621,24480.0,260.79200000000003,250.361,234.713,null,null,973.444,912.6030000000001,790.2,790.2,790.2,500.0,7.3,68.8,25978.0,44893.5,241480.0,184.5,184.5,184.5,32.599999999999994,409.9,399.9,399.9,399.9,4481.200000000001,513.5,124.0,175.4,954.0,0.0,334.2,334.2,334.2,134.0,467.9,32.9,7860.7,232.7,240.6,1200.0,43.0,4000.0,107830.0,136.0,136.0,136.0,158.5,225.20000000000002,65.69999999999999,17665.8,257.0,257.0,257.0,null,915.3,915.3,915.3,null,null,198430.0,189340.0,55.300000000000004,5770.0,2080.0,310.0,8400.0,0.8,356.59999999999997,370.0,null,null,null,4497.639999999999,449.76,null,67536.0,52978.200000000004,null,null,238.97,2211.04,2211.04,2211.04,2224.4,10079.0,253180.4,25.0,52.0,0.6,0.5,1.3,0.1,17.0,9.5,1020.0,407.0,2020.0,509.0,14400000.0,3750.4,25957.6,4689.7,2468.6,2468.6,2468.6,1926.0,54554.7,9823.0,33302.5,5111.2,35317.799999999996,4508.16,450.78000000000003,0.12000000000000001,884.67,3.6,null,2703.0,8929.0,889.0,772.0,null,16280.000000000002,13220.0,11000.0,0.2,null,null,null,9900.0,null,null,null,null,null,null,null,1010.0,1010.0,null,null,null,null,null,null,null,2598.7,0.02053,823.3399999999999,2943.1600000000003,0.01441,3188.88,0.3,0.2,0.7,49500.0,213686.0,6187.0,32164.0,16082.0,6433.0,31.146,23.052,11.529,2.7,21.8,3.1,0.2,0.1,0.6,0.1,0.008,130636.0,10.22,1.436,48.888,null,null,880.0,null,1587.26,3267.3399999999997,603.745,369.55,346.498,1061.4399999999998,6.4248,1339.31,177.53199999999998,1.092,171906.0,45812.1,4581.2,21700.0,21100.0,9700.0,4.383,367.0,183.0,73.0,215823.0,0.0018,0.0009,1.5,17388.916999999998,46011.299999999996,12261.8,1226.2,1.2,1.2,1.2,6.826,1356.0,3.08184,22.0,56.383025,18762.66,54000.0,16168.0,1772.0,37.3,24534.0,130000.0,1203054.0,12923.0,1169265.0,732054.0,4808872.0,9.8,527.7,null,null,43160.0,11962.1,1196.1999999999998,32935.6,73.958,697.418,551.1899999999999,509.87000000000006,864.7,0.0002,0.0012,268.0,87.0,651.0,26386.0,26307.0,615.0,null,615.0,1638.3000000000002,1093.8000000000002,205.7,473.8,997.1,280965.0,282.8,10702.0,345932.0,2796382.0,82933.0,82677.0,82603.0,null,null,null,null,null,null,58.0,13.1,30.0,null,8.067,2388.573,18.672,20.979999999999997,13028.58,44707.331000000006,224800.7,35204.439999999995,34750.958,321476.54,286500.0,85785.0,9403.0,null,0.0,2896844.0,849000.0,46568.0,33.374,67.45,20.375,28.104,15914.0,null,null,null,null,0.0,null,35194.6,null,null,67207.6,162568.0,null,185.6,17672.8,5.04e-07,2398.2000000000003,2398.2000000000003,1037.1999999999998,1524.2,4819.8,66314.8,10013.6,1277.0,7.78e-07,32.6,60.0969,11.22,null,null,null,null,null,6969.8,75.7,19.0,68.0,979.391,25723.877,36548.9,7.9,7.9,7.9,1417.1000000000001,1087.6,29.015,3581.0,1645.8999999999999,269070.0,85330.0,12123.0,17729.0,26.0,0.1,131.70000000000002,1241.7,48.800000000000004,0.0001,null,null,25.0,0.4,2.8,38.4,14.3,21020.0,6190.299999999999,12275.2,0.0147,11140.0,40.0,74470.0,76.0,70.0,28.0,14.0,66.0,418.0,398.0,228.0,98.0,60.0,0.0,null,649.9,7585.340999999999,446.986,7503.903,3277.91,3649.0,3649.0,11834.07,758310.9739999999,227689.03,18458.164,null,23878.77,2027.0790000000002,2724.2999999999997,2724.2999999999997,2724.2999999999997,59.4,31.3,27.900000000000002,160.5,64.8,1605.3,1605.3,1605.3,11408.8,0.011,0.012,1.4,null,null,null,160.5,null,9490.8,6958.2,147100.0,254.6,254.6,254.6,25.1,8.0,501442.3,95.9,1912613.0,7227.7,15.8,960663.3,147.9,7.8,107.2,38.4,34.2,328.0,9797.1,9797.1,9797.1,0.1,0.076,0.7,0.118,null,1601.0,2949.0,463.4,641504.857,192617.044,15614.967999999999,857.266,4048.9620000000004,4048.9620000000004,4048.9620000000004,4152.77,9242810.0,24169.8,24169.8,3633.0,5526.0,8288.0,1603930.0,192.89999999999998,79247.9,5096.2,5096.2,5096.2,null,209.3,728491.9,21847.0,21847.0,null,null,149.2,2541.0,6414.0,9620.0,21.0,23832.0,23832.0,23832.0,2579.2799999999997,5211.36,5359.21,11627.0,788601.0,236783.80000000002,18660.42,19195.454,674.409,121652.0,3219.2219999999998,3219.2219999999998,3219.2219999999998,3346.8300000000004,9882.65,null,null,50.588,676.614,3.0,5768.049,2893.1369999999997,2954.259,5237.6269999999995,8118109.98,111913.982,1577.1029999999998,12531.0,11596.0,null,95656.8,28721.699999999997,22.487,855.95,855.95,855.95,1611.622,48.230000000000004,2004.0,101.3,14099.4,183.5,3.6,291.1,165.3,null,550.2,2992.7000000000003,1047.9,1047.9,1047.9,420.5,null,null,0.0,null,null,null,null,null,0.0,null,36558.0,53.0,53.0,354.149,3020.0,null,345.0,62.5,398.8,222308.0,109.0,5544.0,5544.0,0.007306,0.049217,0.030931,0.190537,0.19774,0.15100000000000002,0.855,0.16,null,3639.0,936.0,12214.0,8028.000000000001,12.463,0.737,763.0,754.0,23131.399999999998,38001.399999999994,null,519.0,8.0,10301.0,3757.0,18.0,36.0,353.0,506.0,189.0,51.0,208.0,208.0,null,null,null,null,1565.0,1257.0,10.0,3.0,0.0,9.0,51.0,8.0,34750.0,340.577,66163.2,59788.1,22.599999999999998,172.9,172.9,172.9,2645.1,52851.0,15167.0,39595.0,319.2,16.299999999999997,5243.0,null,null,26272.0,null,1107156.0,206.63,1871.28,1530.44,1239.2,1725.54,1209.6299999999999,null,437.34000000000003,1556.0,1246.0,6447.0,1276.0,70.0,1352.0,1423.0,968.0,null,2.36,3557.7,146319.7,161330.80000000002,126.0,2.0,27.900000000000002,37151.8,4049.7,1332.0,7248.0,2539.0,1018.0,3932.0,238.8,0.27599999999999997,8.68,3040.5,25561.0,7867.0,3630.56,78.88000000000001,21175.2,0.054,0.1,0.126,79.0,85.1,46.199999999999996,19.8,1858461.4,53435.1,72666.5,72759.4,39812.1,64.352,35233.566000000006,654.676,41.0,57.0,289.0,null,64.0,27.599999999999998,17.11,23.830000000000002,17.34,475.2,null,0.12000000000000001,0.0,null,0.69,25.15,287.45,287.45,1812.0,null,15577.289999999999,null,28797.670000000002,52.5,72.88,520.0,19620.0,23080.0,779.0,3382.5,465.7,1140.56,1140.56,345.0,91.5,64.8,null,937.6999999999999,null,3254.4,1660.9,5799.68,2031.51,2032.4,2032.4,814.8199999999999,569.6,2872.6,992.7,992.7,992.7,400.5,8.0,8.0,10.0,10.0,10.0,null,null,1.0,1.0,null,0.6,null,null,1.0,1.0,1.0,23977.0,59320.0,1318.0,975.0,857.0,27075.0,5306.0,834.29,0.0,0.8400000000000001,90.42999999999999,2000.0,134.55,8920.0,8920.0,null,null,0.02,0.07,30500.0,5400.0,733.08,930.4,7.0,416.021,null,0.308,1.07,0.00282,1.6,185650.79,0.0781,0.1996,0.0078,0.0021,0.3178,0.0032,0.1057,0.0039,0.0122,0.0702,40303.69,12110.609999999999,0.0297,0.0147,1.2194,0.014,13795.8,13335.824,13068.823999999999,15033.86,811.6,383.90000000000003,58.1,1.9300000000000002,17.080000000000002,107.74000000000001,11.9,49.279999999999994,38.96,32.03,3.54,599.4954,25529.911,1992.715,644.9399999999999,389976.39400000003,72.2134,134312.219,10483.623,5403.929,3821.183,617.1138,12.8336,13.4609,6.1732,414.47299999999996,75.3818,11.918,32.7396,4283.375,3092.86,0.1637,20.480999999999998,1353562.37,703967.03,40606.87,65.6789,20.67494,2159236.1500000004,1122906.16,64777.079999999994,444.0,444.0,444.0,180629.0,38911.0,12697.0,12697.0,12697.0,14745.0,1215130.0,30610.0,564.0,2.257,2300.0,143.4,521400.0,516799.99999999994,500.0,32.59,103.0,2510.0,0.047,587.0,24.2,3040.0,430.0,311.7,1133.5,1161.0,525.2,411850.0,273810.0,23758.0,2444.0,null,39.0,165.228,null,229058.83,249280.101,null,1499.0810000000001,null,94.103797,17.984639,67.417,233.340938,0.936527,1.692901,41075.576,6.478362,130335.21999999999,7.29,2277.32667,102.24619,5718.622,6593.9236,18662.970999999998,3.18595,67787.64099999999,49.467999999999996,34.51,3453.172,939.396,1023.706,9502.344000000001,15.476,17.584,502.90000000000003,900.9000000000001,0.3,1101.3999999999999,0.358,1275.076,390.0,null,null,0.6,35.7,2.7,220.67999999999998,4.664,null,null,34613.931000000004,34613.931000000004,34613.931000000004,97.454,null,null,50268.323000000004,25453.405,24246.846999999998,11726.871,64782.33299999999,106803.88,89781.462,38227.954,null,24265.564000000002,421494.12,null,null,303.0,946058.0,1.1939e-05,2.3,24.69,77.17,59.54,137.54,60798.0,5.12,12589.0,43.85,28609.0,0.0001431,203.1,89169.0,1011.4000000000001,2609.1000000000004,4456.86,264.128,5936.4,134.886,1980.038,null,66553.638,9047.599999999999,889.274,2100.496,1655.18,14.87,9.9654e-05,366.464,149.435,4323.0,1216.0,600.0,0.0083,1.8,2.7,0.9,10.1,1.8,66.9,1.776e-06,1901.36,9.289999999999999e-06,2114.836,687.1228,5730860.0,318640.0,19.0,0.0089,0.3,253.98,65.75,1430.0,8.65,0.001,87530.0,57870.0,10293.0,9100.0,2160.0,1920.0,2520.0,3120.0,6.4,48.0,null,12.9,7.2,0.1,1.2,0.4,582.8,84.6,1092.9,0.004,87.0,191000.0,2.0,0.036,2.78,6.0,9923.3,8476.0,179580.0,219.5,61.6,86665.8,5874.6,null,6529.099999999999,100085.0,35526640.0,10143.0,6966.0,8538.0,51099.0,6661.0,6739.0,8684.0,18473.0,2276.0,1585.0,1951.0,null,null,null,6278.0,0.0,2196734.0,16635.899999999998,130649.0,192743.1,210394.4,171492.6,null,8553.599999999999,2106.3,26232.5,37056.0,25394.4,3783.3,147.79999999999998,50.5,4092.6,31664.7,327311.3,42327.7,32742.100000000002,8508.6,42692.5,25542.2,16711.300000000003,172590.30000000002,50839.6,56093.8,4264.438,43964.1,32280.7612,9773.9931,62004.7,602390.5568,153.70000000000002,153.70000000000002,2118.2,7999.799999999999,800.0,48072.6,3385.6000000000004,3385.6000000000004,4312.599999999999,null,null,65.63,92.91,1.08,null,1.08,null,155.57,null,2.7009,null,4.59,0.27009,24.038,150.44,385.14,170.15,257.0,42.4,null,null,22480.0,18292.4,36.153,548.59,null,16075.73,1141.62,1316.93,0.86387,16.07,103057.643,37560.406,9497.323,23985.340999999997,12615.843,12005.521,1379215.8939999999,567.429,0.0348,0.060000000000000005,0.001589,1.93714,0.20900000000000002,0.01,0.00924,4.2509999999999994,10516469.76,62706.6,2399.462,0.04612,2.02011,2.2,4.66,0.10765,7.609999999999999,0.49289,2.0799999999999996,32.739999999999995,263417.0,152.0,152.0,10025.0,480.0,49.4,17.0,679.0,7.0,7.0,1673.0,1428.8639999999998,1125.012,5094.0,3712.0,21804.0,22705.0,3.006,0.0,0.0,null,0.0,41189.6,92.2,259.0,2443.0,387.29999999999995,26933.0,46479.0,58777.0,561391.0,160022.0,16001.999999999998,17.0,4.0,4.0,24.0,4.0,2.0,4.0,2.0,15.0,2.0,48.0,38.0,816.0,93.0,2633.0,5934.0,50813.0,23.0,4451.0,18545.0,10105.800000000001,10105.800000000001,null,4350.0,1100.0,null,3860.0,5140.0,6190.0,18336.0,3019.6,32284.6,25172.2,649.4,7480.0,66626.0,5.25,177099.85,7544.82,833.9,0.0684,181.408,157.1,47.6,720.0,0.0219,166.9,4.4067,21.0,33973.0,46870.0,707.0,13730.0,250.0,21178.0,319.0,6204.0,113.0,1308.0,2865.0,4103.0,3763.0,5742.0,5742.0,21312.0,718697.0,null,189694.0,20740.0,2074.0,200.0,120.0,200.0,430.0,0.0167,384.78000000000003,771.18,264.02,264.02,7.4,5053.13,130.95999999999998,0.04,1.7505e-05,null,null,null,3300.0,7700.0,13390.0,504845.7,178249.0,17295.5,3.3,45030.0,21.0,1.0,630980.0,70.21,1.779,4.598e-06,null,1520.0,152.0,0.106,144.0,47.0,894.0,26.0,8.0,1.0,18085.0,7326.0,849.0,98.10000000000001,2.549,3147128.0,865273.0,106019.0,0.269,0.164,2.0,0.653,0.298,2.0,13175.0,10711.0,5875.0,132418.0,220475.0,4.0,16.0,1.146,0.028,13.0,315.0,null,17893.0,37.0,9205.0,9205.0,3759.0,null,724.57,8365.0,5506.0,3552.0,142712.0,40703.0,4041.0000000000005,921.84,859.155,1008.71,2.374,5.0,74779.0,21.0,62243.0,null,1950.0,7018.0,2017.9999999999998,18726.0,34.0,null,19411.0,0.0025,30677.0,2.5300000000000003e-06,304.20000000000005,1956.0,127122.0,147.0,70.7,25.0,0.0136,0.0139,0.0072,null,0.0103,null,0.0009,0.0253,14.4,10.5943,null,847.1999999999999,1584.1000000000001,707.9,64.91,68.59899999999999,99958.0,68.926284,23.564223,19.263841,6.009472,26.202033,49.137442,6.444952,604.03,124.527,2088.8900000000003,11772.0,405500.0,10160.0,68336.0,22418.0,75797.0,7.0,23544.0,4276.0,2222.0,null,356.0,828.0,2040620.0,581670.0,58167.0,0.028,0.14,0.03,415.0,415.0,9.0,17.0,23.0,7.787,3.498,1.82,0.033,422600.0,200.0,null,null,1.1e-05,0.00041,0.01,2711.0,89258.0,685585.0,89258.0,151.10000000000002,1141.73,169.23,1073.63,null,1267.72,1.120944,160.64999999999998,null,20.75,40.9,6.1000000000000005,0.32,0.12000000000000001,null,2.09,2.0100000000000002,null,0.1,0.00763,null,0.48000000000000004,0.1,0.020999999999999998,17124.37,12.297,537.9000000000001,80.66,80.66,0.348,0.001,null,48.75,212.29500000000002,17260.0,5.2379999999999995,57.174546,null,1243.399601,null,212.847,252.00699999999998,1073.6000000000001,1025.0,286.1,14162.3,2291.7999999999997,582.5,12186.3,4029.0,11561.8,54132.0,24465.0,0.928,4254.1,3320.0,330.0,330.0,330.0,5489.0,0.99,4487.5,1214.5,252.5,0.34,573.4200000000001,387.84000000000003,209.0,23.46,27.25,6.67,50.84,2.0,null,null,7428.0,196.232,196.232,196.232,null,3633.0,10.0,1454.0,1454.0,27.900000000000002,14779.0,17.0,327.0,4011.9999999999995,7305.0,1311.0,247.0,64760.00000000001,28.0,17779.0,17.0,13137.0,17243.0,45460.0,65040.00000000001,2857000.0,11780.0,8435.0,1.0,77.0,50.0,104.0,953.0,19400.0,56.0,84.0,34.0,null,7.658,310.0,717.8,2402.4,2402.4,2402.4,null,null,null,null,17.0,null,null,null,null,null,38610940.0,19239512.0,0.593,257214.0,1556.0,1556.0,null,null,739.494,805.944,2175.202,19794.0,8566.502,44.348,2022.518,1256509.0,72508.0,0.007,81994.0,24580.0,4.0,4.0,4.0,620.0,20.0,400.0,400.0,5279563.0,2632938.0,396841.0,57903.0,26186383.0,12785469.0,1457416.0,26621.0,1.666,1.636,2.004,1.61,1293.0,1293.0,67.0,null,2952.517,406.388,174.693,12.686,23.037,7.968,0.101,128691.964,59066.539,5670.784000000001,null,255.69199999999998,120.935,18.313,28053.393,3200.1490000000003,320.015,16172.952,16007.635,null,5.5,3.59,4.7,10.67,60.19,39.78,30.4,3.1,null,null,null,7.7,null,null,17894.182,303.83,1.62,116.37,10780.0,1000.0,75520.0,244930.0,154564.0,7202.9,0.9,67629.90000000001,17236.4,1723.6,20.7,4.3,2.2,1.6,0.8,5.6,5.8,23691.5,2369.2000000000003,1.1,0.6,0.4,0.536,0.305,11920.0,4292.0,0.1829,0.161,0.060000000000000005,994.0,977.0,977.0,35680.0,3539.43,16.827,0.025,2.77,13.4,0.412,386.0,0.0107,9.58,22491.0,0.0,0.0,0.0,0.0,0.0,0.0,282254.0,76744.0,80306.0,77884.0,0.701,0.48,65748.0,1267.0,1267.0,104.0,7.0,3.396,0.993,1.947,0.766,null,12.0,2.0,24940.0,0.11,205.67,5.797e-06,259.7436,8.5824,44231.299999999996,3.0066,728.9,528.2,672.1,608.7,50.1,916.4,13804.6,7085.8,8184.900000000001,19019.0,178534.6,38024.799999999996,935.0,3578.7,5993.400000000001,4.5713,1.2657e-05,26304.600000000002,17078.600000000002,22468.1,461389.0,1241744.0,65893.8,null,11.1,26785.1,17674.7,22704.0,6323.599999999999,132991.6,105944.0,6114.8,48215.4,14420.0,6.2,45.6,73.45,1.6974e-05,360.0,61.0,1401.0,3786.0,408680.0,1181.0,197.0,4344.0,274.0,4870.0,3268.0,1308.0,34.0,2860.0,3202.0,33730.0,0.00793,1.823,23.830000000000002,4.316000000000001,46159.64000000001,23079.820000000003,9231.928,108677.19,56541.91,3403.578,1987253.0899999999,2.22,1.33825,0.41,0.00764,1.28,0.19,0.01,null,35866.48,17220273.06031,null,344489.953068,362623.207,34290883.5,3914613.2899999996,8206.44789,787739.71,700550.91,3420.0,2.87,15.26634,2.81,45.269999999999996,500.0,1.4,0.2,400.0,400.0,0.07,1294500.0,null,3500.0,2304.8,28707.899999999998,24.9595,null,17.8902,28.5085,7300.002,4027.5,12000.0,null,600.0,600.0,null,600.0,12600.0,22400.0,7200.0,5000.0,0.4,30.0,200.0,2782.575,709.176,70.91799999999999,0.0,0.14300000000000002,3.9,160997.0,215.76999999999998,1528.282,9.115,281.528,3708.4,12474.1,3791.785,2586.372,4965.82,14480.798999999999,1537.047,4481.9800000000005,1071.68,688.9,916.9300000000001,713.57,1.35,52150.1,142545.4,3605.3,75535.9,18273985.96,45435.8,2159.0,730.0,3940.0,1120.0,110.0,860.0,6580.0,7610.0,460.0,17510.0,500.0,2200.0,1780.0,7420.0,89540.0,4800.0,340.0,1920.0,1500.0,169890.0,32180.0,174376.0,75770.0,387445.0,7830.0,11375.0,701985.0,350992.0,52649.0,6.0,1.0,30.0,24239.0,135.0,9013.0,6348712.0,5716.0,0.522,0.265,109.0,100.0,512.0,959.0,1286.0,1589.0,2302.0,1535030.0,959610.0,398224.0,1.0,121.0,492.587,485.0,740.0,174651.0,76430.0,38961.0,27102.0,47947.0,61508.0,684.0,400.0,2290.0,7709.0,254.0,149.79999999999998,9.799999999999999,107639.2,2549.0,109.0,3193.0,3040.0,2004.0,1879.5,379.8,379.8,379.8,4254.0,546.0,270.0,null,null,13.0,4001.0000000000005,0.0,59748.7,4717.8,2588.1,15898.8,null,5964.0,5251.0,0.0,0.0,0.0,1080.0,3600.0,1280.0,592.5,2746.4,0.0805,3422.6,1026.7,760.3,0.9773,447.40000000000003,178.1,760.3,416511.3,720.4000000000001,720.4000000000001,46.199999999999996,160.3,123.30000000000001,null,null,1072.2,null,2838.1,6954.3,12631.6,1424.3,126.2,4420.3,994.8000000000001,9572.5,20078.5,4610.0,1912.8,1.3,null,null,0.062,4.9205,0.0206,0.7,18.3364,0.1692,0.1031,1.5734,3.3,8684.1,8411.0,1545.0,5577.0,3097.0,13955.0,11178.0,0.513,1252.0,590.0,69.9,5.6,17312.5,15410.3,11213.4,124.60000000000001,80.69999999999999,null,4890.0,35317.0,3075.8,2070.8,1840.7,2415.9,2991.1,402.0,4.0,2825.0,null,1771.0,1.5231,3.9762,26.75419,1542.0,5.1545,7.0134,991500.0,5831.9,63500.5,4.1599999999999995e-05,1408.7,3537.1,5192.1,4943.0,1970.5,7069.8,2780.0,5370.8,4336.299999999999,907.6999999999999,null,130.0,48470.0,10490.0,null,7.0,2.2,15360.0,null,2079.4,2137.9,4434040.0,null,0.2,null,null,null,null,2135.2000000000003,2833.2999999999997,12226.4,3905.8,15413.8,300.0,3500.0,0.3,1300.0,0.05,2.0,26700.0,500.0,10.0,null,100.0,100.0,0.0001,0.0001,0.02,1500.0,1500.0,1500.0,200.0,107900.0,43000.0,2387.4,3197.7,43.7,156.4,74.5,36.5,205.8,205.8,1453.7,55.1,10955.9,295.4,325.5,538.7,35200.0,2548.3,9757.1,5649.9,3800.0,50.0,32200.000000000004,4100.0,2300.0,20.6,200.0,1010.8999999999999,29.1,280.0,503.0,5600.0,3700.0,680.0,2900.0,5.0,1100.0,2500.0,1000.0,5100.0,0.3,0.5,0.3,0.3,0.2,2.5,0.2,0.8,800.0,72.8,60.5,80.4,1400.0,200.0,0.1,null,null,null,7189500.0,1900.0,685800.0,518700.00000000006,271400.0,0.003,0.01,0.2,0.2,3.0,400.2,61.9,22.2,28.6,0.2,2200.0,2000.0,950.0,159.0,314.0,81.4,1940.0,6900.0,0.0,8000.0,3600.0,1000.0,800.0,4000.0,1700.0,400.0,24400.0,2.2,3900.0,0.5,7.4,0.2,0.2,2300.0,3100.0,1500.0,1000.0,null,0.0001,null,0.0008,700.0,null,1164400.0,1700.0,3.0,100.0,100.0,190.52,39.702003,221.706,1121.46,292.23,390.07,1.4405,8600.0,28000.0,5500.0,18200.0,3300.0,4900.0,48600.0,1400.0,99200.0,3400.0,1500.0,1300.0,18300.0,2000.0,6100.0,700.0,3400.0,500.0,800.0,4500.0,15600.0,2700.0,8.335,0.6,582.13,3164.66,3899.56,592.46,3457.0,4.5,2987.0,null,null,null,468.16999999999996,799.57,20752.9,20644.0,0.007716503,2.4,2.4,2.4,47.0,13.809999999999999,1.2,1000.1,160.8,217.0,108311.7,1175.0,7982.3,5945.0,30.4,285.0,142.9,143.9,886.1999999999999,1149.6,0.8,617.3,null,1366.0,1366.0,18860.0,2310.0,1530.0,182.437,23.945,377.987,5800.0,3034.0,11.769,2572.0,135.0,321585.6,55161.6,99.6,238.6,530.0,1.0,2.8,5.5,2095.9,1863.1,2445.3,3027.5,1767.4,740.0,380.0,53060.0,49140.0,null,null,10.0,0.47,6726.0,19044.2,14468.7,3e-07,610877.0,42407.0,null,3350.0,null,null,null,null,null,null,0.0017,0.0016,0.0002,852490.1479999999,3603457.6,1612070.241,4704.935541,3770067.51,1304.175204,591638.569,20674.20165,39070.165,1448162.7820000001,1592.0,null,0.270619,0.000333,1.245,0.087446,0.183,0.025328,2.3379999999999996,1.1139999999999999,0.09000000000000001,2567.776,1526.935,1005.2909999999999,136152.0,20657.471999999998,224415.0,122771.0,10094.0,null,42.555354,null,281.4,32.9,151.5,2083.1,191.3,8385.7,null,16.0,null,786.9000000000001,2.3,1307.3,9.4,42961.2,null,484.59999999999997,null,676.1,null,132.0,0.1,12377.0,null,null,0.0,0.0,null,null,null,null,null,null,null,null,null,null,null,1573.8000000000002,204.6,2614.6,12110.8,10450.6,12832.0,1061320.0,null,null,0.49,0.0034,0.0018,0.0013,0.0143,0.0021,0.0017,0.0011,0.0011,166.17000000000002,2.606,0.0038,0.0541,0.0888,0.2964,2.478,6.6706,2e-06,7564.847000000001,null,null,null,104580.0,null,0.002,0.0,4076.38,19575.05,376.35,null,146.0196,4080.5999999999995,4080.5999999999995,null,null,null,null,78.5,38.0,1.15,3520.0,1014.15,7620.0,177.0,177.0,22195.0,3010.0,300.0,0.2406,2.6817,18.823,230.0,3e-06,15.2,4.1000000000000005,6e-05,0.0001,7e-05,0.036025,4564.2,0.000155,0.0002,0.0001,0.000115,0.0002,0.0002,0.0003,0.000124,0.0003,179.4964,8509884.6,4568.0,2100.0,3994.0,28193.0,236.47000000000003,3558.014,6249.18,613.0400000000001,3325.3599999999997,3.8e-05,0.0,1139.362,3e-06,0.00068,1174.96,286.150526,0.00162,0.00025,0.00344,21894113.28,3574.176,6255.886,6520.0,1148.298,45959.043,18916.069,9299.718,1177.807,57.864,6215.379000000001,114.901,502606.97,4764.047,null,null,null,109292.84599999999,398778.767,45118.329000000005,1731.789,7320.14,3274.84,7631.58,2941.81,20815.149999999998,87985.33,39361.767,20.423122,114.87997,92053.38,16.660954,31.84396,504.80003,35359.68,0.00012,0.000129,0.00014,0.07,1661.7,3141.7000000000003,0.0002,0.000117,0.000128,130.1381,57185.921,241723.644,11182.993,56.108781,315.611998,252899.971,45.77295,9.966652,24.363027,13.288922,87.485397,26.946979,28.792661,39687.733,1386.846517,21012.784,97144.227,1683.1000000000001,3150.1,1567.1999999999998,4027.4,2935.2,null,63477.0,null,303.20000000000005,2835.321,1213.9,0.035,1234.0,819.0,2300.0,166.0,null,0.13,12236.5,3580.0,2704.0,15950.0,7770.0,279.24100000000004,348.211,113.183,61.760000000000005,16532.94,1445.16,820.0,1430.6000000000001,9.299999999999999,19542.2,4627.900000000001,4807.599999999999,0.05,0.002,18418.5,1449.0,33.2,963.9,33.2,332536.2,1434403.1,4185.5,89.5,1.7,89.5,61.5,239.8,29.9,1.1587,4469.7,6036.2,14886.1,34388.5,3641.6,8386.2,6996.2,6465.099999999999,7890.5,14476.699999999999,34837.6,4914.5,2068.2999999999997,1.2,2.7,508.8,1992.8999999999999,6423.3,225.39999999999998,7.2,161.8,12.4,59.9,72.9,14.4,1793.0,1268.0,289411.0,141474.0,54713.0,47020.0,37567.0,25887.0,7641.0,764.0,155215.0,72986.0,34107.0,53.0,27.0,4.0,1102021.0,65840.0,53622.0,21632.0,71.0,36.0,5.0,34809.5,22217.0,0.08,25.0,272.451,0.084,0.17,null,1.0,null,1150.0,1346.0,1307.0,32.18,22.31,0.02,1154.4,43520.0,14.57,1.263,8.97,5.781,2.267,0.072,18.599999999999998,420.461,0.36000000000000004,0.606,30693.0,8286.0,8935.0,876.0,12221.0,2647.0,1589.0,4856.0,2255.0,1300.0,957.0,4035.0,2063.0,1.0,1.0,null,null,null,null,null,36605.4,37000.0,19119.046000000002,57471.929000000004,5061.036,6.034000000000001,1.509,8330.0,0.956,66317.0,58949.0,0.106,0.032,4.977,0.106,4.8,0.177,1800.0,57.0,32.0,191.0,0.11,9.0,23.84,129.57,159.67000000000002,28.38,24.299999999999997,null,688000.0,null,null,null,null,null,null,null,null,164.0,3746.0,5493.0,7082.0,3e-06,0.0002,10870.0,0.27,369.66,84.01,290.2,2029.0,5362.9,null,8410.0,1880220.0,300.0,1.406,12.0,2.0,13.0,141.0,3.0,10.0,3100.0,0.097,19.0,127900.0,63900.0,9500.0,248.0,7000.0,3900.0,10.0,0.86,3.7,66.7,52.0,70.0,0.57,139.0,0.15,8.0,25.0,32.0,14800.0,46.0,32.0,11716.0,5.0,72600.0,121000.0,null,null,null,null,140576.5,74.89999999999999,2544.0,2518.0,2518.0,74.89999999999999,null,8900.0,3605200.0,265600.0,59400.0,18200.0,7660.0,4.2,85.55,456.84000000000003,566.36,93.45,null,null,null,0.018,4115.9,222.1,2681.6,72023.9,125588.09999999999,1926.6000000000001,38690.9,73857.7,100299.59999999999,103175.6,null,8987.0,54498.0,2668.5,443.0,null,102.0,160408.0,207776.0,578.0,578.0,578.0,218118.0,3916.0,40180.0,null,0.25,315.0,57.9,0.0346,35936.2,1790.0,117.0,null,0.3,760.0,null,null,1650.0,224040.0,94210.0,610180.0,null,283820.0,1435420.0,11.5,6801.0,11487.0,58.0,null,3.0,10090.0,78892.0,66096.0,58977.0,0.1252,1512.0,null,null,null,null,null,null,null,null,null,null,null,null,null,null,null,null,null,null,6.935357,298.0,41.6,40.4,41.0,8.1,8.1,0.25,0.25,0.23,801.0,0.88,0.00106,79319.0,746.0884,65.526,null,0.03,421.52,17.3,17.3,419.0,198.0,62.0,62.0,62.0,62.0,1485.0,1212.0,0.1,8.0,494.0,6.0,14697.0,14697.0,136000.0,15.1,3.9,10.0,160.0,47.7,21.5,10.0,27550000.0,2759.0,2.82,70.0,5.2,410.0,172.2,null,null,36.0,null,2.0100000000000002,351337.0,3900.0,null,187040.0,186530.0,62055.880000000005,212383.52000000002,180950.68,326934.19999999995,1779.0,1779.0,14481.0,859.0,859.0,14481.0,5.7,0.12999999999999998,2.0,0.21000000000000002,null,18.863999999999997,5.36,18.259999999999998,42.8,35.7,27.599999999999998,23.599999999999998,null,0.96,1076.785,0.47,0.9600000000000001,0.35,8.0,0.12999999999999998,8963.792,3036.1,124.0,1.0,101559.0,756.0,627.0,4193.0,40.0,417.938,401.231,376.169,null,841.0,null,15030.0,4950.0,3710.0,515.0,515.0,11233.0,24.0,1460.0,10.0,23.0,null,15709.0,32625.0,120.0,5258.0,123.0,7239.0,31442.0,65298.0,26796.0,6662.0,null,null,null,null,null,null,null,null,34.08358,3986.7,830.0,6310.0,255980.0,220.0,0.0,5686.0,5686.0,5686.0,null,311.0,3276.0,36.0,107941.0,null,25223.0,null,0.0,1934.0,7054.0,1502.0,null,5497.0,10008.0,5323.0,null,5883.0,296995.0,76850.0,121390.0,24864.0,null,56780.0,418.0,80.0,80.0,927.0,3828.0,3828.0,3828.0,263525.0,72.0,423654.0,999.0,149534.0,208142.0,217196.0,null,104239.0,384.0,2644.0,null,0.0,692.0,692.0,692.0,null,0.0,2.0,234.0,null,1.0,139.0,2.0,2.0,450.0,440.0,142.0,null,180.0,18.0,5813.0,6945.0,7.0,13387.0,17515.0,null,8831.0,377.0,null,2.0,8079.000000000001,2.0,6264.0,2.0,1830.0,2410.0,null,1130.0,90.0,604.0,604.0,604.0,90.0,2205.0,1374.0,417.0,null,544.0,1920.0,1920.0,1920.0,5440.0,5440.0,5440.0,5843.0,16.35,87.63,108.5,25.8,17.62,9.379999999999999,40.25,33.56,0.37,9.299999999999999,59.56,323.1,398.40999999999997,73.76,61.12,7575750.0,14616.0,130288.0,44240.0,0.0,0.0,0.0,750.0,6530.3,2180.7,2093.6,1963.0,76133.79999999999,null,20674.0,28831.0,5522.0,32111.800000000003,9131.4,913.144,10451.3,2972.0,297.199,0.18000000000000002,0.18000000000000002,null,2130.0,6880.0,null,null,30.0,1.0,7.0,6.0,1293.0,6.0,5606.0,4976.0,10894.0,4563.0,8272.0,5276.0,20999.0,2277.0,3427.0,6947.0,46423.0,14382.0,38.0,421244.39999999997,1404148.2000000002,25249.0,84094.6,42839.2,38731.6,82.69999999999999,2.7,245.29999999999998,2.4,1137.0,2438.0,1010.0,1330.0,1642.0,26630.0,0.2,15900.0,11270.0,129.0,12800.0,null,400.0,300.0,100.0,76600.0,88700.0,9400.0,22700.0,null,15155.0,null,12483.5,10931.800000000001,370.0,null,null,null,null,2623.0,59.0,59.0,59.0,312.0,0.0,0.0,17164.0,2920.0,591.0,591.0,591.0,1.0,857.158,85.108,null,null,null,116.0,87.0,100.0,9700.0,3100.0,2566.0,233.0,0.0,265.0,265.0,1.0,0.0,3204.0,3204.0,54590.0,3.201,13544.0,13544.0,135425.4,5609.099999999999,5061.3,3958.0,0.11,0.060000000000000005,24204.4,2059.2000000000003,3038.2,null,3191.3,94135.0,1502.0,48.934,null,null,null,4769937.0,5235.64,28464.9,35074.770000000004,6184.2300000000005,5328.599999999999,563.49,28956.0,321.7,321.29999999999995,264.0,null,87.2,65.4,2660.6,11621.9,null,null,null,null,485707.0,740586.0,157.0,34113.034,null,null,null,null,null,null,null,null,23.0,null,null,null,null,null,null,null,null,null,null,null,null,null,null,null,null,null,null,null,null,null,null,null,null,null,null,null,null,null,null,null,null,1300.0,6490.0,42620.0,20350.0,84380.0,6488.0,null,null,null,null,null,null,60.4,112.49,160.0,104.5,60578.0,607.0,11310.0,33654.0,2603.0,null,268785.0,2278.0,6e-05,0.001,0.0201,0.022,0.2,94.0,9.0,2139.0,2892.0,1442.0,16.027,86.72,107.03999999999999,21.04,16.63,1.738,null,null,118.0,12.0,434.0,865.0,136.0,134.7,217.0,699.0,771.7239999999999,2761.1,134.72899999999998,null,10170.0,460.0,540.0,97190.0,10170.0,4420.4,1108.5,58687.1,null,2721.6,19237.600000000002,20.85,20.85,87.1,4420.4,1108.5,58687.1,205.0,676.0,740.0,null,null,3070.0,90.673519,0.336018,0.342766,null,null,0.02,0.19,null,null,76.14999999999999,183.73999999999998,0.76,67.59,55.5,275.87,32.497,33.9,392.79999999999995,32.33,3.254,72.15,571.89,12119.7,null,52887.0,490.4,null,null,null,null,null,null,null,null,970.0,552.0,605.0,592.0,15672.0,1951830.0,null,null,null,null,null,null,null,null,109453.8,29132.2,168.462,161.72400000000002,151.617,null,null,null,69610.0,16990.0,43350.0,null,2.7,0.007,132.202,null,0.05619,74.271,659.0409999999999,2.438,15.858203,3015.903,47378.0,33278.704,804870.0,139465.221,586397.0,2683893.0,100344.0,12.272705,5.166768,16.095000000000002,28.667848,4.3,0.0057,12.6,0.0152,0.1579,3947.45,68660.0,3.65,30.45,8.21,149900.0,1199.7,19618.0,10391.0,89.80000000000001,163.44,520.9599999999999,97.18,386.78000000000003,4573.2,60808.2,14417.8,2100.6,2737.0,11.0,24980.0,54660.0,707275.0,null,51.353,381.0,1597.0,80.0,250.0,1640.0,15.0,null,null,35076.57,103.16,null,null,null,null,5725.82,34.09,34.09,34.09,null,3.5,1.9,11.0,null,null,null,null,null,null,null,null,28500.0,null,null,null,null,null,null,null,null,null,null,null,null,null,null,null,null,null,null,null,null,65217.399999999994,null,null,null,null,null,null,null,null,null,null,null,null,null,null,null,null,null,null,null,0.1294,0.7645,0.0057,0.2645,0.3095,0.3296,0.0629,0.1861,0.4688,1.0813,0.2382,0.5837,0.2481,0.0686,0.3953,0.7407,0.4,74.30000000000001,21.491,2080.5,0.2497,74.30000000000001,97.3,165807.8,40043.6,4444.8,503.6998,390.4839,39456.299999999996,221.992,5.9938,8.8797,14.8735,466.4052,140.0769,712.5943,354.5212,228.9103,247.7431,231.0937,727.4677,2745.2000000000003,4742.4,162343.0,0.9187,390.1,1000.8,null,359.0,453063.0,null,4773.0,29.0,53007.0,53394.0,117.0,117.0,117.0,4665.0,163681.0,113438.0,152.0,null,null,null,null,null,null,null,625.0,244647.0,null,null,null,null,null,null,null,null,null,187413.0,0.01808,0.046046,0.90402,0.00377,1.08e-07,2227.098,1717.11,1513.115,null,null,null,null,null,null,373.0,null,null,33542.233,9.8e-05,361662.819,144707.437,7425.765,9.412,117837.153,15.430432,6021.632,2182.8416,37.6352,376.352,8.279744,null,null,264.92,101.11,0.023,3.2,31.0,0.5,6.2,null,615244.287,316476.21400000004,50475.757000000005,60.65,1817.3881,null,213.05,227.2221,null,102.0819,null,127.6452,1711.7642,168.0112,175.77,108220.0,null,0.865,15489.5,56110.0,null,null,null,1.59,0.449,8556.0,4179.0,0.005,187.0,972.0,725.6,1336.4,97.3,458365.2,299210.0,0.0,591.0,384.0,505.0,398.0,10701.0,11241.0,2865.0,287.0,1150.0,19.0,656.0,7.0,10444.0,10444.0,10444.0,null,0.0,13.0,2624.0,143.0,null,null,null,null,null,null,null,null,null,null,null,null,null,null,null,null,null,null,null,null,null,null,null,null,null,null,null,null,null,null,null,null,1683909.0,4098352.0,66806.0,58540.0,76091.0,0.0,null,null,null,null,null,null,null,null,null,null,null,null,null,null,null,null,null,null,null,null,null,null,null,null,null,null,null,null,null,null,null,null,null,null,null,null,null,null,null,2189.6659999999997,null,null,null,null,null,null,null,null,3801.498,null,null,null,null,1330.0,null,666.121,null,null,null,null,108.89999999999999,108.89999999999999,108.89999999999999,null,24170.0,5599.0,5599.0,null,null,null,0.0,4706.0,12539.0,982.0,329713.0,4243.0,0.00881,4569.0,388.0,779.0,399.0,11667.0,284.0,8.8,26.1,10.200000000000001,6.3,279.2,76.5,103.7,57.8,27.5,27.5,27.5,1257.2,18.3,4.8999999999999995,6.8,16.9,0.0,3.8,17423.0,1525.0,0.255,40.0,2720.0,null,null,null,null,null,null,null,558.6,0.0,0.0,363.4,3218.0,55499.899999999994,null,1059.5,24787.0,8503.0,null,null,null,null,null,null,null,null,null,null,null,null,6.3,3.1,15591.6,515.40102,2027.0000000000002,125.0,null,null,null,15092.0,6003.0,0.321,2.457,35310.52,176.027,0.156,null,0.378,0.741,32222.700000000004,51457.0,null,null,null,null,null,null,null,null,null,null,null,null,null,null,null,1071.0,null,null,null,null,null,null,null,null,null,null,null,null,null,null,null,null,null,null,null,null,null,null,null,null,null,null,null,null,null,null,null,null,null,null,null,null,null,null,null,null,null,null,null,null,null,null,null,null,null,null,0.0,0.7,0.7,1060.0,5138.0,1800.0,1800.0,1800.0,234.0,18467.33,280908.45,47860.587,12197.903999999999,1219.79,null,1084225.514,15.061381,2283858.0,1516465.889,3802.09,12809.570000000002,44.028931,17.037714,24099.641,24099.641,12809.570000000002,546807.006,21260.73,2568.06,4442.1,194735.992,68157.597,333704.42000000004,32091.9,47629.56,18335.0,126618.0,236564.0,104458.0,0.056063,3.852,13247.0,0.0,63.952,7721.0,31119.3,153452.85,47000.0,0.27805,3.7407,0.11002,84630.0,84317.0,19539.0,3689.0,368.0,45.220000000000006,45.220000000000006,21.42,21.42,41792.5,41792.5,21939.917999999998,1817.3,1670.7,328.942,346.32099999999997,3.3605,3.1178,250.2,4.1871,0.1566,null,181965.4,40316.6,0.409,1.0415,20.4477,0.5351,15086.6,15086.5,15086.5,145.1,38160.069,438366.8,0.1717,103.1995,3438.9646,99.0987,16061.499999999998,19324.899999999998,19027.5,3142800.1,482709.0,1.9,null,225.64000000000001,null,10.33,292.21799999999996,null,null,null,null,3937.282,7268.846,2899.5969999999998,136.0,null,160.0,15223.0,2.0,null,640.0,137993.0,202.0,439560.0,2.0,165.0,195.0,12.0,124.0,2.0,49.0,3742.2,21830.0,5569.35,1.0,15153.2,887.311718,null,1193.0,724.0,16242.0,1055.0,65.0,1084.0,null,210628.0,64843.99999999999,1386.0,204.0,15726.0,282790.0,278.0,280730.0,133220.0,58160.0,1550.0,null,732.0,170.0,1776.0,4379.0,5839.0,5159.0,747545.0,373772.0,56066.0,782530.0,939.67,334.0,5159.0,1471.0,1268.0,28.0,791.0,1474.0,765.0,271.0,37642.0,16280.999999999998,378.0,939335.0,0.0003,0.019,3.7e-05,1.1e-05,9.9,2.7e-05,0.018000000000000002,0.1,3.4,0.78,null,442.0,71.593,162.0,47.276,40.0,6.87,6.811,54.788,11.124,32.602,0.358,13.983,1.649,16.678,155336.0,832.0,968.0,1.513,27.9377,null,0.678,539.3679999999999,null,null,9130.0,4030.9,1079.8000000000002,23.4825,8.11,null,null,78320.0,883.732,323.46000000000004,79.10000000000001,null,null,null,null,287.96,13.700000000000001,160336.0,462650.0,1700.0,449.0,60741.0,21.0,947.0,34608.0,7.4e-05,813861.0,279.6,279.6,0.0002024,159.39999999999998,11923.4352,952.5,13.69,24414.4,57648.7,103.8087,1475.0,2416.9071,10986.3,1.23e-05,231717.0,210925.80000000002,194800.19999999998,11.799999999999999,2601.6,0.3442,5241.7,1839000.0,8790.0,null,882.0,446150.0,20.389,1708.0,97.04,7653.0,199253.0,187653.0,187234.0,703.0,457.0,601.0,473.0,7417.0,14300.139,10476.488,279276.0,8214.0,67717.0,13744.0,17149.0,56.0,null,null,null,null,null,null,null,null,null,null,112720.0,null,null,null,313999.0,91019.0,9068.0,39629.0,null,0.374,0.019,1.0,null,0.296,null,null,20121.0,899.0,null,null,29.268,null,158.0,0.008,218158.0,97366.0,905343.0,239639.0,23964.0,136.27,398681.0,26975.84,1862740.0,86095.4,1488460.0,67140.0,480910.0,5379023.0,5725.37,153833.0,6404610.0,199860.0,3882830.0,15.05,0.4378,23413.0,53.199999999999996,0.5,200.7,2.068,15138.0,67700.0,7480.0,4.64,10.5,94.0,0.0,0.426,1900.0,245000.0,5330000.0,3e-05,0.01405,null,6e-05,5.4e-05,5.8e-05,6.3e-05,0.2,0.041999999999999996,3.453,0.004,14.596,null,6.53,0.675,0.00339,0.01906,0.1,15.270000000000001,0.00276,0.000601,0.00147,0.0008,0.000468,0.000468,0.00528,0.000468,0.000535,0.001739,2.397,0.08374,1.269,0.158,5.866,0.244,574.0,812000.0,17271.0,7870.0,0.0,0.011,0.036,1.0,0.001,1.0,782.0,313.0,7667.682,128.869,19394.724,9.665,451.04,277.0,4.0,22.0,138.0,0.13,103918.0,0.389,19440.0,16618.0,1600.0,1600.0,14700.0,71048.0,null,null,66.9,282.7,126.5,295.8,null,113.60000000000001,3508.0,15138.0,74690.0,38727.0,2349.0,45.0,0.0117,0.4494,16.646,30675.0,null,0.4,7.5,7.0,null,null,480.0,0.1,80.3,50.0,0.0,580.0,4054.9999999999995,2.506,5159.0,0.714,983.0,1650.0,4.678,23.592,12.446,177.0,1659.0,216.0,1726.0,4.394,5.945,0.054,1235.0,0.692,214.0,1014.0,28.368,7.525,17.046,11.405,50.0,16.0,115.892,58.655,151.095,5499.882,null,4352.0,8.0,7833.0,6711.0,4808.0,44294.0,43166.0,19663.0,8873.0,null,1.231,null,17331.0,167.0,18.27848,null,66475.09999999999,16951.899999999998,1683.2,null,1391.3,1.01,0.0,48815.37,null,55.0,null,null,3200.0,2300.0,77674.0,14348.0,2885.0,0.674,0.0002,0.004,0.0,0.5899061,6085120.7,1134.6000000000001,4579.5,5804.5,7286.0,80.8,196.72,96453.2,41.0,156.6,84.2,150.2,38890.2,1684.9,96453.2,null,null,null,null,null,null,null,6904.5,null,null,null,null,null,857.1,3064.8,978.8,978.8,978.8,408.6,2641.9,36.4,null,null,null,12.0,85.0,72.7,395.0,61.6,360.20000000000005,39.5,221.20000000000002,4382.2,2260.8,154.4,1e-06,43.93,30.005,7920.085,92.09,0.001,8.213,0.001,589.0,0.04,5.047,0.603,0.005,0.037,10.77,0.016,1.7791,13.139,2.683,2.32,2469.87,2003745.1679999998,16992.0,1.332,0.041,0.428,16991.852000000003,2292.8,179.0,300.0,180.0,null,null,4507.981,24634.399999999998,2178.852,4937.947999999999,42.261,12595.0,1259.0,143919.0,1621854.0,818843.0,475011.0,2444.0,null,41.54,2.774,528.0,588.0,144.0,742.0,1272.0,34200.0,5608.0,634.0,230.0,2450.0,4212.7,null,0.29100000000000004,32.986000000000004,0.58,2452.5800000000004,8551.880000000001,11437.630000000001,20.758,20.758,3583.0,313537.0,30458.0,23291.0,21500.0,6271.0,273925.0,69813.0,6981.0,7214.0,266.0,6633460.0,null,1408.0,963.0,null,1.017,0.543,8.497,46.768,3.568,11.087,99140.0,963.0,267548.0,4050.0,60125.104999999996,null,18600.0,1039159.3009999999,68968.363,null,12.35,8.356,299.967,2.564,78.404,13758.0,13036.0,54960.0,65038.0,3149.0,4825.0,2684.0,2172.0,481.0,2798.0,4287.0,2385.0,3.1,8186.9,9002.599999999999,5581.5,3232.2000000000003,5741.0,2215.7,15867.4,1446.0,139218.6,797.4,7256.0,10804.199999999999,2268.7,34126.9,8212.8,55.800000000000004,5443.900000000001,8179.9,32843.200000000004,965.1999999999999,8036.0,53.900000000000006,831.0999999999999,536.3,4880.7,7266.9,26.4,1286.8999999999999,22953.1,5524.200000000001,0.0,395.0,null,32194.000000000004,25415.0,null,575.0,575.0,null,null,null,null,19560.0,47500.0,4434.0,2851.0,8.0,5.0,6.0,289000.0,0.46,1.7,4.0,112.0,82.0,21800.0,18000.0,123.0,9.9613e-05,10280.0,9820.0,5420.0,4022.9999999999995,4429.0,587.0,null,null,6.0,null,594.0,546.0,null,1320.0,2.3332,8090139.0,29080.100000000002,6734.9,1972.6999999999998,1972.6999999999998,1972.6999999999998,4812661.0,6239.0,3250.0,40.0,963.0,33.0,40.0,21663.0,3402.0,21663.0,6106.0,3402.0,null,null,null,null,null,null,9.7e-05,2e-06,4e-06,4e-05,0.0001,7.074000000000001,0.611,0.2,null,23.684,42.225,13.174,166.0,68.0,7.074000000000001,0.611,1.803,1810.0,17.0,0.8109999999999999,2.0,225.0,394.0,12.0,74.0,1436.0,163.0,41.9,1.1,22.0,2.1,1308079.2,65471.7,176795.6,1230200.7000000002,470444.8,62975.200000000004,900822.0,112185.7,67288.70000000001,5783.1,3349.7,null,10059.0,209.0,1374.0,1143.0,null,null,null,null,677.0,677.0,677.0,102.0,null,2460.0,2460.0,2460.0,8956.0,164.0,null,null,59105.0,176.0,176.0,176.0,1550.0,823.0,32.0,null,null,null,null,null,null,112894.0,null,205145.0,16047.0,7.0,7.0,7.0,11170.0,null,null,null,373.40000000000003,578.3000000000001,880.0,9.299999999999999,7.0,10.200000000000001,19.3,0.2,5.1000000000000005,373.40000000000003,578.3000000000001,880.0,9.299999999999999,null,null,null,28763.3,16741.0,536589.0,1734.0,1734.0,null,null,330.6205,177.153,154.453,25000.0,3716.0,null,4393.0,2852.0,3756.0,59078.0,26256.0,1506.0,1945.0,51.0,1671455.0,194545.0,1167.0,757.0,996.0,7504.0,3661.0,31297.0,18612.0,309.0,33283.0,36036.0,55720.0,151.0,151.0,151.0,746690.0,0.0,5444.0,null,44.0,null,null,null,null,null,167.0,4764.0,4612.0,37.0,null,29314.0,39905.0,98.0,98.0,98.0,1153.0,11.0,5244.0,823.0,21794.0,31890.0,null,6030.0,3754.0,3039.0,20905.0,null,null,null,null,null,null,null,418.0,418.0,418.0,414.0,33.0,null,null,null,208.1,1788.3,265.1,81577.9,847.9,3049.3,107.30000000000001,3.3,205289.3,97114.90000000001,55244.6,76.8,1.9,26.1,208.5,2403272.8000000003,56.4,0.1003,6961585.2,2172.8,4624183.2,68.3,10.2705,51.3321,482553.4,null,0.8387,0.0419,0.3145,null,3.6147,193.8,0.4,0.629,4.8,34.3,73977.0,34854.2,6913.9,null,18.5,131.1607,23.2948,0.0,7.1153,63.7277,19.0,17495.8,121.89999999999999,211.0,null,null,null,null,null,null,881.0,null,82.0,null,null,null,null,null,null,null,229.0,2140.0,null,2497.0,71.9,79.2,23.900000000000002,156.6,919.1,2758.3,212.0,3303.4,4335.8,41.9,0.0,0.2,null,null,364.8,0.0,null,null,null,null,null,null,null,null,1110.0,187.0,32.0,4401100.0,2191600.0,1e-06,5.7,4.6,20.299999999999997,6470.0,1.0607,0.00044,0.5291,1e-06,0.00074,0.287501,0.13203,null,null,null,null,null,null,null,null,null,null,null,null,null,null,null,null,39225.0,60479.0,null,null,null,null,null,null,null,604.0,15989.0,23387.0,15337.0,3.0,6972.0,245.0,39132.0,25420.0,37181.0,24384.0,4130.0,34.0,null,null,null,null,null,666.0,44437.0,68710.0,579.0,46.0,854518.0,3.0,222.0,1185.0,414.0,414.0,414.0,10061.0,368.0,null,null,null,37072.0,1185.0,10.0,2493.0,20.0,null,null,331.0,15708.0,22976.0,15068.0,null,null,null,null,2840.0,23.0,0.0,null,null,null,null,null,26629.0,null,884.0,4478591.0,36587.0,968512.0,1416617.0,929023.0,9873.0,14441.0,9470.0,2356.0,19.0,666.0,58761.0,38642.0,5.0,5.0,5.0,8186.0,null,46.0,3081.0,null,105.0,null,6369.0,220.0,30351.0,248.0,null,null,null,null,null,null,null,null,null,null,997.0,8.0,null,null,null,null,null,null,5170.0,42.0,null,null,null,null,null,null,null,null,115010.0,178941.0,797.0,81.0,2460.0,13384.0,0.0,4688.0,4688.0,4688.0,586.0,741.0,4030.9999999999995,1412.0,1412.0,1412.0,3033.0,16.0,null,null,74.0,2.3,659.0,2053.0,500.0,628.0,628.0,628.0,504.0,2744.0,961.0,961.0,961.0,386.0,232167.1,1536.1,1536.1,1536.1,1035.4,9312.0,44354.0,7504.0,15235.0,15235.0,15235.0,7650.0,null,null,null,null,null,null,null,80.0,null,null,null,null,null,null,null,4415.0,14.0,null,null,null,1562.0,0.0,1957.0,1069.0,848.0,848.0,848.0,37408.0,47558.0,1664.0,1664.0,1664.0,4332.0,2932.0,0.0,20999.0,637.0,1501.0,1501.0,1501.0,246800.0,9152.0,530.0,399.0,399.0,399.0,834.0,139.0,null,603.0,603.0,603.0,null,null,178.0,1803.0,1538.0,null,null,1635.0,8667.0,3023.0,3023.0,3023.0,186.0,81.0,null,null,null,4392.0,3.0,null,null,null,null,null,null,null,null,null,null,1063.0,null,null,null,null,null,null,null,null,383096.0,265616.0,6521.099999999999,6521.099999999999,6521.099999999999,8267.8,16.0,5644.0,1846.0,1846.0,1846.0,561.8,1070.6,1070.6,1070.6,1172.1999999999998,26842.0,4.0,4.0,4.0,317.0,1027.0,5051.0,1737.0,1737.0,1737.0,2068.0,6700.0,10153.0,1926.0,1926.0,1926.0,1024.0,769.0,6.0,3731.0,3731.0,3731.0,5585.0,1906.0,1906.0,1906.0,2247.0,6948.0,6.0,null,null,null,null,null,433.0,1800.0,597.0,597.0,597.0,1307.0,4618.0,1469.0,1469.0,1469.0,4061.0,19.599999999999998,444.0,578.0,317.0,317.0,317.0,1035.0,null,3854.0,3068.0,null,null,1387.0,4220.0,32.0,11340.0,null,4543.0,4409.0,null,null,2458.0,4184.0,899.0,705.0,705.0,705.0,413.0,479.0,2232.0,773.0,761.0,761.0,761.0,308.0,null,null,null,null,null,81.0,1787.0,null,null,null,null,null,null,null,null,null,1801.0,156.0,80.0,729.0,3939.0,1379.0,1379.0,1379.0,null,null,null,null,null,null,6696.0,6.0,null,null,null,null,null,null,null,419.0,null,4191.0,20574.0,7074.0,7074.0,7074.0,33.0,1006.9999999999999,null,3318.0,66.0,66.0,66.0,10703.0,1137.0,1137.0,1137.0,360.0,1961.0,687.0,687.0,687.0,null,null,null,null,null,null,null,null,3298.0,818.0,818.0,818.0,78705.0,482510.0,1482.0,1482.0,null,null,69871.0,52002.0,8106.0,8106.0,null,null,null,null,null,null,null,null,9.9,6.37,8.51,186.06,6799.12,null,null,6805.49,9838.86,900.157,64.83999999999999,30953.0,2015.0000000000002,null,null,null,null,null,null,null,1237.0,6512.0,null,null,null,null,null,null,null,null,30588.0,327.0,580.0,2483.0,2849.0,266.0,18842.0,459.0,1074.0,715.0,604046.0,269.0,269.0,269.0,270.0,89.0,10.0,103.0,235424.0,285531.0,6854.0,16041.0,1120.0,131705.0,3390.0,104.0,1079.0,281169.0,142.0,3951.0,199051.0,478.0,478.0,478.0,null,null,null,null,null,136.0,54.0,403.0,null,400.0,200.0,1100.0,500.0,6207.0,25.0,25.0,25.0,172.0,7412.0,12590.0,2230.0,26085.149999999998,3.128703,0.003602,1.004,9.590735,0.000275,0.2059,0.010591,60115.603,30678.877,6889.4580000000005,33.006,8.770999999999999,11.622,177.523,12.895,4.677,49.14,null,3.76,66.55999999999999,0.536681,null,0.007309,24.0,25521.0,42900.0,2150.0,611.0,61.0,1629.0,410.0,218.0,2307.0,928.0,206.0,5217.0,59.0,216.0,18400.0,7300.0,2228441.5,21.9,341.1317,729.3647,1742.1962,0.6117,63.9233,2162.5,10.958,49479.2,983091.3,23988517.5,93555.2,33.2186,49.2,304.4566,1171.4635,72.9,843.7,385.79999999999995,53.1774,0.2374,0.0012,15.6652,1.6,1.6725,521.0,25.8,3335.7000000000003,22620.0,22620.0,10700.0,5400.0,2000.0,14300.0,null,5.01e-07,24800.0,null,null,null,150.45600000000002,847.286,1031.721,130.20499999999998,15.306000000000001,25460.0,2815.0,13837.0,8672.0,32.85,235.0,544282.0,8784.0,299.0,4278.0,101835.0,null,45521.0,null,96478.0,null,202810.0,6261.255,65090.0,2781.087,2507.103,745.0,745.0,745.0,15431.0,413.09000000000003,null,248507.0,132949.0,36000.796,6692.947,21289.762,343701.0,23725.0,58751.0,49478.0,null,322461.0,null,null,null,352.481,25.0,25.0,25.0,1752.473,null,null,7.0,7.0,7.0,185.0,null,null,null,null,null,null,78.0,312.0,312.0,312.0,5833.0,4517.0,null,null,null,null,null,269.0,163.0,440.0,50883.0,82.0,82.0,82.0,35.0,35.0,35.0,66.0,1.0,1.0,1.0,539.0,3.0,3.0,3.0,null,8923.0,null,null,null,null,null,null,null,null,null,33.0,15932.0,2.0,2.0,2.0,null,2027.0000000000002,1182.0,1323.0,1276.0,null,null,72.0,null,531.0,8015.000000000001,73.2,0.0,16048.59,3947.0,35.94,1760.0,14251.480000000001,2218.0,null,38.0,1598.3899999999999,3699.36,1030.84,1030.84,1030.84,532.2099999999999,11061.949999999999,3447.82,3447.82,3447.82,1614.9199999999998,4.0,3102.42,4575.62,970.3000000000001,970.3000000000001,970.3000000000001,704.68,13.0,1111.49,2417.98,654.95,654.95,654.95,349.47,5061.54,19005.98,6225.7,6225.7,6225.7,2723.0699999999997,65.0,1406.1,1406.1,1406.1,9113.0,76.00999999999999,6.0,6597.96,3461.15,953.59,953.59,953.59,568.48,32.0,1455.05,22.08,null,null,null,null,null,null,null,null,null,null,null,null,null,null,null,null,null,null,null,null,null,null,null,null,null,null,null,null,null,null,null,null,null,null,null,null,null,null,null,0.0,250.0,250.0,250.0,7489.3,934133.0,158.0,9.0,null,null,20683.0,336.0,133.0,1970.0,0.0,10.0,271.0,1053.0,350.0,350.0,350.0,161.0,263.0,264.0,81.0,71.0,533505.0,10.0,590.0,104.0,984.0,984.0,984.0,7.0,707.0,16.0,2.0,null,null,null,null,null,null,265.0,29.0,75.0,192.0,192.0,6691.0,26175.0,5135.0,155.0,7.0,1463.0,1595.0,1595.0,116.0,29807.0,61793.0,null,127365.0,24823.0,null,73329.0,null,75084.0,null,171876.0,39389.0,81436.0,63420.0,41775.0,21223.0,null,null,96548.0,75535.0,408796.0,41898.0,null,null,null,null,null,null,null,null,null,null,null,null,null,null,null,15757.0,14204.0,0.0,1513.0,1513.0,1513.0,2657.0,null,null,null,null,null,null,null,3522.0,null,10182.0,1846.0,1846.0,1846.0,1257.0,1058.0,3833.0,5793.0,794.0,794.0,794.0,6900.0,1538.0,1538.0,1538.0,null,null,null,null,null,null,null,null,null,null,3778.0,141.0,714.0,3072.0,0.0,1027.0,1027.0,1027.0,420.0,145.0,353.0,227.0,1235.0,433.0,433.0,433.0,null,null,null,null,null,null,null,null,null,5759.0,1313.0,1313.0,1313.0,95144.0,5233.0,null,null,null,null,94.0,null,null,8729.0,0.0,3476.0,null,null,null,7.0,337.0,null,387.0,387.0,387.0,2794.0,106.0,7202.0,59.0,165.0,null,4401.0,334.0,1818.0,637.0,637.0,637.0,255.0,164.0,856.0,793.0,357.0,0.0,3146.0,117.0,null,null,7870.0,2110.0,2110.0,2110.0,null,null,null,1995.0,2048.0,2048.0,2048.0,4794.0,2109.0,null,null,null,null,null,320.0,731.0,731.0,731.0,7792.0,null,null,null,null,null,null,null,2955.0,8507.0,2514.0,3252.0,454.0,454.0,454.0,0.0,null,null,null,null,null,null,null,null,null,null,null,null,null,null,null,null,8993.0,737964.0,2805.0,2411.0,1004.0,749.0,28911.0,19659.0,8.0,8.0,8.0,3929.0,31.0,null,null,null,null,null,null,3936.0,132.0,101050.0,687176.0,null,null,null,null,null,213.116,10546.56,315.979,5826.532,344.207,54884.0,15041.0,15041.0,15041.0,424.635,190.625,28798.0,0.0,18525.335,63.365,9841.073,211.302,638.1210000000001,11071.0,30068.0,987.0,118.0,21303.0,1014.9999999999999,6523.0,5448.0,2347.0,136.0,136.0,136.0,11918.0,4880.0,426112.0,1117805.0,1839742.0,180402.0,180265.0,180225.0,415.0,137.0,89.89999999999999,421.0,43.0,95.808,95.808,95.809,1960.0,66836.0,40220.0,22344.0,9.525,22.137,3.0,4300.0,16000.0,11500.0,2600.0,1276.0,12700.0,600.0,3600.0,11700.0,5700.0,0.002,0.001,38.148,1614.0,3520.0,1724.0,10438.0,null,null,null,4996.0,400.0,null,1639.0,4836.0,13982.0,null,null,0.01806,0.04487,1.26,0.02626,0.43,1.89318,0.8899999999999999,0.5599999999999999,2.94,0.12000000000000001,2188.65,2188.65,2188.65,22696.13,3.09724,0.1031,0.00205,0.06999999999999999,0.05642,0.11,null,0.04,null,null,null,null,null,null,null,null,null,null,null,null,null,null,null,null,null,null,65915.0,1547.0,493.0,10378.0,1413.0,439.0,720010.5,2102.9,2102.9,2102.9900000000002,153686.69,null,27680.0,null,null,3458.0,10318.0,5241.0,97341.0,51696.3,38781.0,729.0,729.0,729.0,331.0,18.0,null,null,null,null,null,null,null,269.0,1e-06,6931.0,5865.0,4798.0,0.001,11.0,26.0,1724.0,1687.0,180.0,180.0,180.0,40.0,569.0,569.0,569.0,null,9381.285,1526.0,3193.0,3245.766,1689.2450000000001,17.365,1678.5110000000002,17.253999999999998,3225.0,3225.0,3225.0,1497.828,15.396999999999998,null,451.0,2602.594,6636.0,6309.0,2065.0,2065.0,2065.0,1884.451,null,5136.0,1831.0,558.0,558.0,558.0,null,null,681.0,179.0,202.0,null,null,null,null,null,null,null,null,64.0,53297.0,19633.0,8438.0,72.0,83637.0,4343.0,683.0,18087.0,26456.0,5005.0,17350.0,null,null,null,null,null,null,null,null,null,null,null,null,null,null,null,null,null,null,null,null,null,null,151.0,548.0,null,null,null,null,null,null,null,null,null,null,null,null,null,null,null,null,null,null,null,null,151.264,2036.644,92.087,92.087,92.087,0.0,62.0,981.0,null,null,11.06,70.188,2.7399999999999998,2.7399999999999998,2.7399999999999998,42.104,null,0.0,null,null,null,null,null,null,null,null,null,null,76826.0,628.0,16614.0,24312.0,15936.0,null,null,null,null,null,null,null,null,null,null,null,null,208214.0,1701.0,45036.0,65874.0,43194.0,null,null,null,null,null,null,null,1054.0,2296.0,null,null,null,null,null,null,null,null,null,null,null,null,3169.0,null,458.0,3952.0,3589.0,null,null,1832.0,null,2748.0,399.0,65185.0,533.0,14099.0,20632.0,13522.0,null,null,null,null,null,null,262.59,1762.484,80.331,80.331,80.331,755.351,null,0.0,null,null,null,null,null,null,25069.0,205.0,5421.0,7933.0,5200.0,null,198.374,1289.19,58.759,58.759,58.759,552.511,null,0.0,1822.0,631.0,6086.0,761980.0,690580.0,3630.0,3080.0,3080.0,3080.0,810.0,440.0,440.0,440.0,82470.0,2160.0,1820.0,470.0,5160.0,73880.0,4540.0,4540.0,4540.0,2270.0,1422100.0,1095540.0,713200.0,1100.0,82980.0,4450.0,4450.0,4450.0,null,null,131290.0,2850.0,1890.0,1890.0,1890.0,null,null,null,20.0,null,2170.0,1710.0,1710.0,1710.0,1240.0,3230.0,2690.0,2410.0,null,3836.0,1261.0,273.0,13172.0,19551.0,40.9,40.9,40.9,7352.0,null,null,null,null,null,null,null,null,null,null,null,null,null,null,null,null,null,null,1104.0,null,null,null,null,null,0.0,0.0,null,null,null,null,null,null,null,null,null,null,null,null,null,null,null,null,null,3617.0,141.0,72494.0,97598.0,227202.0,348472.0,28.0,212653.0,111226.0,16.0,16.0,16.0,10819.0,186.0,57773.32,89049.84,247.5,247.5,247.5,18107.5,486.12,502.0,1696.0,7057.0,10322.0,1952.0,1216.0,6768.0,259.22,3001.2,3513.0,533.0,1488.0,1219.0,1004.4599999999999,1.0,75711.59,115345.92000000001,59124.31,null,null,null,null,3290.0,null,null,null,298.0,7550.0,24744.0,1610.0,1279.0,233046.0,null,68927.0,1377.0,31.0,61219.2,127189.5,1272.04,1272.04,1272.04,40906.46,841.08,207638.0,253616.0,14847.0,6272.0,null,null,643.0,2114.0,1844.0,54746.0,30605.0,83.0,83.0,83.0,27198.429999999997,84.2,84.2,84.2,353.1,20.25,21.0,3405.0,35.0,35159.0,24458.0,508.0,508.0,508.0,6644.0,85.0,2104.0,613.9599999999999,50516.0,74000.0,1484.0,6859.8,16871.14,2262.03,2262.03,2262.03,1506.77,149.47,267.65,18331.0,65.0,65.0,65.0,1619.0,57012.0,40299.0,20.0,20.0,20.0,4624.0,753.0,1323.0,1323.0,1323.0,8232.0,2515.0,1564.0,2004.0,11478.0,9151.0,1540.0,1903.0,4131.0,18429.41,30193.66,1152.64,1152.64,1152.64,730.92,326.7,21.04,null,null,3816.47,7725.2,426.21,3.5500000000000003,2359.0,41431.44,287713.0,151203.0,10922.0,39910.0,28.0,4.0,4.0,4.0,1847.0,38121.0,46451.0,1120.0,1120.0,1120.0,12855.0,566.0,3830.0,3034.0,1379.0,83975.996,130.12,null,null,null,120858.0,186878.0,506.0,506.0,506.0,1248.0,24.0,50733.0,78385.0,2670.0,null,null,null,null,null,null,19.970000000000002,1922.0600000000002,6489.0,2117.67,2117.67,2117.67,948.59,0.34,4869.0,null,3.65,2785.5,1561.05,null,3.0,3.0,3.0,5029.0,67.0,31574.0,4.0,4.0,4.0,78.0,78.0,78.0,1660.0,118.0,null,null,null,null,null,null,1657.59,4.590000000000001,9454.0,1487.0,39373.0,57592.0,10895.0,6782.0,5491.0,37768.0,null,null,null,null,null,null,null,2426.0,4811.8,732.37,15.99,1086.95,5914.2,2117.5099999999998,2117.5099999999998,2117.5099999999998,849.25,400.2,5.2,1011.4000000000001,254.30000000000004,14189.5,194011.59999999998,531.5999999999999,385.0,1467.5,3205.0,70372.29999999999,2105.6,null,null,null,190048.0,845953.0,24881.0,0.013,342501.0,161714.0,24257.0,94913.344,4629.919,4398423.0,1064881.0,370.39,1921416.0,533060.18,15449.955,31324602.0,2489566.292,12770010.0,49059.17,26872680.0,338.913,338.913,338.913,null,739.0,474.0,633.0,13254.0,268.0,27.0,166.0,52.0,80.0,6447.0,268403.0,5692.0,5221.0,9241.0,11102.0,null,3493.0,46.0,46.0,46.0,45648.985,3413.4159999999997,19602.527,9086.02,56906.0,null,89.1,76.1,44.0,1597.0,158.6,20533.0,20533.0,32.0,27.3,21.0,2119.0,1438.0,58854.899000000005,799.0,4354.0,4721.0,86070.0,2169.4990000000003,3133.877,8200.0,960.58,198.47799999999998,null,9.756591,2.388612,8.212552,1.075462,555.858,19778.367,6286.366,null,null,null,75320.49,31.39,3314.69,2890.88,2430.1,2473.84,null,6702.0,66924.2,1857736.4,4.4399,566090.1,284658.8,84456.90000000001,6647.0,95110.0,2804.6000000000004,2804.6000000000004,2804.6000000000004,30602.0,1439.3,268.8,29864.2,2028.0999999999997,747.0,1060.3,1060.3,1060.3,8637.0,21916.2,1497.4,516.7,14474.0,1768.3,963275.2000000001,508030.3,15227.5,1432.1999999999998,609.9,14077.8,212.2,0.0,null,137.3,null,14500.0,27938.9,6803.7,447.29999999999995,42224.600000000006,0.0,1009523.0,564069.0,18.0,2162.0,2162.0,2162.0,9.799999999999999,2679.0,925572.2,1785.0,96641.0,19450.0,null,75.0,null,718.0,97400.40000000001,5887.0,4601.9,4601.9,4601.9,28660.1,3195.0,1838.0,259.5,346.0,0.0,7533.0,18110.800000000003,174.2,14592.800000000001,null,1811157.3,1419918.0,769.0,38473.799999999996,58874.0,89.03,89.03,89.03,10077.18,84.47,518004.6,null,4453.599999999999,488.0,1002910.7000000001,658650.4,2698.0,10329.0,37702.3,2208.0,628.5,27674.5,2686.5,1881.0,1578160.7,1079981.0,null,113.0,54613.0,370753.2,338735.8,95042.5,4203.299999999999,1954.8000000000002,null,null,786057.4,19.0,386.0,7266.0,null,27.7,null,115.5,73.53999999999999,73.53999999999999,73.53999999999999,41.12,4420.5,9772.0,68106.09999999999,null,null,null,null,null,null,9959.0,7105.0,182.9,182.9,182.9,229.1,229.1,229.1,75971.23000000001,1567.78,1566.98,1566.87,2840.2,2754.0,56861.1,1037.3000000000002,1037.3000000000002,1037.3000000000002,7224.1,75.5,7417.6,null,170621.5,37741.3,376.09999999999997,376.09999999999997,376.09999999999997,1939.8,155.70000000000002,154.0,153.79999999999998,22739.0,86970.0,0.17,193.70000000000002,193.70000000000002,193.70000000000002,177.92,2298.0,20334.3,168.5,17922.0,107844.23,27206.880999999998,1288.09,null,21699.359999999997,1519.9309999999998,324926.0,225167.0,0.0,45542.0,19567.0,null,291.0,1444.0,null,294.0,0.0,748.98,508.09000000000003,508.09000000000003,508.09000000000003,2040.06,285.03000000000003,285.03000000000003,285.03000000000003,null,null,null,null,null,null,null,null,null,31861.7,2015.79,611.8,22253.0,1659.0,5117.0,74.89999999999999,1983.2549999999999,19979.555,1166.3570000000002,0.0,23629.0,37791.0,99.21000000000001,null,null,null,null,null,null,null,144886.0,9821.984,4515.902999999999,1678.848,375.17400000000004,900.0,5259.234,null,null,null,55.847,null,17.2,1795.0,0.0,0.0,null,null,null,null,null,null,null,67.86,67.86,67.86,null,null,null,null,null,null,null,null,null,null,null,null,null,null,null,null,null,null,3039.0,3039.0,3039.0,2016.0,null,null,null,null,420267.0,288.0,null,null,null,null,2620.0,2620.0,2620.0,3711.0,104.0,null,null,null,null,null,57232.0,324.0,324.0,324.0,10067.0,2603.0,252.0,4381.0,3492.0,1577.0,null,null,null,null,54170.0,93243.0,236.0,236.0,236.0,1954.0,505.0,5418.0,4585.0,2204.0,null,null,null,null,null,null,null,null,null,null,null,null,152.0,485606.0,772630.0,null,null,null,null,null,null,9088.842,1073.0,1073.0,1073.0,8220.582999999999,2635.872,4033.888,5190.2390000000005,15621.054,2989.8349999999996,10271.459,5406.9710000000005,211280.56399999998,23105.269,null,null,null,null,null,null,6413.967000000001,8109.0,200.0,200.0,200.0,7129.3550000000005,null,1837.0,1837.0,1837.0,16380.607999999998,0.0,4264.764999999999,30391.0,46946.0,0.0,70.0,70.0,70.0,3093.373,null,null,null,4902.0,7142.0,505.0,505.0,505.0,3775.223,3382.0,9224.0,583.0,2808.0,2808.0,2808.0,7078.071,2478.0,3525.0,11211.201000000001,9682.347,9628.103,4212.29,42935.644,2562.0,916.0,916.0,916.0,3349.0,9536.0,9143.0,2864.0,2864.0,2864.0,6298.036,1109.181,1487.948,517705.00000000006,1050777.0,1498549.2999999998,1.9,151315.0,151175.0,53.699999999999996,4312.0,16073.0,1544.0,4.0,1134.0,556.0,26.0,272.0,5884.0,5498.0,3084.0,13164.1,12141.400000000001,5444.0,null,44.0,null,null,null,null,null,316153.0,16432.0,2583.0,68369.0,100022.0,65582.0,null,29538.0,30834.0,55.0,55.0,55.0,2494.0,18.0,26800.0,1393.0,219.0,5796.0,8479.0,1604.0,5559.0,2946.929,0.0,194.0,194.0,194.0,7120.115,72608.0,null,null,211.0,970.0,597.6479999999999,1622.0,1622.0,1622.0,null,0.0,5166.353,2034.237,1704.831,null,48.0,1669.0,null,null,null,null,15.0,15.0,15.0,138216.0,48643.0,1004.0,1004.0,1004.0,134.0,40.0,569.0,15350.0,23735.0,64.0,64.0,64.0,200.0,11.0,44103.0,10412.0,878.0,258.0,258.0,258.0,null,24278.0,3196.0,797.0,797.0,797.0,170.0,1948.0,70.0,70.0,70.0,218.0,36.0,174.0,12.0,2380.0,2380.0,2380.0,614375.0,979.0,48169.0,42485.0,168.0,168.0,168.0,523.0,180.0,180.0,180.0,2233.0,null,55.0,null,null,null,null,null,null,null,null,null,null,null,null,null,null,35253.0,316902.0,1491.0,1491.0,1491.0,28492.0,16571.0,45.0,45.0,45.0,140.0,10680.0,1791.0,1791.0,1791.0,481.0,null,2109.0,null,null,396.0,2964.0,3153.0,null,1067.0,68932.0,40077.0,108.0,108.0,108.0,338.0,18.0,371.0,1995.0,698.0,698.0,698.0,725.0,19.0,54768.979999999996,632.0,4.87,4.87,null,null,null,null,null,null,null,null,null,null,null,null,null,null,null,214817.0,13679.0,112.0,2961.0,4334.0,2838.0,15494.0,127.0,3351.0,4902.0,3214.0,9179.0,13400.0,109.0,2898.0,4304.0,2780.0,null,12283.0,100.0,null,null,null,24985.0,1360.0,204.0,5419.0,7986.0,1495.0,null,5188.0,1675.0,14.0,null,null,null,null,null,null,null,60.0,6124.0,151578.0,62985.0,4568.0,99.0,99.0,99.0,1599.0,15.0,290.0,3.0,1997.0,1527.0,156.0,0.0,797.0,102038.0,7384.0,null,null,null,null,null,1301.0,7078.0,2480.0,2480.0,2480.0,994.0,3.0,151.0,579.0,33061.0,110.0,110.0,110.0,57.0,83.0,83.0,83.0,null,5793.0,898.0,24.0,8631.0,368.0,1173.0,62.0,673.0,122278.0,8337.0,179.0,179.0,179.0,625.0,52.0,1571.0,527135.0,711.0,26409.0,454.0,454.0,454.0,1415.0,76.0,304.0,89612.0,null,58820.0,18716.0,644.0,644.0,644.0,2232.0,267.0,155822.0,10624.0,38.0,729.0,230.0,520.0,520.0,520.0,92776.0,6326.0,136.0,136.0,136.0,964.0,36.0,61.0,61.0,61.0,36.0,null,null,null,null,null,227.0,60.0,320.0,320.0,320.0,815.0,10524.0,7.0,78179.0,5330.0,115.0,115.0,115.0,357.0,19.0,4034.0,159.0,11694.0,494.0,3998.0,57875.0,36.0,341.0,99960.0,20145.0,838.0,10001.0,95306.0,17.0,284.0,284.0,284.0,34.0,767.0,253689.0,17297.0,579.0,630.0,42484.0,2921.0,10.0,null,null,2838.0,10.0,867.0,86049.0,5991.0,24706.0,null,1318.0,null,223.0,5345.0,7858.0,1478.0,null,5126.0,null,null,null,null,null,null,null,564.08,32.0,32.0,32.0,25606.0,84.0,null,null,1155737.0,454582.0,743672.0,60.0,65409.00000000001,2270.0,2270.0,2270.0,7247.0,24.0,28683.0,24.0,null,null,null,null,72.0,47088.0,662.0,2754.0,12.0,22486.0,34769.0,94.0,94.0,94.0,664.0,75.0,1518.8200000000002,1518.8,146.82,8382.0,18425.0,null,null,null,3984.0,5843.0,null,1103.0,null,null,3822.0,675.0,53181.0,2761.0,445.0,11501.0,16822.0,3182.0,1981.0,1604.0,11032.0,144.0,561.0,null,null,null,null,null,null,null,72.0,null,null,null,741954.0,730429.0,24.0,24.0,132.0,null,null,64369.0,97827.0,260.0,260.0,260.0,45.0,173287.0,261670.00000000003,4386.0,0.0,null,null,303.0,2120.0,1716.0,null,null,null,null,null,4054.0000000000005,141996.0,61912.0,220.0,220.0,220.0,2070.0,41.0,234.0,234.0,234.0,33716.0,2299.0,49.0,49.0,49.0,443.0,8.0,2.0,2.0,2.0,13.0,898.0,898.0,898.0,850.0,13260.0,2751.0,2933.0,39.0,39.0,39.0,122.0,7.0,null,null,null,null,null,null,null,470.0,470.0,470.0,149.0,389015.0,12.0,null,null,null,null,null,null,null,324.0,324.0,324.0,121.0,121.0,121.0,552.0,2.0,null,null,null,null,null,null,null,null,39897.0,64149.0,122.0,122.0,122.0,3355.0,31.0,148990.0,206.0,206.0,206.0,2580.0,40612.0,26707.0,4.0,4.0,4.0,5658.0,21.0,26641.0,2192.0,128.0,13539.0,4290.0,2809.0,165544.0,339.0,339.0,339.0,5525.0,null,null,null,null,53365.0,16347.000000000002,85.0,85.0,85.0,26259.0,46391.0,5.0,5.0,5.0,7017.0,26.0,14289.0,308.0,308.0,308.0,2507.0,51.0,24801.0,38348.0,104.0,104.0,104.0,323.0,17.0,3350.0,27.0,null,null,null,6700.0,null,55.0,null,null,null,null,null,47464.0,28948.0,3.0,3.0,3.0,3987.0,14.0,12.0,4383.0,16.0,36530.0,6285.0,3185.0,1.0,1.0,1.0,1517.0,5.0,43692.0,3385.0,12.0,12.0,12.0,1954.0,6.0,1701.0,55.0,55.0,55.0,4554.0,836.0,31953.0,54909.0,30254.0,130.0,130.0,130.0,null,108.0,49.0,49628.0,59877.0,130.0,130.0,130.0,31.0,24.0,6414.0,64542.0,54798.0,699.0,372.0,7258.0,7877.0,573.0,146.0,146.0,146.0,null,333113.80000000005,2213.81,824.7900000000001,824.7900000000001,55705.0,1642.0,1642.0,1642.0,24.0,13043.0,55181.0,2.0,2.0,2.0,24.0,2211.0,144.0,2292.0,null,2536.0,3717.0,null,null,null,2432.0,null,null,null,null,null,null,null,349792.0,18213.0,2858.0,75644.0,110703.0,5690.0,20931.0,13029.0,10549.0,72560.0,4.0,4.0,4.0,28840.0,518475.0,93302.0,6369.0,1433.0,59.0,125840.0,5471.0,196.0,196.0,196.0,611.0,33.0,0.0,26962.0,21977.0,3.0,3.0,3.0,19.0,null,null,null,null,435.0,435.0,435.0,13333.0,29.0,29.0,29.0,1937.0,1.0,1.0,1.0,1538.0,3.0,234.0,1027.0,66.0,66.0,66.0,207.0,11.0,11213.0,431.0,431.0,431.0,572.0,60641.0,4135.0,89.0,89.0,89.0,1062.0,16082.0,25017.0,355.0,13.0,13.0,13.0,16545.0,23.0,127.0,127.0,127.0,44.0,1133.0,16.0,152409.0,38046.0,332.0,332.0,332.0,53.0,271906.0,399623.0,20821.0,86420.0,126489.0,82896.0,14517.0,119.0,3139.0,4599.0,3011.0,0.0,0.0,0.0,612346.0,31826.0,5002.0,132422.0,193729.0,9960.0,36642.0,22809.0,18467.0,127023.0,96.0,96.0,96.0,24.0,40268.0,51457.0,85.0,85.0,85.0,31.0,null,null,5647.0,null,null,null,null,null,null,null,null,22258.0,33310.0,4.0,4.0,4.0,5473.0,20.0,528999.0,262.0,null,null,1037.0,34.0,45139.0,3136.0,68.0,68.0,68.0,863.0,11.0,1879871.0,849859.0,6273.0,55.0,55.0,55.0,965.0,72.0,256366.0,26357.0,86772.0,5916.0,1181.0,103.0,217.0,217.0,217.0,8419.0,2524.0,2524.0,2524.0,736219.0,1952.0,1952.0,1952.0,56.0,24.0,null,null,null,null,null,null,null,null,null,null,null,null,7.0,7.0,7.0,38.0,341144.0,32429.000000000004,682.0,682.0,682.0,1933.0,157.0,81.0,12.0,0.0,75656.0,5158.0,111.0,111.0,111.0,2212.0,301.0,1072.0,1072.0,1072.0,620.36,112.82000000000001,5.97,36710.6,87.8,401.0,535.0,2358.2999999999997,64.33,null,81319.0,1148.0,null,null,54968.0,null,null,null,null,null,null,null,6672.17,6672.17,6672.17,307680.0,3447.2,15954.9,1700.8000000000002,96.4,15968.8,14491.0,199.5,199.5,199.5,17232.1,14.3,3836.0,31.6,1058.0,27373.899999999998,575.2,575.2,575.2,595.0,595.0,595.0,4888.6,11641.880000000001,2014.5529999999999,2014.5529999999999,2014.5529999999999,1054.472,null,369.0,6672.17,6672.17,6672.17,37806.0,0.39,916.135,3535.81,null,3759.868,162499.0,99049.0,548.0,548.0,548.0,72941.8,119.707,6509.028,2950.599,8233.0,6886.0,35.0,35.0,35.0,486.29,1470.3809999999999,69155.0,19464.533,3811.223,0.0,130521.99999999999,199684.0,201.0,201.0,201.0,328.34200000000004,2537.477,21979.0,62.0,62.0,62.0,2490.786,null,25584.0,null,1.031,43080.0,74258.0,11237.0,326.0,326.0,326.0,17406.978,341.33000000000004,241085.1,280467.0,1817413.1,5561.275000000001,null,3219.4159999999997,130227.0,163.0,163.0,163.0,21951.0,null,null,150313.5,null,null,248624.0,47501.0,10716.860999999999,2437.047,58181.0,51650.0,202605.0,null,328.0,3325.181,520.0,520.0,5118.026000000001,9270.112,1837.677,76.92699999999999,251815.0,12259.0,1375.0,235.0,235.0,235.0,4210.866,9916.26,3226.116,66.486,26375.399999999998,20548.300000000003,893.1,893.1,893.1,11.056,462134.0,232240.0,471.0,null,361144.0,26224.0,null,null,null,null,null,null,null,369.20599999999996,111.0,111.0,111.0,97.43499999999999,null,3589.213,5119.0,5458.0,449.0,449.0,449.0,1970.84,48991.0,507.0,507.0,507.0,65891.72,2987.901,1067.285,30859.0,24485.0,212.0,212.0,212.0,7800.9130000000005,null,154961.0,0.0,21558.0,313571.0,0.0,6092.0,null,null,48956.0,0.0,38.0,38.0,38.0,6772.0,33403.0,null,19.0,482.0,0.0,797.0,797.0,797.0,626.0,35.0,13.0,null,9073.0,74.0,null,3834.0,0.0,168.0,0.0,null,1756.0,169.0,null,154298.0,2247.0,null,18871.0,0.0,null,3986.0,1320.0,1320.0,1320.0,246.0,5420.0,0.0,1619.0,1619.0,1619.0,990.0,1012.0,0.0,319.0,319.0,319.0,134.0,null,null,null,null,32561.0,112617.0,2393.0,2393.0,2393.0,null,null,7.0,8004.0,7.0,4.0,4812.0,4.0,5676.0,5.0,5256.0,4.0,8556.0,7.0,17820.0,14.0,13236.0,11.0,5148.0,4.0,null,null,7271.0,null,null,12528.0,10.0,35080.0,null],\"yaxis\":\"y\",\"type\":\"scattergl\"}],                        {\"template\":{\"data\":{\"histogram2dcontour\":[{\"type\":\"histogram2dcontour\",\"colorbar\":{\"outlinewidth\":0,\"ticks\":\"\"},\"colorscale\":[[0.0,\"#0d0887\"],[0.1111111111111111,\"#46039f\"],[0.2222222222222222,\"#7201a8\"],[0.3333333333333333,\"#9c179e\"],[0.4444444444444444,\"#bd3786\"],[0.5555555555555556,\"#d8576b\"],[0.6666666666666666,\"#ed7953\"],[0.7777777777777778,\"#fb9f3a\"],[0.8888888888888888,\"#fdca26\"],[1.0,\"#f0f921\"]]}],\"choropleth\":[{\"type\":\"choropleth\",\"colorbar\":{\"outlinewidth\":0,\"ticks\":\"\"}}],\"histogram2d\":[{\"type\":\"histogram2d\",\"colorbar\":{\"outlinewidth\":0,\"ticks\":\"\"},\"colorscale\":[[0.0,\"#0d0887\"],[0.1111111111111111,\"#46039f\"],[0.2222222222222222,\"#7201a8\"],[0.3333333333333333,\"#9c179e\"],[0.4444444444444444,\"#bd3786\"],[0.5555555555555556,\"#d8576b\"],[0.6666666666666666,\"#ed7953\"],[0.7777777777777778,\"#fb9f3a\"],[0.8888888888888888,\"#fdca26\"],[1.0,\"#f0f921\"]]}],\"heatmap\":[{\"type\":\"heatmap\",\"colorbar\":{\"outlinewidth\":0,\"ticks\":\"\"},\"colorscale\":[[0.0,\"#0d0887\"],[0.1111111111111111,\"#46039f\"],[0.2222222222222222,\"#7201a8\"],[0.3333333333333333,\"#9c179e\"],[0.4444444444444444,\"#bd3786\"],[0.5555555555555556,\"#d8576b\"],[0.6666666666666666,\"#ed7953\"],[0.7777777777777778,\"#fb9f3a\"],[0.8888888888888888,\"#fdca26\"],[1.0,\"#f0f921\"]]}],\"heatmapgl\":[{\"type\":\"heatmapgl\",\"colorbar\":{\"outlinewidth\":0,\"ticks\":\"\"},\"colorscale\":[[0.0,\"#0d0887\"],[0.1111111111111111,\"#46039f\"],[0.2222222222222222,\"#7201a8\"],[0.3333333333333333,\"#9c179e\"],[0.4444444444444444,\"#bd3786\"],[0.5555555555555556,\"#d8576b\"],[0.6666666666666666,\"#ed7953\"],[0.7777777777777778,\"#fb9f3a\"],[0.8888888888888888,\"#fdca26\"],[1.0,\"#f0f921\"]]}],\"contourcarpet\":[{\"type\":\"contourcarpet\",\"colorbar\":{\"outlinewidth\":0,\"ticks\":\"\"}}],\"contour\":[{\"type\":\"contour\",\"colorbar\":{\"outlinewidth\":0,\"ticks\":\"\"},\"colorscale\":[[0.0,\"#0d0887\"],[0.1111111111111111,\"#46039f\"],[0.2222222222222222,\"#7201a8\"],[0.3333333333333333,\"#9c179e\"],[0.4444444444444444,\"#bd3786\"],[0.5555555555555556,\"#d8576b\"],[0.6666666666666666,\"#ed7953\"],[0.7777777777777778,\"#fb9f3a\"],[0.8888888888888888,\"#fdca26\"],[1.0,\"#f0f921\"]]}],\"surface\":[{\"type\":\"surface\",\"colorbar\":{\"outlinewidth\":0,\"ticks\":\"\"},\"colorscale\":[[0.0,\"#0d0887\"],[0.1111111111111111,\"#46039f\"],[0.2222222222222222,\"#7201a8\"],[0.3333333333333333,\"#9c179e\"],[0.4444444444444444,\"#bd3786\"],[0.5555555555555556,\"#d8576b\"],[0.6666666666666666,\"#ed7953\"],[0.7777777777777778,\"#fb9f3a\"],[0.8888888888888888,\"#fdca26\"],[1.0,\"#f0f921\"]]}],\"mesh3d\":[{\"type\":\"mesh3d\",\"colorbar\":{\"outlinewidth\":0,\"ticks\":\"\"}}],\"scatter\":[{\"fillpattern\":{\"fillmode\":\"overlay\",\"size\":10,\"solidity\":0.2},\"type\":\"scatter\"}],\"parcoords\":[{\"type\":\"parcoords\",\"line\":{\"colorbar\":{\"outlinewidth\":0,\"ticks\":\"\"}}}],\"scatterpolargl\":[{\"type\":\"scatterpolargl\",\"marker\":{\"colorbar\":{\"outlinewidth\":0,\"ticks\":\"\"}}}],\"bar\":[{\"error_x\":{\"color\":\"#2a3f5f\"},\"error_y\":{\"color\":\"#2a3f5f\"},\"marker\":{\"line\":{\"color\":\"#E5ECF6\",\"width\":0.5},\"pattern\":{\"fillmode\":\"overlay\",\"size\":10,\"solidity\":0.2}},\"type\":\"bar\"}],\"scattergeo\":[{\"type\":\"scattergeo\",\"marker\":{\"colorbar\":{\"outlinewidth\":0,\"ticks\":\"\"}}}],\"scatterpolar\":[{\"type\":\"scatterpolar\",\"marker\":{\"colorbar\":{\"outlinewidth\":0,\"ticks\":\"\"}}}],\"histogram\":[{\"marker\":{\"pattern\":{\"fillmode\":\"overlay\",\"size\":10,\"solidity\":0.2}},\"type\":\"histogram\"}],\"scattergl\":[{\"type\":\"scattergl\",\"marker\":{\"colorbar\":{\"outlinewidth\":0,\"ticks\":\"\"}}}],\"scatter3d\":[{\"type\":\"scatter3d\",\"line\":{\"colorbar\":{\"outlinewidth\":0,\"ticks\":\"\"}},\"marker\":{\"colorbar\":{\"outlinewidth\":0,\"ticks\":\"\"}}}],\"scattermapbox\":[{\"type\":\"scattermapbox\",\"marker\":{\"colorbar\":{\"outlinewidth\":0,\"ticks\":\"\"}}}],\"scatterternary\":[{\"type\":\"scatterternary\",\"marker\":{\"colorbar\":{\"outlinewidth\":0,\"ticks\":\"\"}}}],\"scattercarpet\":[{\"type\":\"scattercarpet\",\"marker\":{\"colorbar\":{\"outlinewidth\":0,\"ticks\":\"\"}}}],\"carpet\":[{\"aaxis\":{\"endlinecolor\":\"#2a3f5f\",\"gridcolor\":\"white\",\"linecolor\":\"white\",\"minorgridcolor\":\"white\",\"startlinecolor\":\"#2a3f5f\"},\"baxis\":{\"endlinecolor\":\"#2a3f5f\",\"gridcolor\":\"white\",\"linecolor\":\"white\",\"minorgridcolor\":\"white\",\"startlinecolor\":\"#2a3f5f\"},\"type\":\"carpet\"}],\"table\":[{\"cells\":{\"fill\":{\"color\":\"#EBF0F8\"},\"line\":{\"color\":\"white\"}},\"header\":{\"fill\":{\"color\":\"#C8D4E3\"},\"line\":{\"color\":\"white\"}},\"type\":\"table\"}],\"barpolar\":[{\"marker\":{\"line\":{\"color\":\"#E5ECF6\",\"width\":0.5},\"pattern\":{\"fillmode\":\"overlay\",\"size\":10,\"solidity\":0.2}},\"type\":\"barpolar\"}],\"pie\":[{\"automargin\":true,\"type\":\"pie\"}]},\"layout\":{\"autotypenumbers\":\"strict\",\"colorway\":[\"#636efa\",\"#EF553B\",\"#00cc96\",\"#ab63fa\",\"#FFA15A\",\"#19d3f3\",\"#FF6692\",\"#B6E880\",\"#FF97FF\",\"#FECB52\"],\"font\":{\"color\":\"#2a3f5f\"},\"hovermode\":\"closest\",\"hoverlabel\":{\"align\":\"left\"},\"paper_bgcolor\":\"white\",\"plot_bgcolor\":\"#E5ECF6\",\"polar\":{\"bgcolor\":\"#E5ECF6\",\"angularaxis\":{\"gridcolor\":\"white\",\"linecolor\":\"white\",\"ticks\":\"\"},\"radialaxis\":{\"gridcolor\":\"white\",\"linecolor\":\"white\",\"ticks\":\"\"}},\"ternary\":{\"bgcolor\":\"#E5ECF6\",\"aaxis\":{\"gridcolor\":\"white\",\"linecolor\":\"white\",\"ticks\":\"\"},\"baxis\":{\"gridcolor\":\"white\",\"linecolor\":\"white\",\"ticks\":\"\"},\"caxis\":{\"gridcolor\":\"white\",\"linecolor\":\"white\",\"ticks\":\"\"}},\"coloraxis\":{\"colorbar\":{\"outlinewidth\":0,\"ticks\":\"\"}},\"colorscale\":{\"sequential\":[[0.0,\"#0d0887\"],[0.1111111111111111,\"#46039f\"],[0.2222222222222222,\"#7201a8\"],[0.3333333333333333,\"#9c179e\"],[0.4444444444444444,\"#bd3786\"],[0.5555555555555556,\"#d8576b\"],[0.6666666666666666,\"#ed7953\"],[0.7777777777777778,\"#fb9f3a\"],[0.8888888888888888,\"#fdca26\"],[1.0,\"#f0f921\"]],\"sequentialminus\":[[0.0,\"#0d0887\"],[0.1111111111111111,\"#46039f\"],[0.2222222222222222,\"#7201a8\"],[0.3333333333333333,\"#9c179e\"],[0.4444444444444444,\"#bd3786\"],[0.5555555555555556,\"#d8576b\"],[0.6666666666666666,\"#ed7953\"],[0.7777777777777778,\"#fb9f3a\"],[0.8888888888888888,\"#fdca26\"],[1.0,\"#f0f921\"]],\"diverging\":[[0,\"#8e0152\"],[0.1,\"#c51b7d\"],[0.2,\"#de77ae\"],[0.3,\"#f1b6da\"],[0.4,\"#fde0ef\"],[0.5,\"#f7f7f7\"],[0.6,\"#e6f5d0\"],[0.7,\"#b8e186\"],[0.8,\"#7fbc41\"],[0.9,\"#4d9221\"],[1,\"#276419\"]]},\"xaxis\":{\"gridcolor\":\"white\",\"linecolor\":\"white\",\"ticks\":\"\",\"title\":{\"standoff\":15},\"zerolinecolor\":\"white\",\"automargin\":true,\"zerolinewidth\":2},\"yaxis\":{\"gridcolor\":\"white\",\"linecolor\":\"white\",\"ticks\":\"\",\"title\":{\"standoff\":15},\"zerolinecolor\":\"white\",\"automargin\":true,\"zerolinewidth\":2},\"scene\":{\"xaxis\":{\"backgroundcolor\":\"#E5ECF6\",\"gridcolor\":\"white\",\"linecolor\":\"white\",\"showbackground\":true,\"ticks\":\"\",\"zerolinecolor\":\"white\",\"gridwidth\":2},\"yaxis\":{\"backgroundcolor\":\"#E5ECF6\",\"gridcolor\":\"white\",\"linecolor\":\"white\",\"showbackground\":true,\"ticks\":\"\",\"zerolinecolor\":\"white\",\"gridwidth\":2},\"zaxis\":{\"backgroundcolor\":\"#E5ECF6\",\"gridcolor\":\"white\",\"linecolor\":\"white\",\"showbackground\":true,\"ticks\":\"\",\"zerolinecolor\":\"white\",\"gridwidth\":2}},\"shapedefaults\":{\"line\":{\"color\":\"#2a3f5f\"}},\"annotationdefaults\":{\"arrowcolor\":\"#2a3f5f\",\"arrowhead\":0,\"arrowwidth\":1},\"geo\":{\"bgcolor\":\"white\",\"landcolor\":\"#E5ECF6\",\"subunitcolor\":\"white\",\"showland\":true,\"showlakes\":true,\"lakecolor\":\"white\"},\"title\":{\"x\":0.05},\"mapbox\":{\"style\":\"light\"}}},\"xaxis\":{\"anchor\":\"y\",\"domain\":[0.0,1.0],\"title\":{\"text\":\"YearMinus1\"}},\"yaxis\":{\"anchor\":\"x\",\"domain\":[0.0,1.0],\"title\":{\"text\":\"YearMinus2\"}},\"legend\":{\"tracegroupgap\":0},\"margin\":{\"t\":60}},                        {\"responsive\": true}                    ).then(function(){\n",
              "                            \n",
              "var gd = document.getElementById('e0ed5674-1330-406d-9757-a092d9cd8b6d');\n",
              "var x = new MutationObserver(function (mutations, observer) {{\n",
              "        var display = window.getComputedStyle(gd).display;\n",
              "        if (!display || display === 'none') {{\n",
              "            console.log([gd, 'removed!']);\n",
              "            Plotly.purge(gd);\n",
              "            observer.disconnect();\n",
              "        }}\n",
              "}});\n",
              "\n",
              "// Listen for the removal of the full notebook cells\n",
              "var notebookContainer = gd.closest('#notebook-container');\n",
              "if (notebookContainer) {{\n",
              "    x.observe(notebookContainer, {childList: true});\n",
              "}}\n",
              "\n",
              "// Listen for the clearing of the current output cell\n",
              "var outputEl = gd.closest('.output');\n",
              "if (outputEl) {{\n",
              "    x.observe(outputEl, {childList: true});\n",
              "}}\n",
              "\n",
              "                        })                };                            </script>        </div>\n",
              "</body>\n",
              "</html>"
            ]
          },
          "metadata": {}
        }
      ],
      "source": [
        "# Scatter Plot\n",
        "import plotly.express as px\n",
        "\n",
        "fig = px.scatter(df_unc, x=\"YearMinus1\", y=\"YearMinus2\", )\n",
        "fig.show()\n"
      ]
    },
    {
      "cell_type": "code",
      "execution_count": null,
      "metadata": {
        "colab": {
          "base_uri": "https://localhost:8080/",
          "height": 542
        },
        "id": "l5lPZwAEKSau",
        "outputId": "cc4d648e-62e2-4b64-ea48-165fab08120a"
      },
      "outputs": [
        {
          "output_type": "display_data",
          "data": {
            "text/html": [
              "<html>\n",
              "<head><meta charset=\"utf-8\" /></head>\n",
              "<body>\n",
              "    <div>            <script src=\"https://cdnjs.cloudflare.com/ajax/libs/mathjax/2.7.5/MathJax.js?config=TeX-AMS-MML_SVG\"></script><script type=\"text/javascript\">if (window.MathJax && window.MathJax.Hub && window.MathJax.Hub.Config) {window.MathJax.Hub.Config({SVG: {font: \"STIX-Web\"}});}</script>                <script type=\"text/javascript\">window.PlotlyConfig = {MathJaxConfig: 'local'};</script>\n",
              "        <script charset=\"utf-8\" src=\"https://cdn.plot.ly/plotly-2.24.1.min.js\"></script>                <div id=\"76f96b75-e8c6-4742-b48e-3c004bc4a8cc\" class=\"plotly-graph-div\" style=\"height:525px; width:100%;\"></div>            <script type=\"text/javascript\">                                    window.PLOTLYENV=window.PLOTLYENV || {};                                    if (document.getElementById(\"76f96b75-e8c6-4742-b48e-3c004bc4a8cc\")) {                    Plotly.newPlot(                        \"76f96b75-e8c6-4742-b48e-3c004bc4a8cc\",                        [{\"coloraxis\":\"coloraxis\",\"name\":\"0\",\"texttemplate\":\"%{z}\",\"x\":[\"CurrentYear\",\"YearMinus1\",\"YearMinus2\",\"YearMinus3\",\"YearMinus4\",\"PercentChange\"],\"y\":[\"CurrentYear\",\"YearMinus1\",\"YearMinus2\",\"YearMinus3\",\"YearMinus4\",\"PercentChange\"],\"z\":[[1.0,0.045339256102094876,0.04554738236554555,0.01902579486903485,0.02029280586603303,0.00031351132963646893],[0.045339256102094876,1.0,0.8965061707814416,0.4065236938845334,0.3979558715793356,-0.001471133154495868],[0.04554738236554555,0.8965061707814416,1.0,0.43044139457212965,0.4136091975121561,-0.0012758452311287],[0.01902579486903485,0.4065236938845334,0.43044139457212965,1.0,0.9528732471317146,-0.0007196585029996113],[0.02029280586603303,0.3979558715793356,0.4136091975121561,0.9528732471317146,1.0,-0.0007405451539149977],[0.00031351132963646893,-0.001471133154495868,-0.0012758452311287,-0.0007196585029996113,-0.0007405451539149977,1.0]],\"type\":\"heatmap\",\"xaxis\":\"x\",\"yaxis\":\"y\",\"hovertemplate\":\"x: %{x}\\u003cbr\\u003ey: %{y}\\u003cbr\\u003ecolor: %{z}\\u003cextra\\u003e\\u003c\\u002fextra\\u003e\"}],                        {\"template\":{\"data\":{\"histogram2dcontour\":[{\"type\":\"histogram2dcontour\",\"colorbar\":{\"outlinewidth\":0,\"ticks\":\"\"},\"colorscale\":[[0.0,\"#0d0887\"],[0.1111111111111111,\"#46039f\"],[0.2222222222222222,\"#7201a8\"],[0.3333333333333333,\"#9c179e\"],[0.4444444444444444,\"#bd3786\"],[0.5555555555555556,\"#d8576b\"],[0.6666666666666666,\"#ed7953\"],[0.7777777777777778,\"#fb9f3a\"],[0.8888888888888888,\"#fdca26\"],[1.0,\"#f0f921\"]]}],\"choropleth\":[{\"type\":\"choropleth\",\"colorbar\":{\"outlinewidth\":0,\"ticks\":\"\"}}],\"histogram2d\":[{\"type\":\"histogram2d\",\"colorbar\":{\"outlinewidth\":0,\"ticks\":\"\"},\"colorscale\":[[0.0,\"#0d0887\"],[0.1111111111111111,\"#46039f\"],[0.2222222222222222,\"#7201a8\"],[0.3333333333333333,\"#9c179e\"],[0.4444444444444444,\"#bd3786\"],[0.5555555555555556,\"#d8576b\"],[0.6666666666666666,\"#ed7953\"],[0.7777777777777778,\"#fb9f3a\"],[0.8888888888888888,\"#fdca26\"],[1.0,\"#f0f921\"]]}],\"heatmap\":[{\"type\":\"heatmap\",\"colorbar\":{\"outlinewidth\":0,\"ticks\":\"\"},\"colorscale\":[[0.0,\"#0d0887\"],[0.1111111111111111,\"#46039f\"],[0.2222222222222222,\"#7201a8\"],[0.3333333333333333,\"#9c179e\"],[0.4444444444444444,\"#bd3786\"],[0.5555555555555556,\"#d8576b\"],[0.6666666666666666,\"#ed7953\"],[0.7777777777777778,\"#fb9f3a\"],[0.8888888888888888,\"#fdca26\"],[1.0,\"#f0f921\"]]}],\"heatmapgl\":[{\"type\":\"heatmapgl\",\"colorbar\":{\"outlinewidth\":0,\"ticks\":\"\"},\"colorscale\":[[0.0,\"#0d0887\"],[0.1111111111111111,\"#46039f\"],[0.2222222222222222,\"#7201a8\"],[0.3333333333333333,\"#9c179e\"],[0.4444444444444444,\"#bd3786\"],[0.5555555555555556,\"#d8576b\"],[0.6666666666666666,\"#ed7953\"],[0.7777777777777778,\"#fb9f3a\"],[0.8888888888888888,\"#fdca26\"],[1.0,\"#f0f921\"]]}],\"contourcarpet\":[{\"type\":\"contourcarpet\",\"colorbar\":{\"outlinewidth\":0,\"ticks\":\"\"}}],\"contour\":[{\"type\":\"contour\",\"colorbar\":{\"outlinewidth\":0,\"ticks\":\"\"},\"colorscale\":[[0.0,\"#0d0887\"],[0.1111111111111111,\"#46039f\"],[0.2222222222222222,\"#7201a8\"],[0.3333333333333333,\"#9c179e\"],[0.4444444444444444,\"#bd3786\"],[0.5555555555555556,\"#d8576b\"],[0.6666666666666666,\"#ed7953\"],[0.7777777777777778,\"#fb9f3a\"],[0.8888888888888888,\"#fdca26\"],[1.0,\"#f0f921\"]]}],\"surface\":[{\"type\":\"surface\",\"colorbar\":{\"outlinewidth\":0,\"ticks\":\"\"},\"colorscale\":[[0.0,\"#0d0887\"],[0.1111111111111111,\"#46039f\"],[0.2222222222222222,\"#7201a8\"],[0.3333333333333333,\"#9c179e\"],[0.4444444444444444,\"#bd3786\"],[0.5555555555555556,\"#d8576b\"],[0.6666666666666666,\"#ed7953\"],[0.7777777777777778,\"#fb9f3a\"],[0.8888888888888888,\"#fdca26\"],[1.0,\"#f0f921\"]]}],\"mesh3d\":[{\"type\":\"mesh3d\",\"colorbar\":{\"outlinewidth\":0,\"ticks\":\"\"}}],\"scatter\":[{\"fillpattern\":{\"fillmode\":\"overlay\",\"size\":10,\"solidity\":0.2},\"type\":\"scatter\"}],\"parcoords\":[{\"type\":\"parcoords\",\"line\":{\"colorbar\":{\"outlinewidth\":0,\"ticks\":\"\"}}}],\"scatterpolargl\":[{\"type\":\"scatterpolargl\",\"marker\":{\"colorbar\":{\"outlinewidth\":0,\"ticks\":\"\"}}}],\"bar\":[{\"error_x\":{\"color\":\"#2a3f5f\"},\"error_y\":{\"color\":\"#2a3f5f\"},\"marker\":{\"line\":{\"color\":\"#E5ECF6\",\"width\":0.5},\"pattern\":{\"fillmode\":\"overlay\",\"size\":10,\"solidity\":0.2}},\"type\":\"bar\"}],\"scattergeo\":[{\"type\":\"scattergeo\",\"marker\":{\"colorbar\":{\"outlinewidth\":0,\"ticks\":\"\"}}}],\"scatterpolar\":[{\"type\":\"scatterpolar\",\"marker\":{\"colorbar\":{\"outlinewidth\":0,\"ticks\":\"\"}}}],\"histogram\":[{\"marker\":{\"pattern\":{\"fillmode\":\"overlay\",\"size\":10,\"solidity\":0.2}},\"type\":\"histogram\"}],\"scattergl\":[{\"type\":\"scattergl\",\"marker\":{\"colorbar\":{\"outlinewidth\":0,\"ticks\":\"\"}}}],\"scatter3d\":[{\"type\":\"scatter3d\",\"line\":{\"colorbar\":{\"outlinewidth\":0,\"ticks\":\"\"}},\"marker\":{\"colorbar\":{\"outlinewidth\":0,\"ticks\":\"\"}}}],\"scattermapbox\":[{\"type\":\"scattermapbox\",\"marker\":{\"colorbar\":{\"outlinewidth\":0,\"ticks\":\"\"}}}],\"scatterternary\":[{\"type\":\"scatterternary\",\"marker\":{\"colorbar\":{\"outlinewidth\":0,\"ticks\":\"\"}}}],\"scattercarpet\":[{\"type\":\"scattercarpet\",\"marker\":{\"colorbar\":{\"outlinewidth\":0,\"ticks\":\"\"}}}],\"carpet\":[{\"aaxis\":{\"endlinecolor\":\"#2a3f5f\",\"gridcolor\":\"white\",\"linecolor\":\"white\",\"minorgridcolor\":\"white\",\"startlinecolor\":\"#2a3f5f\"},\"baxis\":{\"endlinecolor\":\"#2a3f5f\",\"gridcolor\":\"white\",\"linecolor\":\"white\",\"minorgridcolor\":\"white\",\"startlinecolor\":\"#2a3f5f\"},\"type\":\"carpet\"}],\"table\":[{\"cells\":{\"fill\":{\"color\":\"#EBF0F8\"},\"line\":{\"color\":\"white\"}},\"header\":{\"fill\":{\"color\":\"#C8D4E3\"},\"line\":{\"color\":\"white\"}},\"type\":\"table\"}],\"barpolar\":[{\"marker\":{\"line\":{\"color\":\"#E5ECF6\",\"width\":0.5},\"pattern\":{\"fillmode\":\"overlay\",\"size\":10,\"solidity\":0.2}},\"type\":\"barpolar\"}],\"pie\":[{\"automargin\":true,\"type\":\"pie\"}]},\"layout\":{\"autotypenumbers\":\"strict\",\"colorway\":[\"#636efa\",\"#EF553B\",\"#00cc96\",\"#ab63fa\",\"#FFA15A\",\"#19d3f3\",\"#FF6692\",\"#B6E880\",\"#FF97FF\",\"#FECB52\"],\"font\":{\"color\":\"#2a3f5f\"},\"hovermode\":\"closest\",\"hoverlabel\":{\"align\":\"left\"},\"paper_bgcolor\":\"white\",\"plot_bgcolor\":\"#E5ECF6\",\"polar\":{\"bgcolor\":\"#E5ECF6\",\"angularaxis\":{\"gridcolor\":\"white\",\"linecolor\":\"white\",\"ticks\":\"\"},\"radialaxis\":{\"gridcolor\":\"white\",\"linecolor\":\"white\",\"ticks\":\"\"}},\"ternary\":{\"bgcolor\":\"#E5ECF6\",\"aaxis\":{\"gridcolor\":\"white\",\"linecolor\":\"white\",\"ticks\":\"\"},\"baxis\":{\"gridcolor\":\"white\",\"linecolor\":\"white\",\"ticks\":\"\"},\"caxis\":{\"gridcolor\":\"white\",\"linecolor\":\"white\",\"ticks\":\"\"}},\"coloraxis\":{\"colorbar\":{\"outlinewidth\":0,\"ticks\":\"\"}},\"colorscale\":{\"sequential\":[[0.0,\"#0d0887\"],[0.1111111111111111,\"#46039f\"],[0.2222222222222222,\"#7201a8\"],[0.3333333333333333,\"#9c179e\"],[0.4444444444444444,\"#bd3786\"],[0.5555555555555556,\"#d8576b\"],[0.6666666666666666,\"#ed7953\"],[0.7777777777777778,\"#fb9f3a\"],[0.8888888888888888,\"#fdca26\"],[1.0,\"#f0f921\"]],\"sequentialminus\":[[0.0,\"#0d0887\"],[0.1111111111111111,\"#46039f\"],[0.2222222222222222,\"#7201a8\"],[0.3333333333333333,\"#9c179e\"],[0.4444444444444444,\"#bd3786\"],[0.5555555555555556,\"#d8576b\"],[0.6666666666666666,\"#ed7953\"],[0.7777777777777778,\"#fb9f3a\"],[0.8888888888888888,\"#fdca26\"],[1.0,\"#f0f921\"]],\"diverging\":[[0,\"#8e0152\"],[0.1,\"#c51b7d\"],[0.2,\"#de77ae\"],[0.3,\"#f1b6da\"],[0.4,\"#fde0ef\"],[0.5,\"#f7f7f7\"],[0.6,\"#e6f5d0\"],[0.7,\"#b8e186\"],[0.8,\"#7fbc41\"],[0.9,\"#4d9221\"],[1,\"#276419\"]]},\"xaxis\":{\"gridcolor\":\"white\",\"linecolor\":\"white\",\"ticks\":\"\",\"title\":{\"standoff\":15},\"zerolinecolor\":\"white\",\"automargin\":true,\"zerolinewidth\":2},\"yaxis\":{\"gridcolor\":\"white\",\"linecolor\":\"white\",\"ticks\":\"\",\"title\":{\"standoff\":15},\"zerolinecolor\":\"white\",\"automargin\":true,\"zerolinewidth\":2},\"scene\":{\"xaxis\":{\"backgroundcolor\":\"#E5ECF6\",\"gridcolor\":\"white\",\"linecolor\":\"white\",\"showbackground\":true,\"ticks\":\"\",\"zerolinecolor\":\"white\",\"gridwidth\":2},\"yaxis\":{\"backgroundcolor\":\"#E5ECF6\",\"gridcolor\":\"white\",\"linecolor\":\"white\",\"showbackground\":true,\"ticks\":\"\",\"zerolinecolor\":\"white\",\"gridwidth\":2},\"zaxis\":{\"backgroundcolor\":\"#E5ECF6\",\"gridcolor\":\"white\",\"linecolor\":\"white\",\"showbackground\":true,\"ticks\":\"\",\"zerolinecolor\":\"white\",\"gridwidth\":2}},\"shapedefaults\":{\"line\":{\"color\":\"#2a3f5f\"}},\"annotationdefaults\":{\"arrowcolor\":\"#2a3f5f\",\"arrowhead\":0,\"arrowwidth\":1},\"geo\":{\"bgcolor\":\"white\",\"landcolor\":\"#E5ECF6\",\"subunitcolor\":\"white\",\"showland\":true,\"showlakes\":true,\"lakecolor\":\"white\"},\"title\":{\"x\":0.05},\"mapbox\":{\"style\":\"light\"}}},\"xaxis\":{\"anchor\":\"y\",\"domain\":[0.0,1.0],\"scaleanchor\":\"y\",\"constrain\":\"domain\"},\"yaxis\":{\"anchor\":\"x\",\"domain\":[0.0,1.0],\"autorange\":\"reversed\",\"constrain\":\"domain\"},\"coloraxis\":{\"colorscale\":[[0.0,\"#0d0887\"],[0.1111111111111111,\"#46039f\"],[0.2222222222222222,\"#7201a8\"],[0.3333333333333333,\"#9c179e\"],[0.4444444444444444,\"#bd3786\"],[0.5555555555555556,\"#d8576b\"],[0.6666666666666666,\"#ed7953\"],[0.7777777777777778,\"#fb9f3a\"],[0.8888888888888888,\"#fdca26\"],[1.0,\"#f0f921\"]]},\"margin\":{\"t\":60}},                        {\"responsive\": true}                    ).then(function(){\n",
              "                            \n",
              "var gd = document.getElementById('76f96b75-e8c6-4742-b48e-3c004bc4a8cc');\n",
              "var x = new MutationObserver(function (mutations, observer) {{\n",
              "        var display = window.getComputedStyle(gd).display;\n",
              "        if (!display || display === 'none') {{\n",
              "            console.log([gd, 'removed!']);\n",
              "            Plotly.purge(gd);\n",
              "            observer.disconnect();\n",
              "        }}\n",
              "}});\n",
              "\n",
              "// Listen for the removal of the full notebook cells\n",
              "var notebookContainer = gd.closest('#notebook-container');\n",
              "if (notebookContainer) {{\n",
              "    x.observe(notebookContainer, {childList: true});\n",
              "}}\n",
              "\n",
              "// Listen for the clearing of the current output cell\n",
              "var outputEl = gd.closest('.output');\n",
              "if (outputEl) {{\n",
              "    x.observe(outputEl, {childList: true});\n",
              "}}\n",
              "\n",
              "                        })                };                            </script>        </div>\n",
              "</body>\n",
              "</html>"
            ]
          },
          "metadata": {}
        }
      ],
      "source": [
        "# Heat Map\n",
        "\n",
        "fig = px.imshow(df_unc[['CurrentYear', 'YearMinus1', 'YearMinus2', 'YearMinus3', 'YearMinus4', 'PercentChange', ]].corr(),\n",
        "              text_auto=True)\n",
        "fig.show()\n"
      ]
    },
    {
      "cell_type": "markdown",
      "metadata": {
        "id": "CvDvy5R9ItQP"
      },
      "source": [
        "To fill these ,'YearMinus1', 'YearMinus2', 'YearMinus3', 'YearMinus4',\"PercentChange\",\"FourYearAvg\",\"NumStandardDeviation\" columns we are using means. The reason, all the data we have in this unclean dataset is 2022. Therefor, we use LOCF AND NOCB method to fill the missing value.\n",
        "\n",
        "In the case of handeling missng vlaus in categorical featueas as\n",
        "SubstanceComments        9963\n",
        "Sub-Category             3277\n",
        "We can use Mode to fill the values. But by doing this, the dataset might be bias. However considering the fact that, the amount of missing vlause is more then 10% of whole dataset and the relavnce to target columns for this two feature much less. Therefor, instead of imputing it,we can remove these columns."
      ]
    },
    {
      "cell_type": "code",
      "execution_count": null,
      "metadata": {
        "colab": {
          "base_uri": "https://localhost:8080/"
        },
        "id": "2CEU2U0POjUC",
        "outputId": "e7dda04a-aee0-4828-f89f-72cc2cc9ea5e"
      },
      "outputs": [
        {
          "output_type": "execute_result",
          "data": {
            "text/plain": [
              "IssueID                     0\n",
              "ReportID                    0\n",
              "Priority                    0\n",
              "IssueType                   0\n",
              "ReportYear                  0\n",
              "NpriID                      0\n",
              "CompanyName                 0\n",
              "FacilityName                0\n",
              "NAICS                       0\n",
              "Category                    0\n",
              "Sub-Category             3277\n",
              "Cas                         0\n",
              "SubstanceName               0\n",
              "Units                       0\n",
              "CurrentYear                 0\n",
              "YearMinus1                108\n",
              "YearMinus2               2664\n",
              "YearMinus3               4156\n",
              "YearMinus4               5181\n",
              "PercentChange             110\n",
              "DifferenceChange            0\n",
              "FourYearAvg                77\n",
              "NAICSSubstanceAvg           0\n",
              "NumStandardDeviation      781\n",
              "StandardDeviation           0\n",
              "NAICSSubstanceCount         0\n",
              "NAICSSubstanceTotal         0\n",
              "OverallSubstanceTotal       0\n",
              "NumOfEmployees              0\n",
              "SubstanceComments        9963\n",
              "dtype: int64"
            ]
          },
          "metadata": {},
          "execution_count": 214
        }
      ],
      "source": [
        "df_unc.isnull().sum()"
      ]
    },
    {
      "cell_type": "code",
      "execution_count": null,
      "metadata": {
        "id": "bM0JZjVyICbI"
      },
      "outputs": [],
      "source": [
        "list_colums = ['YearMinus1',\"PercentChange\"]\n",
        "for i in list_colums:\n",
        "  df_unc[i] = df_unc[i].fillna(method='ffill')\n",
        "  df_unc[i] = df_unc[i].fillna(method='bfill')\n",
        "\n"
      ]
    },
    {
      "cell_type": "code",
      "execution_count": null,
      "metadata": {
        "id": "S8LiuhMrOv1q"
      },
      "outputs": [],
      "source": [
        "list_colums = ['YearMinus2', 'YearMinus3', 'YearMinus4',\"FourYearAvg\",\"NumStandardDeviation\"]\n",
        "for i in list_colums:\n",
        "  df_unc[i] = df_unc[i].interpolate(method='linear')\n"
      ]
    },
    {
      "cell_type": "markdown",
      "metadata": {
        "id": "5nJgjIcVWxi5"
      },
      "source": [
        "**Finding Outlier using univariate way**"
      ]
    },
    {
      "cell_type": "code",
      "execution_count": null,
      "metadata": {
        "id": "ZCe_DrUEWKWK"
      },
      "outputs": [],
      "source": [
        "def remove_outliers(df, columns):\n",
        "    \"\"\"Remove outliers from specified columns using box plot statistics.\"\"\"\n",
        "    df_clean = df.copy()\n",
        "    for column in columns:\n",
        "        Q1 = df_clean[column].quantile(0.25)\n",
        "        Q3 = df_clean[column].quantile(0.75)\n",
        "        IQR = Q3 - Q1\n",
        "        lower_bound = Q1 - 1.5 * IQR\n",
        "        upper_bound = Q3 + 1.5 * IQR\n",
        "        df_clean = df_clean[(df_clean[column] >= lower_bound) & (df_clean[column] <= upper_bound)]\n",
        "    return df_clean\n",
        "\n",
        "# Specify the columns for outlier removal\n",
        "columns_to_remove_outliers = ['YearMinus1', 'YearMinus2', 'YearMinus3', 'YearMinus4',\n",
        "                              'PercentChange', 'DifferenceChange', 'FourYearAvg',\n",
        "                              'NAICSSubstanceAvg', 'NumStandardDeviation', 'StandardDeviation',\n",
        "                              'NAICSSubstanceCount', 'NAICSSubstanceTotal', 'OverallSubstanceTotal',\n",
        "                              'NumOfEmployees']\n",
        "\n",
        "# Assuming df_unc is your DataFrame containing the data\n",
        "df_clean = remove_outliers(df_unc, columns_to_remove_outliers)"
      ]
    },
    {
      "cell_type": "markdown",
      "metadata": {
        "id": "wCqHRGLxVsNA"
      },
      "source": [
        "**Finding Outlier using multivariate way**  "
      ]
    },
    {
      "cell_type": "code",
      "execution_count": null,
      "metadata": {
        "id": "LRf-O3szRRzo"
      },
      "outputs": [],
      "source": [
        "\n",
        "def mahalanobis_distance(x, data):\n",
        "    \"\"\"Compute Mahalanobis Distance for a data point x from the data.\"\"\"\n",
        "    cov = np.cov(data, rowvar=False)\n",
        "    cov_reg = cov + np.eye(cov.shape[0]) * 1e-6  # Regularization term\n",
        "    cov_inv = np.linalg.inv(cov_reg)\n",
        "    mean = np.mean(data, axis=0)\n",
        "    diff = x - mean\n",
        "    return np.sqrt(np.dot(np.dot(diff, cov_inv), diff.T))\n",
        "\n",
        "def detect_outliers(df):\n",
        "    \"\"\"Detect outliers in a DataFrame using Mahalanobis Distance.\"\"\"\n",
        "    # Drop non-numeric columns if any\n",
        "    numeric_df = df.select_dtypes(include=[np.number])\n",
        "    data = numeric_df.values\n",
        "    outliers = []\n",
        "    for i in range(len(data)):\n",
        "        x = data[i]\n",
        "        m_dist = mahalanobis_distance(x, data)\n",
        "        # Set the significance level for outlier detection\n",
        "        threshold = chi2.ppf(0.95, df=data.shape[1])\n",
        "        if m_dist > threshold:\n",
        "            outliers.append(i)\n",
        "    return outliers\n",
        "\n",
        "# Assuming df_unc is your DataFrame containing the data\n",
        "outliers_indices = detect_outliers(df_unc)\n"
      ]
    },
    {
      "cell_type": "code",
      "execution_count": null,
      "metadata": {
        "id": "34hiHHSoRTch"
      },
      "outputs": [],
      "source": [
        "df_unc.drop(outliers_indices, inplace=True)\n"
      ]
    },
    {
      "cell_type": "markdown",
      "metadata": {
        "id": "oKkrLwKVXKRH"
      },
      "source": [
        "Removing Any duplicate vlaue from the data using duplicate funcion"
      ]
    },
    {
      "cell_type": "code",
      "execution_count": null,
      "metadata": {
        "id": "87BN3wClXJRw"
      },
      "outputs": [],
      "source": [
        "df_unc_cleaned = df_unc.drop_duplicates()"
      ]
    },
    {
      "cell_type": "markdown",
      "metadata": {
        "id": "gM6qb9tuaArS"
      },
      "source": [
        "# EDA on Review Dataset"
      ]
    },
    {
      "cell_type": "code",
      "execution_count": null,
      "metadata": {
        "colab": {
          "base_uri": "https://localhost:8080/"
        },
        "id": "yWyAO5LUaGFq",
        "outputId": "fd82f0a9-d0db-43e5-9f77-6f2d7f85be72"
      },
      "outputs": [
        {
          "output_type": "execute_result",
          "data": {
            "text/plain": [
              "NpriID                                                          0\n",
              "Company name                                                   10\n",
              "FacilityName                                                  165\n",
              "NPRI_Report_ReportYear                                          0\n",
              "Quantity                                                      954\n",
              "Cas                                                             0\n",
              "Detail_NPRI_SubstanceInfo_NameEn                                0\n",
              "Group                                                           0\n",
              "Category                                                        0\n",
              "Latitude                                                        0\n",
              "Longitude                                                       0\n",
              "ProvinceEn                                                      0\n",
              "Detail_UnitType_NameEn                                          0\n",
              "NAICSPrimary                                                    0\n",
              "NAICSTitleEn                                                    0\n",
              "Substance comments by category for 2022                    451554\n",
              "Substance comments for disposals and all media for 2022    537479\n",
              "Number of employees                                           578\n",
              "dtype: int64"
            ]
          },
          "metadata": {},
          "execution_count": 221
        }
      ],
      "source": [
        "df_rev.isnull().sum()"
      ]
    },
    {
      "cell_type": "code",
      "execution_count": null,
      "metadata": {
        "colab": {
          "base_uri": "https://localhost:8080/"
        },
        "id": "Fy2Katk9aIMq",
        "outputId": "b1c2bc63-9eb3-439f-e458-aab1f6f52213"
      },
      "outputs": [
        {
          "output_type": "execute_result",
          "data": {
            "text/plain": [
              "(537550, 18)"
            ]
          },
          "metadata": {},
          "execution_count": 222
        }
      ],
      "source": [
        "df_rev.shape"
      ]
    },
    {
      "cell_type": "code",
      "execution_count": null,
      "metadata": {
        "id": "JQQBZHX2aQLx",
        "colab": {
          "base_uri": "https://localhost:8080/"
        },
        "outputId": "aefd0860-65c9-444c-a333-3f803934c813"
      },
      "outputs": [
        {
          "output_type": "stream",
          "name": "stdout",
          "text": [
            "<class 'pandas.core.frame.DataFrame'>\n",
            "RangeIndex: 537550 entries, 0 to 537549\n",
            "Data columns (total 18 columns):\n",
            " #   Column                                                   Non-Null Count   Dtype  \n",
            "---  ------                                                   --------------   -----  \n",
            " 0   NpriID                                                   537550 non-null  int64  \n",
            " 1   Company name                                             537540 non-null  object \n",
            " 2   FacilityName                                             537385 non-null  object \n",
            " 3   NPRI_Report_ReportYear                                   537550 non-null  int64  \n",
            " 4   Quantity                                                 536596 non-null  float64\n",
            " 5   Cas                                                      537550 non-null  object \n",
            " 6   Detail_NPRI_SubstanceInfo_NameEn                         537550 non-null  object \n",
            " 7   Group                                                    537550 non-null  object \n",
            " 8   Category                                                 537550 non-null  object \n",
            " 9   Latitude                                                 537550 non-null  float64\n",
            " 10  Longitude                                                537550 non-null  float64\n",
            " 11  ProvinceEn                                               537550 non-null  object \n",
            " 12  Detail_UnitType_NameEn                                   537550 non-null  object \n",
            " 13  NAICSPrimary                                             537550 non-null  int64  \n",
            " 14  NAICSTitleEn                                             537550 non-null  object \n",
            " 15  Substance comments by category for 2022                  85996 non-null   object \n",
            " 16  Substance comments for disposals and all media for 2022  71 non-null      object \n",
            " 17  Number of employees                                      536972 non-null  float64\n",
            "dtypes: float64(4), int64(3), object(11)\n",
            "memory usage: 73.8+ MB\n"
          ]
        }
      ],
      "source": [
        "df_rev.info()"
      ]
    },
    {
      "cell_type": "code",
      "execution_count": null,
      "metadata": {
        "id": "nMvzDZHmaRhp",
        "colab": {
          "base_uri": "https://localhost:8080/"
        },
        "outputId": "18e8d665-4dd0-40ab-e441-42e9cbc661c7"
      },
      "outputs": [
        {
          "output_type": "execute_result",
          "data": {
            "text/plain": [
              "NpriID                                                          0\n",
              "Company name                                                   10\n",
              "FacilityName                                                  165\n",
              "NPRI_Report_ReportYear                                          0\n",
              "Quantity                                                      954\n",
              "Cas                                                             0\n",
              "Detail_NPRI_SubstanceInfo_NameEn                                0\n",
              "Group                                                           0\n",
              "Category                                                        0\n",
              "Latitude                                                        0\n",
              "Longitude                                                       0\n",
              "ProvinceEn                                                      0\n",
              "Detail_UnitType_NameEn                                          0\n",
              "NAICSPrimary                                                    0\n",
              "NAICSTitleEn                                                    0\n",
              "Substance comments by category for 2022                    451554\n",
              "Substance comments for disposals and all media for 2022    537479\n",
              "Number of employees                                           578\n",
              "dtype: int64"
            ]
          },
          "metadata": {},
          "execution_count": 224
        }
      ],
      "source": [
        "df_rev.isnull().sum()"
      ]
    },
    {
      "cell_type": "markdown",
      "metadata": {
        "id": "N_oPL_bHslE4"
      },
      "source": [
        "**Standerizing the unit columns into Kilo Grame**"
      ]
    },
    {
      "cell_type": "code",
      "execution_count": null,
      "metadata": {
        "id": "wNFkw9qqsb0e"
      },
      "outputs": [],
      "source": [
        "list_columns = [\"Quantity\"]\n",
        "for i in list_columns:\n",
        "  tonnes_conv =df_rev.loc[df_rev[\"Detail_UnitType_NameEn\"] ==\"tonnes\",i]*1000\n",
        "  df_rev.loc[df_rev[\"Detail_UnitType_NameEn\"] ==\"tonnes\",i] = tonnes_conv\n",
        "\n",
        "  grams_conv=df_rev.loc[df_rev[\"Detail_UnitType_NameEn\"] ==\"grams\",i]/1000\n",
        "  df_rev.loc[df_rev[\"Detail_UnitType_NameEn\"] ==\"grams\",i] = grams_conv\n",
        "\n",
        "  g_teq_et_conv =df_rev.loc[df_rev[\"Detail_UnitType_NameEn\"] ==\"g_teq_et\",i]/1000\n",
        "  df_rev.loc[df_rev[\"Detail_UnitType_NameEn\"] ==\"g_teq_et\",i] = g_teq_et_conv"
      ]
    },
    {
      "cell_type": "markdown",
      "metadata": {
        "id": "0Wau5lZIad_p"
      },
      "source": [
        "**Handeling Missing Value**\n",
        "\n",
        "In this dataset we have reported year from 2014 to 2022. Therefor, to fill featuers such as Substance comments by category for 2022,                    \n",
        "Substance comments for disposals and all media for 2022,\n",
        "Quantity,\n",
        "Company name,\n",
        "FacilityName  \n",
        "We can't use mean, meadian or mode. In this case we can use NOCB and LOCF or interpolation to fill the values.\n",
        "********************************************************************************\n",
        "featuers such as Substance comments by category for 2022,                    \n",
        "Substance comments for disposals and all media for 2022,\n",
        "\n",
        "We have 451554 and 537479 missing values in this two columns. Becuase the missing values more 80% of total data doing imputaion might indrouce bais in our dataset. By considering the relavece to the target columns we can remove these two columns.\n",
        "\n",
        "We will drop these two columns in phase of featuer selection"
      ]
    },
    {
      "cell_type": "markdown",
      "metadata": {
        "id": "Iw6pg98MdXnC"
      },
      "source": [
        "**Data Leakage**\n",
        "Before we filling the missing valuse, we have split the dataset into two. One dataset have data for the year 2022 which will our test data and other one have all the data from 2014 to 2021."
      ]
    },
    {
      "cell_type": "code",
      "execution_count": null,
      "metadata": {
        "id": "BPxy4zD0dxFY"
      },
      "outputs": [],
      "source": [
        "df_rev_2022 = df_rev[df_rev['NPRI_Report_ReportYear'] == 2022].copy()\n",
        "df_rev_2014_21 = df_rev[df_rev['NPRI_Report_ReportYear'] != 2022].copy()"
      ]
    },
    {
      "cell_type": "code",
      "execution_count": null,
      "metadata": {
        "id": "2EAPOUSYaX4W"
      },
      "outputs": [],
      "source": [
        "list_columns = [\"Company name\", \"FacilityName\"]\n",
        "df_rev_2014_21 = df_rev_2014_21.dropna(subset=list_columns)\n",
        "df_rev_2022 = df_rev_2022.dropna(subset=list_columns)\n"
      ]
    },
    {
      "cell_type": "code",
      "execution_count": null,
      "metadata": {
        "id": "wy-WL_wcbwRu"
      },
      "outputs": [],
      "source": [
        "df_rev_2022.dropna(subset=[\"Quantity\"], inplace=True)\n",
        "df_rev_2014_21.dropna(subset=[\"Quantity\"], inplace=True)"
      ]
    },
    {
      "cell_type": "code",
      "execution_count": null,
      "metadata": {
        "id": "wD0qSod-kr3-"
      },
      "outputs": [],
      "source": [
        "temp_1 = df_rev_2022[\"Quantity\"]\n",
        "temp_2 = df_rev_2014_21[\"Quantity\"]"
      ]
    },
    {
      "cell_type": "code",
      "source": [
        "df_rev_2022.drop(columns=[\"Quantity\"], inplace=True)\n",
        "df_rev_2014_21.drop(columns=[\"Quantity\"], inplace=True)"
      ],
      "metadata": {
        "id": "0R6ZGlSvEhQO"
      },
      "execution_count": null,
      "outputs": []
    },
    {
      "cell_type": "markdown",
      "metadata": {
        "id": "aybl94pVc4zI"
      },
      "source": [
        "**Handling  outliers**. AS per client, we have to find the outliers by sector. To do that we have to splite the dataset by sectors. For the split we use NAICSTitleEn columns have different sectors."
      ]
    },
    {
      "cell_type": "code",
      "execution_count": null,
      "metadata": {
        "id": "_UNXzwGlb5jR"
      },
      "outputs": [],
      "source": [
        "df_rev_2022[\"NAICSTitleEn\"].unique()\n"
      ]
    },
    {
      "cell_type": "code",
      "execution_count": null,
      "metadata": {
        "id": "5rK2rL1jc293"
      },
      "outputs": [],
      "source": [
        "df_rev_2014_21[\"NAICSTitleEn\"].unique()"
      ]
    },
    {
      "cell_type": "code",
      "execution_count": null,
      "metadata": {
        "id": "PUlu2gwvl1IF"
      },
      "outputs": [],
      "source": [
        "diff_sec = df_rev_2022[\"NAICSTitleEn\"].unique()\n",
        "for x in diff_sec:\n",
        "    temp_01 = df_rev_2022[df_rev_2022[\"NAICSTitleEn\"] == x]\n",
        "    def remove_outliers(df, columns):\n",
        "      \"\"\"Remove outliers from specified columns using box plot statistics.\"\"\"\n",
        "      df_clean = df.copy()\n",
        "      for column in columns:\n",
        "          Q1 = df_clean[column].quantile(0.25)\n",
        "          Q3 = df_clean[column].quantile(0.75)\n",
        "          IQR = Q3 - Q1\n",
        "          lower_bound = Q1 - 1.5 * IQR\n",
        "          upper_bound = Q3 + 1.5 * IQR\n",
        "          df_clean = df_clean[(df_clean[column] >= lower_bound) & (df_clean[column] <= upper_bound)]\n",
        "      return df_clean\n",
        "\n",
        "    # Specify the columns for outlier removal\n",
        "    columns_to_remove_outliers = ['Quantity']\n",
        "    df_clean = remove_outliers(temp_01, columns_to_remove_outliers)"
      ]
    },
    {
      "cell_type": "code",
      "execution_count": null,
      "metadata": {
        "id": "DoopLcrHnZY7"
      },
      "outputs": [],
      "source": [
        "diff_sec = df_rev_2014_21[\"NAICSTitleEn\"].unique()\n",
        "for x in diff_sec:\n",
        "    temp_01 = df_rev_2014_21[df_rev_2014_21[\"NAICSTitleEn\"] == x]\n",
        "    def remove_outliers(df, columns):\n",
        "      \"\"\"Remove outliers from specified columns using box plot statistics.\"\"\"\n",
        "      df_clean = df.copy()\n",
        "      for column in columns:\n",
        "          Q1 = df_clean[column].quantile(0.25)\n",
        "          Q3 = df_clean[column].quantile(0.75)\n",
        "          IQR = Q3 - Q1\n",
        "          lower_bound = Q1 - 1.5 * IQR\n",
        "          upper_bound = Q3 + 1.5 * IQR\n",
        "          df_clean = df_clean[(df_clean[column] >= lower_bound) & (df_clean[column] <= upper_bound)]\n",
        "      return df_clean\n",
        "\n",
        "    # Specify the columns for outlier removal\n",
        "    columns_to_remove_outliers = ['Quantity']\n",
        "\n",
        "    # Assuming df_unc is your DataFrame containing the data\n",
        "    df_clean = remove_outliers(temp_01, columns_to_remove_outliers)"
      ]
    },
    {
      "cell_type": "markdown",
      "metadata": {
        "id": "TFJYRg_to5wo"
      },
      "source": [
        "**Finding Outlier using multivariate way for 2022 dataset**"
      ]
    },
    {
      "cell_type": "code",
      "execution_count": null,
      "metadata": {
        "id": "tH1dRkKCh69b"
      },
      "outputs": [],
      "source": [
        "from scipy.stats import chi2\n",
        "\n",
        "def mahalanobis_distance(x, data):\n",
        "    \"\"\"Compute Mahalanobis Distance for a data point x from the data.\"\"\"\n",
        "    cov = np.cov(data, rowvar=False)\n",
        "    cov_reg = cov + np.eye(cov.shape[0]) * 1e-6  # Regularization term\n",
        "    cov_inv = np.linalg.inv(cov_reg)\n",
        "    mean = np.mean(data, axis=0)\n",
        "    diff = x - mean\n",
        "    return np.sqrt(np.dot(np.dot(diff, cov_inv), diff.T))\n",
        "def detect_outliers(df):\n",
        "    \"\"\"Detect outliers in a DataFrame using Mahalanobis Distance.\"\"\"\n",
        "    # Drop non-numeric columns if any\n",
        "    numeric_df = df.select_dtypes(include=[np.number])\n",
        "    data = numeric_df.values\n",
        "    outliers = []\n",
        "    if len(data) < 2:\n",
        "        print(\"Skipping outlier detection: Insufficient data points.\")\n",
        "        return outliers\n",
        "    for i in range(len(data)):\n",
        "        x = data[i]\n",
        "        m_dist = mahalanobis_distance(x, data)\n",
        "        # Set the significance level for outlier detection\n",
        "        threshold = chi2.ppf(0.95, df=data.shape[1])\n",
        "        if m_dist > threshold:\n",
        "            outliers.append(i)\n",
        "        print(f\"Processed {i+1}/{len(data)} data points\")\n",
        "    return outliers"
      ]
    },
    {
      "cell_type": "code",
      "execution_count": null,
      "metadata": {
        "colab": {
          "background_save": true
        },
        "id": "6ORK_4BwdNa6"
      },
      "outputs": [],
      "source": [
        "outliers_indices = detect_outliers(df_rev_2014_21)\n",
        "df_rev_2014_21 = df_rev_2014_21.drop(outliers_indices)"
      ]
    },
    {
      "cell_type": "code",
      "execution_count": null,
      "metadata": {
        "id": "aeLRcEQ7TCB1"
      },
      "outputs": [],
      "source": [
        "outliers_indices = detect_outliers(df_rev_2022)\n",
        "df_rev_2022= df_rev_2022.drop(outliers_indices)"
      ]
    },
    {
      "cell_type": "code",
      "execution_count": null,
      "metadata": {
        "id": "5P5z22J8kVyJ"
      },
      "outputs": [],
      "source": [
        "df_rev_2022 = pd.concat([temp_1, df_rev_2022], axis=1) # add the removed quantity columns\n",
        "df_rev_2014_21 = pd.concat([temp_2, df_rev_2014_21], axis=1)"
      ]
    },
    {
      "cell_type": "code",
      "source": [
        "df_rev_2022.dtypes"
      ],
      "metadata": {
        "id": "yhm7RgNxEW3W"
      },
      "execution_count": null,
      "outputs": []
    },
    {
      "cell_type": "code",
      "execution_count": null,
      "metadata": {
        "id": "_QXkm7jf-2Hv"
      },
      "outputs": [],
      "source": [
        "df_rev_2014_21.to_csv('out_lier_dataset.csv', index=False)"
      ]
    },
    {
      "cell_type": "markdown",
      "metadata": {
        "id": "csqFH9e1tYHF"
      },
      "source": [
        "Checking for duplicat row. And, if its have any duplicate row the code will remove it.\n"
      ]
    },
    {
      "cell_type": "code",
      "execution_count": null,
      "metadata": {
        "id": "qj-WRyeItiYr"
      },
      "outputs": [],
      "source": [
        "df_rev_2022_cleaned = df_rev_2022.drop_duplicates()\n",
        "df_rev_2014_21_cleaned = df_rev_2014_21.drop_duplicates()\n"
      ]
    },
    {
      "cell_type": "code",
      "execution_count": null,
      "metadata": {
        "id": "jY6uANckeQFP"
      },
      "outputs": [],
      "source": [
        "df_rev_2022.isna().sum()"
      ]
    },
    {
      "cell_type": "markdown",
      "metadata": {
        "id": "grhwcvwul64V"
      },
      "source": [
        "**Mergeing the dataset**"
      ]
    },
    {
      "cell_type": "markdown",
      "metadata": {
        "id": "HDdLYnGFqjOC"
      },
      "source": [
        "**After merging we having the missing value so, we will tarin data with data having missing value imputed as well as missing values removed. However, in this example i am imputing the missing value using ffil and bill**"
      ]
    },
    {
      "cell_type": "code",
      "execution_count": null,
      "metadata": {
        "id": "AWuWXV8XmBVs"
      },
      "outputs": [],
      "source": [
        "merg_02 = df_unc[[\"YearMinus1\",\"YearMinus2\",\"NpriID\",\"Cas\"]]"
      ]
    },
    {
      "cell_type": "code",
      "execution_count": null,
      "metadata": {
        "id": "7syyUHV7mMox"
      },
      "outputs": [],
      "source": [
        "target_df = pd.merge(merg_02, df_rev_2022, on=['NpriID', 'Cas'], how='inner') # merger yearminus1 and yearminus2 from unclean dataset to merged df which have the data for 2022."
      ]
    },
    {
      "cell_type": "code",
      "execution_count": null,
      "metadata": {
        "id": "4IBWWBMItX1s"
      },
      "outputs": [],
      "source": [
        "target_df.isna().sum()"
      ]
    },
    {
      "cell_type": "code",
      "execution_count": null,
      "metadata": {
        "id": "iJt7-Dx1lrvZ"
      },
      "outputs": [],
      "source": [
        "target_df.dtypes"
      ]
    },
    {
      "cell_type": "code",
      "execution_count": null,
      "metadata": {
        "id": "pR3_MiOArD1E"
      },
      "outputs": [],
      "source": [
        "target_df = target_df.fillna(method='ffill').fillna(method='bfill')\n"
      ]
    },
    {
      "cell_type": "code",
      "source": [
        "tttemp= target_df.copy()\n"
      ],
      "metadata": {
        "id": "UeFQ1bAvaZVm"
      },
      "execution_count": null,
      "outputs": []
    },
    {
      "cell_type": "code",
      "source": [
        "target_df = tttemp.copy()"
      ],
      "metadata": {
        "id": "px7tuAHua8HM"
      },
      "execution_count": null,
      "outputs": []
    },
    {
      "cell_type": "code",
      "source": [
        "target_df.shape"
      ],
      "metadata": {
        "colab": {
          "base_uri": "https://localhost:8080/"
        },
        "id": "SX2CaNora-6h",
        "outputId": "fcc23632-3a88-4dd7-bfd4-26f2e1464b09"
      },
      "execution_count": null,
      "outputs": [
        {
          "output_type": "execute_result",
          "data": {
            "text/plain": [
              "(30324, 20)"
            ]
          },
          "metadata": {},
          "execution_count": 412
        }
      ]
    },
    {
      "cell_type": "markdown",
      "source": [
        "# Encoding,Normalization"
      ],
      "metadata": {
        "id": "l6DQMMhbFQFE"
      }
    },
    {
      "cell_type": "markdown",
      "metadata": {
        "id": "6TNaf02WlmT7"
      },
      "source": [
        "**Encoding the dataset**"
      ]
    },
    {
      "cell_type": "code",
      "execution_count": null,
      "metadata": {
        "id": "ezBVZBXKq7mG"
      },
      "outputs": [],
      "source": [
        "list_catg = [\"NAICSTitleEn\",\"ProvinceEn\",\"Category\",\"Group\",\"Detail_NPRI_SubstanceInfo_NameEn\",\"FacilityName\",\"Company name\",\"Cas\"]"
      ]
    },
    {
      "cell_type": "code",
      "execution_count": null,
      "metadata": {
        "id": "_yFjmDOBq7sE"
      },
      "outputs": [],
      "source": [
        "for catg in list_catg:\n",
        "    try:\n",
        "        mean_target = target_df.groupby(catg)['Quantity'].mean()\n",
        "        target_df[catg + '_mean_encoded'] = target_df[catg].map(mean_target)\n",
        "    except KeyError as e:\n",
        "        print(f\"KeyError: {e} not found in DataFrame.\")"
      ]
    },
    {
      "cell_type": "code",
      "execution_count": null,
      "metadata": {
        "id": "5L8x1Igl45lp"
      },
      "outputs": [],
      "source": [
        "target_df.head(100)"
      ]
    },
    {
      "cell_type": "code",
      "execution_count": null,
      "metadata": {
        "id": "FD2s6g65pQ8u"
      },
      "outputs": [],
      "source": [
        "target_df.drop(columns=['NAICSTitleEn','ProvinceEn','Category','Group','Detail_NPRI_SubstanceInfo_NameEn','FacilityName','Company name','Cas'], inplace=True)"
      ]
    },
    {
      "cell_type": "code",
      "execution_count": null,
      "metadata": {
        "id": "n_yxX4xNpmzb"
      },
      "outputs": [],
      "source": [
        "list_col = target_df.columns"
      ]
    },
    {
      "cell_type": "markdown",
      "metadata": {
        "id": "_zi4u33IquvP"
      },
      "source": [
        "**Normalization**"
      ]
    },
    {
      "cell_type": "code",
      "execution_count": null,
      "metadata": {
        "id": "uj0xfB2oq7DN"
      },
      "outputs": [],
      "source": [
        "\n",
        "\n",
        "from sklearn.preprocessing import MinMaxScaler\n",
        "scaler = MinMaxScaler()\n",
        "target_df[list_col] = scaler.fit_transform(target_df[list_col])"
      ]
    },
    {
      "cell_type": "code",
      "execution_count": null,
      "metadata": {
        "id": "P7P1Fj3upxX9"
      },
      "outputs": [],
      "source": [
        "target_df.isna().sum()"
      ]
    },
    {
      "cell_type": "markdown",
      "metadata": {
        "id": "5614D_RGiGT7"
      },
      "source": [
        "**Feature Selection based on Pearson value and correlation_matrix. After i used these two methond. We will drop 'FacilityName_mean_encoded', 'Category_mean_encoded',\n",
        "       'Detail_NPRI_SubstanceInfo_NameEn_mean_encoded',\n",
        "       'FacilityName_mean_encoded', 'Cas_mean_encoded' **"
      ]
    },
    {
      "cell_type": "code",
      "execution_count": null,
      "metadata": {
        "colab": {
          "base_uri": "https://localhost:8080/"
        },
        "id": "IYPbHNegiOws",
        "outputId": "1820fb88-d2af-43f3-b68c-3170c42c3ae3"
      },
      "outputs": [
        {
          "name": "stdout",
          "output_type": "stream",
          "text": [
            "Selected features based on Pearson correlation coefficient:\n",
            "['FacilityName_mean_encoded']\n"
          ]
        }
      ],
      "source": [
        "\n",
        "correlation_matrix = target_df.corr().abs()\n",
        "\n",
        "\n",
        "target_corr = correlation_matrix['Quantity']\n",
        "\n",
        "\n",
        "selected_features = target_corr[target_corr > 0.2].index.tolist()\n",
        "\n",
        "\n",
        "selected_features.remove('Quantity')\n",
        "\n",
        "\n",
        "print(\"Selected features based on Pearson correlation coefficient:\")\n",
        "print(selected_features)"
      ]
    },
    {
      "cell_type": "code",
      "execution_count": null,
      "metadata": {
        "colab": {
          "base_uri": "https://localhost:8080/"
        },
        "id": "fSKYGLN2iW3d",
        "outputId": "25cace42-4e44-4465-a998-ed59b2db3bdf"
      },
      "outputs": [
        {
          "name": "stdout",
          "output_type": "stream",
          "text": [
            "                            OLS Regression Results                            \n",
            "==============================================================================\n",
            "Dep. Variable:               Quantity   R-squared:                       0.071\n",
            "Model:                            OLS   Adj. R-squared:                  0.071\n",
            "Method:                 Least Squares   F-statistic:                     194.0\n",
            "Date:                Mon, 08 Apr 2024   Prob (F-statistic):               0.00\n",
            "Time:                        18:53:43   Log-Likelihood:             1.0679e+05\n",
            "No. Observations:               30324   AIC:                        -2.136e+05\n",
            "Df Residuals:                   30311   BIC:                        -2.135e+05\n",
            "Df Model:                          12                                         \n",
            "Covariance Type:            nonrobust                                         \n",
            "=================================================================================================================\n",
            "                                                    coef    std err          t      P>|t|      [0.025      0.975]\n",
            "-----------------------------------------------------------------------------------------------------------------\n",
            "const                                             0.0003      0.000      1.575      0.115   -8.29e-05       0.001\n",
            "YearMinus1                                       -0.0016      0.037     -0.042      0.966      -0.074       0.071\n",
            "YearMinus2                                        0.0019      0.036      0.054      0.957      -0.068       0.072\n",
            "NPRI_Report_ReportYear                         3.811e-17   7.82e-16      0.049      0.961    -1.5e-15    1.57e-15\n",
            "Latitude                                         -0.0008      0.000     -1.912      0.056      -0.002    1.99e-05\n",
            "Longitude                                        -0.0005      0.000     -1.699      0.089      -0.001    7.19e-05\n",
            "Number of employees                              -0.0003      0.002     -0.192      0.848      -0.003       0.003\n",
            "NAICSTitleEn_mean_encoded                        -0.0002      0.000     -0.480      0.631      -0.001       0.001\n",
            "ProvinceEn_mean_encoded                          -0.0001      0.000     -0.876      0.381      -0.000       0.000\n",
            "Category_mean_encoded                             0.0026      0.000      8.229      0.000       0.002       0.003\n",
            "Group_mean_encoded                            -7.679e-05      0.000     -0.349      0.727      -0.001       0.000\n",
            "Detail_NPRI_SubstanceInfo_NameEn_mean_encoded     0.0008      0.000      6.205      0.000       0.001       0.001\n",
            "FacilityName_mean_encoded                         0.0412      0.001     40.373      0.000       0.039       0.043\n",
            "Company name_mean_encoded                        -0.0004      0.001     -0.661      0.509      -0.002       0.001\n",
            "Cas_mean_encoded                                  0.0008      0.000      6.205      0.000       0.001       0.001\n",
            "==============================================================================\n",
            "Omnibus:                   119578.719   Durbin-Watson:                   2.139\n",
            "Prob(Omnibus):                  0.000   Jarque-Bera (JB):     171556323913.277\n",
            "Skew:                          97.746   Prob(JB):                         0.00\n",
            "Kurtosis:                   11653.770   Cond. No.                     2.62e+17\n",
            "==============================================================================\n",
            "\n",
            "Notes:\n",
            "[1] Standard Errors assume that the covariance matrix of the errors is correctly specified.\n",
            "[2] The smallest eigenvalue is 6.04e-31. This might indicate that there are\n",
            "strong multicollinearity problems or that the design matrix is singular.\n",
            "Selected Features based on p-value less than 0.05:\n",
            "Index(['Category_mean_encoded',\n",
            "       'Detail_NPRI_SubstanceInfo_NameEn_mean_encoded',\n",
            "       'FacilityName_mean_encoded', 'Cas_mean_encoded'],\n",
            "      dtype='object')\n"
          ]
        }
      ],
      "source": [
        "X_with_const = sm.add_constant(target_df.drop(columns=['Quantity']))\n",
        "\n",
        "model = sm.OLS(target_df['Quantity'], X_with_const).fit()\n",
        "\n",
        "print(model.summary())\n",
        "\n",
        "p_values = model.pvalues\n",
        "\n",
        "selected_features = target_df.columns[1:][p_values[1:] < 0.05]\n",
        "\n",
        "print(\"Selected Features based on p-value less than 0.05:\")\n",
        "print(selected_features)"
      ]
    },
    {
      "cell_type": "code",
      "execution_count": null,
      "metadata": {
        "colab": {
          "base_uri": "https://localhost:8080/"
        },
        "id": "RPIqn94DucLQ",
        "outputId": "2a4a1ff3-0364-4e85-a522-0ee6c1d1c2b1"
      },
      "outputs": [
        {
          "data": {
            "text/plain": [
              "(471384, 18)"
            ]
          },
          "execution_count": 77,
          "metadata": {},
          "output_type": "execute_result"
        }
      ],
      "source": [
        "df_rev_2014_21.shape"
      ]
    },
    {
      "cell_type": "code",
      "execution_count": null,
      "metadata": {
        "id": "4Z6AcgnhufOa"
      },
      "outputs": [],
      "source": []
    },
    {
      "cell_type": "markdown",
      "metadata": {
        "id": "TH4GMk-uhGJU"
      },
      "source": [
        "# ML_EDA"
      ]
    },
    {
      "cell_type": "markdown",
      "metadata": {
        "id": "0uEKBK41f0x1"
      },
      "source": [
        "** feature engineering. Constructing new columns minus one and two based on quantity. To do this action, we need to go by each row then find the previous year same company name and the same type of substance. Unfortunately, we have a big data therefor, to do this action It will take hours. Therefore, based of our ML problem we made new df which have the data for oil and sands industry. In this df we only 7000 data **"
      ]
    },
    {
      "cell_type": "code",
      "execution_count": null,
      "metadata": {
        "id": "DBHecIlhPFCS"
      },
      "outputs": [],
      "source": [
        "list_name = [\"In-situ oil sands extraction\", \"Mined oil sands extraction\"]\n",
        "for i in list_name:\n",
        "    target_df_1 = target_df[target_df[\"NAICSTitleEn\"] == i].copy()\n"
      ]
    },
    {
      "cell_type": "code",
      "source": [
        "target_df_1.shape"
      ],
      "metadata": {
        "colab": {
          "base_uri": "https://localhost:8080/"
        },
        "id": "s6luJf0GemdY",
        "outputId": "2237243f-17da-4baf-f7a9-55bded8261d8"
      },
      "execution_count": null,
      "outputs": [
        {
          "output_type": "execute_result",
          "data": {
            "text/plain": [
              "(1303, 20)"
            ]
          },
          "metadata": {},
          "execution_count": 414
        }
      ]
    },
    {
      "cell_type": "code",
      "execution_count": null,
      "metadata": {
        "id": "ffvoWSKJLhtT"
      },
      "outputs": [],
      "source": [
        "list_name = [\"In-situ oil sands extraction\",\"Mined oil sands extraction\"]\n",
        "for i in list_name:\n",
        " df_test = df_rev_2014_21[df_rev_2014_21[\"NAICSTitleEn\"]== i].copy()"
      ]
    },
    {
      "cell_type": "code",
      "source": [
        "df_test.shape"
      ],
      "metadata": {
        "colab": {
          "base_uri": "https://localhost:8080/"
        },
        "id": "9ONAy7EEGFnN",
        "outputId": "b7a471ab-a967-4824-cde5-3918ba0a6d9f"
      },
      "execution_count": null,
      "outputs": [
        {
          "output_type": "execute_result",
          "data": {
            "text/plain": [
              "(5884, 18)"
            ]
          },
          "metadata": {},
          "execution_count": 395
        }
      ]
    },
    {
      "cell_type": "code",
      "execution_count": null,
      "metadata": {
        "id": "fnLq2mZlz8RN"
      },
      "outputs": [],
      "source": [
        "target_df.isna().sum()"
      ]
    },
    {
      "cell_type": "code",
      "execution_count": null,
      "metadata": {
        "id": "5lr-rhpm3zQu"
      },
      "outputs": [],
      "source": [
        "t_minus_18_values = []  # List to store t_minus_18 values\n",
        "\n",
        "for index, row in df_test.iterrows():\n",
        "    curr_year = row['NPRI_Report_ReportYear']\n",
        "    facil_name = row['FacilityName']\n",
        "    cas_name = row['Cas']\n",
        "    found = False  # Flag to check if a matching row is found\n",
        "\n",
        "    for index, row_1 in df_test.iterrows():\n",
        "        if row_1['NPRI_Report_ReportYear'] == curr_year - 1 and row_1['FacilityName'] == facil_name and row_1['Cas'] == cas_name:\n",
        "            t_minus_18_values.append(row_1[\"Quantity\"])\n",
        "            found = True\n",
        "            break\n",
        "\n",
        "    if not found:\n",
        "        t_minus_18_values.append(None)  # If no matching row is found, append None\n",
        "\n",
        "df_test[\"t_minus1\"] = t_minus_18_values"
      ]
    },
    {
      "cell_type": "code",
      "execution_count": null,
      "metadata": {
        "id": "moQGufinq0_j"
      },
      "outputs": [],
      "source": [
        "t_minus_18_values = []  # List to store t_minus_18 values\n",
        "\n",
        "for index, row in df_test.iterrows():\n",
        "    curr_year = row['NPRI_Report_ReportYear']\n",
        "    facil_name = row['FacilityName']\n",
        "    cas_name = row['Cas']\n",
        "    found = False  # Flag to check if a matching row is found\n",
        "\n",
        "    for index, row_1 in df_test.iterrows():\n",
        "        if row_1['NPRI_Report_ReportYear'] == curr_year - 2 and row_1['FacilityName'] == facil_name and row_1['Cas'] == cas_name:\n",
        "            t_minus_18_values.append(row_1[\"Quantity\"])\n",
        "            found = True\n",
        "            break\n",
        "\n",
        "    if not found:\n",
        "        t_minus_18_values.append(None)  # If no matching row is found, append None\n",
        "\n",
        "df_test[\"t_minus2\"] = t_minus_18_values"
      ]
    },
    {
      "cell_type": "code",
      "execution_count": null,
      "metadata": {
        "id": "eCd33675f6YL"
      },
      "outputs": [],
      "source": [
        "df_test.to_csv(\"df_test_year_minus.csv\")"
      ]
    },
    {
      "cell_type": "code",
      "execution_count": null,
      "metadata": {
        "id": "fn3939FCXD2e"
      },
      "outputs": [],
      "source": [
        "df_rev_2014_21 = df_rev_2014_21.rename(columns={\"t_minus1\": \"YearMinus1\", \"t_minus2\": \"YearMinus2\"})\n"
      ]
    },
    {
      "cell_type": "code",
      "source": [
        "df_test.dropna(inplace = True)\n"
      ],
      "metadata": {
        "id": "Sv1lSx_tPav-"
      },
      "execution_count": null,
      "outputs": []
    },
    {
      "cell_type": "code",
      "source": [
        "df_test = pd.read_csv(\"df_test_year_minus.csv\")"
      ],
      "metadata": {
        "id": "BsasjJAkPw3-"
      },
      "execution_count": null,
      "outputs": []
    },
    {
      "cell_type": "code",
      "source": [
        "df_test.isna().sum()"
      ],
      "metadata": {
        "id": "0nEOl-GBP1eh"
      },
      "execution_count": null,
      "outputs": []
    },
    {
      "cell_type": "code",
      "source": [
        "df_test.drop(columns=['Unnamed: 0'], inplace=True)"
      ],
      "metadata": {
        "id": "tcr0a30JP_Le"
      },
      "execution_count": null,
      "outputs": []
    },
    {
      "cell_type": "code",
      "source": [
        "df_test.dropna(subset=[\"FacilityName\",\"Latitude\",\"Longitude\"], inplace=True)"
      ],
      "metadata": {
        "id": "qGbqBuWVQHw1"
      },
      "execution_count": null,
      "outputs": []
    },
    {
      "cell_type": "code",
      "source": [
        "df_test.drop(columns=['Substance comments for disposals and all media for 2022',\"Substance comments by category for 2022\"], inplace=True)"
      ],
      "metadata": {
        "id": "4ZVAXyKcQjhy"
      },
      "execution_count": null,
      "outputs": []
    },
    {
      "cell_type": "code",
      "source": [
        "df_test.fillna(method='ffill', inplace=True)\n",
        "df_test.fillna(method='bfill', inplace=True)"
      ],
      "metadata": {
        "id": "Doh6g5pUQrZh"
      },
      "execution_count": null,
      "outputs": []
    },
    {
      "cell_type": "code",
      "source": [
        "df_test.isna().sum()"
      ],
      "metadata": {
        "id": "YpPX9_fzQ87y"
      },
      "execution_count": null,
      "outputs": []
    },
    {
      "cell_type": "markdown",
      "metadata": {
        "id": "1EPF-sgziqgq"
      },
      "source": [
        "**Encoding the dataset**"
      ]
    },
    {
      "cell_type": "code",
      "source": [
        "df_test.head()"
      ],
      "metadata": {
        "id": "ycJkYj-6R0Zc"
      },
      "execution_count": null,
      "outputs": []
    },
    {
      "cell_type": "markdown",
      "metadata": {
        "id": "mjr-lREfVWnt"
      },
      "source": [
        "#Target_df"
      ]
    },
    {
      "cell_type": "code",
      "source": [
        "target_df_1.drop(columns=['Substance comments for disposals and all media for 2022',\"Substance comments by category for 2022\"], inplace=True)"
      ],
      "metadata": {
        "id": "e5WrzokdcXl3"
      },
      "execution_count": null,
      "outputs": []
    },
    {
      "cell_type": "code",
      "source": [
        "target_df_1.head()"
      ],
      "metadata": {
        "id": "ZHq_bpHSca3a"
      },
      "execution_count": null,
      "outputs": []
    },
    {
      "cell_type": "code",
      "execution_count": null,
      "metadata": {
        "id": "7AMlDVv5ihQ-"
      },
      "outputs": [],
      "source": [
        "list_catg = [\"NAICSTitleEn\",\"ProvinceEn\",\"Category\",\"Group\",\"Detail_NPRI_SubstanceInfo_NameEn\",\"FacilityName\",\"Company name\",\"Cas\",'NAICSPrimary', 'NpriID', 'Detail_UnitType_NameEn']"
      ]
    },
    {
      "cell_type": "code",
      "source": [
        "target_df_1.head()"
      ],
      "metadata": {
        "colab": {
          "base_uri": "https://localhost:8080/",
          "height": 243
        },
        "id": "BV7cfcJSeaqE",
        "outputId": "4e5ab9d6-d61f-4cc6-d1e7-231c389cecf4"
      },
      "execution_count": null,
      "outputs": [
        {
          "output_type": "execute_result",
          "data": {
            "text/plain": [
              "      YearMinus1  YearMinus2  NPRI_Report_ReportYear    Quantity  Latitude  \\\n",
              "5985  117.940284   96.850435                    2022  257170.654   57.0033   \n",
              "5986  117.940284   96.850435                    2022  109801.371   57.0033   \n",
              "5987  117.940284   96.850435                    2022   29738.098   57.0033   \n",
              "5988  117.940284   96.850435                    2022    6502.445   57.0033   \n",
              "5989  117.940284   96.850435                    2022     121.162   57.0033   \n",
              "\n",
              "      Longitude  Number of employees  NAICSTitleEn_mean_encoded  \\\n",
              "5985  -111.4661               6274.0              235932.048014   \n",
              "5986  -111.4661               6274.0              235932.048014   \n",
              "5987  -111.4661               6274.0              235932.048014   \n",
              "5988  -111.4661               6274.0              235932.048014   \n",
              "5989  -111.4661               6274.0              235932.048014   \n",
              "\n",
              "      ProvinceEn_mean_encoded  Category_mean_encoded  Group_mean_encoded  \\\n",
              "5985            235932.048014          742885.054548       691163.992494   \n",
              "5986            235932.048014          266151.731125       345489.539347   \n",
              "5987            235932.048014          116463.068298       345489.539347   \n",
              "5988            235932.048014           62308.263975       345489.539347   \n",
              "5989            235932.048014             122.119792           98.166477   \n",
              "\n",
              "      Detail_NPRI_SubstanceInfo_NameEn_mean_encoded  \\\n",
              "5985                                   40699.924975   \n",
              "5986                                   40699.924975   \n",
              "5987                                   40699.924975   \n",
              "5988                                   40699.924975   \n",
              "5989                                   40699.924975   \n",
              "\n",
              "      FacilityName_mean_encoded  Company name_mean_encoded  Cas_mean_encoded  \\\n",
              "5985              192008.539307              192008.539307      40699.924975   \n",
              "5986              192008.539307              192008.539307      40699.924975   \n",
              "5987              192008.539307              192008.539307      40699.924975   \n",
              "5988              192008.539307              192008.539307      40699.924975   \n",
              "5989              192008.539307              192008.539307      40699.924975   \n",
              "\n",
              "      NAICSPrimary_mean_encoded  NpriID_mean_encoded  \\\n",
              "5985              235932.048014        192008.539307   \n",
              "5986              235932.048014        192008.539307   \n",
              "5987              235932.048014        192008.539307   \n",
              "5988              235932.048014        192008.539307   \n",
              "5989              235932.048014        192008.539307   \n",
              "\n",
              "      Detail_UnitType_NameEn_mean_encoded  \n",
              "5985                        395743.653802  \n",
              "5986                        395743.653802  \n",
              "5987                        395743.653802  \n",
              "5988                        395743.653802  \n",
              "5989                        395743.653802  "
            ],
            "text/html": [
              "\n",
              "  <div id=\"df-991fba01-ce5f-4a7e-8c3f-ad55f8ec7704\" class=\"colab-df-container\">\n",
              "    <div>\n",
              "<style scoped>\n",
              "    .dataframe tbody tr th:only-of-type {\n",
              "        vertical-align: middle;\n",
              "    }\n",
              "\n",
              "    .dataframe tbody tr th {\n",
              "        vertical-align: top;\n",
              "    }\n",
              "\n",
              "    .dataframe thead th {\n",
              "        text-align: right;\n",
              "    }\n",
              "</style>\n",
              "<table border=\"1\" class=\"dataframe\">\n",
              "  <thead>\n",
              "    <tr style=\"text-align: right;\">\n",
              "      <th></th>\n",
              "      <th>YearMinus1</th>\n",
              "      <th>YearMinus2</th>\n",
              "      <th>NPRI_Report_ReportYear</th>\n",
              "      <th>Quantity</th>\n",
              "      <th>Latitude</th>\n",
              "      <th>Longitude</th>\n",
              "      <th>Number of employees</th>\n",
              "      <th>NAICSTitleEn_mean_encoded</th>\n",
              "      <th>ProvinceEn_mean_encoded</th>\n",
              "      <th>Category_mean_encoded</th>\n",
              "      <th>Group_mean_encoded</th>\n",
              "      <th>Detail_NPRI_SubstanceInfo_NameEn_mean_encoded</th>\n",
              "      <th>FacilityName_mean_encoded</th>\n",
              "      <th>Company name_mean_encoded</th>\n",
              "      <th>Cas_mean_encoded</th>\n",
              "      <th>NAICSPrimary_mean_encoded</th>\n",
              "      <th>NpriID_mean_encoded</th>\n",
              "      <th>Detail_UnitType_NameEn_mean_encoded</th>\n",
              "    </tr>\n",
              "  </thead>\n",
              "  <tbody>\n",
              "    <tr>\n",
              "      <th>5985</th>\n",
              "      <td>117.940284</td>\n",
              "      <td>96.850435</td>\n",
              "      <td>2022</td>\n",
              "      <td>257170.654</td>\n",
              "      <td>57.0033</td>\n",
              "      <td>-111.4661</td>\n",
              "      <td>6274.0</td>\n",
              "      <td>235932.048014</td>\n",
              "      <td>235932.048014</td>\n",
              "      <td>742885.054548</td>\n",
              "      <td>691163.992494</td>\n",
              "      <td>40699.924975</td>\n",
              "      <td>192008.539307</td>\n",
              "      <td>192008.539307</td>\n",
              "      <td>40699.924975</td>\n",
              "      <td>235932.048014</td>\n",
              "      <td>192008.539307</td>\n",
              "      <td>395743.653802</td>\n",
              "    </tr>\n",
              "    <tr>\n",
              "      <th>5986</th>\n",
              "      <td>117.940284</td>\n",
              "      <td>96.850435</td>\n",
              "      <td>2022</td>\n",
              "      <td>109801.371</td>\n",
              "      <td>57.0033</td>\n",
              "      <td>-111.4661</td>\n",
              "      <td>6274.0</td>\n",
              "      <td>235932.048014</td>\n",
              "      <td>235932.048014</td>\n",
              "      <td>266151.731125</td>\n",
              "      <td>345489.539347</td>\n",
              "      <td>40699.924975</td>\n",
              "      <td>192008.539307</td>\n",
              "      <td>192008.539307</td>\n",
              "      <td>40699.924975</td>\n",
              "      <td>235932.048014</td>\n",
              "      <td>192008.539307</td>\n",
              "      <td>395743.653802</td>\n",
              "    </tr>\n",
              "    <tr>\n",
              "      <th>5987</th>\n",
              "      <td>117.940284</td>\n",
              "      <td>96.850435</td>\n",
              "      <td>2022</td>\n",
              "      <td>29738.098</td>\n",
              "      <td>57.0033</td>\n",
              "      <td>-111.4661</td>\n",
              "      <td>6274.0</td>\n",
              "      <td>235932.048014</td>\n",
              "      <td>235932.048014</td>\n",
              "      <td>116463.068298</td>\n",
              "      <td>345489.539347</td>\n",
              "      <td>40699.924975</td>\n",
              "      <td>192008.539307</td>\n",
              "      <td>192008.539307</td>\n",
              "      <td>40699.924975</td>\n",
              "      <td>235932.048014</td>\n",
              "      <td>192008.539307</td>\n",
              "      <td>395743.653802</td>\n",
              "    </tr>\n",
              "    <tr>\n",
              "      <th>5988</th>\n",
              "      <td>117.940284</td>\n",
              "      <td>96.850435</td>\n",
              "      <td>2022</td>\n",
              "      <td>6502.445</td>\n",
              "      <td>57.0033</td>\n",
              "      <td>-111.4661</td>\n",
              "      <td>6274.0</td>\n",
              "      <td>235932.048014</td>\n",
              "      <td>235932.048014</td>\n",
              "      <td>62308.263975</td>\n",
              "      <td>345489.539347</td>\n",
              "      <td>40699.924975</td>\n",
              "      <td>192008.539307</td>\n",
              "      <td>192008.539307</td>\n",
              "      <td>40699.924975</td>\n",
              "      <td>235932.048014</td>\n",
              "      <td>192008.539307</td>\n",
              "      <td>395743.653802</td>\n",
              "    </tr>\n",
              "    <tr>\n",
              "      <th>5989</th>\n",
              "      <td>117.940284</td>\n",
              "      <td>96.850435</td>\n",
              "      <td>2022</td>\n",
              "      <td>121.162</td>\n",
              "      <td>57.0033</td>\n",
              "      <td>-111.4661</td>\n",
              "      <td>6274.0</td>\n",
              "      <td>235932.048014</td>\n",
              "      <td>235932.048014</td>\n",
              "      <td>122.119792</td>\n",
              "      <td>98.166477</td>\n",
              "      <td>40699.924975</td>\n",
              "      <td>192008.539307</td>\n",
              "      <td>192008.539307</td>\n",
              "      <td>40699.924975</td>\n",
              "      <td>235932.048014</td>\n",
              "      <td>192008.539307</td>\n",
              "      <td>395743.653802</td>\n",
              "    </tr>\n",
              "  </tbody>\n",
              "</table>\n",
              "</div>\n",
              "    <div class=\"colab-df-buttons\">\n",
              "\n",
              "  <div class=\"colab-df-container\">\n",
              "    <button class=\"colab-df-convert\" onclick=\"convertToInteractive('df-991fba01-ce5f-4a7e-8c3f-ad55f8ec7704')\"\n",
              "            title=\"Convert this dataframe to an interactive table.\"\n",
              "            style=\"display:none;\">\n",
              "\n",
              "  <svg xmlns=\"http://www.w3.org/2000/svg\" height=\"24px\" viewBox=\"0 -960 960 960\">\n",
              "    <path d=\"M120-120v-720h720v720H120Zm60-500h600v-160H180v160Zm220 220h160v-160H400v160Zm0 220h160v-160H400v160ZM180-400h160v-160H180v160Zm440 0h160v-160H620v160ZM180-180h160v-160H180v160Zm440 0h160v-160H620v160Z\"/>\n",
              "  </svg>\n",
              "    </button>\n",
              "\n",
              "  <style>\n",
              "    .colab-df-container {\n",
              "      display:flex;\n",
              "      gap: 12px;\n",
              "    }\n",
              "\n",
              "    .colab-df-convert {\n",
              "      background-color: #E8F0FE;\n",
              "      border: none;\n",
              "      border-radius: 50%;\n",
              "      cursor: pointer;\n",
              "      display: none;\n",
              "      fill: #1967D2;\n",
              "      height: 32px;\n",
              "      padding: 0 0 0 0;\n",
              "      width: 32px;\n",
              "    }\n",
              "\n",
              "    .colab-df-convert:hover {\n",
              "      background-color: #E2EBFA;\n",
              "      box-shadow: 0px 1px 2px rgba(60, 64, 67, 0.3), 0px 1px 3px 1px rgba(60, 64, 67, 0.15);\n",
              "      fill: #174EA6;\n",
              "    }\n",
              "\n",
              "    .colab-df-buttons div {\n",
              "      margin-bottom: 4px;\n",
              "    }\n",
              "\n",
              "    [theme=dark] .colab-df-convert {\n",
              "      background-color: #3B4455;\n",
              "      fill: #D2E3FC;\n",
              "    }\n",
              "\n",
              "    [theme=dark] .colab-df-convert:hover {\n",
              "      background-color: #434B5C;\n",
              "      box-shadow: 0px 1px 3px 1px rgba(0, 0, 0, 0.15);\n",
              "      filter: drop-shadow(0px 1px 2px rgba(0, 0, 0, 0.3));\n",
              "      fill: #FFFFFF;\n",
              "    }\n",
              "  </style>\n",
              "\n",
              "    <script>\n",
              "      const buttonEl =\n",
              "        document.querySelector('#df-991fba01-ce5f-4a7e-8c3f-ad55f8ec7704 button.colab-df-convert');\n",
              "      buttonEl.style.display =\n",
              "        google.colab.kernel.accessAllowed ? 'block' : 'none';\n",
              "\n",
              "      async function convertToInteractive(key) {\n",
              "        const element = document.querySelector('#df-991fba01-ce5f-4a7e-8c3f-ad55f8ec7704');\n",
              "        const dataTable =\n",
              "          await google.colab.kernel.invokeFunction('convertToInteractive',\n",
              "                                                    [key], {});\n",
              "        if (!dataTable) return;\n",
              "\n",
              "        const docLinkHtml = 'Like what you see? Visit the ' +\n",
              "          '<a target=\"_blank\" href=https://colab.research.google.com/notebooks/data_table.ipynb>data table notebook</a>'\n",
              "          + ' to learn more about interactive tables.';\n",
              "        element.innerHTML = '';\n",
              "        dataTable['output_type'] = 'display_data';\n",
              "        await google.colab.output.renderOutput(dataTable, element);\n",
              "        const docLink = document.createElement('div');\n",
              "        docLink.innerHTML = docLinkHtml;\n",
              "        element.appendChild(docLink);\n",
              "      }\n",
              "    </script>\n",
              "  </div>\n",
              "\n",
              "\n",
              "<div id=\"df-901d7234-127c-469d-80ef-156eab7ebf50\">\n",
              "  <button class=\"colab-df-quickchart\" onclick=\"quickchart('df-901d7234-127c-469d-80ef-156eab7ebf50')\"\n",
              "            title=\"Suggest charts\"\n",
              "            style=\"display:none;\">\n",
              "\n",
              "<svg xmlns=\"http://www.w3.org/2000/svg\" height=\"24px\"viewBox=\"0 0 24 24\"\n",
              "     width=\"24px\">\n",
              "    <g>\n",
              "        <path d=\"M19 3H5c-1.1 0-2 .9-2 2v14c0 1.1.9 2 2 2h14c1.1 0 2-.9 2-2V5c0-1.1-.9-2-2-2zM9 17H7v-7h2v7zm4 0h-2V7h2v10zm4 0h-2v-4h2v4z\"/>\n",
              "    </g>\n",
              "</svg>\n",
              "  </button>\n",
              "\n",
              "<style>\n",
              "  .colab-df-quickchart {\n",
              "      --bg-color: #E8F0FE;\n",
              "      --fill-color: #1967D2;\n",
              "      --hover-bg-color: #E2EBFA;\n",
              "      --hover-fill-color: #174EA6;\n",
              "      --disabled-fill-color: #AAA;\n",
              "      --disabled-bg-color: #DDD;\n",
              "  }\n",
              "\n",
              "  [theme=dark] .colab-df-quickchart {\n",
              "      --bg-color: #3B4455;\n",
              "      --fill-color: #D2E3FC;\n",
              "      --hover-bg-color: #434B5C;\n",
              "      --hover-fill-color: #FFFFFF;\n",
              "      --disabled-bg-color: #3B4455;\n",
              "      --disabled-fill-color: #666;\n",
              "  }\n",
              "\n",
              "  .colab-df-quickchart {\n",
              "    background-color: var(--bg-color);\n",
              "    border: none;\n",
              "    border-radius: 50%;\n",
              "    cursor: pointer;\n",
              "    display: none;\n",
              "    fill: var(--fill-color);\n",
              "    height: 32px;\n",
              "    padding: 0;\n",
              "    width: 32px;\n",
              "  }\n",
              "\n",
              "  .colab-df-quickchart:hover {\n",
              "    background-color: var(--hover-bg-color);\n",
              "    box-shadow: 0 1px 2px rgba(60, 64, 67, 0.3), 0 1px 3px 1px rgba(60, 64, 67, 0.15);\n",
              "    fill: var(--button-hover-fill-color);\n",
              "  }\n",
              "\n",
              "  .colab-df-quickchart-complete:disabled,\n",
              "  .colab-df-quickchart-complete:disabled:hover {\n",
              "    background-color: var(--disabled-bg-color);\n",
              "    fill: var(--disabled-fill-color);\n",
              "    box-shadow: none;\n",
              "  }\n",
              "\n",
              "  .colab-df-spinner {\n",
              "    border: 2px solid var(--fill-color);\n",
              "    border-color: transparent;\n",
              "    border-bottom-color: var(--fill-color);\n",
              "    animation:\n",
              "      spin 1s steps(1) infinite;\n",
              "  }\n",
              "\n",
              "  @keyframes spin {\n",
              "    0% {\n",
              "      border-color: transparent;\n",
              "      border-bottom-color: var(--fill-color);\n",
              "      border-left-color: var(--fill-color);\n",
              "    }\n",
              "    20% {\n",
              "      border-color: transparent;\n",
              "      border-left-color: var(--fill-color);\n",
              "      border-top-color: var(--fill-color);\n",
              "    }\n",
              "    30% {\n",
              "      border-color: transparent;\n",
              "      border-left-color: var(--fill-color);\n",
              "      border-top-color: var(--fill-color);\n",
              "      border-right-color: var(--fill-color);\n",
              "    }\n",
              "    40% {\n",
              "      border-color: transparent;\n",
              "      border-right-color: var(--fill-color);\n",
              "      border-top-color: var(--fill-color);\n",
              "    }\n",
              "    60% {\n",
              "      border-color: transparent;\n",
              "      border-right-color: var(--fill-color);\n",
              "    }\n",
              "    80% {\n",
              "      border-color: transparent;\n",
              "      border-right-color: var(--fill-color);\n",
              "      border-bottom-color: var(--fill-color);\n",
              "    }\n",
              "    90% {\n",
              "      border-color: transparent;\n",
              "      border-bottom-color: var(--fill-color);\n",
              "    }\n",
              "  }\n",
              "</style>\n",
              "\n",
              "  <script>\n",
              "    async function quickchart(key) {\n",
              "      const quickchartButtonEl =\n",
              "        document.querySelector('#' + key + ' button');\n",
              "      quickchartButtonEl.disabled = true;  // To prevent multiple clicks.\n",
              "      quickchartButtonEl.classList.add('colab-df-spinner');\n",
              "      try {\n",
              "        const charts = await google.colab.kernel.invokeFunction(\n",
              "            'suggestCharts', [key], {});\n",
              "      } catch (error) {\n",
              "        console.error('Error during call to suggestCharts:', error);\n",
              "      }\n",
              "      quickchartButtonEl.classList.remove('colab-df-spinner');\n",
              "      quickchartButtonEl.classList.add('colab-df-quickchart-complete');\n",
              "    }\n",
              "    (() => {\n",
              "      let quickchartButtonEl =\n",
              "        document.querySelector('#df-901d7234-127c-469d-80ef-156eab7ebf50 button');\n",
              "      quickchartButtonEl.style.display =\n",
              "        google.colab.kernel.accessAllowed ? 'block' : 'none';\n",
              "    })();\n",
              "  </script>\n",
              "</div>\n",
              "\n",
              "    </div>\n",
              "  </div>\n"
            ],
            "application/vnd.google.colaboratory.intrinsic+json": {
              "type": "dataframe",
              "variable_name": "target_df_1",
              "summary": "{\n  \"name\": \"target_df_1\",\n  \"rows\": 1303,\n  \"fields\": [\n    {\n      \"column\": \"YearMinus1\",\n      \"properties\": {\n        \"dtype\": \"number\",\n        \"std\": 7619.28654920524,\n        \"min\": 9e-06,\n        \"max\": 100489.397405,\n        \"num_unique_values\": 224,\n        \"samples\": [\n          82.980767,\n          1852.152619,\n          6.747064\n        ],\n        \"semantic_type\": \"\",\n        \"description\": \"\"\n      }\n    },\n    {\n      \"column\": \"YearMinus2\",\n      \"properties\": {\n        \"dtype\": \"number\",\n        \"std\": 19097.26718561141,\n        \"min\": 7e-06,\n        \"max\": 224480.874699,\n        \"num_unique_values\": 212,\n        \"samples\": [\n          69.773419,\n          0.959,\n          3.763\n        ],\n        \"semantic_type\": \"\",\n        \"description\": \"\"\n      }\n    },\n    {\n      \"column\": \"NPRI_Report_ReportYear\",\n      \"properties\": {\n        \"dtype\": \"number\",\n        \"std\": 0,\n        \"min\": 2022,\n        \"max\": 2022,\n        \"num_unique_values\": 1,\n        \"samples\": [\n          2022\n        ],\n        \"semantic_type\": \"\",\n        \"description\": \"\"\n      }\n    },\n    {\n      \"column\": \"Quantity\",\n      \"properties\": {\n        \"dtype\": \"number\",\n        \"std\": 1619944.4328318336,\n        \"min\": 0.0,\n        \"max\": 26960832.13,\n        \"num_unique_values\": 659,\n        \"samples\": [\n          437631.0\n        ],\n        \"semantic_type\": \"\",\n        \"description\": \"\"\n      }\n    },\n    {\n      \"column\": \"Latitude\",\n      \"properties\": {\n        \"dtype\": \"number\",\n        \"std\": 0.295344524429858,\n        \"min\": 53.798367,\n        \"max\": 57.39207,\n        \"num_unique_values\": 7,\n        \"samples\": [\n          57.0033\n        ],\n        \"semantic_type\": \"\",\n        \"description\": \"\"\n      }\n    },\n    {\n      \"column\": \"Longitude\",\n      \"properties\": {\n        \"dtype\": \"number\",\n        \"std\": 0.12626419778827355,\n        \"min\": -113.094411,\n        \"max\": -111.4661,\n        \"num_unique_values\": 7,\n        \"samples\": [\n          -111.4661\n        ],\n        \"semantic_type\": \"\",\n        \"description\": \"\"\n      }\n    },\n    {\n      \"column\": \"Number of employees\",\n      \"properties\": {\n        \"dtype\": \"number\",\n        \"std\": 1360.0391756819765,\n        \"min\": 914.0,\n        \"max\": 6378.0,\n        \"num_unique_values\": 7,\n        \"samples\": [\n          6274.0\n        ],\n        \"semantic_type\": \"\",\n        \"description\": \"\"\n      }\n    },\n    {\n      \"column\": \"NAICSTitleEn_mean_encoded\",\n      \"properties\": {\n        \"dtype\": \"number\",\n        \"std\": 0.0,\n        \"min\": 235932.04801405067,\n        \"max\": 235932.04801405067,\n        \"num_unique_values\": 1,\n        \"samples\": [\n          235932.04801405067\n        ],\n        \"semantic_type\": \"\",\n        \"description\": \"\"\n      }\n    },\n    {\n      \"column\": \"ProvinceEn_mean_encoded\",\n      \"properties\": {\n        \"dtype\": \"number\",\n        \"std\": 0.0,\n        \"min\": 235932.04801405067,\n        \"max\": 235932.04801405067,\n        \"num_unique_values\": 1,\n        \"samples\": [\n          235932.04801405067\n        ],\n        \"semantic_type\": \"\",\n        \"description\": \"\"\n      }\n    },\n    {\n      \"column\": \"Category_mean_encoded\",\n      \"properties\": {\n        \"dtype\": \"number\",\n        \"std\": 682044.3802556559,\n        \"min\": 2.3532173199999997,\n        \"max\": 5328430.52705,\n        \"num_unique_values\": 19,\n        \"samples\": [\n          742885.0545477816\n        ],\n        \"semantic_type\": \"\",\n        \"description\": \"\"\n      }\n    },\n    {\n      \"column\": \"Group_mean_encoded\",\n      \"properties\": {\n        \"dtype\": \"number\",\n        \"std\": 244634.90383112678,\n        \"min\": 2.3789880740740736,\n        \"max\": 691163.9924936577,\n        \"num_unique_values\": 8,\n        \"samples\": [\n          345489.539347166\n        ],\n        \"semantic_type\": \"\",\n        \"description\": \"\"\n      }\n    },\n    {\n      \"column\": \"Detail_NPRI_SubstanceInfo_NameEn_mean_encoded\",\n      \"properties\": {\n        \"dtype\": \"number\",\n        \"std\": 728027.2566799915,\n        \"min\": 0.449,\n        \"max\": 3898230.4472083333,\n        \"num_unique_values\": 61,\n        \"samples\": [\n          40699.924975\n        ],\n        \"semantic_type\": \"\",\n        \"description\": \"\"\n      }\n    },\n    {\n      \"column\": \"FacilityName_mean_encoded\",\n      \"properties\": {\n        \"dtype\": \"number\",\n        \"std\": 107023.46218056226,\n        \"min\": 4265.9865,\n        \"max\": 500817.2705882353,\n        \"num_unique_values\": 7,\n        \"samples\": [\n          192008.53930716598\n        ],\n        \"semantic_type\": \"\",\n        \"description\": \"\"\n      }\n    },\n    {\n      \"column\": \"Company name_mean_encoded\",\n      \"properties\": {\n        \"dtype\": \"number\",\n        \"std\": 107023.46218056226,\n        \"min\": 4265.9865,\n        \"max\": 500817.2705882353,\n        \"num_unique_values\": 7,\n        \"samples\": [\n          192008.53930716598\n        ],\n        \"semantic_type\": \"\",\n        \"description\": \"\"\n      }\n    },\n    {\n      \"column\": \"Cas_mean_encoded\",\n      \"properties\": {\n        \"dtype\": \"number\",\n        \"std\": 728027.2566799915,\n        \"min\": 0.449,\n        \"max\": 3898230.4472083333,\n        \"num_unique_values\": 61,\n        \"samples\": [\n          40699.924975\n        ],\n        \"semantic_type\": \"\",\n        \"description\": \"\"\n      }\n    },\n    {\n      \"column\": \"NAICSPrimary_mean_encoded\",\n      \"properties\": {\n        \"dtype\": \"number\",\n        \"std\": 0.0,\n        \"min\": 235932.04801405067,\n        \"max\": 235932.04801405067,\n        \"num_unique_values\": 1,\n        \"samples\": [\n          235932.04801405067\n        ],\n        \"semantic_type\": \"\",\n        \"description\": \"\"\n      }\n    },\n    {\n      \"column\": \"NpriID_mean_encoded\",\n      \"properties\": {\n        \"dtype\": \"number\",\n        \"std\": 107023.46218056226,\n        \"min\": 4265.9865,\n        \"max\": 500817.2705882353,\n        \"num_unique_values\": 7,\n        \"samples\": [\n          192008.53930716598\n        ],\n        \"semantic_type\": \"\",\n        \"description\": \"\"\n      }\n    },\n    {\n      \"column\": \"Detail_UnitType_NameEn_mean_encoded\",\n      \"properties\": {\n        \"dtype\": \"number\",\n        \"std\": 189737.81027753165,\n        \"min\": 10836.958161382625,\n        \"max\": 395743.6538018373,\n        \"num_unique_values\": 2,\n        \"samples\": [\n          10836.958161382625\n        ],\n        \"semantic_type\": \"\",\n        \"description\": \"\"\n      }\n    }\n  ]\n}"
            }
          },
          "metadata": {},
          "execution_count": 421
        }
      ]
    },
    {
      "cell_type": "code",
      "execution_count": null,
      "metadata": {
        "id": "datKuDdoiwKq"
      },
      "outputs": [],
      "source": [
        "for catg in list_catg:  # Encoding usign mean encoding method\n",
        "    try:\n",
        "        mean_target = target_df_1.groupby(catg)['Quantity'].mean()\n",
        "        target_df_1[catg + '_mean_encoded'] = target_df_1[catg].map(mean_target)\n",
        "    except KeyError as e:\n",
        "\n",
        "\n",
        "        print(f\"KeyError: {e} not found in DataFrame.\")"
      ]
    },
    {
      "cell_type": "code",
      "execution_count": null,
      "metadata": {
        "id": "fV5jePwvi0lo"
      },
      "outputs": [],
      "source": [
        "target_df_1.drop(columns=['NAICSTitleEn','ProvinceEn','Category','Group','Detail_NPRI_SubstanceInfo_NameEn','FacilityName','Company name','Cas','NAICSPrimary', 'NpriID', 'Detail_UnitType_NameEn'], inplace=True)"
      ]
    },
    {
      "cell_type": "code",
      "source": [
        "target_df_1.to_csv(\"target_df_1.csv\")"
      ],
      "metadata": {
        "id": "oMuY_-P8RaQV"
      },
      "execution_count": null,
      "outputs": []
    },
    {
      "cell_type": "markdown",
      "metadata": {
        "id": "1UBCRq9JjFo0"
      },
      "source": [
        "**Normalization**"
      ]
    },
    {
      "cell_type": "code",
      "execution_count": null,
      "metadata": {
        "id": "Mgdc4pytWS6_"
      },
      "outputs": [],
      "source": [
        "# Applying normalization on this featurs.\n",
        "list_col= ['YearMinus1', 'YearMinus2', 'Quantity', 'Number of employees',\n",
        "       'NAICSTitleEn_mean_encoded', 'ProvinceEn_mean_encoded',\n",
        "       'Group_mean_encoded', 'Company name_mean_encoded',\n",
        "       'NAICSPrimary_mean_encoded',\n",
        "       'Substance comments for disposals and all media for 2022_mean_encoded',\n",
        "       'Substance comments by category for 2022_mean_encoded']"
      ]
    },
    {
      "cell_type": "code",
      "execution_count": null,
      "metadata": {
        "id": "A-01cOj7jOH1"
      },
      "outputs": [],
      "source": [
        "from sklearn.preprocessing import MinMaxScaler\n",
        "scaler = MinMaxScaler()\n",
        "target_df[list_col] = scaler.fit_transform(target_df[list_col])"
      ]
    },
    {
      "cell_type": "markdown",
      "metadata": {
        "id": "u1Y9OlDUVesn"
      },
      "source": [
        "# df_rev_2014_21"
      ]
    },
    {
      "cell_type": "markdown",
      "metadata": {
        "id": "AavmX5W9V4uz"
      },
      "source": [
        "**Encoding**"
      ]
    },
    {
      "cell_type": "code",
      "source": [],
      "metadata": {
        "id": "oNNfgngieWxw"
      },
      "execution_count": null,
      "outputs": []
    },
    {
      "cell_type": "code",
      "execution_count": null,
      "metadata": {
        "id": "htQ8rIEyVm0g"
      },
      "outputs": [],
      "source": [
        "for catg in list_catg:\n",
        "    try:\n",
        "        mean_target = df_test.groupby(catg)['Quantity'].mean()\n",
        "        df_test[catg + '_mean_encoded'] = df_test[catg].map(mean_target)\n",
        "    except KeyError as e:\n",
        "        print(f\"KeyError: {e} not found in DataFrame.\")"
      ]
    },
    {
      "cell_type": "code",
      "execution_count": null,
      "metadata": {
        "id": "kR-3eQOJVm7z"
      },
      "outputs": [],
      "source": [
        "df_test.drop(columns=['NAICSTitleEn','ProvinceEn','Category','Group','Detail_NPRI_SubstanceInfo_NameEn','FacilityName','Company name','Cas','NAICSPrimary', 'NpriID', 'Detail_UnitType_NameEn'], inplace=True)"
      ]
    },
    {
      "cell_type": "code",
      "source": [
        "df_test.to_csv(\"df_test_missing-value_removed.csv\")\n"
      ],
      "metadata": {
        "id": "D7k127D5TyDX"
      },
      "execution_count": null,
      "outputs": []
    },
    {
      "cell_type": "markdown",
      "metadata": {
        "id": "Lxj7hmnEV8WO"
      },
      "source": [
        "**Normalization**"
      ]
    },
    {
      "cell_type": "code",
      "execution_count": null,
      "metadata": {
        "id": "bRgrlqnkmc0b"
      },
      "outputs": [],
      "source": [
        "# Applying normalization on this featurs.\n",
        "list_col= ['t_minus2', 't_minus1', 'Quantity', 'Number of employees',\n",
        "       'NAICSTitleEn_mean_encoded', 'ProvinceEn_mean_encoded',\n",
        "       'Group_mean_encoded', 'Company name_mean_encoded',\n",
        "       'NAICSPrimary_mean_encoded',\n",
        "       'Substance comments for disposals and all media for 2022_mean_encoded',\n",
        "       'Substance comments by category for 2022_mean_encoded']"
      ]
    },
    {
      "cell_type": "code",
      "execution_count": null,
      "metadata": {
        "id": "ST3SMR8xWtxp",
        "collapsed": true
      },
      "outputs": [],
      "source": [
        "from sklearn.preprocessing import MinMaxScaler\n",
        "scaler = MinMaxScaler()\n",
        "df_test[list_col] = scaler.fit_transform(df_test[list_col])"
      ]
    },
    {
      "cell_type": "markdown",
      "metadata": {
        "id": "Mlfr2DYCjcIT"
      },
      "source": [
        "**Feature Selection based on Pearson value and correlation_matrix ML dataset**"
      ]
    },
    {
      "cell_type": "code",
      "execution_count": null,
      "metadata": {
        "colab": {
          "base_uri": "https://localhost:8080/"
        },
        "id": "PiME14szjdh6",
        "outputId": "c3683cc6-0871-46e3-804b-c4881b47765b"
      },
      "outputs": [
        {
          "name": "stdout",
          "output_type": "stream",
          "text": [
            "Selected features based on Pearson correlation coefficient:\n",
            "['FacilityName_mean_encoded', 'NpriID_mean_encoded']\n"
          ]
        }
      ],
      "source": [
        "\n",
        "correlation_matrix = target_df.corr().abs()\n",
        "\n",
        "\n",
        "target_corr = correlation_matrix['Quantity']\n",
        "\n",
        "\n",
        "selected_features = target_corr[target_corr > 0.2].index.tolist()\n",
        "\n",
        "\n",
        "selected_features.remove('Quantity')\n",
        "\n",
        "\n",
        "print(\"Selected features based on Pearson correlation coefficient:\")\n",
        "print(selected_features)"
      ]
    },
    {
      "cell_type": "code",
      "execution_count": null,
      "metadata": {
        "colab": {
          "base_uri": "https://localhost:8080/"
        },
        "id": "EfQaAxiBT3dM",
        "outputId": "6887e3d9-d237-446d-b892-b7ed9ae36668"
      },
      "outputs": [
        {
          "name": "stdout",
          "output_type": "stream",
          "text": [
            "                            OLS Regression Results                            \n",
            "==============================================================================\n",
            "Dep. Variable:               Quantity   R-squared:                       0.072\n",
            "Model:                            OLS   Adj. R-squared:                  0.071\n",
            "Method:                 Least Squares   F-statistic:                     146.3\n",
            "Date:                Mon, 08 Apr 2024   Prob (F-statistic):               0.00\n",
            "Time:                        20:07:45   Log-Likelihood:            -7.7411e+05\n",
            "No. Observations:               30325   AIC:                         1.548e+06\n",
            "Df Residuals:                   30308   BIC:                         1.548e+06\n",
            "Df Model:                          16                                         \n",
            "Covariance Type:            nonrobust                                         \n",
            "========================================================================================================================================\n",
            "                                                                           coef    std err          t      P>|t|      [0.025      0.975]\n",
            "----------------------------------------------------------------------------------------------------------------------------------------\n",
            "YearMinus1                                                            -579.6675   6695.401     -0.087      0.931   -1.37e+04    1.25e+04\n",
            "YearMinus2                                                             719.2095   8597.082      0.084      0.933   -1.61e+04    1.76e+04\n",
            "NPRI_Report_ReportYear                                                8.719e+05   1.28e+06      0.683      0.494   -1.63e+06    3.37e+06\n",
            "Latitude                                                             -1.098e+08   5.74e+07     -1.913      0.056   -2.22e+08    2.69e+06\n",
            "Longitude                                                            -1.883e+07    1.3e+07     -1.450      0.147   -4.43e+07    6.62e+06\n",
            "Number of employees                                                    449.8961   2.97e+04      0.015      0.988   -5.78e+04    5.87e+04\n",
            "NAICSTitleEn_mean_encoded                                               -0.7639      0.401     -1.907      0.057      -1.549       0.021\n",
            "ProvinceEn_mean_encoded                                                 -0.2239      0.331     -0.677      0.498      -0.872       0.424\n",
            "Category_mean_encoded                                                    0.8052      0.097      8.316      0.000       0.615       0.995\n",
            "Group_mean_encoded                                                       0.0262      0.146      0.179      0.858      -0.260       0.312\n",
            "Detail_NPRI_SubstanceInfo_NameEn_mean_encoded                            0.2110      0.078      2.698      0.007       0.058       0.364\n",
            "FacilityName_mean_encoded                                                0.0242     10.497      0.002      0.998     -20.550      20.599\n",
            "Company name_mean_encoded                                               -0.0313      0.059     -0.531      0.595      -0.147       0.084\n",
            "Cas_mean_encoded                                                         0.3252      0.075      4.332      0.000       0.178       0.472\n",
            "NAICSPrimary_mean_encoded                                                0.7499      0.415      1.806      0.071      -0.064       1.564\n",
            "NpriID_mean_encoded                                                      0.9635     10.497      0.092      0.927     -19.611      21.538\n",
            "Detail_UnitType_NameEn_mean_encoded                                      2.3759      0.668      3.557      0.000       1.067       3.685\n",
            "Substance comments for disposals and all media for 2022_mean_encoded    -0.0298      0.251     -0.119      0.905      -0.523       0.463\n",
            "Substance comments by category for 2022_mean_encoded                     0.1669      0.310      0.539      0.590      -0.440       0.774\n",
            "==============================================================================\n",
            "Omnibus:                   119585.755   Durbin-Watson:                   2.139\n",
            "Prob(Omnibus):                  0.000   Jarque-Bera (JB):     171650385642.241\n",
            "Skew:                          97.754   Prob(JB):                         0.00\n",
            "Kurtosis:                   11656.772   Cond. No.                     3.56e+16\n",
            "==============================================================================\n",
            "\n",
            "Notes:\n",
            "[1] Standard Errors assume that the covariance matrix of the errors is correctly specified.\n",
            "[2] The condition number is large, 3.56e+16. This might indicate that there are\n",
            "strong multicollinearity or other numerical problems.\n",
            "Selected Features based on p-value less than 0.05:\n",
            "Index(['Category_mean_encoded',\n",
            "       'Detail_NPRI_SubstanceInfo_NameEn_mean_encoded', 'Cas_mean_encoded',\n",
            "       'Detail_UnitType_NameEn_mean_encoded'],\n",
            "      dtype='object')\n"
          ]
        }
      ],
      "source": [
        "X_with_const = sm.add_constant(target_df.drop(columns=['Quantity']))\n",
        "\n",
        "\n",
        "model = sm.OLS(target_df['Quantity'], X_with_const).fit()\n",
        "print(model.summary())\n",
        "\n",
        "p_values = model.pvalues\n",
        "selected_features = target_df.columns[1:][p_values < 0.05]\n",
        "\n",
        "print(\"Selected Features based on p-value less than 0.05:\")\n",
        "print(selected_features)\n"
      ]
    },
    {
      "cell_type": "code",
      "execution_count": null,
      "metadata": {
        "id": "7urTsca_VAaA"
      },
      "outputs": [],
      "source": [
        "target_df.drop(columns=['Category_mean_encoded',\n",
        "       'Detail_NPRI_SubstanceInfo_NameEn_mean_encoded', 'Cas_mean_encoded',\n",
        "       'Detail_UnitType_NameEn_mean_encoded','FacilityName_mean_encoded', 'NpriID_mean_encoded'], inplace=True)\n",
        "\n",
        "df_rev_2014_21.drop(columns=['Category_mean_encoded',\n",
        "       'Detail_NPRI_SubstanceInfo_NameEn_mean_encoded', 'Cas_mean_encoded',\n",
        "       'Detail_UnitType_NameEn_mean_encoded','FacilityName_mean_encoded', 'NpriID_mean_encoded'], inplace=True)"
      ]
    },
    {
      "cell_type": "markdown",
      "metadata": {
        "id": "6tGo0brT5giz"
      },
      "source": [
        "`"
      ]
    }
  ],
  "metadata": {
    "colab": {
      "machine_shape": "hm",
      "provenance": []
    },
    "kernelspec": {
      "display_name": "Python 3",
      "name": "python3"
    },
    "language_info": {
      "name": "python"
    }
  },
  "nbformat": 4,
  "nbformat_minor": 0
}